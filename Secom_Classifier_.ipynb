{
  "nbformat": 4,
  "nbformat_minor": 0,
  "metadata": {
    "colab": {
      "name": "Secom_Classifier .ipynb",
      "provenance": [],
      "toc_visible": true,
      "machine_shape": "hm",
      "mount_file_id": "https://github.com/myschl/ML-DL/blob/master/Secom_Classifier_.ipynb",
      "authorship_tag": "ABX9TyO39qW4hg+8Pema+9iw1AEp",
      "include_colab_link": true
    },
    "kernelspec": {
      "name": "python3",
      "display_name": "Python 3"
    },
    "accelerator": "GPU"
  },
  "cells": [
    {
      "cell_type": "markdown",
      "metadata": {
        "id": "view-in-github",
        "colab_type": "text"
      },
      "source": [
        "<a href=\"https://colab.research.google.com/github/myschl/ML-DL/blob/master/Secom_Classifier_.ipynb\" target=\"_parent\"><img src=\"https://colab.research.google.com/assets/colab-badge.svg\" alt=\"Open In Colab\"/></a>"
      ]
    },
    {
      "cell_type": "markdown",
      "metadata": {
        "id": "NDM8xHwl35JV"
      },
      "source": [
        "# **Libraries to be use**"
      ]
    },
    {
      "cell_type": "code",
      "metadata": {
        "id": "wEWtBugc3fFR"
      },
      "source": [
        "from sklearn.model_selection import train_test_split\n",
        "from sklearn.ensemble import RandomForestClassifier\n",
        "from sklearn.linear_model import SGDClassifier\n",
        "from sklearn.metrics import accuracy_score, confusion_matrix, precision_score, recall_score\n",
        "import matplotlib.pyplot as plt\n",
        "from sklearn.preprocessing import StandardScaler\n",
        "from xgboost import XGBClassifier\n",
        "import pandas as pd\n",
        "from tensorflow import keras\n",
        "import numpy as np # linear algebra\n",
        "import seaborn as sns\n",
        "from sklearn.decomposition import PCA\n",
        "from sklearn.impute import SimpleImputer\n",
        "from sklearn.preprocessing import OneHotEncoder\n",
        "from sklearn.preprocessing import LabelEncoder\n",
        "from sklearn.model_selection import cross_val_score, cross_val_predict\n",
        "from mlxtend.plotting import plot_confusion_matrix\n",
        "from sklearn.metrics import confusion_matrix, accuracy_score, f1_score, precision_score, recall_score, classification_report\n",
        "from keras.utils import to_categorical\n",
        "\n",
        "# %tensorflow_version 1.x"
      ],
      "execution_count": 4,
      "outputs": []
    },
    {
      "cell_type": "markdown",
      "metadata": {
        "id": "oRIPB63x4eH8"
      },
      "source": [
        "# **Getting the data**"
      ]
    },
    {
      "cell_type": "code",
      "metadata": {
        "id": "FC9ccR_imsYa",
        "outputId": "25c0fdf5-09d8-4ad4-b5d8-ad9464b695ee",
        "colab": {
          "resources": {
            "http://localhost:8080/nbextensions/google.colab/files.js": {
              "data": "Ly8gQ29weXJpZ2h0IDIwMTcgR29vZ2xlIExMQwovLwovLyBMaWNlbnNlZCB1bmRlciB0aGUgQXBhY2hlIExpY2Vuc2UsIFZlcnNpb24gMi4wICh0aGUgIkxpY2Vuc2UiKTsKLy8geW91IG1heSBub3QgdXNlIHRoaXMgZmlsZSBleGNlcHQgaW4gY29tcGxpYW5jZSB3aXRoIHRoZSBMaWNlbnNlLgovLyBZb3UgbWF5IG9idGFpbiBhIGNvcHkgb2YgdGhlIExpY2Vuc2UgYXQKLy8KLy8gICAgICBodHRwOi8vd3d3LmFwYWNoZS5vcmcvbGljZW5zZXMvTElDRU5TRS0yLjAKLy8KLy8gVW5sZXNzIHJlcXVpcmVkIGJ5IGFwcGxpY2FibGUgbGF3IG9yIGFncmVlZCB0byBpbiB3cml0aW5nLCBzb2Z0d2FyZQovLyBkaXN0cmlidXRlZCB1bmRlciB0aGUgTGljZW5zZSBpcyBkaXN0cmlidXRlZCBvbiBhbiAiQVMgSVMiIEJBU0lTLAovLyBXSVRIT1VUIFdBUlJBTlRJRVMgT1IgQ09ORElUSU9OUyBPRiBBTlkgS0lORCwgZWl0aGVyIGV4cHJlc3Mgb3IgaW1wbGllZC4KLy8gU2VlIHRoZSBMaWNlbnNlIGZvciB0aGUgc3BlY2lmaWMgbGFuZ3VhZ2UgZ292ZXJuaW5nIHBlcm1pc3Npb25zIGFuZAovLyBsaW1pdGF0aW9ucyB1bmRlciB0aGUgTGljZW5zZS4KCi8qKgogKiBAZmlsZW92ZXJ2aWV3IEhlbHBlcnMgZm9yIGdvb2dsZS5jb2xhYiBQeXRob24gbW9kdWxlLgogKi8KKGZ1bmN0aW9uKHNjb3BlKSB7CmZ1bmN0aW9uIHNwYW4odGV4dCwgc3R5bGVBdHRyaWJ1dGVzID0ge30pIHsKICBjb25zdCBlbGVtZW50ID0gZG9jdW1lbnQuY3JlYXRlRWxlbWVudCgnc3BhbicpOwogIGVsZW1lbnQudGV4dENvbnRlbnQgPSB0ZXh0OwogIGZvciAoY29uc3Qga2V5IG9mIE9iamVjdC5rZXlzKHN0eWxlQXR0cmlidXRlcykpIHsKICAgIGVsZW1lbnQuc3R5bGVba2V5XSA9IHN0eWxlQXR0cmlidXRlc1trZXldOwogIH0KICByZXR1cm4gZWxlbWVudDsKfQoKLy8gTWF4IG51bWJlciBvZiBieXRlcyB3aGljaCB3aWxsIGJlIHVwbG9hZGVkIGF0IGEgdGltZS4KY29uc3QgTUFYX1BBWUxPQURfU0laRSA9IDEwMCAqIDEwMjQ7CgpmdW5jdGlvbiBfdXBsb2FkRmlsZXMoaW5wdXRJZCwgb3V0cHV0SWQpIHsKICBjb25zdCBzdGVwcyA9IHVwbG9hZEZpbGVzU3RlcChpbnB1dElkLCBvdXRwdXRJZCk7CiAgY29uc3Qgb3V0cHV0RWxlbWVudCA9IGRvY3VtZW50LmdldEVsZW1lbnRCeUlkKG91dHB1dElkKTsKICAvLyBDYWNoZSBzdGVwcyBvbiB0aGUgb3V0cHV0RWxlbWVudCB0byBtYWtlIGl0IGF2YWlsYWJsZSBmb3IgdGhlIG5leHQgY2FsbAogIC8vIHRvIHVwbG9hZEZpbGVzQ29udGludWUgZnJvbSBQeXRob24uCiAgb3V0cHV0RWxlbWVudC5zdGVwcyA9IHN0ZXBzOwoKICByZXR1cm4gX3VwbG9hZEZpbGVzQ29udGludWUob3V0cHV0SWQpOwp9CgovLyBUaGlzIGlzIHJvdWdobHkgYW4gYXN5bmMgZ2VuZXJhdG9yIChub3Qgc3VwcG9ydGVkIGluIHRoZSBicm93c2VyIHlldCksCi8vIHdoZXJlIHRoZXJlIGFyZSBtdWx0aXBsZSBhc3luY2hyb25vdXMgc3RlcHMgYW5kIHRoZSBQeXRob24gc2lkZSBpcyBnb2luZwovLyB0byBwb2xsIGZvciBjb21wbGV0aW9uIG9mIGVhY2ggc3RlcC4KLy8gVGhpcyB1c2VzIGEgUHJvbWlzZSB0byBibG9jayB0aGUgcHl0aG9uIHNpZGUgb24gY29tcGxldGlvbiBvZiBlYWNoIHN0ZXAsCi8vIHRoZW4gcGFzc2VzIHRoZSByZXN1bHQgb2YgdGhlIHByZXZpb3VzIHN0ZXAgYXMgdGhlIGlucHV0IHRvIHRoZSBuZXh0IHN0ZXAuCmZ1bmN0aW9uIF91cGxvYWRGaWxlc0NvbnRpbnVlKG91dHB1dElkKSB7CiAgY29uc3Qgb3V0cHV0RWxlbWVudCA9IGRvY3VtZW50LmdldEVsZW1lbnRCeUlkKG91dHB1dElkKTsKICBjb25zdCBzdGVwcyA9IG91dHB1dEVsZW1lbnQuc3RlcHM7CgogIGNvbnN0IG5leHQgPSBzdGVwcy5uZXh0KG91dHB1dEVsZW1lbnQubGFzdFByb21pc2VWYWx1ZSk7CiAgcmV0dXJuIFByb21pc2UucmVzb2x2ZShuZXh0LnZhbHVlLnByb21pc2UpLnRoZW4oKHZhbHVlKSA9PiB7CiAgICAvLyBDYWNoZSB0aGUgbGFzdCBwcm9taXNlIHZhbHVlIHRvIG1ha2UgaXQgYXZhaWxhYmxlIHRvIHRoZSBuZXh0CiAgICAvLyBzdGVwIG9mIHRoZSBnZW5lcmF0b3IuCiAgICBvdXRwdXRFbGVtZW50Lmxhc3RQcm9taXNlVmFsdWUgPSB2YWx1ZTsKICAgIHJldHVybiBuZXh0LnZhbHVlLnJlc3BvbnNlOwogIH0pOwp9CgovKioKICogR2VuZXJhdG9yIGZ1bmN0aW9uIHdoaWNoIGlzIGNhbGxlZCBiZXR3ZWVuIGVhY2ggYXN5bmMgc3RlcCBvZiB0aGUgdXBsb2FkCiAqIHByb2Nlc3MuCiAqIEBwYXJhbSB7c3RyaW5nfSBpbnB1dElkIEVsZW1lbnQgSUQgb2YgdGhlIGlucHV0IGZpbGUgcGlja2VyIGVsZW1lbnQuCiAqIEBwYXJhbSB7c3RyaW5nfSBvdXRwdXRJZCBFbGVtZW50IElEIG9mIHRoZSBvdXRwdXQgZGlzcGxheS4KICogQHJldHVybiB7IUl0ZXJhYmxlPCFPYmplY3Q+fSBJdGVyYWJsZSBvZiBuZXh0IHN0ZXBzLgogKi8KZnVuY3Rpb24qIHVwbG9hZEZpbGVzU3RlcChpbnB1dElkLCBvdXRwdXRJZCkgewogIGNvbnN0IGlucHV0RWxlbWVudCA9IGRvY3VtZW50LmdldEVsZW1lbnRCeUlkKGlucHV0SWQpOwogIGlucHV0RWxlbWVudC5kaXNhYmxlZCA9IGZhbHNlOwoKICBjb25zdCBvdXRwdXRFbGVtZW50ID0gZG9jdW1lbnQuZ2V0RWxlbWVudEJ5SWQob3V0cHV0SWQpOwogIG91dHB1dEVsZW1lbnQuaW5uZXJIVE1MID0gJyc7CgogIGNvbnN0IHBpY2tlZFByb21pc2UgPSBuZXcgUHJvbWlzZSgocmVzb2x2ZSkgPT4gewogICAgaW5wdXRFbGVtZW50LmFkZEV2ZW50TGlzdGVuZXIoJ2NoYW5nZScsIChlKSA9PiB7CiAgICAgIHJlc29sdmUoZS50YXJnZXQuZmlsZXMpOwogICAgfSk7CiAgfSk7CgogIGNvbnN0IGNhbmNlbCA9IGRvY3VtZW50LmNyZWF0ZUVsZW1lbnQoJ2J1dHRvbicpOwogIGlucHV0RWxlbWVudC5wYXJlbnRFbGVtZW50LmFwcGVuZENoaWxkKGNhbmNlbCk7CiAgY2FuY2VsLnRleHRDb250ZW50ID0gJ0NhbmNlbCB1cGxvYWQnOwogIGNvbnN0IGNhbmNlbFByb21pc2UgPSBuZXcgUHJvbWlzZSgocmVzb2x2ZSkgPT4gewogICAgY2FuY2VsLm9uY2xpY2sgPSAoKSA9PiB7CiAgICAgIHJlc29sdmUobnVsbCk7CiAgICB9OwogIH0pOwoKICAvLyBXYWl0IGZvciB0aGUgdXNlciB0byBwaWNrIHRoZSBmaWxlcy4KICBjb25zdCBmaWxlcyA9IHlpZWxkIHsKICAgIHByb21pc2U6IFByb21pc2UucmFjZShbcGlja2VkUHJvbWlzZSwgY2FuY2VsUHJvbWlzZV0pLAogICAgcmVzcG9uc2U6IHsKICAgICAgYWN0aW9uOiAnc3RhcnRpbmcnLAogICAgfQogIH07CgogIGNhbmNlbC5yZW1vdmUoKTsKCiAgLy8gRGlzYWJsZSB0aGUgaW5wdXQgZWxlbWVudCBzaW5jZSBmdXJ0aGVyIHBpY2tzIGFyZSBub3QgYWxsb3dlZC4KICBpbnB1dEVsZW1lbnQuZGlzYWJsZWQgPSB0cnVlOwoKICBpZiAoIWZpbGVzKSB7CiAgICByZXR1cm4gewogICAgICByZXNwb25zZTogewogICAgICAgIGFjdGlvbjogJ2NvbXBsZXRlJywKICAgICAgfQogICAgfTsKICB9CgogIGZvciAoY29uc3QgZmlsZSBvZiBmaWxlcykgewogICAgY29uc3QgbGkgPSBkb2N1bWVudC5jcmVhdGVFbGVtZW50KCdsaScpOwogICAgbGkuYXBwZW5kKHNwYW4oZmlsZS5uYW1lLCB7Zm9udFdlaWdodDogJ2JvbGQnfSkpOwogICAgbGkuYXBwZW5kKHNwYW4oCiAgICAgICAgYCgke2ZpbGUudHlwZSB8fCAnbi9hJ30pIC0gJHtmaWxlLnNpemV9IGJ5dGVzLCBgICsKICAgICAgICBgbGFzdCBtb2RpZmllZDogJHsKICAgICAgICAgICAgZmlsZS5sYXN0TW9kaWZpZWREYXRlID8gZmlsZS5sYXN0TW9kaWZpZWREYXRlLnRvTG9jYWxlRGF0ZVN0cmluZygpIDoKICAgICAgICAgICAgICAgICAgICAgICAgICAgICAgICAgICAgJ24vYSd9IC0gYCkpOwogICAgY29uc3QgcGVyY2VudCA9IHNwYW4oJzAlIGRvbmUnKTsKICAgIGxpLmFwcGVuZENoaWxkKHBlcmNlbnQpOwoKICAgIG91dHB1dEVsZW1lbnQuYXBwZW5kQ2hpbGQobGkpOwoKICAgIGNvbnN0IGZpbGVEYXRhUHJvbWlzZSA9IG5ldyBQcm9taXNlKChyZXNvbHZlKSA9PiB7CiAgICAgIGNvbnN0IHJlYWRlciA9IG5ldyBGaWxlUmVhZGVyKCk7CiAgICAgIHJlYWRlci5vbmxvYWQgPSAoZSkgPT4gewogICAgICAgIHJlc29sdmUoZS50YXJnZXQucmVzdWx0KTsKICAgICAgfTsKICAgICAgcmVhZGVyLnJlYWRBc0FycmF5QnVmZmVyKGZpbGUpOwogICAgfSk7CiAgICAvLyBXYWl0IGZvciB0aGUgZGF0YSB0byBiZSByZWFkeS4KICAgIGxldCBmaWxlRGF0YSA9IHlpZWxkIHsKICAgICAgcHJvbWlzZTogZmlsZURhdGFQcm9taXNlLAogICAgICByZXNwb25zZTogewogICAgICAgIGFjdGlvbjogJ2NvbnRpbnVlJywKICAgICAgfQogICAgfTsKCiAgICAvLyBVc2UgYSBjaHVua2VkIHNlbmRpbmcgdG8gYXZvaWQgbWVzc2FnZSBzaXplIGxpbWl0cy4gU2VlIGIvNjIxMTU2NjAuCiAgICBsZXQgcG9zaXRpb24gPSAwOwogICAgd2hpbGUgKHBvc2l0aW9uIDwgZmlsZURhdGEuYnl0ZUxlbmd0aCkgewogICAgICBjb25zdCBsZW5ndGggPSBNYXRoLm1pbihmaWxlRGF0YS5ieXRlTGVuZ3RoIC0gcG9zaXRpb24sIE1BWF9QQVlMT0FEX1NJWkUpOwogICAgICBjb25zdCBjaHVuayA9IG5ldyBVaW50OEFycmF5KGZpbGVEYXRhLCBwb3NpdGlvbiwgbGVuZ3RoKTsKICAgICAgcG9zaXRpb24gKz0gbGVuZ3RoOwoKICAgICAgY29uc3QgYmFzZTY0ID0gYnRvYShTdHJpbmcuZnJvbUNoYXJDb2RlLmFwcGx5KG51bGwsIGNodW5rKSk7CiAgICAgIHlpZWxkIHsKICAgICAgICByZXNwb25zZTogewogICAgICAgICAgYWN0aW9uOiAnYXBwZW5kJywKICAgICAgICAgIGZpbGU6IGZpbGUubmFtZSwKICAgICAgICAgIGRhdGE6IGJhc2U2NCwKICAgICAgICB9LAogICAgICB9OwogICAgICBwZXJjZW50LnRleHRDb250ZW50ID0KICAgICAgICAgIGAke01hdGgucm91bmQoKHBvc2l0aW9uIC8gZmlsZURhdGEuYnl0ZUxlbmd0aCkgKiAxMDApfSUgZG9uZWA7CiAgICB9CiAgfQoKICAvLyBBbGwgZG9uZS4KICB5aWVsZCB7CiAgICByZXNwb25zZTogewogICAgICBhY3Rpb246ICdjb21wbGV0ZScsCiAgICB9CiAgfTsKfQoKc2NvcGUuZ29vZ2xlID0gc2NvcGUuZ29vZ2xlIHx8IHt9OwpzY29wZS5nb29nbGUuY29sYWIgPSBzY29wZS5nb29nbGUuY29sYWIgfHwge307CnNjb3BlLmdvb2dsZS5jb2xhYi5fZmlsZXMgPSB7CiAgX3VwbG9hZEZpbGVzLAogIF91cGxvYWRGaWxlc0NvbnRpbnVlLAp9Owp9KShzZWxmKTsK",
              "ok": true,
              "headers": [
                [
                  "content-type",
                  "application/javascript"
                ]
              ],
              "status": 200,
              "status_text": ""
            }
          },
          "base_uri": "https://localhost:8080/",
          "height": 91
        }
      },
      "source": [
        "from google.colab import files\n",
        "files.upload()"
      ],
      "execution_count": null,
      "outputs": [
        {
          "output_type": "display_data",
          "data": {
            "text/html": [
              "\n",
              "     <input type=\"file\" id=\"files-eb9dbfe7-ea2b-4083-8af0-203ef7843eff\" name=\"files[]\" multiple disabled\n",
              "        style=\"border:none\" />\n",
              "     <output id=\"result-eb9dbfe7-ea2b-4083-8af0-203ef7843eff\">\n",
              "      Upload widget is only available when the cell has been executed in the\n",
              "      current browser session. Please rerun this cell to enable.\n",
              "      </output>\n",
              "      <script src=\"/nbextensions/google.colab/files.js\"></script> "
            ],
            "text/plain": [
              "<IPython.core.display.HTML object>"
            ]
          },
          "metadata": {
            "tags": []
          }
        },
        {
          "output_type": "stream",
          "text": [
            "Saving kaggle.json to kaggle.json\n"
          ],
          "name": "stdout"
        },
        {
          "output_type": "execute_result",
          "data": {
            "text/plain": [
              "{'kaggle.json': b'{\"username\":\"ludbaabdul\",\"key\":\"c1d5593b1cc771121735ca6ee6e72f17\"}'}"
            ]
          },
          "metadata": {
            "tags": []
          },
          "execution_count": 3
        }
      ]
    },
    {
      "cell_type": "code",
      "metadata": {
        "id": "t0TkUmg8mxXw"
      },
      "source": [
        "!mkdir -p ~/.kaggle\n",
        "!cp kaggle.json ~/.kaggle/\n",
        "\n",
        "# change the permission\n",
        "!chmod 600 ~/.kaggle/kaggle.json"
      ],
      "execution_count": null,
      "outputs": []
    },
    {
      "cell_type": "code",
      "metadata": {
        "id": "IjgcGgxgnoMK",
        "outputId": "691187b4-da90-427b-fee1-8ac513b140a1",
        "colab": {
          "base_uri": "https://localhost:8080/",
          "height": 70
        }
      },
      "source": [
        "!kaggle datasets download -d paresh2047/uci-semcom"
      ],
      "execution_count": null,
      "outputs": [
        {
          "output_type": "stream",
          "text": [
            "Downloading uci-semcom.zip to /content\n",
            "\r  0% 0.00/2.03M [00:00<?, ?B/s]\n",
            "\r100% 2.03M/2.03M [00:00<00:00, 68.3MB/s]\n"
          ],
          "name": "stdout"
        }
      ]
    },
    {
      "cell_type": "code",
      "metadata": {
        "id": "1q--j5E5QN4G",
        "outputId": "76a2b1ec-e2f1-463c-d307-49488d59e222",
        "colab": {
          "base_uri": "https://localhost:8080/"
        }
      },
      "source": [
        "# unzipping my data folder from my google drive\n",
        "from zipfile import ZipFile\n",
        "file_name = '/content/drive/My Drive/SS_Thesis/secom.zip'\n",
        "with ZipFile(file_name, 'r') as zip:\n",
        "  zip.extractall()\n",
        "  print(\"Done\")\n"
      ],
      "execution_count": 5,
      "outputs": [
        {
          "output_type": "stream",
          "text": [
            "Done\n"
          ],
          "name": "stdout"
        }
      ]
    },
    {
      "cell_type": "code",
      "metadata": {
        "id": "IfQXZc2nQjXj",
        "outputId": "51dbd938-c274-417c-e5eb-40413a58aa75",
        "colab": {
          "base_uri": "https://localhost:8080/",
          "height": 330
        }
      },
      "source": [
        "Data = pd.read_csv('/content/uci-secom_v2.csv')\n",
        "\n",
        "# displaying my data before selecting the features to be use\n",
        "Data.head()\n"
      ],
      "execution_count": 6,
      "outputs": [
        {
          "output_type": "execute_result",
          "data": {
            "text/html": [
              "<div>\n",
              "<style scoped>\n",
              "    .dataframe tbody tr th:only-of-type {\n",
              "        vertical-align: middle;\n",
              "    }\n",
              "\n",
              "    .dataframe tbody tr th {\n",
              "        vertical-align: top;\n",
              "    }\n",
              "\n",
              "    .dataframe thead th {\n",
              "        text-align: right;\n",
              "    }\n",
              "</style>\n",
              "<table border=\"1\" class=\"dataframe\">\n",
              "  <thead>\n",
              "    <tr style=\"text-align: right;\">\n",
              "      <th></th>\n",
              "      <th>Time</th>\n",
              "      <th>0</th>\n",
              "      <th>1</th>\n",
              "      <th>2</th>\n",
              "      <th>3</th>\n",
              "      <th>4</th>\n",
              "      <th>6</th>\n",
              "      <th>7</th>\n",
              "      <th>8</th>\n",
              "      <th>9</th>\n",
              "      <th>10</th>\n",
              "      <th>11</th>\n",
              "      <th>12</th>\n",
              "      <th>14</th>\n",
              "      <th>15</th>\n",
              "      <th>16</th>\n",
              "      <th>17</th>\n",
              "      <th>18</th>\n",
              "      <th>19</th>\n",
              "      <th>20</th>\n",
              "      <th>21</th>\n",
              "      <th>22</th>\n",
              "      <th>23</th>\n",
              "      <th>24</th>\n",
              "      <th>25</th>\n",
              "      <th>26</th>\n",
              "      <th>27</th>\n",
              "      <th>28</th>\n",
              "      <th>29</th>\n",
              "      <th>30</th>\n",
              "      <th>31</th>\n",
              "      <th>32</th>\n",
              "      <th>33</th>\n",
              "      <th>34</th>\n",
              "      <th>35</th>\n",
              "      <th>36</th>\n",
              "      <th>37</th>\n",
              "      <th>38</th>\n",
              "      <th>39</th>\n",
              "      <th>40</th>\n",
              "      <th>...</th>\n",
              "      <th>551</th>\n",
              "      <th>552</th>\n",
              "      <th>553</th>\n",
              "      <th>554</th>\n",
              "      <th>555</th>\n",
              "      <th>556</th>\n",
              "      <th>557</th>\n",
              "      <th>558</th>\n",
              "      <th>559</th>\n",
              "      <th>560</th>\n",
              "      <th>561</th>\n",
              "      <th>562</th>\n",
              "      <th>563</th>\n",
              "      <th>564</th>\n",
              "      <th>565</th>\n",
              "      <th>566</th>\n",
              "      <th>567</th>\n",
              "      <th>568</th>\n",
              "      <th>569</th>\n",
              "      <th>570</th>\n",
              "      <th>571</th>\n",
              "      <th>572</th>\n",
              "      <th>573</th>\n",
              "      <th>574</th>\n",
              "      <th>575</th>\n",
              "      <th>576</th>\n",
              "      <th>577</th>\n",
              "      <th>578</th>\n",
              "      <th>579</th>\n",
              "      <th>580</th>\n",
              "      <th>581</th>\n",
              "      <th>582</th>\n",
              "      <th>583</th>\n",
              "      <th>584</th>\n",
              "      <th>585</th>\n",
              "      <th>586</th>\n",
              "      <th>587</th>\n",
              "      <th>588</th>\n",
              "      <th>589</th>\n",
              "      <th>Pass/Fail</th>\n",
              "    </tr>\n",
              "  </thead>\n",
              "  <tbody>\n",
              "    <tr>\n",
              "      <th>0</th>\n",
              "      <td>19/07/2008 11:55</td>\n",
              "      <td>3030.93</td>\n",
              "      <td>2564.00</td>\n",
              "      <td>2187.7333</td>\n",
              "      <td>1411.1265</td>\n",
              "      <td>1.3602</td>\n",
              "      <td>97.6133</td>\n",
              "      <td>0.1242</td>\n",
              "      <td>1.5005</td>\n",
              "      <td>0.0162</td>\n",
              "      <td>-0.0034</td>\n",
              "      <td>0.9455</td>\n",
              "      <td>202.4396</td>\n",
              "      <td>7.9558</td>\n",
              "      <td>414.8710</td>\n",
              "      <td>10.0433</td>\n",
              "      <td>0.9680</td>\n",
              "      <td>192.3963</td>\n",
              "      <td>12.5190</td>\n",
              "      <td>1.4026</td>\n",
              "      <td>-5419.00</td>\n",
              "      <td>2916.50</td>\n",
              "      <td>-4043.75</td>\n",
              "      <td>751.00</td>\n",
              "      <td>0.8955</td>\n",
              "      <td>1.7730</td>\n",
              "      <td>3.0490</td>\n",
              "      <td>64.2333</td>\n",
              "      <td>2.0222</td>\n",
              "      <td>0.1632</td>\n",
              "      <td>3.5191</td>\n",
              "      <td>83.3971</td>\n",
              "      <td>9.5126</td>\n",
              "      <td>50.6170</td>\n",
              "      <td>64.2588</td>\n",
              "      <td>49.3830</td>\n",
              "      <td>66.3141</td>\n",
              "      <td>86.9555</td>\n",
              "      <td>117.5132</td>\n",
              "      <td>61.29</td>\n",
              "      <td>...</td>\n",
              "      <td>0.78</td>\n",
              "      <td>0.1827</td>\n",
              "      <td>5.7349</td>\n",
              "      <td>0.3363</td>\n",
              "      <td>39.8842</td>\n",
              "      <td>3.2687</td>\n",
              "      <td>1.0297</td>\n",
              "      <td>1.0344</td>\n",
              "      <td>0.4385</td>\n",
              "      <td>0.1039</td>\n",
              "      <td>42.3877</td>\n",
              "      <td>NaN</td>\n",
              "      <td>NaN</td>\n",
              "      <td>NaN</td>\n",
              "      <td>NaN</td>\n",
              "      <td>NaN</td>\n",
              "      <td>NaN</td>\n",
              "      <td>NaN</td>\n",
              "      <td>NaN</td>\n",
              "      <td>533.8500</td>\n",
              "      <td>2.1113</td>\n",
              "      <td>8.95</td>\n",
              "      <td>0.3157</td>\n",
              "      <td>3.0624</td>\n",
              "      <td>0.1026</td>\n",
              "      <td>1.6765</td>\n",
              "      <td>14.9509</td>\n",
              "      <td>NaN</td>\n",
              "      <td>NaN</td>\n",
              "      <td>NaN</td>\n",
              "      <td>NaN</td>\n",
              "      <td>0.5005</td>\n",
              "      <td>0.0118</td>\n",
              "      <td>0.0035</td>\n",
              "      <td>2.3630</td>\n",
              "      <td>NaN</td>\n",
              "      <td>NaN</td>\n",
              "      <td>NaN</td>\n",
              "      <td>NaN</td>\n",
              "      <td>-1</td>\n",
              "    </tr>\n",
              "    <tr>\n",
              "      <th>1</th>\n",
              "      <td>19/07/2008 12:32</td>\n",
              "      <td>3095.78</td>\n",
              "      <td>2465.14</td>\n",
              "      <td>2230.4222</td>\n",
              "      <td>1463.6606</td>\n",
              "      <td>0.8294</td>\n",
              "      <td>102.3433</td>\n",
              "      <td>0.1247</td>\n",
              "      <td>1.4966</td>\n",
              "      <td>-0.0005</td>\n",
              "      <td>-0.0148</td>\n",
              "      <td>0.9627</td>\n",
              "      <td>200.5470</td>\n",
              "      <td>10.1548</td>\n",
              "      <td>414.7347</td>\n",
              "      <td>9.2599</td>\n",
              "      <td>0.9701</td>\n",
              "      <td>191.2872</td>\n",
              "      <td>12.4608</td>\n",
              "      <td>1.3825</td>\n",
              "      <td>-5441.50</td>\n",
              "      <td>2604.25</td>\n",
              "      <td>-3498.75</td>\n",
              "      <td>-1640.25</td>\n",
              "      <td>1.2973</td>\n",
              "      <td>2.0143</td>\n",
              "      <td>7.3900</td>\n",
              "      <td>68.4222</td>\n",
              "      <td>2.2667</td>\n",
              "      <td>0.2102</td>\n",
              "      <td>3.4171</td>\n",
              "      <td>84.9052</td>\n",
              "      <td>9.7997</td>\n",
              "      <td>50.6596</td>\n",
              "      <td>64.2828</td>\n",
              "      <td>49.3404</td>\n",
              "      <td>64.9193</td>\n",
              "      <td>87.5241</td>\n",
              "      <td>118.1188</td>\n",
              "      <td>78.25</td>\n",
              "      <td>...</td>\n",
              "      <td>1.33</td>\n",
              "      <td>0.2829</td>\n",
              "      <td>7.1196</td>\n",
              "      <td>0.4989</td>\n",
              "      <td>53.1836</td>\n",
              "      <td>3.9139</td>\n",
              "      <td>1.7819</td>\n",
              "      <td>0.9634</td>\n",
              "      <td>0.1745</td>\n",
              "      <td>0.0375</td>\n",
              "      <td>18.1087</td>\n",
              "      <td>NaN</td>\n",
              "      <td>NaN</td>\n",
              "      <td>NaN</td>\n",
              "      <td>NaN</td>\n",
              "      <td>NaN</td>\n",
              "      <td>NaN</td>\n",
              "      <td>NaN</td>\n",
              "      <td>NaN</td>\n",
              "      <td>535.0164</td>\n",
              "      <td>2.4335</td>\n",
              "      <td>5.92</td>\n",
              "      <td>0.2653</td>\n",
              "      <td>2.0111</td>\n",
              "      <td>0.0772</td>\n",
              "      <td>1.1065</td>\n",
              "      <td>10.9003</td>\n",
              "      <td>0.0096</td>\n",
              "      <td>0.0201</td>\n",
              "      <td>0.0060</td>\n",
              "      <td>208.2045</td>\n",
              "      <td>0.5019</td>\n",
              "      <td>0.0223</td>\n",
              "      <td>0.0055</td>\n",
              "      <td>4.4447</td>\n",
              "      <td>0.0096</td>\n",
              "      <td>0.0201</td>\n",
              "      <td>0.0060</td>\n",
              "      <td>208.2045</td>\n",
              "      <td>-1</td>\n",
              "    </tr>\n",
              "    <tr>\n",
              "      <th>2</th>\n",
              "      <td>19/07/2008 13:17</td>\n",
              "      <td>2932.61</td>\n",
              "      <td>2559.94</td>\n",
              "      <td>2186.4111</td>\n",
              "      <td>1698.0172</td>\n",
              "      <td>1.5102</td>\n",
              "      <td>95.4878</td>\n",
              "      <td>0.1241</td>\n",
              "      <td>1.4436</td>\n",
              "      <td>0.0041</td>\n",
              "      <td>0.0013</td>\n",
              "      <td>0.9615</td>\n",
              "      <td>202.0179</td>\n",
              "      <td>9.5157</td>\n",
              "      <td>416.7075</td>\n",
              "      <td>9.3144</td>\n",
              "      <td>0.9674</td>\n",
              "      <td>192.7035</td>\n",
              "      <td>12.5404</td>\n",
              "      <td>1.4123</td>\n",
              "      <td>-5447.75</td>\n",
              "      <td>2701.75</td>\n",
              "      <td>-4047.00</td>\n",
              "      <td>-1916.50</td>\n",
              "      <td>1.3122</td>\n",
              "      <td>2.0295</td>\n",
              "      <td>7.5788</td>\n",
              "      <td>67.1333</td>\n",
              "      <td>2.3333</td>\n",
              "      <td>0.1734</td>\n",
              "      <td>3.5986</td>\n",
              "      <td>84.7569</td>\n",
              "      <td>8.6590</td>\n",
              "      <td>50.1530</td>\n",
              "      <td>64.1114</td>\n",
              "      <td>49.8470</td>\n",
              "      <td>65.8389</td>\n",
              "      <td>84.7327</td>\n",
              "      <td>118.6128</td>\n",
              "      <td>14.37</td>\n",
              "      <td>...</td>\n",
              "      <td>0.85</td>\n",
              "      <td>0.0857</td>\n",
              "      <td>7.1619</td>\n",
              "      <td>0.3752</td>\n",
              "      <td>23.0713</td>\n",
              "      <td>3.9306</td>\n",
              "      <td>1.1386</td>\n",
              "      <td>1.5021</td>\n",
              "      <td>0.3718</td>\n",
              "      <td>0.1233</td>\n",
              "      <td>24.7524</td>\n",
              "      <td>267.064</td>\n",
              "      <td>0.9032</td>\n",
              "      <td>1.10</td>\n",
              "      <td>0.6219</td>\n",
              "      <td>0.4122</td>\n",
              "      <td>0.2562</td>\n",
              "      <td>0.4119</td>\n",
              "      <td>68.8489</td>\n",
              "      <td>535.0245</td>\n",
              "      <td>2.0293</td>\n",
              "      <td>11.21</td>\n",
              "      <td>0.1882</td>\n",
              "      <td>4.0923</td>\n",
              "      <td>0.0640</td>\n",
              "      <td>2.0952</td>\n",
              "      <td>9.2721</td>\n",
              "      <td>0.0584</td>\n",
              "      <td>0.0484</td>\n",
              "      <td>0.0148</td>\n",
              "      <td>82.8602</td>\n",
              "      <td>0.4958</td>\n",
              "      <td>0.0157</td>\n",
              "      <td>0.0039</td>\n",
              "      <td>3.1745</td>\n",
              "      <td>0.0584</td>\n",
              "      <td>0.0484</td>\n",
              "      <td>0.0148</td>\n",
              "      <td>82.8602</td>\n",
              "      <td>1</td>\n",
              "    </tr>\n",
              "    <tr>\n",
              "      <th>3</th>\n",
              "      <td>19/07/2008 14:43</td>\n",
              "      <td>2988.72</td>\n",
              "      <td>2479.90</td>\n",
              "      <td>2199.0333</td>\n",
              "      <td>909.7926</td>\n",
              "      <td>1.3204</td>\n",
              "      <td>104.2367</td>\n",
              "      <td>0.1217</td>\n",
              "      <td>1.4882</td>\n",
              "      <td>-0.0124</td>\n",
              "      <td>-0.0033</td>\n",
              "      <td>0.9629</td>\n",
              "      <td>201.8482</td>\n",
              "      <td>9.6052</td>\n",
              "      <td>422.2894</td>\n",
              "      <td>9.6924</td>\n",
              "      <td>0.9687</td>\n",
              "      <td>192.1557</td>\n",
              "      <td>12.4782</td>\n",
              "      <td>1.4011</td>\n",
              "      <td>-5468.25</td>\n",
              "      <td>2648.25</td>\n",
              "      <td>-4515.00</td>\n",
              "      <td>-1657.25</td>\n",
              "      <td>1.3137</td>\n",
              "      <td>2.0038</td>\n",
              "      <td>7.3145</td>\n",
              "      <td>62.9333</td>\n",
              "      <td>2.6444</td>\n",
              "      <td>0.2071</td>\n",
              "      <td>3.3813</td>\n",
              "      <td>84.9105</td>\n",
              "      <td>8.6789</td>\n",
              "      <td>50.5100</td>\n",
              "      <td>64.1125</td>\n",
              "      <td>49.4900</td>\n",
              "      <td>65.1951</td>\n",
              "      <td>86.6867</td>\n",
              "      <td>117.0442</td>\n",
              "      <td>76.90</td>\n",
              "      <td>...</td>\n",
              "      <td>39.33</td>\n",
              "      <td>0.6812</td>\n",
              "      <td>56.9303</td>\n",
              "      <td>17.4781</td>\n",
              "      <td>161.4081</td>\n",
              "      <td>35.3198</td>\n",
              "      <td>54.2917</td>\n",
              "      <td>1.1613</td>\n",
              "      <td>0.7288</td>\n",
              "      <td>0.2710</td>\n",
              "      <td>62.7572</td>\n",
              "      <td>268.228</td>\n",
              "      <td>0.6511</td>\n",
              "      <td>7.32</td>\n",
              "      <td>0.1630</td>\n",
              "      <td>3.5611</td>\n",
              "      <td>0.0670</td>\n",
              "      <td>2.7290</td>\n",
              "      <td>25.0363</td>\n",
              "      <td>530.5682</td>\n",
              "      <td>2.0253</td>\n",
              "      <td>9.33</td>\n",
              "      <td>0.1738</td>\n",
              "      <td>2.8971</td>\n",
              "      <td>0.0525</td>\n",
              "      <td>1.7585</td>\n",
              "      <td>8.5831</td>\n",
              "      <td>0.0202</td>\n",
              "      <td>0.0149</td>\n",
              "      <td>0.0044</td>\n",
              "      <td>73.8432</td>\n",
              "      <td>0.4990</td>\n",
              "      <td>0.0103</td>\n",
              "      <td>0.0025</td>\n",
              "      <td>2.0544</td>\n",
              "      <td>0.0202</td>\n",
              "      <td>0.0149</td>\n",
              "      <td>0.0044</td>\n",
              "      <td>73.8432</td>\n",
              "      <td>-1</td>\n",
              "    </tr>\n",
              "    <tr>\n",
              "      <th>4</th>\n",
              "      <td>19/07/2008 15:22</td>\n",
              "      <td>3032.24</td>\n",
              "      <td>2502.87</td>\n",
              "      <td>2233.3667</td>\n",
              "      <td>1326.5200</td>\n",
              "      <td>1.5334</td>\n",
              "      <td>100.3967</td>\n",
              "      <td>0.1235</td>\n",
              "      <td>1.5031</td>\n",
              "      <td>-0.0031</td>\n",
              "      <td>-0.0072</td>\n",
              "      <td>0.9569</td>\n",
              "      <td>201.9424</td>\n",
              "      <td>10.5661</td>\n",
              "      <td>420.5925</td>\n",
              "      <td>10.3387</td>\n",
              "      <td>0.9735</td>\n",
              "      <td>191.6037</td>\n",
              "      <td>12.4735</td>\n",
              "      <td>1.3888</td>\n",
              "      <td>-5476.25</td>\n",
              "      <td>2635.25</td>\n",
              "      <td>-3987.50</td>\n",
              "      <td>117.00</td>\n",
              "      <td>1.2887</td>\n",
              "      <td>1.9912</td>\n",
              "      <td>7.2748</td>\n",
              "      <td>62.8333</td>\n",
              "      <td>3.1556</td>\n",
              "      <td>0.2696</td>\n",
              "      <td>3.2728</td>\n",
              "      <td>86.3269</td>\n",
              "      <td>8.7677</td>\n",
              "      <td>50.2480</td>\n",
              "      <td>64.1511</td>\n",
              "      <td>49.7520</td>\n",
              "      <td>66.1542</td>\n",
              "      <td>86.1468</td>\n",
              "      <td>121.4364</td>\n",
              "      <td>76.39</td>\n",
              "      <td>...</td>\n",
              "      <td>1.98</td>\n",
              "      <td>0.4287</td>\n",
              "      <td>9.7608</td>\n",
              "      <td>0.8311</td>\n",
              "      <td>70.9706</td>\n",
              "      <td>4.9086</td>\n",
              "      <td>2.5014</td>\n",
              "      <td>0.9778</td>\n",
              "      <td>0.2156</td>\n",
              "      <td>0.0461</td>\n",
              "      <td>22.0500</td>\n",
              "      <td>NaN</td>\n",
              "      <td>NaN</td>\n",
              "      <td>NaN</td>\n",
              "      <td>NaN</td>\n",
              "      <td>NaN</td>\n",
              "      <td>NaN</td>\n",
              "      <td>NaN</td>\n",
              "      <td>NaN</td>\n",
              "      <td>532.0155</td>\n",
              "      <td>2.0275</td>\n",
              "      <td>8.83</td>\n",
              "      <td>0.2224</td>\n",
              "      <td>3.1776</td>\n",
              "      <td>0.0706</td>\n",
              "      <td>1.6597</td>\n",
              "      <td>10.9698</td>\n",
              "      <td>NaN</td>\n",
              "      <td>NaN</td>\n",
              "      <td>NaN</td>\n",
              "      <td>NaN</td>\n",
              "      <td>0.4800</td>\n",
              "      <td>0.4766</td>\n",
              "      <td>0.1045</td>\n",
              "      <td>99.3032</td>\n",
              "      <td>0.0202</td>\n",
              "      <td>0.0149</td>\n",
              "      <td>0.0044</td>\n",
              "      <td>73.8432</td>\n",
              "      <td>-1</td>\n",
              "    </tr>\n",
              "  </tbody>\n",
              "</table>\n",
              "<p>5 rows × 451 columns</p>\n",
              "</div>"
            ],
            "text/plain": [
              "               Time        0        1  ...     588       589  Pass/Fail\n",
              "0  19/07/2008 11:55  3030.93  2564.00  ...     NaN       NaN         -1\n",
              "1  19/07/2008 12:32  3095.78  2465.14  ...  0.0060  208.2045         -1\n",
              "2  19/07/2008 13:17  2932.61  2559.94  ...  0.0148   82.8602          1\n",
              "3  19/07/2008 14:43  2988.72  2479.90  ...  0.0044   73.8432         -1\n",
              "4  19/07/2008 15:22  3032.24  2502.87  ...  0.0044   73.8432         -1\n",
              "\n",
              "[5 rows x 451 columns]"
            ]
          },
          "metadata": {
            "tags": []
          },
          "execution_count": 6
        }
      ]
    },
    {
      "cell_type": "code",
      "metadata": {
        "id": "4yp2bmcox3YA",
        "outputId": "465a32d3-8695-45ae-82b2-367ea820b8cf",
        "colab": {
          "base_uri": "https://localhost:8080/"
        }
      },
      "source": [
        "Data.isnull().any().any()"
      ],
      "execution_count": 4,
      "outputs": [
        {
          "output_type": "execute_result",
          "data": {
            "text/plain": [
              "True"
            ]
          },
          "metadata": {
            "tags": []
          },
          "execution_count": 4
        }
      ]
    },
    {
      "cell_type": "code",
      "metadata": {
        "id": "Xe3rJfxLbpKJ",
        "outputId": "44ad689f-9116-4837-c719-cea92242d1fd",
        "colab": {
          "base_uri": "https://localhost:8080/",
          "height": 246
        }
      },
      "source": [
        "Data = Data.drop(['Time'], axis=1)\n",
        "Data.loc[(Data['Pass/Fail'] == -1),'Pass/Fail'] = 0\n",
        "Data.head()"
      ],
      "execution_count": 7,
      "outputs": [
        {
          "output_type": "execute_result",
          "data": {
            "text/html": [
              "<div>\n",
              "<style scoped>\n",
              "    .dataframe tbody tr th:only-of-type {\n",
              "        vertical-align: middle;\n",
              "    }\n",
              "\n",
              "    .dataframe tbody tr th {\n",
              "        vertical-align: top;\n",
              "    }\n",
              "\n",
              "    .dataframe thead th {\n",
              "        text-align: right;\n",
              "    }\n",
              "</style>\n",
              "<table border=\"1\" class=\"dataframe\">\n",
              "  <thead>\n",
              "    <tr style=\"text-align: right;\">\n",
              "      <th></th>\n",
              "      <th>0</th>\n",
              "      <th>1</th>\n",
              "      <th>2</th>\n",
              "      <th>3</th>\n",
              "      <th>4</th>\n",
              "      <th>6</th>\n",
              "      <th>7</th>\n",
              "      <th>8</th>\n",
              "      <th>9</th>\n",
              "      <th>10</th>\n",
              "      <th>11</th>\n",
              "      <th>12</th>\n",
              "      <th>14</th>\n",
              "      <th>15</th>\n",
              "      <th>16</th>\n",
              "      <th>17</th>\n",
              "      <th>18</th>\n",
              "      <th>19</th>\n",
              "      <th>20</th>\n",
              "      <th>21</th>\n",
              "      <th>22</th>\n",
              "      <th>23</th>\n",
              "      <th>24</th>\n",
              "      <th>25</th>\n",
              "      <th>26</th>\n",
              "      <th>27</th>\n",
              "      <th>28</th>\n",
              "      <th>29</th>\n",
              "      <th>30</th>\n",
              "      <th>31</th>\n",
              "      <th>32</th>\n",
              "      <th>33</th>\n",
              "      <th>34</th>\n",
              "      <th>35</th>\n",
              "      <th>36</th>\n",
              "      <th>37</th>\n",
              "      <th>38</th>\n",
              "      <th>39</th>\n",
              "      <th>40</th>\n",
              "      <th>41</th>\n",
              "      <th>...</th>\n",
              "      <th>551</th>\n",
              "      <th>552</th>\n",
              "      <th>553</th>\n",
              "      <th>554</th>\n",
              "      <th>555</th>\n",
              "      <th>556</th>\n",
              "      <th>557</th>\n",
              "      <th>558</th>\n",
              "      <th>559</th>\n",
              "      <th>560</th>\n",
              "      <th>561</th>\n",
              "      <th>562</th>\n",
              "      <th>563</th>\n",
              "      <th>564</th>\n",
              "      <th>565</th>\n",
              "      <th>566</th>\n",
              "      <th>567</th>\n",
              "      <th>568</th>\n",
              "      <th>569</th>\n",
              "      <th>570</th>\n",
              "      <th>571</th>\n",
              "      <th>572</th>\n",
              "      <th>573</th>\n",
              "      <th>574</th>\n",
              "      <th>575</th>\n",
              "      <th>576</th>\n",
              "      <th>577</th>\n",
              "      <th>578</th>\n",
              "      <th>579</th>\n",
              "      <th>580</th>\n",
              "      <th>581</th>\n",
              "      <th>582</th>\n",
              "      <th>583</th>\n",
              "      <th>584</th>\n",
              "      <th>585</th>\n",
              "      <th>586</th>\n",
              "      <th>587</th>\n",
              "      <th>588</th>\n",
              "      <th>589</th>\n",
              "      <th>Pass/Fail</th>\n",
              "    </tr>\n",
              "  </thead>\n",
              "  <tbody>\n",
              "    <tr>\n",
              "      <th>0</th>\n",
              "      <td>3030.93</td>\n",
              "      <td>2564.00</td>\n",
              "      <td>2187.7333</td>\n",
              "      <td>1411.1265</td>\n",
              "      <td>1.3602</td>\n",
              "      <td>97.6133</td>\n",
              "      <td>0.1242</td>\n",
              "      <td>1.5005</td>\n",
              "      <td>0.0162</td>\n",
              "      <td>-0.0034</td>\n",
              "      <td>0.9455</td>\n",
              "      <td>202.4396</td>\n",
              "      <td>7.9558</td>\n",
              "      <td>414.8710</td>\n",
              "      <td>10.0433</td>\n",
              "      <td>0.9680</td>\n",
              "      <td>192.3963</td>\n",
              "      <td>12.5190</td>\n",
              "      <td>1.4026</td>\n",
              "      <td>-5419.00</td>\n",
              "      <td>2916.50</td>\n",
              "      <td>-4043.75</td>\n",
              "      <td>751.00</td>\n",
              "      <td>0.8955</td>\n",
              "      <td>1.7730</td>\n",
              "      <td>3.0490</td>\n",
              "      <td>64.2333</td>\n",
              "      <td>2.0222</td>\n",
              "      <td>0.1632</td>\n",
              "      <td>3.5191</td>\n",
              "      <td>83.3971</td>\n",
              "      <td>9.5126</td>\n",
              "      <td>50.6170</td>\n",
              "      <td>64.2588</td>\n",
              "      <td>49.3830</td>\n",
              "      <td>66.3141</td>\n",
              "      <td>86.9555</td>\n",
              "      <td>117.5132</td>\n",
              "      <td>61.29</td>\n",
              "      <td>4.515</td>\n",
              "      <td>...</td>\n",
              "      <td>0.78</td>\n",
              "      <td>0.1827</td>\n",
              "      <td>5.7349</td>\n",
              "      <td>0.3363</td>\n",
              "      <td>39.8842</td>\n",
              "      <td>3.2687</td>\n",
              "      <td>1.0297</td>\n",
              "      <td>1.0344</td>\n",
              "      <td>0.4385</td>\n",
              "      <td>0.1039</td>\n",
              "      <td>42.3877</td>\n",
              "      <td>NaN</td>\n",
              "      <td>NaN</td>\n",
              "      <td>NaN</td>\n",
              "      <td>NaN</td>\n",
              "      <td>NaN</td>\n",
              "      <td>NaN</td>\n",
              "      <td>NaN</td>\n",
              "      <td>NaN</td>\n",
              "      <td>533.8500</td>\n",
              "      <td>2.1113</td>\n",
              "      <td>8.95</td>\n",
              "      <td>0.3157</td>\n",
              "      <td>3.0624</td>\n",
              "      <td>0.1026</td>\n",
              "      <td>1.6765</td>\n",
              "      <td>14.9509</td>\n",
              "      <td>NaN</td>\n",
              "      <td>NaN</td>\n",
              "      <td>NaN</td>\n",
              "      <td>NaN</td>\n",
              "      <td>0.5005</td>\n",
              "      <td>0.0118</td>\n",
              "      <td>0.0035</td>\n",
              "      <td>2.3630</td>\n",
              "      <td>NaN</td>\n",
              "      <td>NaN</td>\n",
              "      <td>NaN</td>\n",
              "      <td>NaN</td>\n",
              "      <td>0</td>\n",
              "    </tr>\n",
              "    <tr>\n",
              "      <th>1</th>\n",
              "      <td>3095.78</td>\n",
              "      <td>2465.14</td>\n",
              "      <td>2230.4222</td>\n",
              "      <td>1463.6606</td>\n",
              "      <td>0.8294</td>\n",
              "      <td>102.3433</td>\n",
              "      <td>0.1247</td>\n",
              "      <td>1.4966</td>\n",
              "      <td>-0.0005</td>\n",
              "      <td>-0.0148</td>\n",
              "      <td>0.9627</td>\n",
              "      <td>200.5470</td>\n",
              "      <td>10.1548</td>\n",
              "      <td>414.7347</td>\n",
              "      <td>9.2599</td>\n",
              "      <td>0.9701</td>\n",
              "      <td>191.2872</td>\n",
              "      <td>12.4608</td>\n",
              "      <td>1.3825</td>\n",
              "      <td>-5441.50</td>\n",
              "      <td>2604.25</td>\n",
              "      <td>-3498.75</td>\n",
              "      <td>-1640.25</td>\n",
              "      <td>1.2973</td>\n",
              "      <td>2.0143</td>\n",
              "      <td>7.3900</td>\n",
              "      <td>68.4222</td>\n",
              "      <td>2.2667</td>\n",
              "      <td>0.2102</td>\n",
              "      <td>3.4171</td>\n",
              "      <td>84.9052</td>\n",
              "      <td>9.7997</td>\n",
              "      <td>50.6596</td>\n",
              "      <td>64.2828</td>\n",
              "      <td>49.3404</td>\n",
              "      <td>64.9193</td>\n",
              "      <td>87.5241</td>\n",
              "      <td>118.1188</td>\n",
              "      <td>78.25</td>\n",
              "      <td>2.773</td>\n",
              "      <td>...</td>\n",
              "      <td>1.33</td>\n",
              "      <td>0.2829</td>\n",
              "      <td>7.1196</td>\n",
              "      <td>0.4989</td>\n",
              "      <td>53.1836</td>\n",
              "      <td>3.9139</td>\n",
              "      <td>1.7819</td>\n",
              "      <td>0.9634</td>\n",
              "      <td>0.1745</td>\n",
              "      <td>0.0375</td>\n",
              "      <td>18.1087</td>\n",
              "      <td>NaN</td>\n",
              "      <td>NaN</td>\n",
              "      <td>NaN</td>\n",
              "      <td>NaN</td>\n",
              "      <td>NaN</td>\n",
              "      <td>NaN</td>\n",
              "      <td>NaN</td>\n",
              "      <td>NaN</td>\n",
              "      <td>535.0164</td>\n",
              "      <td>2.4335</td>\n",
              "      <td>5.92</td>\n",
              "      <td>0.2653</td>\n",
              "      <td>2.0111</td>\n",
              "      <td>0.0772</td>\n",
              "      <td>1.1065</td>\n",
              "      <td>10.9003</td>\n",
              "      <td>0.0096</td>\n",
              "      <td>0.0201</td>\n",
              "      <td>0.0060</td>\n",
              "      <td>208.2045</td>\n",
              "      <td>0.5019</td>\n",
              "      <td>0.0223</td>\n",
              "      <td>0.0055</td>\n",
              "      <td>4.4447</td>\n",
              "      <td>0.0096</td>\n",
              "      <td>0.0201</td>\n",
              "      <td>0.0060</td>\n",
              "      <td>208.2045</td>\n",
              "      <td>0</td>\n",
              "    </tr>\n",
              "    <tr>\n",
              "      <th>2</th>\n",
              "      <td>2932.61</td>\n",
              "      <td>2559.94</td>\n",
              "      <td>2186.4111</td>\n",
              "      <td>1698.0172</td>\n",
              "      <td>1.5102</td>\n",
              "      <td>95.4878</td>\n",
              "      <td>0.1241</td>\n",
              "      <td>1.4436</td>\n",
              "      <td>0.0041</td>\n",
              "      <td>0.0013</td>\n",
              "      <td>0.9615</td>\n",
              "      <td>202.0179</td>\n",
              "      <td>9.5157</td>\n",
              "      <td>416.7075</td>\n",
              "      <td>9.3144</td>\n",
              "      <td>0.9674</td>\n",
              "      <td>192.7035</td>\n",
              "      <td>12.5404</td>\n",
              "      <td>1.4123</td>\n",
              "      <td>-5447.75</td>\n",
              "      <td>2701.75</td>\n",
              "      <td>-4047.00</td>\n",
              "      <td>-1916.50</td>\n",
              "      <td>1.3122</td>\n",
              "      <td>2.0295</td>\n",
              "      <td>7.5788</td>\n",
              "      <td>67.1333</td>\n",
              "      <td>2.3333</td>\n",
              "      <td>0.1734</td>\n",
              "      <td>3.5986</td>\n",
              "      <td>84.7569</td>\n",
              "      <td>8.6590</td>\n",
              "      <td>50.1530</td>\n",
              "      <td>64.1114</td>\n",
              "      <td>49.8470</td>\n",
              "      <td>65.8389</td>\n",
              "      <td>84.7327</td>\n",
              "      <td>118.6128</td>\n",
              "      <td>14.37</td>\n",
              "      <td>5.434</td>\n",
              "      <td>...</td>\n",
              "      <td>0.85</td>\n",
              "      <td>0.0857</td>\n",
              "      <td>7.1619</td>\n",
              "      <td>0.3752</td>\n",
              "      <td>23.0713</td>\n",
              "      <td>3.9306</td>\n",
              "      <td>1.1386</td>\n",
              "      <td>1.5021</td>\n",
              "      <td>0.3718</td>\n",
              "      <td>0.1233</td>\n",
              "      <td>24.7524</td>\n",
              "      <td>267.064</td>\n",
              "      <td>0.9032</td>\n",
              "      <td>1.10</td>\n",
              "      <td>0.6219</td>\n",
              "      <td>0.4122</td>\n",
              "      <td>0.2562</td>\n",
              "      <td>0.4119</td>\n",
              "      <td>68.8489</td>\n",
              "      <td>535.0245</td>\n",
              "      <td>2.0293</td>\n",
              "      <td>11.21</td>\n",
              "      <td>0.1882</td>\n",
              "      <td>4.0923</td>\n",
              "      <td>0.0640</td>\n",
              "      <td>2.0952</td>\n",
              "      <td>9.2721</td>\n",
              "      <td>0.0584</td>\n",
              "      <td>0.0484</td>\n",
              "      <td>0.0148</td>\n",
              "      <td>82.8602</td>\n",
              "      <td>0.4958</td>\n",
              "      <td>0.0157</td>\n",
              "      <td>0.0039</td>\n",
              "      <td>3.1745</td>\n",
              "      <td>0.0584</td>\n",
              "      <td>0.0484</td>\n",
              "      <td>0.0148</td>\n",
              "      <td>82.8602</td>\n",
              "      <td>1</td>\n",
              "    </tr>\n",
              "    <tr>\n",
              "      <th>3</th>\n",
              "      <td>2988.72</td>\n",
              "      <td>2479.90</td>\n",
              "      <td>2199.0333</td>\n",
              "      <td>909.7926</td>\n",
              "      <td>1.3204</td>\n",
              "      <td>104.2367</td>\n",
              "      <td>0.1217</td>\n",
              "      <td>1.4882</td>\n",
              "      <td>-0.0124</td>\n",
              "      <td>-0.0033</td>\n",
              "      <td>0.9629</td>\n",
              "      <td>201.8482</td>\n",
              "      <td>9.6052</td>\n",
              "      <td>422.2894</td>\n",
              "      <td>9.6924</td>\n",
              "      <td>0.9687</td>\n",
              "      <td>192.1557</td>\n",
              "      <td>12.4782</td>\n",
              "      <td>1.4011</td>\n",
              "      <td>-5468.25</td>\n",
              "      <td>2648.25</td>\n",
              "      <td>-4515.00</td>\n",
              "      <td>-1657.25</td>\n",
              "      <td>1.3137</td>\n",
              "      <td>2.0038</td>\n",
              "      <td>7.3145</td>\n",
              "      <td>62.9333</td>\n",
              "      <td>2.6444</td>\n",
              "      <td>0.2071</td>\n",
              "      <td>3.3813</td>\n",
              "      <td>84.9105</td>\n",
              "      <td>8.6789</td>\n",
              "      <td>50.5100</td>\n",
              "      <td>64.1125</td>\n",
              "      <td>49.4900</td>\n",
              "      <td>65.1951</td>\n",
              "      <td>86.6867</td>\n",
              "      <td>117.0442</td>\n",
              "      <td>76.90</td>\n",
              "      <td>1.279</td>\n",
              "      <td>...</td>\n",
              "      <td>39.33</td>\n",
              "      <td>0.6812</td>\n",
              "      <td>56.9303</td>\n",
              "      <td>17.4781</td>\n",
              "      <td>161.4081</td>\n",
              "      <td>35.3198</td>\n",
              "      <td>54.2917</td>\n",
              "      <td>1.1613</td>\n",
              "      <td>0.7288</td>\n",
              "      <td>0.2710</td>\n",
              "      <td>62.7572</td>\n",
              "      <td>268.228</td>\n",
              "      <td>0.6511</td>\n",
              "      <td>7.32</td>\n",
              "      <td>0.1630</td>\n",
              "      <td>3.5611</td>\n",
              "      <td>0.0670</td>\n",
              "      <td>2.7290</td>\n",
              "      <td>25.0363</td>\n",
              "      <td>530.5682</td>\n",
              "      <td>2.0253</td>\n",
              "      <td>9.33</td>\n",
              "      <td>0.1738</td>\n",
              "      <td>2.8971</td>\n",
              "      <td>0.0525</td>\n",
              "      <td>1.7585</td>\n",
              "      <td>8.5831</td>\n",
              "      <td>0.0202</td>\n",
              "      <td>0.0149</td>\n",
              "      <td>0.0044</td>\n",
              "      <td>73.8432</td>\n",
              "      <td>0.4990</td>\n",
              "      <td>0.0103</td>\n",
              "      <td>0.0025</td>\n",
              "      <td>2.0544</td>\n",
              "      <td>0.0202</td>\n",
              "      <td>0.0149</td>\n",
              "      <td>0.0044</td>\n",
              "      <td>73.8432</td>\n",
              "      <td>0</td>\n",
              "    </tr>\n",
              "    <tr>\n",
              "      <th>4</th>\n",
              "      <td>3032.24</td>\n",
              "      <td>2502.87</td>\n",
              "      <td>2233.3667</td>\n",
              "      <td>1326.5200</td>\n",
              "      <td>1.5334</td>\n",
              "      <td>100.3967</td>\n",
              "      <td>0.1235</td>\n",
              "      <td>1.5031</td>\n",
              "      <td>-0.0031</td>\n",
              "      <td>-0.0072</td>\n",
              "      <td>0.9569</td>\n",
              "      <td>201.9424</td>\n",
              "      <td>10.5661</td>\n",
              "      <td>420.5925</td>\n",
              "      <td>10.3387</td>\n",
              "      <td>0.9735</td>\n",
              "      <td>191.6037</td>\n",
              "      <td>12.4735</td>\n",
              "      <td>1.3888</td>\n",
              "      <td>-5476.25</td>\n",
              "      <td>2635.25</td>\n",
              "      <td>-3987.50</td>\n",
              "      <td>117.00</td>\n",
              "      <td>1.2887</td>\n",
              "      <td>1.9912</td>\n",
              "      <td>7.2748</td>\n",
              "      <td>62.8333</td>\n",
              "      <td>3.1556</td>\n",
              "      <td>0.2696</td>\n",
              "      <td>3.2728</td>\n",
              "      <td>86.3269</td>\n",
              "      <td>8.7677</td>\n",
              "      <td>50.2480</td>\n",
              "      <td>64.1511</td>\n",
              "      <td>49.7520</td>\n",
              "      <td>66.1542</td>\n",
              "      <td>86.1468</td>\n",
              "      <td>121.4364</td>\n",
              "      <td>76.39</td>\n",
              "      <td>2.209</td>\n",
              "      <td>...</td>\n",
              "      <td>1.98</td>\n",
              "      <td>0.4287</td>\n",
              "      <td>9.7608</td>\n",
              "      <td>0.8311</td>\n",
              "      <td>70.9706</td>\n",
              "      <td>4.9086</td>\n",
              "      <td>2.5014</td>\n",
              "      <td>0.9778</td>\n",
              "      <td>0.2156</td>\n",
              "      <td>0.0461</td>\n",
              "      <td>22.0500</td>\n",
              "      <td>NaN</td>\n",
              "      <td>NaN</td>\n",
              "      <td>NaN</td>\n",
              "      <td>NaN</td>\n",
              "      <td>NaN</td>\n",
              "      <td>NaN</td>\n",
              "      <td>NaN</td>\n",
              "      <td>NaN</td>\n",
              "      <td>532.0155</td>\n",
              "      <td>2.0275</td>\n",
              "      <td>8.83</td>\n",
              "      <td>0.2224</td>\n",
              "      <td>3.1776</td>\n",
              "      <td>0.0706</td>\n",
              "      <td>1.6597</td>\n",
              "      <td>10.9698</td>\n",
              "      <td>NaN</td>\n",
              "      <td>NaN</td>\n",
              "      <td>NaN</td>\n",
              "      <td>NaN</td>\n",
              "      <td>0.4800</td>\n",
              "      <td>0.4766</td>\n",
              "      <td>0.1045</td>\n",
              "      <td>99.3032</td>\n",
              "      <td>0.0202</td>\n",
              "      <td>0.0149</td>\n",
              "      <td>0.0044</td>\n",
              "      <td>73.8432</td>\n",
              "      <td>0</td>\n",
              "    </tr>\n",
              "  </tbody>\n",
              "</table>\n",
              "<p>5 rows × 450 columns</p>\n",
              "</div>"
            ],
            "text/plain": [
              "         0        1          2          3  ...     587     588       589  Pass/Fail\n",
              "0  3030.93  2564.00  2187.7333  1411.1265  ...     NaN     NaN       NaN          0\n",
              "1  3095.78  2465.14  2230.4222  1463.6606  ...  0.0201  0.0060  208.2045          0\n",
              "2  2932.61  2559.94  2186.4111  1698.0172  ...  0.0484  0.0148   82.8602          1\n",
              "3  2988.72  2479.90  2199.0333   909.7926  ...  0.0149  0.0044   73.8432          0\n",
              "4  3032.24  2502.87  2233.3667  1326.5200  ...  0.0149  0.0044   73.8432          0\n",
              "\n",
              "[5 rows x 450 columns]"
            ]
          },
          "metadata": {
            "tags": []
          },
          "execution_count": 7
        }
      ]
    },
    {
      "cell_type": "code",
      "metadata": {
        "id": "e5jff0B-0sNS"
      },
      "source": [
        "features = Data.drop(['Pass/Fail'],axis=1)\n",
        "features_labels = Data['Pass/Fail']"
      ],
      "execution_count": 8,
      "outputs": []
    },
    {
      "cell_type": "code",
      "metadata": {
        "id": "XP1Ajku1TfRP",
        "outputId": "667eb81a-2635-44ee-f510-8d27138be003",
        "colab": {
          "base_uri": "https://localhost:8080/"
        }
      },
      "source": [
        "features.shape"
      ],
      "execution_count": 7,
      "outputs": [
        {
          "output_type": "execute_result",
          "data": {
            "text/plain": [
              "(1567, 449)"
            ]
          },
          "metadata": {
            "tags": []
          },
          "execution_count": 7
        }
      ]
    },
    {
      "cell_type": "code",
      "metadata": {
        "id": "sNKYZdKysjDy"
      },
      "source": [
        "# Scaler =StandardScaler()\n",
        "# Data_sc =Scaler.fit_transform(Dataa)\n",
        "# Data_sc\n",
        "\n",
        "# # Create a PCA that will retain 99% of variance\n",
        "# pca = PCA(n_components=0.99, whiten=True)\n",
        "# # Conduct PCA\n",
        "# features_pca = pca.fit_transform(Data_sc)\n",
        "# # Show results\n",
        "# print(\"Original number of features:\", Data_sc.shape[1])\n",
        "# print(\"Reduced number of features:\", features_pca.shape[1])"
      ],
      "execution_count": null,
      "outputs": []
    },
    {
      "cell_type": "code",
      "metadata": {
        "id": "zAEfPa0StjCo",
        "outputId": "e9e49696-dfea-422c-869a-5514b81deb25",
        "colab": {
          "base_uri": "https://localhost:8080/",
          "height": 34
        }
      },
      "source": [
        "# indices_to_remove = []\n",
        "# zero_counter=0\n",
        "# for i in range(Data_sc.shape[0]):\n",
        "#     if Dataa_labels[i] == 0:\n",
        "#         zero_counter += 1\n",
        "#         if zero_counter > 104:\n",
        "#             indices_to_remove.append(i)\n",
        "\n",
        "# np.shape(indices_to_remove)"
      ],
      "execution_count": null,
      "outputs": [
        {
          "output_type": "execute_result",
          "data": {
            "text/plain": [
              "(1359,)"
            ]
          },
          "metadata": {
            "tags": []
          },
          "execution_count": 42
        }
      ]
    },
    {
      "cell_type": "code",
      "metadata": {
        "id": "cx_0461ruwy4",
        "outputId": "977d85d0-e505-427a-eb74-93f59ac9f7f4",
        "colab": {
          "base_uri": "https://localhost:8080/",
          "height": 34
        }
      },
      "source": [
        "# labels=np.array(Dataa_labels)\n",
        "# Data_rd= np.delete(Data_sc,indices_to_remove, axis=0)\n",
        "# Data_label_rd = np.delete(labels,indices_to_remove, axis=0)\n",
        "# np.shape(Data_label_rd)"
      ],
      "execution_count": null,
      "outputs": [
        {
          "output_type": "execute_result",
          "data": {
            "text/plain": [
              "(208,)"
            ]
          },
          "metadata": {
            "tags": []
          },
          "execution_count": 45
        }
      ]
    },
    {
      "cell_type": "code",
      "metadata": {
        "id": "NUVo3UXQvivl"
      },
      "source": [
        "# Data_rd"
      ],
      "execution_count": null,
      "outputs": []
    },
    {
      "cell_type": "markdown",
      "metadata": {
        "id": "IwW-PzYCwkBi"
      },
      "source": [
        "# **Data Visualisation**"
      ]
    },
    {
      "cell_type": "code",
      "metadata": {
        "id": "Ai8O6teCXUXh",
        "outputId": "9a2a1adf-2abc-4c18-b11d-0a1622fe1804",
        "colab": {
          "base_uri": "https://localhost:8080/",
          "height": 570
        }
      },
      "source": [
        "# Get the counts for each class\n",
        "alabel_count = Data['Pass/Fail'].value_counts()\n",
        "print(alabel_count)\n",
        "\n",
        "# Plot the results \n",
        "plt.figure(figsize=(10,8))\n",
        "sns.barplot(x=alabel_count.index, y= alabel_count.values)\n",
        "plt.title('Number of labels', fontsize=14)\n",
        "plt.xlabel('label type', fontsize=12)\n",
        "plt.ylabel('Count', fontsize=12)\n",
        "plt.xticks(range(len(alabel_count.index)), ['Fail', 'Pass'])\n",
        "plt.show()"
      ],
      "execution_count": 9,
      "outputs": [
        {
          "output_type": "stream",
          "text": [
            "0    1463\n",
            "1     104\n",
            "Name: Pass/Fail, dtype: int64\n"
          ],
          "name": "stdout"
        },
        {
          "output_type": "display_data",
          "data": {
            "image/png": "[encoded data removed]",
            "text/plain": [
              "<Figure size 720x576 with 1 Axes>"
            ]
          },
          "metadata": {
            "tags": [],
            "needs_background": "light"
          }
        }
      ]
    },
    {
      "cell_type": "markdown",
      "metadata": {
        "id": "xzcbGZe34tUz"
      },
      "source": [
        "# **Preprocessing the Data**"
      ]
    },
    {
      "cell_type": "code",
      "metadata": {
        "id": "TDASrMtz0-AL"
      },
      "source": [
        "# # creating initial dataframe\n",
        "# labels = ('DoS', 'Reconnaissance','DDoS')\n",
        "# train_labels = pd.DataFrame(train_labels, columns=['labels'])\n",
        "# test_labels = pd.DataFrame(labels, columns=['labels'])\n",
        "\n",
        "# # creating instance of labelencoder\n",
        "# labelencoder = LabelEncoder()\n",
        "# # Assigning numerical values and storing in another column\n",
        "# train_labels['labels_Cat'] = labelencoder.fit_transform(train_labels['labels'])\n",
        "# test_labels['labels_Cat'] = labelencoder.fit_transform(train_labels['labels'])\n",
        "# train_labels\n",
        "\n",
        "\n",
        "\n",
        "# # creating instance of labelencoder\n",
        "# label_encoder = LabelEncoder()\n",
        "# train_labels = label_encoder.fit_transform(train_labels.astype('str')) \n",
        "# test_labels = label_encoder.transform(test_labels.astype('str'))\n",
        "# valid_labels = label_encoder.transform(valid_labels.astype('str'))\n",
        "\n",
        "# # converting the training and testing labels to categorical\n",
        "# train_labels = to_categorical(train_labels)\n",
        "# test_labels = to_categorical(test_labels)\n",
        "# valid_labels = to_categorical(valid_labels)\n",
        "\n",
        "# # printing the training labels\n",
        "# valid_labels"
      ],
      "execution_count": null,
      "outputs": []
    },
    {
      "cell_type": "code",
      "metadata": {
        "id": "RzZMSi45ONk-"
      },
      "source": [
        "# #Feature Scaling\n",
        "# from sklearn.preprocessing import StandardScaler\n",
        "# sc = StandardScaler()\n",
        "# train_data = sc.fit_transform(train_data)\n",
        "# test_data = sc.transform(test_data)\n",
        "# valid_data = sc.transform(valid_data)\n",
        "\n",
        "# valid_data"
      ],
      "execution_count": null,
      "outputs": []
    },
    {
      "cell_type": "code",
      "metadata": {
        "id": "M-uxd9Kd42bb",
        "outputId": "ed78e4e1-fb06-49a3-9ec3-1abb7a325184",
        "colab": {
          "base_uri": "https://localhost:8080/"
        }
      },
      "source": [
        "# finding missing and categorical values\n",
        "\n",
        "\n",
        "col_missing_values = [col for col in features.columns\n",
        "                     if features[col].isnull().any() and features[col].dtype]\n",
        "\n",
        "# col wit numerical values which is null in this project\n",
        "col_numerical_values = [col for col in features.columns if features[col].dtype in ['int64', 'float64']]\n",
        "\n",
        "# col with categorical values\n",
        "col_categorical_values = [col for col in features.columns \n",
        "                         if features[col].dtype == 'object']\n",
        "\n",
        "#missing values cout per col\n",
        "missing_val_count_by_column = (features.isnull().sum())\n",
        "print(missing_val_count_by_column[missing_val_count_by_column > 0])\n",
        "print(col_categorical_values)\n",
        "print(col_numerical_values)\n",
        "  \n",
        "\n"
      ],
      "execution_count": 10,
      "outputs": [
        {
          "output_type": "stream",
          "text": [
            "0       6\n",
            "1       7\n",
            "2      14\n",
            "3      14\n",
            "4      14\n",
            "       ..\n",
            "585     1\n",
            "586     1\n",
            "587     1\n",
            "588     1\n",
            "589     1\n",
            "Length: 399, dtype: int64\n",
            "[]\n",
            "['0', '1', '2', '3', '4', '6', '7', '8', '9', '10', '11', '12', '14', '15', '16', '17', '18', '19', '20', '21', '22', '23', '24', '25', '26', '27', '28', '29', '30', '31', '32', '33', '34', '35', '36', '37', '38', '39', '40', '41', '43', '44', '45', '46', '47', '48', '50', '51', '53', '54', '55', '56', '57', '58', '59', '60', '61', '62', '63', '64', '65', '66', '67', '68', '70', '71', '72', '73', '75', '76', '77', '78', '79', '80', '81', '82', '83', '84', '86', '87', '88', '89', '90', '91', '92', '93', '94', '95', '96', '98', '99', '100', '101', '102', '103', '104', '105', '106', '107', '108', '112', '113', '115', '116', '117', '118', '119', '120', '121', '122', '123', '124', '125', '126', '127', '128', '129', '130', '131', '132', '133', '134', '135', '136', '137', '138', '139', '140', '142', '143', '144', '145', '146', '147', '148', '150', '151', '152', '153', '154', '155', '156', '159', '160', '161', '162', '163', '164', '165', '166', '167', '168', '169', '170', '171', '172', '173', '174', '175', '176', '177', '180', '181', '182', '183', '184', '185', '187', '188', '195', '196', '197', '198', '199', '200', '201', '202', '203', '204', '205', '207', '208', '210', '211', '212', '213', '214', '215', '216', '217', '218', '219', '221', '222', '223', '224', '225', '227', '228', '238', '239', '247', '248', '249', '250', '251', '252', '253', '254', '255', '267', '268', '269', '270', '271', '272', '273', '274', '275', '277', '278', '279', '280', '281', '282', '283', '285', '286', '287', '288', '289', '290', '291', '294', '295', '296', '297', '298', '299', '300', '301', '302', '303', '304', '305', '306', '307', '308', '309', '310', '311', '312', '316', '317', '318', '319', '320', '321', '323', '324', '331', '332', '333', '334', '335', '336', '337', '338', '339', '340', '341', '343', '344', '345', '346', '348', '349', '350', '351', '352', '353', '354', '355', '356', '357', '359', '360', '361', '362', '363', '365', '366', '367', '368', '376', '377', '382', '383', '384', '385', '386', '388', '389', '390', '391', '392', '393', '405', '406', '407', '408', '409', '410', '411', '412', '413', '415', '416', '417', '418', '419', '420', '421', '423', '424', '425', '426', '427', '428', '429', '430', '431', '432', '433', '434', '435', '436', '437', '438', '439', '440', '441', '442', '443', '444', '445', '446', '447', '448', '452', '453', '454', '455', '456', '457', '459', '460', '467', '468', '469', '470', '471', '472', '473', '474', '475', '476', '477', '479', '480', '482', '483', '484', '485', '486', '487', '488', '489', '490', '491', '493', '494', '495', '496', '497', '499', '500', '510', '511', '519', '520', '521', '522', '523', '524', '525', '526', '527', '539', '540', '541', '542', '543', '544', '545', '546', '547', '548', '549', '550', '551', '552', '553', '554', '555', '556', '557', '558', '559', '560', '561', '562', '563', '564', '565', '566', '567', '568', '569', '570', '571', '572', '573', '574', '575', '576', '577', '578', '579', '580', '581', '582', '583', '584', '585', '586', '587', '588', '589']\n"
          ],
          "name": "stdout"
        }
      ]
    },
    {
      "cell_type": "code",
      "metadata": {
        "id": "69MeDuZa_BXf"
      },
      "source": [
        "from sklearn.impute import SimpleImputer\n",
        "\n",
        "# Fill in the lines below: imputation\n",
        "imputer = SimpleImputer() # Your code here\n",
        "imputed_features = pd.DataFrame(imputer.fit_transform(features))\n",
        "\n",
        "# Fill in the lines below: imputation removed column names; put them back\n",
        "imputed_features.columns = features.columns\n",
        "\n",
        "features = imputed_features"
      ],
      "execution_count": 11,
      "outputs": []
    },
    {
      "cell_type": "code",
      "metadata": {
        "id": "lRF9tVSODZIc",
        "outputId": "e77520d2-61ed-4b57-abc1-f59f53ebdf3c",
        "colab": {
          "base_uri": "https://localhost:8080/",
          "height": 246
        }
      },
      "source": [
        "features.head()"
      ],
      "execution_count": 10,
      "outputs": [
        {
          "output_type": "execute_result",
          "data": {
            "text/html": [
              "<div>\n",
              "<style scoped>\n",
              "    .dataframe tbody tr th:only-of-type {\n",
              "        vertical-align: middle;\n",
              "    }\n",
              "\n",
              "    .dataframe tbody tr th {\n",
              "        vertical-align: top;\n",
              "    }\n",
              "\n",
              "    .dataframe thead th {\n",
              "        text-align: right;\n",
              "    }\n",
              "</style>\n",
              "<table border=\"1\" class=\"dataframe\">\n",
              "  <thead>\n",
              "    <tr style=\"text-align: right;\">\n",
              "      <th></th>\n",
              "      <th>0</th>\n",
              "      <th>1</th>\n",
              "      <th>2</th>\n",
              "      <th>3</th>\n",
              "      <th>4</th>\n",
              "      <th>6</th>\n",
              "      <th>7</th>\n",
              "      <th>8</th>\n",
              "      <th>9</th>\n",
              "      <th>10</th>\n",
              "      <th>11</th>\n",
              "      <th>12</th>\n",
              "      <th>14</th>\n",
              "      <th>15</th>\n",
              "      <th>16</th>\n",
              "      <th>17</th>\n",
              "      <th>18</th>\n",
              "      <th>19</th>\n",
              "      <th>20</th>\n",
              "      <th>21</th>\n",
              "      <th>22</th>\n",
              "      <th>23</th>\n",
              "      <th>24</th>\n",
              "      <th>25</th>\n",
              "      <th>26</th>\n",
              "      <th>27</th>\n",
              "      <th>28</th>\n",
              "      <th>29</th>\n",
              "      <th>30</th>\n",
              "      <th>31</th>\n",
              "      <th>32</th>\n",
              "      <th>33</th>\n",
              "      <th>34</th>\n",
              "      <th>35</th>\n",
              "      <th>36</th>\n",
              "      <th>37</th>\n",
              "      <th>38</th>\n",
              "      <th>39</th>\n",
              "      <th>40</th>\n",
              "      <th>41</th>\n",
              "      <th>...</th>\n",
              "      <th>550</th>\n",
              "      <th>551</th>\n",
              "      <th>552</th>\n",
              "      <th>553</th>\n",
              "      <th>554</th>\n",
              "      <th>555</th>\n",
              "      <th>556</th>\n",
              "      <th>557</th>\n",
              "      <th>558</th>\n",
              "      <th>559</th>\n",
              "      <th>560</th>\n",
              "      <th>561</th>\n",
              "      <th>562</th>\n",
              "      <th>563</th>\n",
              "      <th>564</th>\n",
              "      <th>565</th>\n",
              "      <th>566</th>\n",
              "      <th>567</th>\n",
              "      <th>568</th>\n",
              "      <th>569</th>\n",
              "      <th>570</th>\n",
              "      <th>571</th>\n",
              "      <th>572</th>\n",
              "      <th>573</th>\n",
              "      <th>574</th>\n",
              "      <th>575</th>\n",
              "      <th>576</th>\n",
              "      <th>577</th>\n",
              "      <th>578</th>\n",
              "      <th>579</th>\n",
              "      <th>580</th>\n",
              "      <th>581</th>\n",
              "      <th>582</th>\n",
              "      <th>583</th>\n",
              "      <th>584</th>\n",
              "      <th>585</th>\n",
              "      <th>586</th>\n",
              "      <th>587</th>\n",
              "      <th>588</th>\n",
              "      <th>589</th>\n",
              "    </tr>\n",
              "  </thead>\n",
              "  <tbody>\n",
              "    <tr>\n",
              "      <th>0</th>\n",
              "      <td>3030.93</td>\n",
              "      <td>2564.00</td>\n",
              "      <td>2187.7333</td>\n",
              "      <td>1411.1265</td>\n",
              "      <td>1.3602</td>\n",
              "      <td>97.6133</td>\n",
              "      <td>0.1242</td>\n",
              "      <td>1.5005</td>\n",
              "      <td>0.0162</td>\n",
              "      <td>-0.0034</td>\n",
              "      <td>0.9455</td>\n",
              "      <td>202.4396</td>\n",
              "      <td>7.9558</td>\n",
              "      <td>414.8710</td>\n",
              "      <td>10.0433</td>\n",
              "      <td>0.9680</td>\n",
              "      <td>192.3963</td>\n",
              "      <td>12.5190</td>\n",
              "      <td>1.4026</td>\n",
              "      <td>-5419.00</td>\n",
              "      <td>2916.50</td>\n",
              "      <td>-4043.75</td>\n",
              "      <td>751.00</td>\n",
              "      <td>0.8955</td>\n",
              "      <td>1.7730</td>\n",
              "      <td>3.0490</td>\n",
              "      <td>64.2333</td>\n",
              "      <td>2.0222</td>\n",
              "      <td>0.1632</td>\n",
              "      <td>3.5191</td>\n",
              "      <td>83.3971</td>\n",
              "      <td>9.5126</td>\n",
              "      <td>50.6170</td>\n",
              "      <td>64.2588</td>\n",
              "      <td>49.3830</td>\n",
              "      <td>66.3141</td>\n",
              "      <td>86.9555</td>\n",
              "      <td>117.5132</td>\n",
              "      <td>61.29</td>\n",
              "      <td>4.515</td>\n",
              "      <td>...</td>\n",
              "      <td>12.93</td>\n",
              "      <td>0.78</td>\n",
              "      <td>0.1827</td>\n",
              "      <td>5.7349</td>\n",
              "      <td>0.3363</td>\n",
              "      <td>39.8842</td>\n",
              "      <td>3.2687</td>\n",
              "      <td>1.0297</td>\n",
              "      <td>1.0344</td>\n",
              "      <td>0.4385</td>\n",
              "      <td>0.1039</td>\n",
              "      <td>42.3877</td>\n",
              "      <td>262.729683</td>\n",
              "      <td>0.679641</td>\n",
              "      <td>6.444985</td>\n",
              "      <td>0.14561</td>\n",
              "      <td>2.61087</td>\n",
              "      <td>0.060086</td>\n",
              "      <td>2.452417</td>\n",
              "      <td>21.117674</td>\n",
              "      <td>533.8500</td>\n",
              "      <td>2.1113</td>\n",
              "      <td>8.95</td>\n",
              "      <td>0.3157</td>\n",
              "      <td>3.0624</td>\n",
              "      <td>0.1026</td>\n",
              "      <td>1.6765</td>\n",
              "      <td>14.9509</td>\n",
              "      <td>0.021615</td>\n",
              "      <td>0.016829</td>\n",
              "      <td>0.005396</td>\n",
              "      <td>97.934373</td>\n",
              "      <td>0.5005</td>\n",
              "      <td>0.0118</td>\n",
              "      <td>0.0035</td>\n",
              "      <td>2.3630</td>\n",
              "      <td>0.021458</td>\n",
              "      <td>0.016475</td>\n",
              "      <td>0.005283</td>\n",
              "      <td>99.670066</td>\n",
              "    </tr>\n",
              "    <tr>\n",
              "      <th>1</th>\n",
              "      <td>3095.78</td>\n",
              "      <td>2465.14</td>\n",
              "      <td>2230.4222</td>\n",
              "      <td>1463.6606</td>\n",
              "      <td>0.8294</td>\n",
              "      <td>102.3433</td>\n",
              "      <td>0.1247</td>\n",
              "      <td>1.4966</td>\n",
              "      <td>-0.0005</td>\n",
              "      <td>-0.0148</td>\n",
              "      <td>0.9627</td>\n",
              "      <td>200.5470</td>\n",
              "      <td>10.1548</td>\n",
              "      <td>414.7347</td>\n",
              "      <td>9.2599</td>\n",
              "      <td>0.9701</td>\n",
              "      <td>191.2872</td>\n",
              "      <td>12.4608</td>\n",
              "      <td>1.3825</td>\n",
              "      <td>-5441.50</td>\n",
              "      <td>2604.25</td>\n",
              "      <td>-3498.75</td>\n",
              "      <td>-1640.25</td>\n",
              "      <td>1.2973</td>\n",
              "      <td>2.0143</td>\n",
              "      <td>7.3900</td>\n",
              "      <td>68.4222</td>\n",
              "      <td>2.2667</td>\n",
              "      <td>0.2102</td>\n",
              "      <td>3.4171</td>\n",
              "      <td>84.9052</td>\n",
              "      <td>9.7997</td>\n",
              "      <td>50.6596</td>\n",
              "      <td>64.2828</td>\n",
              "      <td>49.3404</td>\n",
              "      <td>64.9193</td>\n",
              "      <td>87.5241</td>\n",
              "      <td>118.1188</td>\n",
              "      <td>78.25</td>\n",
              "      <td>2.773</td>\n",
              "      <td>...</td>\n",
              "      <td>16.00</td>\n",
              "      <td>1.33</td>\n",
              "      <td>0.2829</td>\n",
              "      <td>7.1196</td>\n",
              "      <td>0.4989</td>\n",
              "      <td>53.1836</td>\n",
              "      <td>3.9139</td>\n",
              "      <td>1.7819</td>\n",
              "      <td>0.9634</td>\n",
              "      <td>0.1745</td>\n",
              "      <td>0.0375</td>\n",
              "      <td>18.1087</td>\n",
              "      <td>262.729683</td>\n",
              "      <td>0.679641</td>\n",
              "      <td>6.444985</td>\n",
              "      <td>0.14561</td>\n",
              "      <td>2.61087</td>\n",
              "      <td>0.060086</td>\n",
              "      <td>2.452417</td>\n",
              "      <td>21.117674</td>\n",
              "      <td>535.0164</td>\n",
              "      <td>2.4335</td>\n",
              "      <td>5.92</td>\n",
              "      <td>0.2653</td>\n",
              "      <td>2.0111</td>\n",
              "      <td>0.0772</td>\n",
              "      <td>1.1065</td>\n",
              "      <td>10.9003</td>\n",
              "      <td>0.009600</td>\n",
              "      <td>0.020100</td>\n",
              "      <td>0.006000</td>\n",
              "      <td>208.204500</td>\n",
              "      <td>0.5019</td>\n",
              "      <td>0.0223</td>\n",
              "      <td>0.0055</td>\n",
              "      <td>4.4447</td>\n",
              "      <td>0.009600</td>\n",
              "      <td>0.020100</td>\n",
              "      <td>0.006000</td>\n",
              "      <td>208.204500</td>\n",
              "    </tr>\n",
              "    <tr>\n",
              "      <th>2</th>\n",
              "      <td>2932.61</td>\n",
              "      <td>2559.94</td>\n",
              "      <td>2186.4111</td>\n",
              "      <td>1698.0172</td>\n",
              "      <td>1.5102</td>\n",
              "      <td>95.4878</td>\n",
              "      <td>0.1241</td>\n",
              "      <td>1.4436</td>\n",
              "      <td>0.0041</td>\n",
              "      <td>0.0013</td>\n",
              "      <td>0.9615</td>\n",
              "      <td>202.0179</td>\n",
              "      <td>9.5157</td>\n",
              "      <td>416.7075</td>\n",
              "      <td>9.3144</td>\n",
              "      <td>0.9674</td>\n",
              "      <td>192.7035</td>\n",
              "      <td>12.5404</td>\n",
              "      <td>1.4123</td>\n",
              "      <td>-5447.75</td>\n",
              "      <td>2701.75</td>\n",
              "      <td>-4047.00</td>\n",
              "      <td>-1916.50</td>\n",
              "      <td>1.3122</td>\n",
              "      <td>2.0295</td>\n",
              "      <td>7.5788</td>\n",
              "      <td>67.1333</td>\n",
              "      <td>2.3333</td>\n",
              "      <td>0.1734</td>\n",
              "      <td>3.5986</td>\n",
              "      <td>84.7569</td>\n",
              "      <td>8.6590</td>\n",
              "      <td>50.1530</td>\n",
              "      <td>64.1114</td>\n",
              "      <td>49.8470</td>\n",
              "      <td>65.8389</td>\n",
              "      <td>84.7327</td>\n",
              "      <td>118.6128</td>\n",
              "      <td>14.37</td>\n",
              "      <td>5.434</td>\n",
              "      <td>...</td>\n",
              "      <td>16.16</td>\n",
              "      <td>0.85</td>\n",
              "      <td>0.0857</td>\n",
              "      <td>7.1619</td>\n",
              "      <td>0.3752</td>\n",
              "      <td>23.0713</td>\n",
              "      <td>3.9306</td>\n",
              "      <td>1.1386</td>\n",
              "      <td>1.5021</td>\n",
              "      <td>0.3718</td>\n",
              "      <td>0.1233</td>\n",
              "      <td>24.7524</td>\n",
              "      <td>267.064000</td>\n",
              "      <td>0.903200</td>\n",
              "      <td>1.100000</td>\n",
              "      <td>0.62190</td>\n",
              "      <td>0.41220</td>\n",
              "      <td>0.256200</td>\n",
              "      <td>0.411900</td>\n",
              "      <td>68.848900</td>\n",
              "      <td>535.0245</td>\n",
              "      <td>2.0293</td>\n",
              "      <td>11.21</td>\n",
              "      <td>0.1882</td>\n",
              "      <td>4.0923</td>\n",
              "      <td>0.0640</td>\n",
              "      <td>2.0952</td>\n",
              "      <td>9.2721</td>\n",
              "      <td>0.058400</td>\n",
              "      <td>0.048400</td>\n",
              "      <td>0.014800</td>\n",
              "      <td>82.860200</td>\n",
              "      <td>0.4958</td>\n",
              "      <td>0.0157</td>\n",
              "      <td>0.0039</td>\n",
              "      <td>3.1745</td>\n",
              "      <td>0.058400</td>\n",
              "      <td>0.048400</td>\n",
              "      <td>0.014800</td>\n",
              "      <td>82.860200</td>\n",
              "    </tr>\n",
              "    <tr>\n",
              "      <th>3</th>\n",
              "      <td>2988.72</td>\n",
              "      <td>2479.90</td>\n",
              "      <td>2199.0333</td>\n",
              "      <td>909.7926</td>\n",
              "      <td>1.3204</td>\n",
              "      <td>104.2367</td>\n",
              "      <td>0.1217</td>\n",
              "      <td>1.4882</td>\n",
              "      <td>-0.0124</td>\n",
              "      <td>-0.0033</td>\n",
              "      <td>0.9629</td>\n",
              "      <td>201.8482</td>\n",
              "      <td>9.6052</td>\n",
              "      <td>422.2894</td>\n",
              "      <td>9.6924</td>\n",
              "      <td>0.9687</td>\n",
              "      <td>192.1557</td>\n",
              "      <td>12.4782</td>\n",
              "      <td>1.4011</td>\n",
              "      <td>-5468.25</td>\n",
              "      <td>2648.25</td>\n",
              "      <td>-4515.00</td>\n",
              "      <td>-1657.25</td>\n",
              "      <td>1.3137</td>\n",
              "      <td>2.0038</td>\n",
              "      <td>7.3145</td>\n",
              "      <td>62.9333</td>\n",
              "      <td>2.6444</td>\n",
              "      <td>0.2071</td>\n",
              "      <td>3.3813</td>\n",
              "      <td>84.9105</td>\n",
              "      <td>8.6789</td>\n",
              "      <td>50.5100</td>\n",
              "      <td>64.1125</td>\n",
              "      <td>49.4900</td>\n",
              "      <td>65.1951</td>\n",
              "      <td>86.6867</td>\n",
              "      <td>117.0442</td>\n",
              "      <td>76.90</td>\n",
              "      <td>1.279</td>\n",
              "      <td>...</td>\n",
              "      <td>131.68</td>\n",
              "      <td>39.33</td>\n",
              "      <td>0.6812</td>\n",
              "      <td>56.9303</td>\n",
              "      <td>17.4781</td>\n",
              "      <td>161.4081</td>\n",
              "      <td>35.3198</td>\n",
              "      <td>54.2917</td>\n",
              "      <td>1.1613</td>\n",
              "      <td>0.7288</td>\n",
              "      <td>0.2710</td>\n",
              "      <td>62.7572</td>\n",
              "      <td>268.228000</td>\n",
              "      <td>0.651100</td>\n",
              "      <td>7.320000</td>\n",
              "      <td>0.16300</td>\n",
              "      <td>3.56110</td>\n",
              "      <td>0.067000</td>\n",
              "      <td>2.729000</td>\n",
              "      <td>25.036300</td>\n",
              "      <td>530.5682</td>\n",
              "      <td>2.0253</td>\n",
              "      <td>9.33</td>\n",
              "      <td>0.1738</td>\n",
              "      <td>2.8971</td>\n",
              "      <td>0.0525</td>\n",
              "      <td>1.7585</td>\n",
              "      <td>8.5831</td>\n",
              "      <td>0.020200</td>\n",
              "      <td>0.014900</td>\n",
              "      <td>0.004400</td>\n",
              "      <td>73.843200</td>\n",
              "      <td>0.4990</td>\n",
              "      <td>0.0103</td>\n",
              "      <td>0.0025</td>\n",
              "      <td>2.0544</td>\n",
              "      <td>0.020200</td>\n",
              "      <td>0.014900</td>\n",
              "      <td>0.004400</td>\n",
              "      <td>73.843200</td>\n",
              "    </tr>\n",
              "    <tr>\n",
              "      <th>4</th>\n",
              "      <td>3032.24</td>\n",
              "      <td>2502.87</td>\n",
              "      <td>2233.3667</td>\n",
              "      <td>1326.5200</td>\n",
              "      <td>1.5334</td>\n",
              "      <td>100.3967</td>\n",
              "      <td>0.1235</td>\n",
              "      <td>1.5031</td>\n",
              "      <td>-0.0031</td>\n",
              "      <td>-0.0072</td>\n",
              "      <td>0.9569</td>\n",
              "      <td>201.9424</td>\n",
              "      <td>10.5661</td>\n",
              "      <td>420.5925</td>\n",
              "      <td>10.3387</td>\n",
              "      <td>0.9735</td>\n",
              "      <td>191.6037</td>\n",
              "      <td>12.4735</td>\n",
              "      <td>1.3888</td>\n",
              "      <td>-5476.25</td>\n",
              "      <td>2635.25</td>\n",
              "      <td>-3987.50</td>\n",
              "      <td>117.00</td>\n",
              "      <td>1.2887</td>\n",
              "      <td>1.9912</td>\n",
              "      <td>7.2748</td>\n",
              "      <td>62.8333</td>\n",
              "      <td>3.1556</td>\n",
              "      <td>0.2696</td>\n",
              "      <td>3.2728</td>\n",
              "      <td>86.3269</td>\n",
              "      <td>8.7677</td>\n",
              "      <td>50.2480</td>\n",
              "      <td>64.1511</td>\n",
              "      <td>49.7520</td>\n",
              "      <td>66.1542</td>\n",
              "      <td>86.1468</td>\n",
              "      <td>121.4364</td>\n",
              "      <td>76.39</td>\n",
              "      <td>2.209</td>\n",
              "      <td>...</td>\n",
              "      <td>19.63</td>\n",
              "      <td>1.98</td>\n",
              "      <td>0.4287</td>\n",
              "      <td>9.7608</td>\n",
              "      <td>0.8311</td>\n",
              "      <td>70.9706</td>\n",
              "      <td>4.9086</td>\n",
              "      <td>2.5014</td>\n",
              "      <td>0.9778</td>\n",
              "      <td>0.2156</td>\n",
              "      <td>0.0461</td>\n",
              "      <td>22.0500</td>\n",
              "      <td>262.729683</td>\n",
              "      <td>0.679641</td>\n",
              "      <td>6.444985</td>\n",
              "      <td>0.14561</td>\n",
              "      <td>2.61087</td>\n",
              "      <td>0.060086</td>\n",
              "      <td>2.452417</td>\n",
              "      <td>21.117674</td>\n",
              "      <td>532.0155</td>\n",
              "      <td>2.0275</td>\n",
              "      <td>8.83</td>\n",
              "      <td>0.2224</td>\n",
              "      <td>3.1776</td>\n",
              "      <td>0.0706</td>\n",
              "      <td>1.6597</td>\n",
              "      <td>10.9698</td>\n",
              "      <td>0.021615</td>\n",
              "      <td>0.016829</td>\n",
              "      <td>0.005396</td>\n",
              "      <td>97.934373</td>\n",
              "      <td>0.4800</td>\n",
              "      <td>0.4766</td>\n",
              "      <td>0.1045</td>\n",
              "      <td>99.3032</td>\n",
              "      <td>0.020200</td>\n",
              "      <td>0.014900</td>\n",
              "      <td>0.004400</td>\n",
              "      <td>73.843200</td>\n",
              "    </tr>\n",
              "  </tbody>\n",
              "</table>\n",
              "<p>5 rows × 449 columns</p>\n",
              "</div>"
            ],
            "text/plain": [
              "         0        1          2  ...       587       588         589\n",
              "0  3030.93  2564.00  2187.7333  ...  0.016475  0.005283   99.670066\n",
              "1  3095.78  2465.14  2230.4222  ...  0.020100  0.006000  208.204500\n",
              "2  2932.61  2559.94  2186.4111  ...  0.048400  0.014800   82.860200\n",
              "3  2988.72  2479.90  2199.0333  ...  0.014900  0.004400   73.843200\n",
              "4  3032.24  2502.87  2233.3667  ...  0.014900  0.004400   73.843200\n",
              "\n",
              "[5 rows x 449 columns]"
            ]
          },
          "metadata": {
            "tags": []
          },
          "execution_count": 10
        }
      ]
    },
    {
      "cell_type": "code",
      "metadata": {
        "id": "KNrX7dBnB8Wb",
        "outputId": "afce253d-5b5a-47f5-9b69-5a5a7f53a33d",
        "colab": {
          "base_uri": "https://localhost:8080/"
        }
      },
      "source": [
        "features.isnull().any().any()"
      ],
      "execution_count": 12,
      "outputs": [
        {
          "output_type": "execute_result",
          "data": {
            "text/plain": [
              "False"
            ]
          },
          "metadata": {
            "tags": []
          },
          "execution_count": 12
        }
      ]
    },
    {
      "cell_type": "code",
      "metadata": {
        "id": "KKHLhnvJ8i08"
      },
      "source": [
        "features.to_csv('features.csv')\n",
        "features_labels.to_csv('features_labels.csv')"
      ],
      "execution_count": null,
      "outputs": []
    },
    {
      "cell_type": "code",
      "metadata": {
        "id": "4NateAnaH-tu",
        "outputId": "f082c1ce-2777-49cf-a989-22a24f387cf0",
        "colab": {
          "base_uri": "https://localhost:8080/"
        }
      },
      "source": [
        "Scaler =StandardScaler()\n",
        "features =Scaler.fit_transform(features)\n",
        "\n",
        "# Create a PCA that will retain 99% of variance\n",
        "pca = PCA(n_components=0.99, whiten=True)\n",
        "# Conduct PCA\n",
        "features = pca.fit_transform(features)\n",
        "# Show results\n",
        "print(\"Original number of features:\", Data.shape[1])\n",
        "print(\"Reduced number of features:\", features.shape[1])"
      ],
      "execution_count": 14,
      "outputs": [
        {
          "output_type": "stream",
          "text": [
            "Original number of features: 450\n",
            "Reduced number of features: 219\n"
          ],
          "name": "stdout"
        }
      ]
    },
    {
      "cell_type": "code",
      "metadata": {
        "id": "wK8IE3_7NlKq",
        "outputId": "8143a259-109b-4739-ed68-62f7a7bbe199",
        "colab": {
          "base_uri": "https://localhost:8080/"
        }
      },
      "source": [
        "features.shape"
      ],
      "execution_count": 15,
      "outputs": [
        {
          "output_type": "execute_result",
          "data": {
            "text/plain": [
              "(1567, 219)"
            ]
          },
          "metadata": {
            "tags": []
          },
          "execution_count": 15
        }
      ]
    },
    {
      "cell_type": "code",
      "metadata": {
        "id": "8OfrU49kPHUH",
        "outputId": "8ada5567-3e8c-46ab-aea3-13afbb5708f8",
        "colab": {
          "base_uri": "https://localhost:8080/"
        }
      },
      "source": [
        "features"
      ],
      "execution_count": null,
      "outputs": [
        {
          "output_type": "execute_result",
          "data": {
            "text/plain": [
              "array([[-0.32858361,  0.69647287,  1.04053561, ...,  0.3770477 ,\n",
              "        -1.19647053,  1.62105746],\n",
              "       [-0.44189751,  0.19482214,  0.7732014 , ...,  0.45545517,\n",
              "         1.49545997,  0.51980353],\n",
              "       [ 0.10986041,  0.26869328,  0.30861246, ..., -2.78873282,\n",
              "        -0.9591722 , -0.49221974],\n",
              "       ...,\n",
              "       [-0.24165636, -0.35540788, -0.317958  , ..., -0.26388081,\n",
              "         0.63922444,  0.2322118 ],\n",
              "       [-0.24049561, -0.75259877, -0.93117312, ...,  1.04883222,\n",
              "        -1.05125991, -0.26250875],\n",
              "       [ 0.41438199, -0.69209249, -0.65081572, ..., -0.47947677,\n",
              "         0.20159165, -1.12758454]])"
            ]
          },
          "metadata": {
            "tags": []
          },
          "execution_count": 14
        }
      ]
    },
    {
      "cell_type": "code",
      "metadata": {
        "id": "x5wxfx_HN23b"
      },
      "source": [
        "# #Feature Scaling\n",
        "# from sklearn.preprocessing import StandardScaler\n",
        "# sc = StandardScaler()\n",
        "# train_data = sc.fit_transform(train_data)\n",
        "# test_data = sc.transform(test_data)\n",
        "# valid_data = sc.transform(valid_data)\n",
        "\n",
        "# valid_data"
      ],
      "execution_count": null,
      "outputs": []
    },
    {
      "cell_type": "markdown",
      "metadata": {
        "id": "ofwuE24C5A61"
      },
      "source": [
        "# **Model Evaluation**"
      ]
    },
    {
      "cell_type": "code",
      "metadata": {
        "id": "jd8FrMer5IJU"
      },
      "source": [
        "def get_Evaluation_matrics(preds, orig_test_labels):\n",
        "\n",
        "  # Get the confusion matrix\n",
        "  cm  = confusion_matrix(orig_test_labels, preds)\n",
        "  plt.figure()\n",
        "  plot_confusion_matrix(cm,figsize=(12,8), hide_ticks=True,cmap=plt.cm.Blues)\n",
        "  plt.xticks(range(2), ['Fail', 'Pass'], fontsize=16)\n",
        "  plt.yticks(range(2), ['Fail', 'Pass'], fontsize=16)\n",
        "  plt.show()\n",
        "\n",
        "  # Calculate Precision and Recall\n",
        "  tn, fp, fn, tp = cm.ravel()\n",
        "  Accuracy = (tp+tn)/(tp+tn+fp+fn)\n",
        "  precision = tp/(tp+fp)\n",
        "  recall = tp/(tp+fn)\n",
        "  specificity = tn/(tn+fp)\n",
        "  F1_score = 2*tp/(2*tp+fp+fn)\n",
        "\n",
        "  print(\"Accuracy of the model is {:.2f}\".format(Accuracy))\n",
        "  print(\"Recall of the model is {:.2f}\".format(recall))\n",
        "  print(\"Precision of the model is {:.2f}\".format(precision))\n",
        "  print(\"specificity of the model is {:.2f}\".format(specificity))\n",
        "  print(\"F1_score of the model is {:.2f}\".format(F1_score))\n",
        "\n"
      ],
      "execution_count": 16,
      "outputs": []
    },
    {
      "cell_type": "markdown",
      "metadata": {
        "id": "--c2Tn6Y5eKf"
      },
      "source": [
        "# **Model Prediction**"
      ]
    },
    {
      "cell_type": "code",
      "metadata": {
        "id": "sg1GO41w5mol"
      },
      "source": [
        "def get_Model_prediction(model, test_data, test_labels):\n",
        "  import numpy as np\n",
        "\n",
        "  # # Evaluation on test dataset\n",
        "  # test_loss, test_score = model.evaluate(test_data, test_labels, batch_size=32)\n",
        "  # print(\"Loss on test set: \", test_loss)\n",
        "  # print(\"Accuracy on test set: \", test_score)\n",
        "  \n",
        "  preds = model.predict(test_data, batch_size=16)\n",
        "  preds = np.argmax(preds, axis=-1)\n",
        "\n",
        "  # orig_test_labels = np.argmax(test_labels, axis=-1)\n",
        "\n",
        "  print(test_labels)\n",
        "  print(preds)\n",
        "\n",
        "  return preds, test_labels"
      ],
      "execution_count": 17,
      "outputs": []
    },
    {
      "cell_type": "markdown",
      "metadata": {
        "id": "1JV81wNM7ntI"
      },
      "source": [
        "# **Model ROC and AUC value**"
      ]
    },
    {
      "cell_type": "code",
      "metadata": {
        "id": "5gj9qnKk8EQW"
      },
      "source": [
        "def get_model_ROC_AUC_curve(model_pred, test_labels, label=None):\n",
        "    import numpy as np\n",
        "\n",
        "    from sklearn.metrics import roc_curve, auc\n",
        "    fpr, tpr, thresholds = roc_curve(test_labels, model_pred)\n",
        "    plt.plot(fpr, tpr, linewidth=2, label=label)\n",
        "    plt.plot([0, 1], [0, 1], 'k--')\n",
        "    plt.axis([0, 1, 0, 1])\n",
        "    plt.xlabel('False Positive Rate')\n",
        "    plt.ylabel('True Positive Rate')\n",
        "    plt.title('ROC curve')\n",
        "\n",
        "    auc_score = auc(fpr, tpr)\n",
        "    print('AUC Score : ', auc_score)"
      ],
      "execution_count": 18,
      "outputs": []
    },
    {
      "cell_type": "markdown",
      "metadata": {
        "id": "EnSxSPFMdbDd"
      },
      "source": [
        "# **Plotting Model Loss**"
      ]
    },
    {
      "cell_type": "code",
      "metadata": {
        "id": "-gT1-HR0dk8V"
      },
      "source": [
        "def plot_Model_loss(History, epoch):\n",
        "  history_dict2 = History.history\n",
        "  loss_values2 = history_dict2['loss']\n",
        "  val_loss_values2 = history_dict2['val_loss']\n",
        "\n",
        "  epochs = range(1, epoch + 1)\n",
        "  plt.plot(epochs, loss_values2, 'b-', label='training loos')\n",
        "  plt.plot(epochs, val_loss_values2, 'r-', label='validation loss')\n",
        "  plt.title('trainin/validation loss')\n",
        "  plt.xlabel('Epochs')\n",
        "  plt.ylabel('Loss')\n",
        "  plt.legend()\n",
        "  plt.rcParams['axes.facecolor'] = 'white'\n",
        "  plt.rcParams['axes.edgecolor'] = 'white'\n",
        "  plt.rcParams['axes.grid'] = True\n",
        "  plt.rcParams['grid.alpha'] = 1\n",
        "  plt.rcParams['grid.color'] = \"#cccccc\"\n",
        "  plt.show()"
      ],
      "execution_count": 19,
      "outputs": []
    },
    {
      "cell_type": "markdown",
      "metadata": {
        "id": "X0UeWQbqdpg3"
      },
      "source": [
        "# **Plotting Model Accuracy**"
      ]
    },
    {
      "cell_type": "code",
      "metadata": {
        "id": "CAkiZn2LduvF"
      },
      "source": [
        "def plot_Model_Accuracy(History, epoch):\n",
        "  history_dict2 = History.history\n",
        "  acc_values2 = history_dict2['accuracy']\n",
        "  val_acc_values2 = history_dict2['val_accuracy']\n",
        "\n",
        "  epochs = range(1, epoch + 1)\n",
        "  plt.plot(epochs, acc_values2, 'b-', label='training Accuracy')\n",
        "  plt.plot(epochs, val_acc_values2, 'r-', label='validation Accuracy')\n",
        "  plt.title('trainin/validation Accuracy')\n",
        "  plt.xlabel('Epochs')\n",
        "  plt.ylabel('Accuracy')\n",
        "  plt.legend()\n",
        "  plt.rcParams['axes.facecolor'] = 'white'\n",
        "  plt.rcParams['axes.edgecolor'] = 'white'\n",
        "  plt.rcParams['axes.grid'] = True\n",
        "  plt.rcParams['grid.alpha'] = 1\n",
        "  plt.rcParams['grid.color'] = \"#cccccc\"\n",
        "  plt.show()"
      ],
      "execution_count": 20,
      "outputs": []
    },
    {
      "cell_type": "markdown",
      "metadata": {
        "id": "cCH87v3k43sk"
      },
      "source": [
        "# **Model Building**"
      ]
    },
    {
      "cell_type": "markdown",
      "metadata": {
        "id": "vKHjtSZ4ffsy"
      },
      "source": [
        "# **ANN**"
      ]
    },
    {
      "cell_type": "code",
      "metadata": {
        "id": "a645QP-6b-zn"
      },
      "source": [
        "early_stopping_cb = keras.callbacks.EarlyStopping(patience=5,\n",
        "                                                  restore_best_weights=True)"
      ],
      "execution_count": null,
      "outputs": []
    },
    {
      "cell_type": "code",
      "metadata": {
        "id": "ozaaK_xaH1ft",
        "outputId": "b24f0587-017f-4aa6-926c-f3860a5c11bc",
        "colab": {
          "base_uri": "https://localhost:8080/"
        }
      },
      "source": [
        "from imblearn.over_sampling import SMOTE\n",
        "\n",
        "\n",
        "oversample = SMOTE()\n",
        "X, y = oversample.fit_sample(features, features_labels)\n",
        "\n",
        "X = pd.DataFrame(X)\n",
        "y = pd.DataFrame(y)\n",
        "\n",
        "train_data, test_data, train_labels, test_labels = train_test_split(X, y, test_size = 0.20, random_state = 123)\n",
        "train_data, valid_data, train_labels, valid_labels = train_test_split(train_data, train_labels, train_size = 0.85, random_state = 123)\n",
        "\n",
        "train_data = np.array(train_data)\n",
        "valid_data = np.array(valid_data)\n",
        "test_data = np.array(test_data)\n",
        "train_labels = np.array(train_labels)\n",
        "valid_labels = np.array(valid_labels)\n",
        "test_labels = np.array(test_labels)\n",
        "\n",
        "y.iloc[:,0].value_counts()"
      ],
      "execution_count": null,
      "outputs": [
        {
          "output_type": "stream",
          "text": [
            "/usr/local/lib/python3.6/dist-packages/sklearn/utils/deprecation.py:87: FutureWarning: Function safe_indexing is deprecated; safe_indexing is deprecated in version 0.22 and will be removed in version 0.24.\n",
            "  warnings.warn(msg, category=FutureWarning)\n"
          ],
          "name": "stderr"
        },
        {
          "output_type": "execute_result",
          "data": {
            "text/plain": [
              "1    1463\n",
              "0    1463\n",
              "Name: 0, dtype: int64"
            ]
          },
          "metadata": {
            "tags": []
          },
          "execution_count": 42
        }
      ]
    },
    {
      "cell_type": "code",
      "metadata": {
        "id": "qBJadKgXLz2V",
        "outputId": "e0df57fb-74e3-4855-a46f-71075bd8f7b3",
        "colab": {
          "base_uri": "https://localhost:8080/"
        }
      },
      "source": [
        "from tensorflow.keras import models\n",
        "from tensorflow.keras import layers\n",
        "from imblearn.over_sampling import SMOTE\n",
        "\n",
        "\n",
        "model = models.Sequential()\n",
        "model.add(layers.Dense(1024, input_shape = (219,), activation='relu'))\n",
        "# model.add(layers.Dense(128, activation='relu'))\n",
        "# model.add(layers.Dense(512, activation='relu'))\n",
        "# model.add(layers.BatchNormalization())\n",
        "model.add(layers.Dense(64, activation='relu'))\n",
        "# model.add(layers.Dropout(0.5))\n",
        "model.add(layers.Dense(2, activation='softmax'))\n",
        "\n",
        "model.compile(optimizer='adam',\n",
        "              loss='binary_crossentropy',\n",
        "              metrics=['accuracy'])\n",
        "\n",
        "model_history = model.fit(train_data,\n",
        "                          train_labels,\n",
        "                          epochs=30,\n",
        "                          batch_size=16,\n",
        "                          validation_data=(valid_data, valid_labels),\n",
        "                          callbacks=[early_stopping_cb]\n",
        "                          )\n"
      ],
      "execution_count": null,
      "outputs": [
        {
          "output_type": "stream",
          "text": [
            "Epoch 1/30\n",
            "125/125 [==============================] - 0s 4ms/step - loss: 0.7006 - accuracy: 0.4771 - val_loss: 0.6932 - val_accuracy: 0.5128\n",
            "Epoch 2/30\n",
            "125/125 [==============================] - 0s 2ms/step - loss: 0.6944 - accuracy: 0.5214 - val_loss: 0.6932 - val_accuracy: 0.4929\n",
            "Epoch 3/30\n",
            "125/125 [==============================] - 0s 2ms/step - loss: 0.6932 - accuracy: 0.5239 - val_loss: 0.6932 - val_accuracy: 0.5356\n",
            "Epoch 4/30\n",
            "125/125 [==============================] - 0s 2ms/step - loss: 0.6931 - accuracy: 0.5365 - val_loss: 0.6932 - val_accuracy: 0.5328\n",
            "Epoch 5/30\n",
            "125/125 [==============================] - 0s 2ms/step - loss: 0.6931 - accuracy: 0.5334 - val_loss: 0.6932 - val_accuracy: 0.5242\n",
            "Epoch 6/30\n",
            "125/125 [==============================] - 0s 2ms/step - loss: 0.6931 - accuracy: 0.5249 - val_loss: 0.6932 - val_accuracy: 0.5242\n",
            "Epoch 7/30\n",
            "125/125 [==============================] - 0s 2ms/step - loss: 0.6931 - accuracy: 0.5279 - val_loss: 0.6932 - val_accuracy: 0.5157\n",
            "Epoch 8/30\n",
            "125/125 [==============================] - 0s 2ms/step - loss: 0.6931 - accuracy: 0.5224 - val_loss: 0.6932 - val_accuracy: 0.5128\n",
            "Epoch 9/30\n",
            "125/125 [==============================] - 0s 2ms/step - loss: 0.6931 - accuracy: 0.5189 - val_loss: 0.6932 - val_accuracy: 0.5157\n",
            "Epoch 10/30\n",
            "125/125 [==============================] - 0s 2ms/step - loss: 0.6931 - accuracy: 0.5058 - val_loss: 0.6932 - val_accuracy: 0.5043\n",
            "Epoch 11/30\n",
            "125/125 [==============================] - 0s 2ms/step - loss: 0.6931 - accuracy: 0.5163 - val_loss: 0.6932 - val_accuracy: 0.5014\n"
          ],
          "name": "stdout"
        }
      ]
    },
    {
      "cell_type": "code",
      "metadata": {
        "id": "sJTDuBlk5V3A",
        "outputId": "2df807a0-0be9-4450-ce53-d3db1e0516e4",
        "colab": {
          "base_uri": "https://localhost:8080/",
          "height": 294
        }
      },
      "source": [
        "# plotting the the training accuracy\n",
        "plot_Model_Accuracy(model_history, 14)"
      ],
      "execution_count": null,
      "outputs": [
        {
          "output_type": "display_data",
          "data": {
            "image/png": "[encoded data removed]",
            "text/plain": [
              "<Figure size 432x288 with 1 Axes>"
            ]
          },
          "metadata": {
            "tags": [],
            "needs_background": "light"
          }
        }
      ]
    },
    {
      "cell_type": "code",
      "metadata": {
        "id": "LC6RebaM5ast",
        "outputId": "0bc15afb-f4c6-452c-bce4-060b45b03be1",
        "colab": {
          "base_uri": "https://localhost:8080/",
          "height": 368
        }
      },
      "source": [
        "# plotting the the training loss\n",
        "plot_Model_loss(model_history, 20)"
      ],
      "execution_count": null,
      "outputs": [
        {
          "output_type": "display_data",
          "data": {
            "image/png": "[encoded data removed]",
            "text/plain": [
              "<Figure size 360x360 with 1 Axes>"
            ]
          },
          "metadata": {
            "tags": []
          }
        }
      ]
    },
    {
      "cell_type": "code",
      "metadata": {
        "id": "Oye08sGa5y1c",
        "outputId": "ad9f3667-2d8a-47ff-c402-731ac7d9d087",
        "colab": {
          "base_uri": "https://localhost:8080/",
          "height": 1000
        }
      },
      "source": [
        "# Evaluating my model using CM, precsion, and recal\n",
        "preds, original_test_labels = get_Model_prediction(model, test_data, test_labels)\n",
        "get_Evaluation_matrics(preds, original_test_labels)"
      ],
      "execution_count": null,
      "outputs": [
        {
          "output_type": "stream",
          "text": [
            "[[1]\n",
            " [1]\n",
            " [0]\n",
            " [0]\n",
            " [1]\n",
            " [0]\n",
            " [0]\n",
            " [1]\n",
            " [1]\n",
            " [1]\n",
            " [0]\n",
            " [0]\n",
            " [1]\n",
            " [1]\n",
            " [0]\n",
            " [0]\n",
            " [0]\n",
            " [0]\n",
            " [0]\n",
            " [0]\n",
            " [1]\n",
            " [1]\n",
            " [1]\n",
            " [0]\n",
            " [1]\n",
            " [1]\n",
            " [1]\n",
            " [0]\n",
            " [1]\n",
            " [1]\n",
            " [0]\n",
            " [0]\n",
            " [0]\n",
            " [1]\n",
            " [0]\n",
            " [1]\n",
            " [0]\n",
            " [0]\n",
            " [1]\n",
            " [0]\n",
            " [0]\n",
            " [1]\n",
            " [0]\n",
            " [1]\n",
            " [0]\n",
            " [0]\n",
            " [0]\n",
            " [1]\n",
            " [0]\n",
            " [1]\n",
            " [0]\n",
            " [1]\n",
            " [1]\n",
            " [1]\n",
            " [1]\n",
            " [1]\n",
            " [0]\n",
            " [0]\n",
            " [0]\n",
            " [0]\n",
            " [1]\n",
            " [0]\n",
            " [1]\n",
            " [1]\n",
            " [1]\n",
            " [1]\n",
            " [1]\n",
            " [1]\n",
            " [0]\n",
            " [1]\n",
            " [1]\n",
            " [1]\n",
            " [1]\n",
            " [0]\n",
            " [1]\n",
            " [0]\n",
            " [0]\n",
            " [0]\n",
            " [1]\n",
            " [1]\n",
            " [0]\n",
            " [0]\n",
            " [0]\n",
            " [1]\n",
            " [1]\n",
            " [0]\n",
            " [0]\n",
            " [1]\n",
            " [0]\n",
            " [1]\n",
            " [0]\n",
            " [0]\n",
            " [1]\n",
            " [0]\n",
            " [0]\n",
            " [0]\n",
            " [0]\n",
            " [1]\n",
            " [1]\n",
            " [0]\n",
            " [0]\n",
            " [0]\n",
            " [0]\n",
            " [1]\n",
            " [1]\n",
            " [0]\n",
            " [0]\n",
            " [1]\n",
            " [0]\n",
            " [1]\n",
            " [0]\n",
            " [1]\n",
            " [1]\n",
            " [0]\n",
            " [1]\n",
            " [0]\n",
            " [0]\n",
            " [0]\n",
            " [1]\n",
            " [0]\n",
            " [0]\n",
            " [1]\n",
            " [0]\n",
            " [1]\n",
            " [1]\n",
            " [1]\n",
            " [1]\n",
            " [1]\n",
            " [1]\n",
            " [1]\n",
            " [0]\n",
            " [0]\n",
            " [0]\n",
            " [0]\n",
            " [0]\n",
            " [1]\n",
            " [0]\n",
            " [0]\n",
            " [1]\n",
            " [0]\n",
            " [0]\n",
            " [0]\n",
            " [1]\n",
            " [1]\n",
            " [0]\n",
            " [1]\n",
            " [1]\n",
            " [1]\n",
            " [0]\n",
            " [1]\n",
            " [0]\n",
            " [0]\n",
            " [1]\n",
            " [1]\n",
            " [1]\n",
            " [0]\n",
            " [1]\n",
            " [1]\n",
            " [1]\n",
            " [1]\n",
            " [1]\n",
            " [0]\n",
            " [1]\n",
            " [0]\n",
            " [0]\n",
            " [0]\n",
            " [1]\n",
            " [0]\n",
            " [1]\n",
            " [0]\n",
            " [1]\n",
            " [1]\n",
            " [1]\n",
            " [1]\n",
            " [0]\n",
            " [0]\n",
            " [1]\n",
            " [1]\n",
            " [1]\n",
            " [1]\n",
            " [1]\n",
            " [0]\n",
            " [0]\n",
            " [1]\n",
            " [1]\n",
            " [0]\n",
            " [1]\n",
            " [0]\n",
            " [0]\n",
            " [1]\n",
            " [0]\n",
            " [1]\n",
            " [0]\n",
            " [0]\n",
            " [0]\n",
            " [0]\n",
            " [1]\n",
            " [0]\n",
            " [1]\n",
            " [0]\n",
            " [0]\n",
            " [0]\n",
            " [0]\n",
            " [0]\n",
            " [0]\n",
            " [0]\n",
            " [1]\n",
            " [0]\n",
            " [0]\n",
            " [0]\n",
            " [0]\n",
            " [0]\n",
            " [0]\n",
            " [0]\n",
            " [0]\n",
            " [1]\n",
            " [0]\n",
            " [1]\n",
            " [0]\n",
            " [1]\n",
            " [0]\n",
            " [0]\n",
            " [1]\n",
            " [1]\n",
            " [1]\n",
            " [0]\n",
            " [0]\n",
            " [0]\n",
            " [1]\n",
            " [1]\n",
            " [1]\n",
            " [0]\n",
            " [1]\n",
            " [1]\n",
            " [1]\n",
            " [1]\n",
            " [1]\n",
            " [1]\n",
            " [0]\n",
            " [0]\n",
            " [0]\n",
            " [0]\n",
            " [0]\n",
            " [0]\n",
            " [1]\n",
            " [1]\n",
            " [0]\n",
            " [0]\n",
            " [0]\n",
            " [1]\n",
            " [0]\n",
            " [1]\n",
            " [0]\n",
            " [0]\n",
            " [1]\n",
            " [1]\n",
            " [1]\n",
            " [0]\n",
            " [0]\n",
            " [1]\n",
            " [0]\n",
            " [1]\n",
            " [0]\n",
            " [0]\n",
            " [1]\n",
            " [1]\n",
            " [1]\n",
            " [0]\n",
            " [0]\n",
            " [1]\n",
            " [1]\n",
            " [1]\n",
            " [0]\n",
            " [1]\n",
            " [1]\n",
            " [0]\n",
            " [1]\n",
            " [1]\n",
            " [0]\n",
            " [0]\n",
            " [0]\n",
            " [0]\n",
            " [1]\n",
            " [0]\n",
            " [0]\n",
            " [1]\n",
            " [1]\n",
            " [1]\n",
            " [1]\n",
            " [0]\n",
            " [1]\n",
            " [1]\n",
            " [0]\n",
            " [0]\n",
            " [1]\n",
            " [0]\n",
            " [0]\n",
            " [1]\n",
            " [0]\n",
            " [1]\n",
            " [0]\n",
            " [0]\n",
            " [0]\n",
            " [0]\n",
            " [1]\n",
            " [1]\n",
            " [1]\n",
            " [1]\n",
            " [0]\n",
            " [0]\n",
            " [1]\n",
            " [0]\n",
            " [1]\n",
            " [0]\n",
            " [1]\n",
            " [1]\n",
            " [1]\n",
            " [1]\n",
            " [1]\n",
            " [0]\n",
            " [1]\n",
            " [1]\n",
            " [1]\n",
            " [0]\n",
            " [0]\n",
            " [1]\n",
            " [0]\n",
            " [0]\n",
            " [1]\n",
            " [0]\n",
            " [0]\n",
            " [1]\n",
            " [1]\n",
            " [0]\n",
            " [0]\n",
            " [1]\n",
            " [1]\n",
            " [1]\n",
            " [0]\n",
            " [0]\n",
            " [0]\n",
            " [0]\n",
            " [0]\n",
            " [1]\n",
            " [0]\n",
            " [0]\n",
            " [1]\n",
            " [0]\n",
            " [1]\n",
            " [1]\n",
            " [0]\n",
            " [0]\n",
            " [1]\n",
            " [0]\n",
            " [0]\n",
            " [0]\n",
            " [0]\n",
            " [0]\n",
            " [1]\n",
            " [1]\n",
            " [0]\n",
            " [1]\n",
            " [1]\n",
            " [1]\n",
            " [1]\n",
            " [0]\n",
            " [1]\n",
            " [1]\n",
            " [0]\n",
            " [0]\n",
            " [0]\n",
            " [1]\n",
            " [0]\n",
            " [1]\n",
            " [0]\n",
            " [1]\n",
            " [1]\n",
            " [1]\n",
            " [1]\n",
            " [1]\n",
            " [0]\n",
            " [0]\n",
            " [1]\n",
            " [0]\n",
            " [1]\n",
            " [1]\n",
            " [1]\n",
            " [0]\n",
            " [1]\n",
            " [0]\n",
            " [1]\n",
            " [0]\n",
            " [1]\n",
            " [0]\n",
            " [1]\n",
            " [0]\n",
            " [1]\n",
            " [1]\n",
            " [1]\n",
            " [1]\n",
            " [1]\n",
            " [0]\n",
            " [1]\n",
            " [0]\n",
            " [1]\n",
            " [1]\n",
            " [1]\n",
            " [1]\n",
            " [1]\n",
            " [0]\n",
            " [0]\n",
            " [1]\n",
            " [1]\n",
            " [0]\n",
            " [0]\n",
            " [0]\n",
            " [1]\n",
            " [1]\n",
            " [1]\n",
            " [0]\n",
            " [0]\n",
            " [0]\n",
            " [1]\n",
            " [1]\n",
            " [1]\n",
            " [0]\n",
            " [0]\n",
            " [1]\n",
            " [1]\n",
            " [1]\n",
            " [0]\n",
            " [1]\n",
            " [0]\n",
            " [0]\n",
            " [0]\n",
            " [1]\n",
            " [0]\n",
            " [1]\n",
            " [1]\n",
            " [0]\n",
            " [0]\n",
            " [0]\n",
            " [0]\n",
            " [1]\n",
            " [0]\n",
            " [0]\n",
            " [0]\n",
            " [0]\n",
            " [1]\n",
            " [0]\n",
            " [1]\n",
            " [0]\n",
            " [1]\n",
            " [1]\n",
            " [0]\n",
            " [1]\n",
            " [1]\n",
            " [1]\n",
            " [0]\n",
            " [0]\n",
            " [0]\n",
            " [0]\n",
            " [1]\n",
            " [0]\n",
            " [1]\n",
            " [1]\n",
            " [1]\n",
            " [0]\n",
            " [1]\n",
            " [0]\n",
            " [1]\n",
            " [0]\n",
            " [0]\n",
            " [1]\n",
            " [0]\n",
            " [1]\n",
            " [1]\n",
            " [1]\n",
            " [0]\n",
            " [0]\n",
            " [1]\n",
            " [1]\n",
            " [1]\n",
            " [0]\n",
            " [0]\n",
            " [1]\n",
            " [1]\n",
            " [1]\n",
            " [0]\n",
            " [0]\n",
            " [1]\n",
            " [1]\n",
            " [0]\n",
            " [0]\n",
            " [1]\n",
            " [1]\n",
            " [1]\n",
            " [0]\n",
            " [1]\n",
            " [1]\n",
            " [1]\n",
            " [0]\n",
            " [1]\n",
            " [0]\n",
            " [0]\n",
            " [0]\n",
            " [0]\n",
            " [0]\n",
            " [0]\n",
            " [1]\n",
            " [1]\n",
            " [1]\n",
            " [1]\n",
            " [0]\n",
            " [0]\n",
            " [1]\n",
            " [0]\n",
            " [0]\n",
            " [0]\n",
            " [0]\n",
            " [1]\n",
            " [1]\n",
            " [0]\n",
            " [0]\n",
            " [1]\n",
            " [0]\n",
            " [0]\n",
            " [1]\n",
            " [1]\n",
            " [1]\n",
            " [1]\n",
            " [0]\n",
            " [0]\n",
            " [0]\n",
            " [1]\n",
            " [1]\n",
            " [1]\n",
            " [1]\n",
            " [1]\n",
            " [0]\n",
            " [0]\n",
            " [1]\n",
            " [1]\n",
            " [1]\n",
            " [0]\n",
            " [0]\n",
            " [0]\n",
            " [0]\n",
            " [0]\n",
            " [1]\n",
            " [0]\n",
            " [0]\n",
            " [0]\n",
            " [0]\n",
            " [1]\n",
            " [1]\n",
            " [0]\n",
            " [1]\n",
            " [1]\n",
            " [0]\n",
            " [0]\n",
            " [0]\n",
            " [1]\n",
            " [1]\n",
            " [0]\n",
            " [1]\n",
            " [0]\n",
            " [0]\n",
            " [1]\n",
            " [0]\n",
            " [0]\n",
            " [1]\n",
            " [0]\n",
            " [0]\n",
            " [0]\n",
            " [1]\n",
            " [0]\n",
            " [1]\n",
            " [1]\n",
            " [1]\n",
            " [1]\n",
            " [0]\n",
            " [1]\n",
            " [1]\n",
            " [1]\n",
            " [1]]\n",
            "[1 1 1 1 1 1 1 1 1 1 1 1 1 1 1 1 0 1 0 0 1 0 1 1 1 1 1 0 1 1 1 1 1 1 1 1 1\n",
            " 1 1 1 1 1 1 1 1 1 1 1 1 1 1 1 1 0 1 1 0 1 1 1 1 1 0 1 1 1 1 1 1 1 1 1 1 1\n",
            " 1 1 1 1 1 1 1 1 0 0 1 1 1 1 1 1 1 1 1 1 1 1 1 1 1 0 0 1 0 1 1 1 0 1 1 1 1\n",
            " 1 0 1 1 1 1 1 1 1 1 1 1 0 0 1 1 1 1 1 1 0 1 1 1 1 0 1 1 0 1 1 1 1 1 1 1 1\n",
            " 1 1 1 1 1 1 1 1 1 1 0 1 1 1 1 1 1 1 1 1 1 1 1 1 1 0 1 1 1 1 1 1 0 1 1 1 1\n",
            " 1 1 1 1 1 1 1 1 1 1 1 1 1 1 1 1 1 1 1 1 1 1 1 1 1 1 1 1 0 1 1 1 1 1 1 1 1\n",
            " 1 1 1 1 0 1 1 1 1 0 1 1 1 1 1 1 1 1 1 1 1 1 1 1 0 1 1 1 1 1 1 1 1 1 1 1 1\n",
            " 1 1 1 1 0 1 1 1 1 1 1 1 1 1 1 1 1 1 1 1 1 0 1 1 1 1 1 1 1 1 1 1 1 1 0 1 1\n",
            " 1 1 1 1 1 1 0 1 0 1 1 1 1 1 1 1 1 1 1 1 1 1 1 1 1 1 1 1 1 0 1 1 1 1 1 1 0\n",
            " 1 1 1 1 1 1 1 1 1 1 1 1 1 1 1 1 1 1 1 1 1 1 1 1 1 1 1 1 1 1 1 1 1 1 1 0 1\n",
            " 1 1 1 1 1 1 1 1 1 0 0 1 1 1 1 1 1 1 1 1 1 1 1 1 1 1 1 1 0 1 1 1 1 1 1 1 1\n",
            " 1 1 1 1 1 1 1 1 1 1 1 1 1 1 1 1 1 1 1 1 1 1 1 1 1 1 1 1 1 1 1 1 0 1 0 1 1\n",
            " 1 1 1 1 1 1 1 1 1 1 1 1 1 1 1 1 1 0 1 1 1 1 1 1 1 1 1 1 1 1 1 1 1 1 1 1 1\n",
            " 1 1 1 1 1 1 1 1 1 1 1 1 1 1 1 1 1 1 1 1 1 1 1 1 1 1 1 0 1 1 1 1 1 1 1 0 1\n",
            " 1 1 1 1 1 0 1 1 1 1 1 1 1 1 1 0 1 1 1 1 1 1 1 1 1 1 0 1 1 1 1 1 1 1 1 1 1\n",
            " 1 1 1 1 1 1 1 1 1 1 1 1 1 1 1 0 1 1 1 1 1 1 1 1 1 1 0 1 1 1 1]\n"
          ],
          "name": "stdout"
        },
        {
          "output_type": "display_data",
          "data": {
            "text/plain": [
              "<Figure size 432x288 with 0 Axes>"
            ]
          },
          "metadata": {
            "tags": []
          }
        },
        {
          "output_type": "display_data",
          "data": {
            "image/png": "[encoded data removed]",
            "text/plain": [
              "<Figure size 864x576 with 1 Axes>"
            ]
          },
          "metadata": {
            "tags": [],
            "needs_background": "light"
          }
        },
        {
          "output_type": "stream",
          "text": [
            "Accuracy of the model is 0.53\n",
            "Recall of the model is 0.95\n",
            "Precision of the model is 0.51\n",
            "specificity of the model is 0.11\n",
            "F1_score of the model is 0.67\n"
          ],
          "name": "stdout"
        }
      ]
    },
    {
      "cell_type": "code",
      "metadata": {
        "id": "9LU-7zbt54QM",
        "outputId": "4f703527-3057-4932-981b-8a971f461729",
        "colab": {
          "base_uri": "https://localhost:8080/",
          "height": 312
        }
      },
      "source": [
        "# plotting the AUC for all my classes\n",
        "get_model_ROC_AUC_curve(preds, test_labels)"
      ],
      "execution_count": null,
      "outputs": [
        {
          "output_type": "stream",
          "text": [
            "AUC Score :  0.5304375174727426\n"
          ],
          "name": "stdout"
        },
        {
          "output_type": "display_data",
          "data": {
            "image/png": "[encoded data removed]",
            "text/plain": [
              "<Figure size 432x288 with 1 Axes>"
            ]
          },
          "metadata": {
            "tags": [],
            "needs_background": "light"
          }
        }
      ]
    },
    {
      "cell_type": "markdown",
      "metadata": {
        "id": "RNgT80dPOEtr"
      },
      "source": [
        "# **XG Boost**# "
      ]
    },
    {
      "cell_type": "code",
      "metadata": {
        "id": "JPdtEd5ROaLo",
        "outputId": "10af764e-92a1-4815-9f4d-b595f771d52b",
        "colab": {
          "base_uri": "https://localhost:8080/"
        }
      },
      "source": [
        "import xgboost as xgb\n",
        "from xgboost.sklearn import XGBClassifier\n",
        "from sklearn.ensemble import RandomForestClassifier\n",
        "from sklearn.svm import SVC\n",
        "from imblearn.over_sampling import SMOTE\n",
        "\n",
        "\n",
        "oversample = SMOTE()\n",
        "X, y = oversample.fit_sample(features, features_labels)\n",
        "\n",
        "X = pd.DataFrame(X)\n",
        "y = pd.DataFrame(y)\n",
        "\n",
        "train_data, test_data, train_labels, test_labels = train_test_split(X, y, test_size = 0.20, random_state = 123)\n",
        "\n",
        "XG_model = XGBClassifier()\n",
        "\n",
        "XG_model.fit(train_data, train_labels)\n",
        "\n",
        "XG_preds = XG_model.predict(test_data)"
      ],
      "execution_count": 21,
      "outputs": [
        {
          "output_type": "stream",
          "text": [
            "/usr/local/lib/python3.6/dist-packages/sklearn/utils/deprecation.py:87: FutureWarning: Function safe_indexing is deprecated; safe_indexing is deprecated in version 0.22 and will be removed in version 0.24.\n",
            "  warnings.warn(msg, category=FutureWarning)\n",
            "/usr/local/lib/python3.6/dist-packages/sklearn/preprocessing/_label.py:235: DataConversionWarning: A column-vector y was passed when a 1d array was expected. Please change the shape of y to (n_samples, ), for example using ravel().\n",
            "  y = column_or_1d(y, warn=True)\n",
            "/usr/local/lib/python3.6/dist-packages/sklearn/preprocessing/_label.py:268: DataConversionWarning: A column-vector y was passed when a 1d array was expected. Please change the shape of y to (n_samples, ), for example using ravel().\n",
            "  y = column_or_1d(y, warn=True)\n"
          ],
          "name": "stderr"
        }
      ]
    },
    {
      "cell_type": "code",
      "metadata": {
        "id": "qkY0-uH0KPzO",
        "outputId": "9bc61c70-cb2e-49d2-c9bc-670953c46b6e",
        "colab": {
          "base_uri": "https://localhost:8080/",
          "height": 608
        }
      },
      "source": [
        "get_Evaluation_matrics(XG_preds, test_labels)"
      ],
      "execution_count": 22,
      "outputs": [
        {
          "output_type": "display_data",
          "data": {
            "text/plain": [
              "<Figure size 432x288 with 0 Axes>"
            ]
          },
          "metadata": {
            "tags": []
          }
        },
        {
          "output_type": "display_data",
          "data": {
            "image/png": "[encoded data removed]",
            "text/plain": [
              "<Figure size 864x576 with 1 Axes>"
            ]
          },
          "metadata": {
            "tags": [],
            "needs_background": "light"
          }
        },
        {
          "output_type": "stream",
          "text": [
            "Accuracy of the model is 0.98\n",
            "Recall of the model is 0.99\n",
            "Precision of the model is 0.97\n",
            "specificity of the model is 0.97\n",
            "F1_score of the model is 0.98\n"
          ],
          "name": "stdout"
        }
      ]
    },
    {
      "cell_type": "code",
      "metadata": {
        "id": "kSATOfnbO4E-",
        "outputId": "204b39e7-e47a-4f5c-9d35-7b340c39efe6",
        "colab": {
          "base_uri": "https://localhost:8080/",
          "height": 312
        }
      },
      "source": [
        "# plotting the AUC for all my classes\n",
        "get_model_ROC_AUC_curve(XG_preds, test_labels)"
      ],
      "execution_count": 23,
      "outputs": [
        {
          "output_type": "stream",
          "text": [
            "AUC Score :  0.9778445624825272\n"
          ],
          "name": "stdout"
        },
        {
          "output_type": "display_data",
          "data": {
            "image/png": "[encoded data removed]",
            "text/plain": [
              "<Figure size 432x288 with 1 Axes>"
            ]
          },
          "metadata": {
            "tags": [],
            "needs_background": "light"
          }
        }
      ]
    },
    {
      "cell_type": "markdown",
      "metadata": {
        "id": "fL46ciGiXBCX"
      },
      "source": [
        "**LR**"
      ]
    },
    {
      "cell_type": "code",
      "metadata": {
        "id": "vF7IijVeW6IE",
        "outputId": "5027fed1-9d2e-43b9-ecab-e8df374493df",
        "colab": {
          "base_uri": "https://localhost:8080/"
        }
      },
      "source": [
        "import xgboost as xgb\n",
        "from xgboost.sklearn import XGBClassifier\n",
        "from sklearn.ensemble import RandomForestClassifier\n",
        "from sklearn.linear_model import LogisticRegression\n",
        "from sklearn.svm import SVC\n",
        "from imblearn.over_sampling import SMOTE\n",
        "\n",
        "\n",
        "oversample = SMOTE()\n",
        "X, y = oversample.fit_sample(features, features_labels)\n",
        "\n",
        "X = pd.DataFrame(X)\n",
        "y = pd.DataFrame(y)\n",
        "\n",
        "train_data, test_data, train_labels, test_labels = train_test_split(X, y, test_size = 0.20, random_state = 123)\n",
        "\n",
        "model = LogisticRegression()\n",
        "\n",
        "model.fit(train_data, train_labels)\n",
        "\n",
        "preds = model.predict(test_data)"
      ],
      "execution_count": 25,
      "outputs": [
        {
          "output_type": "stream",
          "text": [
            "/usr/local/lib/python3.6/dist-packages/sklearn/utils/deprecation.py:87: FutureWarning: Function safe_indexing is deprecated; safe_indexing is deprecated in version 0.22 and will be removed in version 0.24.\n",
            "  warnings.warn(msg, category=FutureWarning)\n",
            "/usr/local/lib/python3.6/dist-packages/sklearn/utils/validation.py:760: DataConversionWarning: A column-vector y was passed when a 1d array was expected. Please change the shape of y to (n_samples, ), for example using ravel().\n",
            "  y = column_or_1d(y, warn=True)\n"
          ],
          "name": "stderr"
        }
      ]
    },
    {
      "cell_type": "code",
      "metadata": {
        "id": "7qzq7en4XQND",
        "outputId": "9e63c24d-c7cc-4461-903b-c5987dc0c439",
        "colab": {
          "base_uri": "https://localhost:8080/",
          "height": 611
        }
      },
      "source": [
        "get_Evaluation_matrics(preds, test_labels)"
      ],
      "execution_count": 37,
      "outputs": [
        {
          "output_type": "display_data",
          "data": {
            "text/plain": [
              "<Figure size 432x288 with 0 Axes>"
            ]
          },
          "metadata": {
            "tags": []
          }
        },
        {
          "output_type": "display_data",
          "data": {
            "image/png": "[encoded data removed]",
            "text/plain": [
              "<Figure size 864x576 with 1 Axes>"
            ]
          },
          "metadata": {
            "tags": [],
            "needs_background": "light"
          }
        },
        {
          "output_type": "stream",
          "text": [
            "Accuracy of the model is 0.90\n",
            "Recall of the model is 0.96\n",
            "Precision of the model is 0.86\n",
            "specificity of the model is 0.84\n",
            "F1_score of the model is 0.90\n"
          ],
          "name": "stdout"
        }
      ]
    },
    {
      "cell_type": "code",
      "metadata": {
        "id": "LUwDC5TuXtNp",
        "outputId": "4ba55997-6e8c-46ee-a9da-330b745d7e6f",
        "colab": {
          "base_uri": "https://localhost:8080/",
          "height": 312
        }
      },
      "source": [
        "# plotting the AUC for all my classes\n",
        "get_model_ROC_AUC_curve(preds, test_labels)"
      ],
      "execution_count": 26,
      "outputs": [
        {
          "output_type": "stream",
          "text": [
            "AUC Score :  0.9063810455689125\n"
          ],
          "name": "stdout"
        },
        {
          "output_type": "display_data",
          "data": {
            "image/png": "[encoded data removed]",
            "text/plain": [
              "<Figure size 432x288 with 1 Axes>"
            ]
          },
          "metadata": {
            "tags": [],
            "needs_background": "light"
          }
        }
      ]
    },
    {
      "cell_type": "markdown",
      "metadata": {
        "id": "5_qL1EQpbCW6"
      },
      "source": [
        "**KNN**"
      ]
    },
    {
      "cell_type": "code",
      "metadata": {
        "id": "rMzImiOFbFlP",
        "outputId": "8edd57d0-6542-4d35-9de0-2e807360aa9a",
        "colab": {
          "base_uri": "https://localhost:8080/"
        }
      },
      "source": [
        "from sklearn.neighbors import KNeighborsClassifier as knn\n",
        "from imblearn.over_sampling import SMOTE\n",
        "\n",
        "\n",
        "oversample = SMOTE()\n",
        "X, y = oversample.fit_sample(features, features_labels)\n",
        "\n",
        "X = pd.DataFrame(X)\n",
        "y = pd.DataFrame(y)\n",
        "\n",
        "train_data, test_data, train_labels, test_labels = train_test_split(X, y, test_size = 0.20, random_state = 123)\n",
        "\n",
        "model = knn(leaf_size=10)\n",
        "\n",
        "model.fit(train_data, train_labels)\n",
        "\n",
        "preds = model.predict(test_data)"
      ],
      "execution_count": 45,
      "outputs": [
        {
          "output_type": "stream",
          "text": [
            "/usr/local/lib/python3.6/dist-packages/sklearn/utils/deprecation.py:87: FutureWarning: Function safe_indexing is deprecated; safe_indexing is deprecated in version 0.22 and will be removed in version 0.24.\n",
            "  warnings.warn(msg, category=FutureWarning)\n",
            "/usr/local/lib/python3.6/dist-packages/ipykernel_launcher.py:15: DataConversionWarning: A column-vector y was passed when a 1d array was expected. Please change the shape of y to (n_samples, ), for example using ravel().\n",
            "  from ipykernel import kernelapp as app\n"
          ],
          "name": "stderr"
        }
      ]
    },
    {
      "cell_type": "code",
      "metadata": {
        "id": "cpcxNCAjb74Y",
        "outputId": "9df94438-7cf6-4544-f14e-fc34ef3c6ec9",
        "colab": {
          "base_uri": "https://localhost:8080/",
          "height": 608
        }
      },
      "source": [
        "get_Evaluation_matrics(preds, test_labels)"
      ],
      "execution_count": 46,
      "outputs": [
        {
          "output_type": "display_data",
          "data": {
            "text/plain": [
              "<Figure size 432x288 with 0 Axes>"
            ]
          },
          "metadata": {
            "tags": []
          }
        },
        {
          "output_type": "display_data",
          "data": {
            "image/png": "[encoded data removed]",
            "text/plain": [
              "<Figure size 864x576 with 1 Axes>"
            ]
          },
          "metadata": {
            "tags": [],
            "needs_background": "light"
          }
        },
        {
          "output_type": "stream",
          "text": [
            "Accuracy of the model is 0.53\n",
            "Recall of the model is 1.00\n",
            "Precision of the model is 0.51\n",
            "specificity of the model is 0.06\n",
            "F1_score of the model is 0.68\n"
          ],
          "name": "stdout"
        }
      ]
    },
    {
      "cell_type": "code",
      "metadata": {
        "id": "8CyxwYDCcZS6",
        "outputId": "2b3418fb-ead0-40c7-b866-06b698ae92b1",
        "colab": {
          "base_uri": "https://localhost:8080/",
          "height": 312
        }
      },
      "source": [
        "# plotting the AUC for all my classes\n",
        "get_model_ROC_AUC_curve(preds, test_labels)"
      ],
      "execution_count": 47,
      "outputs": [
        {
          "output_type": "stream",
          "text": [
            "AUC Score :  0.5306122448979591\n"
          ],
          "name": "stdout"
        },
        {
          "output_type": "display_data",
          "data": {
            "image/png": "[encoded data removed]",
            "text/plain": [
              "<Figure size 432x288 with 1 Axes>"
            ]
          },
          "metadata": {
            "tags": [],
            "needs_background": "light"
          }
        }
      ]
    },
    {
      "cell_type": "markdown",
      "metadata": {
        "id": "b2YeEc_Bd8x8"
      },
      "source": [
        "# **K_Fold**"
      ]
    },
    {
      "cell_type": "code",
      "metadata": {
        "id": "fFdNkTPZeB2R",
        "outputId": "ffe49b15-e423-45cb-a9ce-011d864def07",
        "colab": {
          "base_uri": "https://localhost:8080/"
        }
      },
      "source": [
        "from sklearn import metrics\n",
        "from sklearn.model_selection import KFold, cross_val_score, cross_val_predict, cross_validate\n",
        "from sklearn.pipeline import make_pipeline\n",
        "from sklearn.linear_model import LogisticRegression\n",
        "\n",
        "# Create standardizer\n",
        "standardizer = StandardScaler()\n",
        "# Create logistic regression object\n",
        "logit = SVC()\n",
        "# Create a pipeline that standardizes, then runs logistic regression\n",
        "pipeline = make_pipeline(standardizer, logit)\n",
        "# Create k-Fold cross-validation\n",
        "kf = KFold(n_splits=7, shuffle=True, random_state=1)\n",
        "# Conduct k-fold cross-validation\n",
        "cv_results = cross_val_score(logit, # Pipeline\n",
        "                              features, # Feature matrix\n",
        "                              features_labels, # Target vector\n",
        "                              cv=kf, # Cross-validation technique\n",
        "                              scoring=\"precision\", # Loss function\n",
        "                              n_jobs=-1) # Use all CPU scores\n",
        "# Calculate mean\n",
        "cv_results.mean()"
      ],
      "execution_count": 30,
      "outputs": [
        {
          "output_type": "execute_result",
          "data": {
            "text/plain": [
              "0.9965850945600546"
            ]
          },
          "metadata": {
            "tags": []
          },
          "execution_count": 30
        }
      ]
    },
    {
      "cell_type": "markdown",
      "metadata": {
        "id": "MiziqV4zksnB"
      },
      "source": [
        "# **K_Fold With SMOTE**"
      ]
    },
    {
      "cell_type": "code",
      "metadata": {
        "id": "JKbzrpY7kpb6",
        "outputId": "01f489f6-c82e-456b-8566-688eecb00578",
        "colab": {
          "base_uri": "https://localhost:8080/"
        }
      },
      "source": [
        "from imblearn.over_sampling import SMOTE\n",
        "\n",
        "\n",
        "oversample = SMOTE()\n",
        "features, features_labels = oversample.fit_resample(features, features_labels)\n",
        "\n",
        "# Create standardizer\n",
        "standardizer = StandardScaler()\n",
        "\n",
        "# Create logistic regression object\n",
        "logit = SVC()\n",
        "# Create a pipeline that standardizes, then runs logistic regression\n",
        "pipeline = make_pipeline(standardizer, logit)\n",
        "# Create k-Fold cross-validation\n",
        "kf = KFold(n_splits=7, shuffle=True, random_state=1)\n",
        "# Conduct k-fold cross-validation\n",
        "cv_results = cross_val_score(logit, # Pipeline\n",
        "                              features, # Feature matrix\n",
        "                              features_labels, # Target vector\n",
        "                              cv=kf, # Cross-validation technique\n",
        "                              scoring=\"precision\", # Loss function\n",
        "                              n_jobs=-1) # Use all CPU scores\n",
        "# Calculate mean\n",
        "cv_results.mean()"
      ],
      "execution_count": 31,
      "outputs": [
        {
          "output_type": "execute_result",
          "data": {
            "text/plain": [
              "0.9965850945600546"
            ]
          },
          "metadata": {
            "tags": []
          },
          "execution_count": 31
        }
      ]
    },
    {
      "cell_type": "markdown",
      "metadata": {
        "id": "LWSMSOCbp8vK"
      },
      "source": [
        "# **CM for K_fold With SMOTE**"
      ]
    },
    {
      "cell_type": "code",
      "metadata": {
        "id": "r5H0aPGwVc1V",
        "outputId": "a0b48cc1-5bd4-484e-e359-4d81ede01dac",
        "colab": {
          "base_uri": "https://localhost:8080/"
        }
      },
      "source": [
        "!pip install museotoolbox"
      ],
      "execution_count": 49,
      "outputs": [
        {
          "output_type": "stream",
          "text": [
            "Collecting museotoolbox\n",
            "\u001b[?25l  Downloading https://files.pythonhosted.org/packages/22/b3/74aa7d87f820f167c95b491427404f408103d6fc01d43a3adc18233ed578/museotoolbox-0.13.6.tar.gz (1.8MB)\n",
            "\u001b[K     |████████████████████████████████| 1.8MB 4.8MB/s \n",
            "\u001b[?25hRequirement already satisfied: numpy>=1.10 in /usr/local/lib/python3.6/dist-packages (from museotoolbox) (1.18.5)\n",
            "Requirement already satisfied: scipy>=1.0 in /usr/local/lib/python3.6/dist-packages (from museotoolbox) (1.4.1)\n",
            "Requirement already satisfied: scikit-learn>=0.16 in /usr/local/lib/python3.6/dist-packages (from museotoolbox) (0.22.2.post1)\n",
            "Requirement already satisfied: matplotlib in /usr/local/lib/python3.6/dist-packages (from museotoolbox) (3.2.2)\n",
            "Requirement already satisfied: joblib in /usr/local/lib/python3.6/dist-packages (from museotoolbox) (0.17.0)\n",
            "Requirement already satisfied: psutil in /usr/local/lib/python3.6/dist-packages (from museotoolbox) (5.4.8)\n",
            "Requirement already satisfied: kiwisolver>=1.0.1 in /usr/local/lib/python3.6/dist-packages (from matplotlib->museotoolbox) (1.3.1)\n",
            "Requirement already satisfied: pyparsing!=2.0.4,!=2.1.2,!=2.1.6,>=2.0.1 in /usr/local/lib/python3.6/dist-packages (from matplotlib->museotoolbox) (2.4.7)\n",
            "Requirement already satisfied: cycler>=0.10 in /usr/local/lib/python3.6/dist-packages (from matplotlib->museotoolbox) (0.10.0)\n",
            "Requirement already satisfied: python-dateutil>=2.1 in /usr/local/lib/python3.6/dist-packages (from matplotlib->museotoolbox) (2.8.1)\n",
            "Requirement already satisfied: six in /usr/local/lib/python3.6/dist-packages (from cycler>=0.10->matplotlib->museotoolbox) (1.15.0)\n",
            "Building wheels for collected packages: museotoolbox\n",
            "  Building wheel for museotoolbox (setup.py) ... \u001b[?25l\u001b[?25hdone\n",
            "  Created wheel for museotoolbox: filename=museotoolbox-0.13.6-cp36-none-any.whl size=1812020 sha256=1c7bb9148e8c34c81623c0d24d839967e6456e96d206b93da280b3620c620cd7\n",
            "  Stored in directory: /root/.cache/pip/wheels/f0/56/fb/a5ecb3494188343c3e4f025e03dc5afdb0befa767f7f9db4b8\n",
            "Successfully built museotoolbox\n",
            "Installing collected packages: museotoolbox\n",
            "Successfully installed museotoolbox-0.13.6\n"
          ],
          "name": "stdout"
        }
      ]
    },
    {
      "cell_type": "markdown",
      "metadata": {
        "id": "iXuoOylCpf4i"
      },
      "source": [
        "**SVC**"
      ]
    },
    {
      "cell_type": "code",
      "metadata": {
        "id": "C7KILps5qHhQ",
        "outputId": "fdb4521d-89da-4349-e7ae-ef904d65d605",
        "colab": {
          "base_uri": "https://localhost:8080/",
          "height": 285
        }
      },
      "source": [
        "from imblearn.over_sampling import SMOTE\n",
        "from sklearn.model_selection import KFold\n",
        "from museotoolbox.charts import PlotConfusionMatrix\n",
        "\n",
        "oversample = SMOTE()\n",
        "train_data, train_labels = oversample.fit_resample(features, features_labels)\n",
        "\n",
        "#Create algorithm object\n",
        "model = SVC()\n",
        "\n",
        "conf_matrix_list_of_arrays = []\n",
        "kf = KFold(3, shuffle=False, random_state=123)\n",
        "\n",
        "for train_index, test_index  in kf.split(train_data):\n",
        "\n",
        "   train_data1, test_data1 = train_data[train_index], train_data[test_index]\n",
        "   train_labels1, test_labels1 = train_labels[train_index], train_labels[test_index]\n",
        "\n",
        "   model.fit(train_data1, train_labels1)\n",
        "   conf_matrix = confusion_matrix(test_labels1, model.predict(test_data1))\n",
        "   conf_matrix_list_of_arrays .append(conf_matrix)\n",
        "\n",
        "\n",
        "mean_of_conf_matrix_arrays = np.mean(conf_matrix_list_of_arrays, axis=0).astype(np.int16)\n",
        "\n",
        "\n",
        "pltCM = PlotConfusionMatrix(mean_of_conf_matrix_arrays.T) # Translate for Y = prediction and X = truth\n",
        "pltCM.add_text()\n",
        "# pltCM.add_f1()\n",
        "pltCM.color_diagonal()\n",
        "   \n",
        "\n",
        "mean_of_conf_matrix_arrays.T"
      ],
      "execution_count": null,
      "outputs": [
        {
          "output_type": "stream",
          "text": [
            "/usr/local/lib/python3.6/dist-packages/sklearn/model_selection/_split.py:296: FutureWarning: Setting a random_state has no effect since shuffle is False. This will raise an error in 0.24. You should leave random_state to its default (None), or set shuffle=True.\n",
            "  FutureWarning\n"
          ],
          "name": "stderr"
        },
        {
          "output_type": "execute_result",
          "data": {
            "text/plain": [
              "array([[438,   3],\n",
              "       [ 49, 484]], dtype=int16)"
            ]
          },
          "metadata": {
            "tags": []
          },
          "execution_count": 100
        },
        {
          "output_type": "display_data",
          "data": {
            "image/png": "[encoded data removed]",
            "text/plain": [
              "<Figure size 360x360 with 1 Axes>"
            ]
          },
          "metadata": {
            "tags": []
          }
        }
      ]
    },
    {
      "cell_type": "code",
      "metadata": {
        "id": "YxU5PtcxbTeH",
        "outputId": "3d8ffd77-485b-4b07-f5ee-e887afda959f",
        "colab": {
          "base_uri": "https://localhost:8080/",
          "height": 123
        }
      },
      "source": [
        "tp = 438\n",
        "tn = 484\n",
        "fp = 3\n",
        "fn = 49\n",
        "\n",
        "Accuracy = (tp+tn)/(tp+tn+fp+fn)\n",
        "precision = tp/(tp+fp)\n",
        "recall = tp/(tp+fn)\n",
        "specificity = tn/(tn+fp)\n",
        "F1_score = 2*tp/(2*tp+fp+fn)\n",
        "\n",
        "print(\"Accuracy of the model is {:.2f}\".format(Accuracy))\n",
        "print(\"Recall of the model is {:.2f}\".format(recall))\n",
        "print(\"Precision of the model is {:.2f}\".format(precision))\n",
        "print(\"specificity of the model is {:.2f}\".format(specificity))\n",
        "print(\"F1_score of the model is {:.2f}\".format(F1_score))\n",
        "print(\"\")"
      ],
      "execution_count": null,
      "outputs": [
        {
          "output_type": "stream",
          "text": [
            "Accuracy of the model is 0.95\n",
            "Recall of the model is 0.90\n",
            "Precision of the model is 0.99\n",
            "specificity of the model is 0.99\n",
            "F1_score of the model is 0.94\n",
            "\n"
          ],
          "name": "stdout"
        }
      ]
    },
    {
      "cell_type": "markdown",
      "metadata": {
        "id": "azLWBa8VpcqQ"
      },
      "source": [
        "**XGBoost**"
      ]
    },
    {
      "cell_type": "code",
      "metadata": {
        "id": "3a9jX-4rpawq",
        "outputId": "727082c7-f930-407f-f2ee-ac76d553f2c3",
        "colab": {
          "base_uri": "https://localhost:8080/",
          "height": 285
        }
      },
      "source": [
        "from imblearn.over_sampling import SMOTE\n",
        "from sklearn.model_selection import KFold\n",
        "from museotoolbox.charts import PlotConfusionMatrix\n",
        "\n",
        "oversample = SMOTE()\n",
        "train_data, train_labels = oversample.fit_resample(features, features_labels)\n",
        "\n",
        "#Create algorithm object\n",
        "model = XGBClassifier()\n",
        "\n",
        "conf_matrix_list_of_arrays = []\n",
        "kf = KFold(13, shuffle=False, random_state=123)\n",
        "\n",
        "for train_index, test_index  in kf.split(train_data):\n",
        "\n",
        "   train_data1, test_data1 = train_data[train_index], train_data[test_index]\n",
        "   train_labels1, test_labels1 = train_labels[train_index], train_labels[test_index]\n",
        "\n",
        "   model.fit(train_data1, train_labels1)\n",
        "   conf_matrix = confusion_matrix(test_labels1, model.predict(test_data1))\n",
        "   conf_matrix_list_of_arrays .append(conf_matrix)\n",
        "\n",
        "\n",
        "mean_of_conf_matrix_arrays = np.mean(conf_matrix_list_of_arrays, axis=0).astype(np.int16)\n",
        "\n",
        "\n",
        "pltCM = PlotConfusionMatrix(mean_of_conf_matrix_arrays.T) # Translate for Y = prediction and X = truth\n",
        "pltCM.add_text()\n",
        "# pltCM.add_f1()\n",
        "pltCM.color_diagonal()\n",
        "   \n",
        "\n",
        "mean_of_conf_matrix_arrays.T"
      ],
      "execution_count": null,
      "outputs": [
        {
          "output_type": "stream",
          "text": [
            "/usr/local/lib/python3.6/dist-packages/sklearn/model_selection/_split.py:296: FutureWarning: Setting a random_state has no effect since shuffle is False. This will raise an error in 0.24. You should leave random_state to its default (None), or set shuffle=True.\n",
            "  FutureWarning\n"
          ],
          "name": "stderr"
        },
        {
          "output_type": "execute_result",
          "data": {
            "text/plain": [
              "array([[101,   1],\n",
              "       [ 11, 110]], dtype=int16)"
            ]
          },
          "metadata": {
            "tags": []
          },
          "execution_count": 111
        },
        {
          "output_type": "display_data",
          "data": {
            "image/png": "[encoded data removed]",
            "text/plain": [
              "<Figure size 360x360 with 1 Axes>"
            ]
          },
          "metadata": {
            "tags": []
          }
        }
      ]
    },
    {
      "cell_type": "code",
      "metadata": {
        "id": "wwx7Jw5Brpdn",
        "outputId": "f258602f-96e4-4977-e1ff-c7642bb663f3",
        "colab": {
          "base_uri": "https://localhost:8080/",
          "height": 123
        }
      },
      "source": [
        "tp = 101\n",
        "tn = 110\n",
        "fp = 1\n",
        "fn = 11\n",
        "\n",
        "Accuracy = (tp+tn)/(tp+tn+fp+fn)\n",
        "precision = tp/(tp+fp)\n",
        "recall = tp/(tp+fn)\n",
        "specificity = tn/(tn+fp)\n",
        "F1_score = 2*tp/(2*tp+fp+fn)\n",
        "\n",
        "print(\"Accuracy of the model is {:.2f}\".format(Accuracy))\n",
        "print(\"Recall of the model is {:.2f}\".format(recall))\n",
        "print(\"Precision of the model is {:.2f}\".format(precision))\n",
        "print(\"specificity of the model is {:.2f}\".format(specificity))\n",
        "print(\"F1_score of the model is {:.2f}\".format(F1_score))\n",
        "print(\"\")"
      ],
      "execution_count": null,
      "outputs": [
        {
          "output_type": "stream",
          "text": [
            "Accuracy of the model is 0.95\n",
            "Recall of the model is 0.90\n",
            "Precision of the model is 0.99\n",
            "specificity of the model is 0.99\n",
            "F1_score of the model is 0.94\n",
            "\n"
          ],
          "name": "stdout"
        }
      ]
    },
    {
      "cell_type": "markdown",
      "metadata": {
        "id": "FnUhbGWlsEJ5"
      },
      "source": [
        "**RF**"
      ]
    },
    {
      "cell_type": "code",
      "metadata": {
        "id": "8Z3XXXO1sG6J",
        "outputId": "d711da4e-63cb-4e84-f810-8ca21c5088fd",
        "colab": {
          "base_uri": "https://localhost:8080/",
          "height": 285
        }
      },
      "source": [
        "from imblearn.over_sampling import SMOTE\n",
        "from sklearn.model_selection import KFold\n",
        "from museotoolbox.charts import PlotConfusionMatrix\n",
        "\n",
        "oversample = SMOTE()\n",
        "train_data, train_labels = oversample.fit_resample(features, features_labels)\n",
        "\n",
        "#Create algorithm object\n",
        "model = RandomForestClassifier()\n",
        "\n",
        "conf_matrix_list_of_arrays = []\n",
        "kf = KFold(7, shuffle=False, random_state=123)\n",
        "\n",
        "for train_index, test_index  in kf.split(train_data):\n",
        "\n",
        "   train_data1, test_data1 = train_data[train_index], train_data[test_index]\n",
        "   train_labels1, test_labels1 = train_labels[train_index], train_labels[test_index]\n",
        "\n",
        "   model.fit(train_data1, train_labels1)\n",
        "   conf_matrix = confusion_matrix(test_labels1, model.predict(test_data1))\n",
        "   conf_matrix_list_of_arrays .append(conf_matrix)\n",
        "\n",
        "\n",
        "mean_of_conf_matrix_arrays = np.mean(conf_matrix_list_of_arrays, axis=0).astype(np.int16)\n",
        "\n",
        "\n",
        "pltCM = PlotConfusionMatrix(mean_of_conf_matrix_arrays.T) # Translate for Y = prediction and X = truth\n",
        "pltCM.add_text()\n",
        "# pltCM.add_f1()\n",
        "pltCM.color_diagonal()\n",
        "   \n",
        "\n",
        "mean_of_conf_matrix_arrays.T"
      ],
      "execution_count": null,
      "outputs": [
        {
          "output_type": "stream",
          "text": [
            "/usr/local/lib/python3.6/dist-packages/sklearn/model_selection/_split.py:296: FutureWarning: Setting a random_state has no effect since shuffle is False. This will raise an error in 0.24. You should leave random_state to its default (None), or set shuffle=True.\n",
            "  FutureWarning\n"
          ],
          "name": "stderr"
        },
        {
          "output_type": "execute_result",
          "data": {
            "text/plain": [
              "array([[207,   5],\n",
              "       [  1, 203]], dtype=int16)"
            ]
          },
          "metadata": {
            "tags": []
          },
          "execution_count": 115
        },
        {
          "output_type": "display_data",
          "data": {
            "image/png": "[encoded data removed]",
            "text/plain": [
              "<Figure size 360x360 with 1 Axes>"
            ]
          },
          "metadata": {
            "tags": []
          }
        }
      ]
    },
    {
      "cell_type": "code",
      "metadata": {
        "id": "qP9RYHSRsRTx",
        "outputId": "8c493aad-5cb1-4e38-c4dd-2b0236a5ef0d",
        "colab": {
          "base_uri": "https://localhost:8080/",
          "height": 123
        }
      },
      "source": [
        "tp = 207\n",
        "tn = 203\n",
        "fp = 5\n",
        "fn = 1\n",
        "\n",
        "Accuracy = (tp+tn)/(tp+tn+fp+fn)\n",
        "precision = tp/(tp+fp)\n",
        "recall = tp/(tp+fn)\n",
        "specificity = tn/(tn+fp)\n",
        "F1_score = 2*tp/(2*tp+fp+fn)\n",
        "\n",
        "print(\"Accuracy of the model is {:.2f}\".format(Accuracy))\n",
        "print(\"Recall of the model is {:.2f}\".format(recall))\n",
        "print(\"Precision of the model is {:.2f}\".format(precision))\n",
        "print(\"specificity of the model is {:.2f}\".format(specificity))\n",
        "print(\"F1_score of the model is {:.2f}\".format(F1_score))\n",
        "print(\"\")"
      ],
      "execution_count": null,
      "outputs": [
        {
          "output_type": "stream",
          "text": [
            "Accuracy of the model is 0.99\n",
            "Recall of the model is 1.00\n",
            "Precision of the model is 0.98\n",
            "specificity of the model is 0.98\n",
            "F1_score of the model is 0.99\n",
            "\n"
          ],
          "name": "stdout"
        }
      ]
    },
    {
      "cell_type": "markdown",
      "metadata": {
        "id": "tQrjnXlLV_xn"
      },
      "source": [
        "**LR**"
      ]
    },
    {
      "cell_type": "code",
      "metadata": {
        "id": "AWwJtT7tWGph",
        "outputId": "58a34070-04e8-40b6-865c-45c7fb66a095",
        "colab": {
          "base_uri": "https://localhost:8080/",
          "height": 302
        }
      },
      "source": [
        "from imblearn.over_sampling import SMOTE\n",
        "from sklearn.model_selection import KFold\n",
        "from museotoolbox.charts import PlotConfusionMatrix\n",
        "\n",
        "oversample = SMOTE()\n",
        "train_data, train_labels = oversample.fit_resample(features, features_labels)\n",
        "\n",
        "#Create algorithm object\n",
        "model = LogisticRegression()\n",
        "\n",
        "conf_matrix_list_of_arrays = []\n",
        "kf = KFold(3, shuffle=False, random_state=123)\n",
        "\n",
        "for train_index, test_index  in kf.split(train_data):\n",
        "\n",
        "   train_data1, test_data1 = train_data[train_index], train_data[test_index]\n",
        "   train_labels1, test_labels1 = train_labels[train_index], train_labels[test_index]\n",
        "\n",
        "   model.fit(train_data1, train_labels1)\n",
        "   conf_matrix = confusion_matrix(test_labels1, model.predict(test_data1))\n",
        "   conf_matrix_list_of_arrays .append(conf_matrix)\n",
        "\n",
        "\n",
        "mean_of_conf_matrix_arrays = np.mean(conf_matrix_list_of_arrays, axis=0).astype(np.int16)\n",
        "\n",
        "\n",
        "pltCM = PlotConfusionMatrix(mean_of_conf_matrix_arrays.T) # Translate for Y = prediction and X = truth\n",
        "pltCM.add_text()\n",
        "# pltCM.add_f1()\n",
        "pltCM.color_diagonal()\n",
        "   \n",
        "\n",
        "mean_of_conf_matrix_arrays.T"
      ],
      "execution_count": 34,
      "outputs": [
        {
          "output_type": "stream",
          "text": [
            "/usr/local/lib/python3.6/dist-packages/sklearn/model_selection/_split.py:296: FutureWarning: Setting a random_state has no effect since shuffle is False. This will raise an error in 0.24. You should leave random_state to its default (None), or set shuffle=True.\n",
            "  FutureWarning\n"
          ],
          "name": "stderr"
        },
        {
          "output_type": "execute_result",
          "data": {
            "text/plain": [
              "array([[240,  45],\n",
              "       [247, 442]], dtype=int16)"
            ]
          },
          "metadata": {
            "tags": []
          },
          "execution_count": 34
        },
        {
          "output_type": "display_data",
          "data": {
            "image/png": "[encoded data removed]",
            "text/plain": [
              "<Figure size 432x288 with 1 Axes>"
            ]
          },
          "metadata": {
            "tags": [],
            "needs_background": "light"
          }
        }
      ]
    },
    {
      "cell_type": "code",
      "metadata": {
        "id": "t_q9HhetWXSN",
        "outputId": "99aa6ab6-d943-4eb0-ab58-5131d30bf8a1",
        "colab": {
          "base_uri": "https://localhost:8080/"
        }
      },
      "source": [
        "tp = 240\n",
        "tn = 442\n",
        "fp = 45\n",
        "fn = 247\n",
        "\n",
        "Accuracy = (tp+tn)/(tp+tn+fp+fn)\n",
        "precision = tp/(tp+fp)\n",
        "recall = tp/(tp+fn)\n",
        "specificity = tn/(tn+fp)\n",
        "F1_score = 2*tp/(2*tp+fp+fn)\n",
        "\n",
        "print(\"Accuracy of the model is {:.2f}\".format(Accuracy))\n",
        "print(\"Recall of the model is {:.2f}\".format(recall))\n",
        "print(\"Precision of the model is {:.2f}\".format(precision))\n",
        "print(\"specificity of the model is {:.2f}\".format(specificity))\n",
        "print(\"F1_score of the model is {:.2f}\".format(F1_score))\n",
        "print(\"\")"
      ],
      "execution_count": 35,
      "outputs": [
        {
          "output_type": "stream",
          "text": [
            "Accuracy of the model is 0.70\n",
            "Recall of the model is 0.49\n",
            "Precision of the model is 0.84\n",
            "specificity of the model is 0.91\n",
            "F1_score of the model is 0.62\n",
            "\n"
          ],
          "name": "stdout"
        }
      ]
    },
    {
      "cell_type": "code",
      "metadata": {
        "id": "jlueSsn1eACu",
        "outputId": "60cbebfb-9490-4759-adde-621e18ea653e",
        "colab": {
          "base_uri": "https://localhost:8080/",
          "height": 341
        }
      },
      "source": [
        "from sklearn.neighbors import KNeighborsClassifier as knn\n",
        "from imblearn.over_sampling import SMOTE\n",
        "from sklearn.model_selection import KFold\n",
        "from museotoolbox.charts import PlotConfusionMatrix\n",
        "\n",
        "oversample = SMOTE()\n",
        "train_data, train_labels = oversample.fit_resample(features, features_labels)\n",
        "\n",
        "#Create algorithm object\n",
        "model = knn()\n",
        "\n",
        "conf_matrix_list_of_arrays = []\n",
        "kf = KFold(4, shuffle=False, random_state=123)\n",
        "\n",
        "for train_index, test_index  in kf.split(train_data):\n",
        "\n",
        "   train_data1, test_data1 = train_data[train_index], train_data[test_index]\n",
        "   train_labels1, test_labels1 = train_labels[train_index], train_labels[test_index]\n",
        "\n",
        "   model.fit(train_data1, train_labels1)\n",
        "   conf_matrix = confusion_matrix(test_labels1, model.predict(test_data1))\n",
        "   conf_matrix_list_of_arrays .append(conf_matrix)\n",
        "\n",
        "\n",
        "mean_of_conf_matrix_arrays = np.mean(conf_matrix_list_of_arrays, axis=0).astype(np.int16)\n",
        "\n",
        "\n",
        "pltCM = PlotConfusionMatrix(mean_of_conf_matrix_arrays.T) # Translate for Y = prediction and X = truth\n",
        "pltCM.add_text()\n",
        "# pltCM.add_f1()\n",
        "pltCM.color_diagonal()\n",
        "   \n",
        "\n",
        "mean_of_conf_matrix_arrays.T"
      ],
      "execution_count": 54,
      "outputs": [
        {
          "output_type": "stream",
          "text": [
            "/usr/local/lib/python3.6/dist-packages/sklearn/utils/deprecation.py:87: FutureWarning: Function safe_indexing is deprecated; safe_indexing is deprecated in version 0.22 and will be removed in version 0.24.\n",
            "  warnings.warn(msg, category=FutureWarning)\n",
            "/usr/local/lib/python3.6/dist-packages/sklearn/model_selection/_split.py:296: FutureWarning: Setting a random_state has no effect since shuffle is False. This will raise an error in 0.24. You should leave random_state to its default (None), or set shuffle=True.\n",
            "  FutureWarning\n"
          ],
          "name": "stderr"
        },
        {
          "output_type": "execute_result",
          "data": {
            "text/plain": [
              "array([[184, 182],\n",
              "       [546, 365]], dtype=int16)"
            ]
          },
          "metadata": {
            "tags": []
          },
          "execution_count": 54
        },
        {
          "output_type": "display_data",
          "data": {
            "image/png": "[encoded data removed]",
            "text/plain": [
              "<Figure size 432x288 with 1 Axes>"
            ]
          },
          "metadata": {
            "tags": [],
            "needs_background": "light"
          }
        }
      ]
    },
    {
      "cell_type": "code",
      "metadata": {
        "id": "EY0la54Nehh9",
        "outputId": "0668ab5c-3fab-4079-9b82-f82e57cc6730",
        "colab": {
          "base_uri": "https://localhost:8080/"
        }
      },
      "source": [
        "tp = 80\n",
        "tn = 97\n",
        "fp = 78\n",
        "fn = 173\n",
        "\n",
        "Accuracy = (tp+tn)/(tp+tn+fp+fn)\n",
        "precision = tp/(tp+fp)\n",
        "recall = tp/(tp+fn)\n",
        "specificity = tn/(tn+fp)\n",
        "F1_score = 2*tp/(2*tp+fp+fn)\n",
        "\n",
        "print(\"Accuracy of the model is {:.2f}\".format(Accuracy))\n",
        "print(\"Recall of the model is {:.2f}\".format(recall))\n",
        "print(\"Precision of the model is {:.2f}\".format(precision))\n",
        "print(\"specificity of the model is {:.2f}\".format(specificity))\n",
        "print(\"F1_score of the model is {:.2f}\".format(F1_score))\n",
        "print(\"\")"
      ],
      "execution_count": 53,
      "outputs": [
        {
          "output_type": "stream",
          "text": [
            "Accuracy of the model is 0.41\n",
            "Recall of the model is 0.32\n",
            "Precision of the model is 0.51\n",
            "specificity of the model is 0.55\n",
            "F1_score of the model is 0.39\n",
            "\n"
          ],
          "name": "stdout"
        }
      ]
    }
  ]
}