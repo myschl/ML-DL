{
  "nbformat": 4,
  "nbformat_minor": 0,
  "metadata": {
    "colab": {
      "name": "CNC Milling Clasificatiojn.ipynb",
      "provenance": [],
      "collapsed_sections": [
        "GlifjSzDQ2Bj"
      ],
      "toc_visible": true,
      "mount_file_id": "1XlkhjNBXTZnNsoFye-Q716lJ_qYmo9MW",
      "authorship_tag": "ABX9TyOvelhG5CEtm1IcUskJHCx/",
      "include_colab_link": true
    },
    "kernelspec": {
      "name": "python3",
      "display_name": "Python 3"
    }
  },
  "cells": [
    {
      "cell_type": "markdown",
      "metadata": {
        "id": "view-in-github",
        "colab_type": "text"
      },
      "source": [
        "<a href=\"https://colab.research.google.com/github/myschl/ML-DL/blob/master/CNC_Milling_Clasificatiojn.ipynb\" target=\"_parent\"><img src=\"https://colab.research.google.com/assets/colab-badge.svg\" alt=\"Open In Colab\"/></a>"
      ]
    },
    {
      "cell_type": "code",
      "metadata": {
        "id": "mNLB3bxxFRO-"
      },
      "source": [
        "from sklearn.model_selection import train_test_split\n",
        "from sklearn.ensemble import RandomForestClassifier\n",
        "from sklearn.linear_model import SGDClassifier\n",
        "from sklearn.metrics import accuracy_score, confusion_matrix, precision_score, recall_score\n",
        "import matplotlib.pyplot as plt\n",
        "from sklearn.preprocessing import StandardScaler\n",
        "from xgboost import XGBClassifier\n",
        "import pandas as pd\n",
        "from tensorflow import keras\n",
        "import numpy as np # linear algebra\n",
        "import seaborn as sns\n",
        "from sklearn.decomposition import PCA\n",
        "from sklearn.impute import SimpleImputer\n",
        "from sklearn.preprocessing import OneHotEncoder\n",
        "from sklearn.preprocessing import LabelEncoder\n",
        "from sklearn.model_selection import cross_val_score, cross_val_predict\n",
        "from mlxtend.plotting import plot_confusion_matrix\n",
        "from sklearn.metrics import confusion_matrix, accuracy_score, f1_score, precision_score, recall_score, classification_report\n",
        "from keras.utils import to_categorical"
      ],
      "execution_count": 1,
      "outputs": []
    },
    {
      "cell_type": "markdown",
      "metadata": {
        "id": "jzyIRltLHCkk"
      },
      "source": [
        "# **Laod Data**"
      ]
    },
    {
      "cell_type": "code",
      "metadata": {
        "id": "dDCTvWWYHDTR",
        "outputId": "aca9afa3-e2a8-4dc7-d85a-fbc4273f9d20",
        "colab": {
          "base_uri": "https://localhost:8080/"
        }
      },
      "source": [
        "# unzipping my data folder from my google drive\n",
        "from zipfile import ZipFile\n",
        "bosch = '/content/drive/My Drive/SS_Thesis/CNC Milling Tool.zip'\n",
        "with ZipFile(bosch, 'r') as zip:\n",
        "  zip.extractall()\n",
        "  print(\"Done\")"
      ],
      "execution_count": 2,
      "outputs": [
        {
          "output_type": "stream",
          "text": [
            "Done\n"
          ],
          "name": "stdout"
        }
      ]
    },
    {
      "cell_type": "code",
      "metadata": {
        "id": "YYb8wdf2HIdN",
        "outputId": "9f27b162-49ba-4068-9f9e-caeaee9c95d8",
        "colab": {
          "base_uri": "https://localhost:8080/",
          "height": 605
        }
      },
      "source": [
        "experiment_result = pd.read_csv(\"/content/train.csv\")\n",
        "print(f'train.csv : {experiment_result.shape}')\n",
        "experiment_result"
      ],
      "execution_count": 3,
      "outputs": [
        {
          "output_type": "stream",
          "text": [
            "train.csv : (18, 7)\n"
          ],
          "name": "stdout"
        },
        {
          "output_type": "execute_result",
          "data": {
            "text/html": [
              "<div>\n",
              "<style scoped>\n",
              "    .dataframe tbody tr th:only-of-type {\n",
              "        vertical-align: middle;\n",
              "    }\n",
              "\n",
              "    .dataframe tbody tr th {\n",
              "        vertical-align: top;\n",
              "    }\n",
              "\n",
              "    .dataframe thead th {\n",
              "        text-align: right;\n",
              "    }\n",
              "</style>\n",
              "<table border=\"1\" class=\"dataframe\">\n",
              "  <thead>\n",
              "    <tr style=\"text-align: right;\">\n",
              "      <th></th>\n",
              "      <th>No</th>\n",
              "      <th>material</th>\n",
              "      <th>feedrate</th>\n",
              "      <th>clamp_pressure</th>\n",
              "      <th>tool_condition</th>\n",
              "      <th>machining_finalized</th>\n",
              "      <th>passed_visual_inspection</th>\n",
              "    </tr>\n",
              "  </thead>\n",
              "  <tbody>\n",
              "    <tr>\n",
              "      <th>0</th>\n",
              "      <td>1</td>\n",
              "      <td>wax</td>\n",
              "      <td>6</td>\n",
              "      <td>4.0</td>\n",
              "      <td>unworn</td>\n",
              "      <td>yes</td>\n",
              "      <td>yes</td>\n",
              "    </tr>\n",
              "    <tr>\n",
              "      <th>1</th>\n",
              "      <td>2</td>\n",
              "      <td>wax</td>\n",
              "      <td>20</td>\n",
              "      <td>4.0</td>\n",
              "      <td>unworn</td>\n",
              "      <td>yes</td>\n",
              "      <td>yes</td>\n",
              "    </tr>\n",
              "    <tr>\n",
              "      <th>2</th>\n",
              "      <td>3</td>\n",
              "      <td>wax</td>\n",
              "      <td>6</td>\n",
              "      <td>3.0</td>\n",
              "      <td>unworn</td>\n",
              "      <td>yes</td>\n",
              "      <td>yes</td>\n",
              "    </tr>\n",
              "    <tr>\n",
              "      <th>3</th>\n",
              "      <td>4</td>\n",
              "      <td>wax</td>\n",
              "      <td>6</td>\n",
              "      <td>2.5</td>\n",
              "      <td>unworn</td>\n",
              "      <td>no</td>\n",
              "      <td>NaN</td>\n",
              "    </tr>\n",
              "    <tr>\n",
              "      <th>4</th>\n",
              "      <td>5</td>\n",
              "      <td>wax</td>\n",
              "      <td>20</td>\n",
              "      <td>3.0</td>\n",
              "      <td>unworn</td>\n",
              "      <td>no</td>\n",
              "      <td>NaN</td>\n",
              "    </tr>\n",
              "    <tr>\n",
              "      <th>5</th>\n",
              "      <td>6</td>\n",
              "      <td>wax</td>\n",
              "      <td>6</td>\n",
              "      <td>4.0</td>\n",
              "      <td>worn</td>\n",
              "      <td>yes</td>\n",
              "      <td>no</td>\n",
              "    </tr>\n",
              "    <tr>\n",
              "      <th>6</th>\n",
              "      <td>7</td>\n",
              "      <td>wax</td>\n",
              "      <td>20</td>\n",
              "      <td>4.0</td>\n",
              "      <td>worn</td>\n",
              "      <td>no</td>\n",
              "      <td>NaN</td>\n",
              "    </tr>\n",
              "    <tr>\n",
              "      <th>7</th>\n",
              "      <td>8</td>\n",
              "      <td>wax</td>\n",
              "      <td>20</td>\n",
              "      <td>4.0</td>\n",
              "      <td>worn</td>\n",
              "      <td>yes</td>\n",
              "      <td>no</td>\n",
              "    </tr>\n",
              "    <tr>\n",
              "      <th>8</th>\n",
              "      <td>9</td>\n",
              "      <td>wax</td>\n",
              "      <td>15</td>\n",
              "      <td>4.0</td>\n",
              "      <td>worn</td>\n",
              "      <td>yes</td>\n",
              "      <td>no</td>\n",
              "    </tr>\n",
              "    <tr>\n",
              "      <th>9</th>\n",
              "      <td>10</td>\n",
              "      <td>wax</td>\n",
              "      <td>12</td>\n",
              "      <td>4.0</td>\n",
              "      <td>worn</td>\n",
              "      <td>yes</td>\n",
              "      <td>no</td>\n",
              "    </tr>\n",
              "    <tr>\n",
              "      <th>10</th>\n",
              "      <td>11</td>\n",
              "      <td>wax</td>\n",
              "      <td>3</td>\n",
              "      <td>4.0</td>\n",
              "      <td>unworn</td>\n",
              "      <td>yes</td>\n",
              "      <td>yes</td>\n",
              "    </tr>\n",
              "    <tr>\n",
              "      <th>11</th>\n",
              "      <td>12</td>\n",
              "      <td>wax</td>\n",
              "      <td>3</td>\n",
              "      <td>3.0</td>\n",
              "      <td>unworn</td>\n",
              "      <td>yes</td>\n",
              "      <td>yes</td>\n",
              "    </tr>\n",
              "    <tr>\n",
              "      <th>12</th>\n",
              "      <td>13</td>\n",
              "      <td>wax</td>\n",
              "      <td>3</td>\n",
              "      <td>4.0</td>\n",
              "      <td>worn</td>\n",
              "      <td>yes</td>\n",
              "      <td>yes</td>\n",
              "    </tr>\n",
              "    <tr>\n",
              "      <th>13</th>\n",
              "      <td>14</td>\n",
              "      <td>wax</td>\n",
              "      <td>3</td>\n",
              "      <td>3.0</td>\n",
              "      <td>worn</td>\n",
              "      <td>yes</td>\n",
              "      <td>yes</td>\n",
              "    </tr>\n",
              "    <tr>\n",
              "      <th>14</th>\n",
              "      <td>15</td>\n",
              "      <td>wax</td>\n",
              "      <td>6</td>\n",
              "      <td>3.0</td>\n",
              "      <td>worn</td>\n",
              "      <td>yes</td>\n",
              "      <td>yes</td>\n",
              "    </tr>\n",
              "    <tr>\n",
              "      <th>15</th>\n",
              "      <td>16</td>\n",
              "      <td>wax</td>\n",
              "      <td>20</td>\n",
              "      <td>3.0</td>\n",
              "      <td>worn</td>\n",
              "      <td>no</td>\n",
              "      <td>NaN</td>\n",
              "    </tr>\n",
              "    <tr>\n",
              "      <th>16</th>\n",
              "      <td>17</td>\n",
              "      <td>wax</td>\n",
              "      <td>3</td>\n",
              "      <td>2.5</td>\n",
              "      <td>unworn</td>\n",
              "      <td>yes</td>\n",
              "      <td>yes</td>\n",
              "    </tr>\n",
              "    <tr>\n",
              "      <th>17</th>\n",
              "      <td>18</td>\n",
              "      <td>wax</td>\n",
              "      <td>3</td>\n",
              "      <td>2.5</td>\n",
              "      <td>worn</td>\n",
              "      <td>yes</td>\n",
              "      <td>yes</td>\n",
              "    </tr>\n",
              "  </tbody>\n",
              "</table>\n",
              "</div>"
            ],
            "text/plain": [
              "    No material  ...  machining_finalized  passed_visual_inspection\n",
              "0    1      wax  ...                  yes                       yes\n",
              "1    2      wax  ...                  yes                       yes\n",
              "2    3      wax  ...                  yes                       yes\n",
              "3    4      wax  ...                   no                       NaN\n",
              "4    5      wax  ...                   no                       NaN\n",
              "5    6      wax  ...                  yes                        no\n",
              "6    7      wax  ...                   no                       NaN\n",
              "7    8      wax  ...                  yes                        no\n",
              "8    9      wax  ...                  yes                        no\n",
              "9   10      wax  ...                  yes                        no\n",
              "10  11      wax  ...                  yes                       yes\n",
              "11  12      wax  ...                  yes                       yes\n",
              "12  13      wax  ...                  yes                       yes\n",
              "13  14      wax  ...                  yes                       yes\n",
              "14  15      wax  ...                  yes                       yes\n",
              "15  16      wax  ...                   no                       NaN\n",
              "16  17      wax  ...                  yes                       yes\n",
              "17  18      wax  ...                  yes                       yes\n",
              "\n",
              "[18 rows x 7 columns]"
            ]
          },
          "metadata": {
            "tags": []
          },
          "execution_count": 3
        }
      ]
    },
    {
      "cell_type": "code",
      "metadata": {
        "id": "06Ygs2UiHMNC",
        "outputId": "bb8ba370-b45d-41b4-a327-33a067ea2fba",
        "colab": {
          "base_uri": "https://localhost:8080/",
          "height": 537
        }
      },
      "source": [
        "experiment_tmp = pd.read_csv(\"/content/experiment_01.csv\")\n",
        "print(f'experiment_XX.csv : {experiment_tmp.shape}')\n",
        "print(experiment_tmp.columns)\n",
        "experiment_tmp.head()"
      ],
      "execution_count": 4,
      "outputs": [
        {
          "output_type": "stream",
          "text": [
            "experiment_XX.csv : (1055, 48)\n",
            "Index(['X1_ActualPosition', 'X1_ActualVelocity', 'X1_ActualAcceleration',\n",
            "       'X1_CommandPosition', 'X1_CommandVelocity', 'X1_CommandAcceleration',\n",
            "       'X1_CurrentFeedback', 'X1_DCBusVoltage', 'X1_OutputCurrent',\n",
            "       'X1_OutputVoltage', 'X1_OutputPower', 'Y1_ActualPosition',\n",
            "       'Y1_ActualVelocity', 'Y1_ActualAcceleration', 'Y1_CommandPosition',\n",
            "       'Y1_CommandVelocity', 'Y1_CommandAcceleration', 'Y1_CurrentFeedback',\n",
            "       'Y1_DCBusVoltage', 'Y1_OutputCurrent', 'Y1_OutputVoltage',\n",
            "       'Y1_OutputPower', 'Z1_ActualPosition', 'Z1_ActualVelocity',\n",
            "       'Z1_ActualAcceleration', 'Z1_CommandPosition', 'Z1_CommandVelocity',\n",
            "       'Z1_CommandAcceleration', 'Z1_CurrentFeedback', 'Z1_DCBusVoltage',\n",
            "       'Z1_OutputCurrent', 'Z1_OutputVoltage', 'S1_ActualPosition',\n",
            "       'S1_ActualVelocity', 'S1_ActualAcceleration', 'S1_CommandPosition',\n",
            "       'S1_CommandVelocity', 'S1_CommandAcceleration', 'S1_CurrentFeedback',\n",
            "       'S1_DCBusVoltage', 'S1_OutputCurrent', 'S1_OutputVoltage',\n",
            "       'S1_OutputPower', 'S1_SystemInertia', 'M1_CURRENT_PROGRAM_NUMBER',\n",
            "       'M1_sequence_number', 'M1_CURRENT_FEEDRATE', 'Machining_Process'],\n",
            "      dtype='object')\n"
          ],
          "name": "stdout"
        },
        {
          "output_type": "execute_result",
          "data": {
            "text/html": [
              "<div>\n",
              "<style scoped>\n",
              "    .dataframe tbody tr th:only-of-type {\n",
              "        vertical-align: middle;\n",
              "    }\n",
              "\n",
              "    .dataframe tbody tr th {\n",
              "        vertical-align: top;\n",
              "    }\n",
              "\n",
              "    .dataframe thead th {\n",
              "        text-align: right;\n",
              "    }\n",
              "</style>\n",
              "<table border=\"1\" class=\"dataframe\">\n",
              "  <thead>\n",
              "    <tr style=\"text-align: right;\">\n",
              "      <th></th>\n",
              "      <th>X1_ActualPosition</th>\n",
              "      <th>X1_ActualVelocity</th>\n",
              "      <th>X1_ActualAcceleration</th>\n",
              "      <th>X1_CommandPosition</th>\n",
              "      <th>X1_CommandVelocity</th>\n",
              "      <th>X1_CommandAcceleration</th>\n",
              "      <th>X1_CurrentFeedback</th>\n",
              "      <th>X1_DCBusVoltage</th>\n",
              "      <th>X1_OutputCurrent</th>\n",
              "      <th>X1_OutputVoltage</th>\n",
              "      <th>X1_OutputPower</th>\n",
              "      <th>Y1_ActualPosition</th>\n",
              "      <th>Y1_ActualVelocity</th>\n",
              "      <th>Y1_ActualAcceleration</th>\n",
              "      <th>Y1_CommandPosition</th>\n",
              "      <th>Y1_CommandVelocity</th>\n",
              "      <th>Y1_CommandAcceleration</th>\n",
              "      <th>Y1_CurrentFeedback</th>\n",
              "      <th>Y1_DCBusVoltage</th>\n",
              "      <th>Y1_OutputCurrent</th>\n",
              "      <th>Y1_OutputVoltage</th>\n",
              "      <th>Y1_OutputPower</th>\n",
              "      <th>Z1_ActualPosition</th>\n",
              "      <th>Z1_ActualVelocity</th>\n",
              "      <th>Z1_ActualAcceleration</th>\n",
              "      <th>Z1_CommandPosition</th>\n",
              "      <th>Z1_CommandVelocity</th>\n",
              "      <th>Z1_CommandAcceleration</th>\n",
              "      <th>Z1_CurrentFeedback</th>\n",
              "      <th>Z1_DCBusVoltage</th>\n",
              "      <th>Z1_OutputCurrent</th>\n",
              "      <th>Z1_OutputVoltage</th>\n",
              "      <th>S1_ActualPosition</th>\n",
              "      <th>S1_ActualVelocity</th>\n",
              "      <th>S1_ActualAcceleration</th>\n",
              "      <th>S1_CommandPosition</th>\n",
              "      <th>S1_CommandVelocity</th>\n",
              "      <th>S1_CommandAcceleration</th>\n",
              "      <th>S1_CurrentFeedback</th>\n",
              "      <th>S1_DCBusVoltage</th>\n",
              "      <th>S1_OutputCurrent</th>\n",
              "      <th>S1_OutputVoltage</th>\n",
              "      <th>S1_OutputPower</th>\n",
              "      <th>S1_SystemInertia</th>\n",
              "      <th>M1_CURRENT_PROGRAM_NUMBER</th>\n",
              "      <th>M1_sequence_number</th>\n",
              "      <th>M1_CURRENT_FEEDRATE</th>\n",
              "      <th>Machining_Process</th>\n",
              "    </tr>\n",
              "  </thead>\n",
              "  <tbody>\n",
              "    <tr>\n",
              "      <th>0</th>\n",
              "      <td>198.0</td>\n",
              "      <td>0.0</td>\n",
              "      <td>0.00</td>\n",
              "      <td>198.0</td>\n",
              "      <td>0.0</td>\n",
              "      <td>0.000000</td>\n",
              "      <td>0.18</td>\n",
              "      <td>0.0207</td>\n",
              "      <td>329.0</td>\n",
              "      <td>2.77</td>\n",
              "      <td>-0.000001</td>\n",
              "      <td>158.0</td>\n",
              "      <td>-0.025</td>\n",
              "      <td>-6.25</td>\n",
              "      <td>158.0</td>\n",
              "      <td>0.0</td>\n",
              "      <td>0.000000</td>\n",
              "      <td>0.539</td>\n",
              "      <td>0.0167</td>\n",
              "      <td>328.0</td>\n",
              "      <td>1.84</td>\n",
              "      <td>6.430000e-07</td>\n",
              "      <td>119.0</td>\n",
              "      <td>0.0</td>\n",
              "      <td>0.00</td>\n",
              "      <td>119.0</td>\n",
              "      <td>0.0</td>\n",
              "      <td>0.000000</td>\n",
              "      <td>0.0</td>\n",
              "      <td>0.0</td>\n",
              "      <td>0.0</td>\n",
              "      <td>0.0</td>\n",
              "      <td>-361.0</td>\n",
              "      <td>0.001</td>\n",
              "      <td>0.250</td>\n",
              "      <td>-361.0</td>\n",
              "      <td>0.0</td>\n",
              "      <td>0.0</td>\n",
              "      <td>0.524</td>\n",
              "      <td>2.740000e-19</td>\n",
              "      <td>329.0</td>\n",
              "      <td>0.0</td>\n",
              "      <td>6.960000e-07</td>\n",
              "      <td>12.0</td>\n",
              "      <td>1.0</td>\n",
              "      <td>0.0</td>\n",
              "      <td>50.0</td>\n",
              "      <td>Starting</td>\n",
              "    </tr>\n",
              "    <tr>\n",
              "      <th>1</th>\n",
              "      <td>198.0</td>\n",
              "      <td>-10.8</td>\n",
              "      <td>-350.00</td>\n",
              "      <td>198.0</td>\n",
              "      <td>-13.6</td>\n",
              "      <td>-358.000000</td>\n",
              "      <td>-10.90</td>\n",
              "      <td>0.1860</td>\n",
              "      <td>328.0</td>\n",
              "      <td>23.30</td>\n",
              "      <td>0.004480</td>\n",
              "      <td>158.0</td>\n",
              "      <td>-19.800</td>\n",
              "      <td>-750.00</td>\n",
              "      <td>157.0</td>\n",
              "      <td>-24.6</td>\n",
              "      <td>-647.000000</td>\n",
              "      <td>-14.500</td>\n",
              "      <td>0.2810</td>\n",
              "      <td>325.0</td>\n",
              "      <td>37.80</td>\n",
              "      <td>1.260000e-02</td>\n",
              "      <td>119.0</td>\n",
              "      <td>-20.3</td>\n",
              "      <td>-712.00</td>\n",
              "      <td>118.0</td>\n",
              "      <td>-25.6</td>\n",
              "      <td>-674.000000</td>\n",
              "      <td>0.0</td>\n",
              "      <td>0.0</td>\n",
              "      <td>0.0</td>\n",
              "      <td>0.0</td>\n",
              "      <td>-361.0</td>\n",
              "      <td>0.000</td>\n",
              "      <td>0.250</td>\n",
              "      <td>-361.0</td>\n",
              "      <td>0.0</td>\n",
              "      <td>0.0</td>\n",
              "      <td>-0.288</td>\n",
              "      <td>2.740000e-19</td>\n",
              "      <td>328.0</td>\n",
              "      <td>0.0</td>\n",
              "      <td>-5.270000e-07</td>\n",
              "      <td>12.0</td>\n",
              "      <td>1.0</td>\n",
              "      <td>4.0</td>\n",
              "      <td>50.0</td>\n",
              "      <td>Prep</td>\n",
              "    </tr>\n",
              "    <tr>\n",
              "      <th>2</th>\n",
              "      <td>196.0</td>\n",
              "      <td>-17.8</td>\n",
              "      <td>-6.25</td>\n",
              "      <td>196.0</td>\n",
              "      <td>-17.9</td>\n",
              "      <td>-0.000095</td>\n",
              "      <td>-8.59</td>\n",
              "      <td>0.1400</td>\n",
              "      <td>328.0</td>\n",
              "      <td>30.60</td>\n",
              "      <td>0.005330</td>\n",
              "      <td>154.0</td>\n",
              "      <td>-32.500</td>\n",
              "      <td>0.00</td>\n",
              "      <td>154.0</td>\n",
              "      <td>-32.3</td>\n",
              "      <td>-0.000095</td>\n",
              "      <td>-7.790</td>\n",
              "      <td>0.1390</td>\n",
              "      <td>327.0</td>\n",
              "      <td>49.40</td>\n",
              "      <td>9.430000e-03</td>\n",
              "      <td>115.0</td>\n",
              "      <td>-33.7</td>\n",
              "      <td>37.50</td>\n",
              "      <td>115.0</td>\n",
              "      <td>-33.7</td>\n",
              "      <td>-0.000095</td>\n",
              "      <td>0.0</td>\n",
              "      <td>0.0</td>\n",
              "      <td>0.0</td>\n",
              "      <td>0.0</td>\n",
              "      <td>-361.0</td>\n",
              "      <td>0.000</td>\n",
              "      <td>-0.438</td>\n",
              "      <td>-361.0</td>\n",
              "      <td>0.0</td>\n",
              "      <td>0.0</td>\n",
              "      <td>0.524</td>\n",
              "      <td>2.740000e-19</td>\n",
              "      <td>328.0</td>\n",
              "      <td>0.0</td>\n",
              "      <td>9.100000e-07</td>\n",
              "      <td>12.0</td>\n",
              "      <td>1.0</td>\n",
              "      <td>7.0</td>\n",
              "      <td>50.0</td>\n",
              "      <td>Prep</td>\n",
              "    </tr>\n",
              "    <tr>\n",
              "      <th>3</th>\n",
              "      <td>194.0</td>\n",
              "      <td>-18.0</td>\n",
              "      <td>0.00</td>\n",
              "      <td>194.0</td>\n",
              "      <td>-17.9</td>\n",
              "      <td>-0.000095</td>\n",
              "      <td>-6.11</td>\n",
              "      <td>0.1300</td>\n",
              "      <td>327.0</td>\n",
              "      <td>30.30</td>\n",
              "      <td>0.004890</td>\n",
              "      <td>151.0</td>\n",
              "      <td>-32.600</td>\n",
              "      <td>-62.50</td>\n",
              "      <td>151.0</td>\n",
              "      <td>-32.3</td>\n",
              "      <td>-0.000095</td>\n",
              "      <td>-8.130</td>\n",
              "      <td>0.1560</td>\n",
              "      <td>325.0</td>\n",
              "      <td>47.60</td>\n",
              "      <td>1.050000e-02</td>\n",
              "      <td>112.0</td>\n",
              "      <td>-33.7</td>\n",
              "      <td>-6.25</td>\n",
              "      <td>112.0</td>\n",
              "      <td>-33.7</td>\n",
              "      <td>0.000000</td>\n",
              "      <td>0.0</td>\n",
              "      <td>0.0</td>\n",
              "      <td>0.0</td>\n",
              "      <td>0.0</td>\n",
              "      <td>-361.0</td>\n",
              "      <td>-0.001</td>\n",
              "      <td>-0.250</td>\n",
              "      <td>-361.0</td>\n",
              "      <td>0.0</td>\n",
              "      <td>0.0</td>\n",
              "      <td>-0.180</td>\n",
              "      <td>2.740000e-19</td>\n",
              "      <td>328.0</td>\n",
              "      <td>0.0</td>\n",
              "      <td>1.070000e-06</td>\n",
              "      <td>12.0</td>\n",
              "      <td>1.0</td>\n",
              "      <td>7.0</td>\n",
              "      <td>50.0</td>\n",
              "      <td>Prep</td>\n",
              "    </tr>\n",
              "    <tr>\n",
              "      <th>4</th>\n",
              "      <td>193.0</td>\n",
              "      <td>-17.9</td>\n",
              "      <td>-18.80</td>\n",
              "      <td>192.0</td>\n",
              "      <td>-17.9</td>\n",
              "      <td>0.000095</td>\n",
              "      <td>-5.70</td>\n",
              "      <td>0.1140</td>\n",
              "      <td>328.0</td>\n",
              "      <td>30.50</td>\n",
              "      <td>0.004250</td>\n",
              "      <td>148.0</td>\n",
              "      <td>-32.000</td>\n",
              "      <td>138.00</td>\n",
              "      <td>148.0</td>\n",
              "      <td>-32.3</td>\n",
              "      <td>0.000095</td>\n",
              "      <td>-13.800</td>\n",
              "      <td>0.2020</td>\n",
              "      <td>326.0</td>\n",
              "      <td>47.10</td>\n",
              "      <td>1.350000e-02</td>\n",
              "      <td>109.0</td>\n",
              "      <td>-33.6</td>\n",
              "      <td>18.80</td>\n",
              "      <td>108.0</td>\n",
              "      <td>-33.7</td>\n",
              "      <td>0.000000</td>\n",
              "      <td>0.0</td>\n",
              "      <td>0.0</td>\n",
              "      <td>0.0</td>\n",
              "      <td>0.0</td>\n",
              "      <td>-361.0</td>\n",
              "      <td>0.000</td>\n",
              "      <td>-0.188</td>\n",
              "      <td>-361.0</td>\n",
              "      <td>0.0</td>\n",
              "      <td>0.0</td>\n",
              "      <td>0.226</td>\n",
              "      <td>2.740000e-19</td>\n",
              "      <td>328.0</td>\n",
              "      <td>0.0</td>\n",
              "      <td>1.960000e-06</td>\n",
              "      <td>12.0</td>\n",
              "      <td>1.0</td>\n",
              "      <td>7.0</td>\n",
              "      <td>50.0</td>\n",
              "      <td>Prep</td>\n",
              "    </tr>\n",
              "  </tbody>\n",
              "</table>\n",
              "</div>"
            ],
            "text/plain": [
              "   X1_ActualPosition  X1_ActualVelocity  ...  M1_CURRENT_FEEDRATE  Machining_Process\n",
              "0              198.0                0.0  ...                 50.0           Starting\n",
              "1              198.0              -10.8  ...                 50.0               Prep\n",
              "2              196.0              -17.8  ...                 50.0               Prep\n",
              "3              194.0              -18.0  ...                 50.0               Prep\n",
              "4              193.0              -17.9  ...                 50.0               Prep\n",
              "\n",
              "[5 rows x 48 columns]"
            ]
          },
          "metadata": {
            "tags": []
          },
          "execution_count": 4
        }
      ]
    },
    {
      "cell_type": "markdown",
      "metadata": {
        "id": "0o0eNXVCHP4y"
      },
      "source": [
        "Filling Nan with no when passed visual inspection column to indicate that machining_finalized is not passed"
      ]
    },
    {
      "cell_type": "code",
      "metadata": {
        "id": "_Bq4DmGqHTN2"
      },
      "source": [
        "experiment_result['passed_visual_inspection'] = experiment_result['passed_visual_inspection'].fillna('no')"
      ],
      "execution_count": 11,
      "outputs": []
    },
    {
      "cell_type": "markdown",
      "metadata": {
        "id": "32ilJuGOHXBg"
      },
      "source": [
        "Creating the Dataset that includes both the featues and the labels"
      ]
    },
    {
      "cell_type": "code",
      "metadata": {
        "id": "0_u4_7OmHWE3",
        "outputId": "6bf0cc30-5188-49ee-b41f-dc6e096fc880",
        "colab": {
          "base_uri": "https://localhost:8080/",
          "height": 426
        }
      },
      "source": [
        "Data = []\n",
        "for i in range(1,19):\n",
        "    #load files\n",
        "    exp_num = '0' + str(i) if i < 10 else str(i)\n",
        "    data = pd.read_csv(f\"/content/experiment_{exp_num}.csv\")\n",
        "\n",
        "    #load each experiment result row\n",
        "    exp_result_row = experiment_result[experiment_result['No'] == i]\n",
        "    data['exp_num'] = i\n",
        "\n",
        "    #add experiment settings to features\n",
        "    data['material'] = exp_result_row.iloc[0]['material']\n",
        "    data['feedrate'] = exp_result_row.iloc[0]['feedrate']\n",
        "    data['clamp_pressure'] = exp_result_row.iloc[0]['clamp_pressure']\n",
        "    \n",
        "    #add experiment result to features\n",
        "    data['tool_condition'] = exp_result_row.iloc[0]['tool_condition']\n",
        "    data['machining_finalized'] = exp_result_row.iloc[0]['machining_finalized']\n",
        "    data['passed_visual_inspection'] = exp_result_row.iloc[0]['passed_visual_inspection']\n",
        "\n",
        "    Data.append(data)\n",
        "\n",
        "Data = pd.concat(Data, ignore_index = True)\n",
        "Data.head(-20)"
      ],
      "execution_count": 12,
      "outputs": [
        {
          "output_type": "execute_result",
          "data": {
            "text/html": [
              "<div>\n",
              "<style scoped>\n",
              "    .dataframe tbody tr th:only-of-type {\n",
              "        vertical-align: middle;\n",
              "    }\n",
              "\n",
              "    .dataframe tbody tr th {\n",
              "        vertical-align: top;\n",
              "    }\n",
              "\n",
              "    .dataframe thead th {\n",
              "        text-align: right;\n",
              "    }\n",
              "</style>\n",
              "<table border=\"1\" class=\"dataframe\">\n",
              "  <thead>\n",
              "    <tr style=\"text-align: right;\">\n",
              "      <th></th>\n",
              "      <th>X1_ActualPosition</th>\n",
              "      <th>X1_ActualVelocity</th>\n",
              "      <th>X1_ActualAcceleration</th>\n",
              "      <th>X1_CommandPosition</th>\n",
              "      <th>X1_CommandVelocity</th>\n",
              "      <th>X1_CommandAcceleration</th>\n",
              "      <th>X1_CurrentFeedback</th>\n",
              "      <th>X1_DCBusVoltage</th>\n",
              "      <th>X1_OutputCurrent</th>\n",
              "      <th>X1_OutputVoltage</th>\n",
              "      <th>X1_OutputPower</th>\n",
              "      <th>Y1_ActualPosition</th>\n",
              "      <th>Y1_ActualVelocity</th>\n",
              "      <th>Y1_ActualAcceleration</th>\n",
              "      <th>Y1_CommandPosition</th>\n",
              "      <th>Y1_CommandVelocity</th>\n",
              "      <th>Y1_CommandAcceleration</th>\n",
              "      <th>Y1_CurrentFeedback</th>\n",
              "      <th>Y1_DCBusVoltage</th>\n",
              "      <th>Y1_OutputCurrent</th>\n",
              "      <th>Y1_OutputVoltage</th>\n",
              "      <th>Y1_OutputPower</th>\n",
              "      <th>Z1_ActualPosition</th>\n",
              "      <th>Z1_ActualVelocity</th>\n",
              "      <th>Z1_ActualAcceleration</th>\n",
              "      <th>Z1_CommandPosition</th>\n",
              "      <th>Z1_CommandVelocity</th>\n",
              "      <th>Z1_CommandAcceleration</th>\n",
              "      <th>Z1_CurrentFeedback</th>\n",
              "      <th>Z1_DCBusVoltage</th>\n",
              "      <th>Z1_OutputCurrent</th>\n",
              "      <th>Z1_OutputVoltage</th>\n",
              "      <th>S1_ActualPosition</th>\n",
              "      <th>S1_ActualVelocity</th>\n",
              "      <th>S1_ActualAcceleration</th>\n",
              "      <th>S1_CommandPosition</th>\n",
              "      <th>S1_CommandVelocity</th>\n",
              "      <th>S1_CommandAcceleration</th>\n",
              "      <th>S1_CurrentFeedback</th>\n",
              "      <th>S1_DCBusVoltage</th>\n",
              "      <th>S1_OutputCurrent</th>\n",
              "      <th>S1_OutputVoltage</th>\n",
              "      <th>S1_OutputPower</th>\n",
              "      <th>S1_SystemInertia</th>\n",
              "      <th>M1_CURRENT_PROGRAM_NUMBER</th>\n",
              "      <th>M1_sequence_number</th>\n",
              "      <th>M1_CURRENT_FEEDRATE</th>\n",
              "      <th>Machining_Process</th>\n",
              "      <th>exp_num</th>\n",
              "      <th>material</th>\n",
              "      <th>feedrate</th>\n",
              "      <th>clamp_pressure</th>\n",
              "      <th>tool_condition</th>\n",
              "      <th>machining_finalized</th>\n",
              "      <th>passed_visual_inspection</th>\n",
              "    </tr>\n",
              "  </thead>\n",
              "  <tbody>\n",
              "    <tr>\n",
              "      <th>0</th>\n",
              "      <td>198.0</td>\n",
              "      <td>0.00</td>\n",
              "      <td>0.00</td>\n",
              "      <td>198.0</td>\n",
              "      <td>0.0</td>\n",
              "      <td>0.000000</td>\n",
              "      <td>0.18</td>\n",
              "      <td>0.0207</td>\n",
              "      <td>329.0</td>\n",
              "      <td>2.77</td>\n",
              "      <td>-0.000001</td>\n",
              "      <td>158.0</td>\n",
              "      <td>-0.025</td>\n",
              "      <td>-6.25</td>\n",
              "      <td>158.0</td>\n",
              "      <td>0.0</td>\n",
              "      <td>0.000000</td>\n",
              "      <td>0.539</td>\n",
              "      <td>0.0167</td>\n",
              "      <td>328.0</td>\n",
              "      <td>1.84</td>\n",
              "      <td>6.430000e-07</td>\n",
              "      <td>119.0</td>\n",
              "      <td>0.000</td>\n",
              "      <td>0.00</td>\n",
              "      <td>119.0</td>\n",
              "      <td>0.0</td>\n",
              "      <td>0.000000</td>\n",
              "      <td>0.0</td>\n",
              "      <td>0.0</td>\n",
              "      <td>0.0</td>\n",
              "      <td>0.0</td>\n",
              "      <td>-361.0</td>\n",
              "      <td>0.001</td>\n",
              "      <td>0.250</td>\n",
              "      <td>-361.0</td>\n",
              "      <td>0.0</td>\n",
              "      <td>0.000000e+00</td>\n",
              "      <td>0.524</td>\n",
              "      <td>2.740000e-19</td>\n",
              "      <td>329.0</td>\n",
              "      <td>0.0</td>\n",
              "      <td>6.960000e-07</td>\n",
              "      <td>12.0</td>\n",
              "      <td>1.0</td>\n",
              "      <td>0.0</td>\n",
              "      <td>50.0</td>\n",
              "      <td>Starting</td>\n",
              "      <td>1</td>\n",
              "      <td>wax</td>\n",
              "      <td>6</td>\n",
              "      <td>4.0</td>\n",
              "      <td>unworn</td>\n",
              "      <td>yes</td>\n",
              "      <td>yes</td>\n",
              "    </tr>\n",
              "    <tr>\n",
              "      <th>1</th>\n",
              "      <td>198.0</td>\n",
              "      <td>-10.80</td>\n",
              "      <td>-350.00</td>\n",
              "      <td>198.0</td>\n",
              "      <td>-13.6</td>\n",
              "      <td>-358.000000</td>\n",
              "      <td>-10.90</td>\n",
              "      <td>0.1860</td>\n",
              "      <td>328.0</td>\n",
              "      <td>23.30</td>\n",
              "      <td>0.004480</td>\n",
              "      <td>158.0</td>\n",
              "      <td>-19.800</td>\n",
              "      <td>-750.00</td>\n",
              "      <td>157.0</td>\n",
              "      <td>-24.6</td>\n",
              "      <td>-647.000000</td>\n",
              "      <td>-14.500</td>\n",
              "      <td>0.2810</td>\n",
              "      <td>325.0</td>\n",
              "      <td>37.80</td>\n",
              "      <td>1.260000e-02</td>\n",
              "      <td>119.0</td>\n",
              "      <td>-20.300</td>\n",
              "      <td>-712.00</td>\n",
              "      <td>118.0</td>\n",
              "      <td>-25.6</td>\n",
              "      <td>-674.000000</td>\n",
              "      <td>0.0</td>\n",
              "      <td>0.0</td>\n",
              "      <td>0.0</td>\n",
              "      <td>0.0</td>\n",
              "      <td>-361.0</td>\n",
              "      <td>0.000</td>\n",
              "      <td>0.250</td>\n",
              "      <td>-361.0</td>\n",
              "      <td>0.0</td>\n",
              "      <td>0.000000e+00</td>\n",
              "      <td>-0.288</td>\n",
              "      <td>2.740000e-19</td>\n",
              "      <td>328.0</td>\n",
              "      <td>0.0</td>\n",
              "      <td>-5.270000e-07</td>\n",
              "      <td>12.0</td>\n",
              "      <td>1.0</td>\n",
              "      <td>4.0</td>\n",
              "      <td>50.0</td>\n",
              "      <td>Prep</td>\n",
              "      <td>1</td>\n",
              "      <td>wax</td>\n",
              "      <td>6</td>\n",
              "      <td>4.0</td>\n",
              "      <td>unworn</td>\n",
              "      <td>yes</td>\n",
              "      <td>yes</td>\n",
              "    </tr>\n",
              "    <tr>\n",
              "      <th>2</th>\n",
              "      <td>196.0</td>\n",
              "      <td>-17.80</td>\n",
              "      <td>-6.25</td>\n",
              "      <td>196.0</td>\n",
              "      <td>-17.9</td>\n",
              "      <td>-0.000095</td>\n",
              "      <td>-8.59</td>\n",
              "      <td>0.1400</td>\n",
              "      <td>328.0</td>\n",
              "      <td>30.60</td>\n",
              "      <td>0.005330</td>\n",
              "      <td>154.0</td>\n",
              "      <td>-32.500</td>\n",
              "      <td>0.00</td>\n",
              "      <td>154.0</td>\n",
              "      <td>-32.3</td>\n",
              "      <td>-0.000095</td>\n",
              "      <td>-7.790</td>\n",
              "      <td>0.1390</td>\n",
              "      <td>327.0</td>\n",
              "      <td>49.40</td>\n",
              "      <td>9.430000e-03</td>\n",
              "      <td>115.0</td>\n",
              "      <td>-33.700</td>\n",
              "      <td>37.50</td>\n",
              "      <td>115.0</td>\n",
              "      <td>-33.7</td>\n",
              "      <td>-0.000095</td>\n",
              "      <td>0.0</td>\n",
              "      <td>0.0</td>\n",
              "      <td>0.0</td>\n",
              "      <td>0.0</td>\n",
              "      <td>-361.0</td>\n",
              "      <td>0.000</td>\n",
              "      <td>-0.438</td>\n",
              "      <td>-361.0</td>\n",
              "      <td>0.0</td>\n",
              "      <td>0.000000e+00</td>\n",
              "      <td>0.524</td>\n",
              "      <td>2.740000e-19</td>\n",
              "      <td>328.0</td>\n",
              "      <td>0.0</td>\n",
              "      <td>9.100000e-07</td>\n",
              "      <td>12.0</td>\n",
              "      <td>1.0</td>\n",
              "      <td>7.0</td>\n",
              "      <td>50.0</td>\n",
              "      <td>Prep</td>\n",
              "      <td>1</td>\n",
              "      <td>wax</td>\n",
              "      <td>6</td>\n",
              "      <td>4.0</td>\n",
              "      <td>unworn</td>\n",
              "      <td>yes</td>\n",
              "      <td>yes</td>\n",
              "    </tr>\n",
              "    <tr>\n",
              "      <th>3</th>\n",
              "      <td>194.0</td>\n",
              "      <td>-18.00</td>\n",
              "      <td>0.00</td>\n",
              "      <td>194.0</td>\n",
              "      <td>-17.9</td>\n",
              "      <td>-0.000095</td>\n",
              "      <td>-6.11</td>\n",
              "      <td>0.1300</td>\n",
              "      <td>327.0</td>\n",
              "      <td>30.30</td>\n",
              "      <td>0.004890</td>\n",
              "      <td>151.0</td>\n",
              "      <td>-32.600</td>\n",
              "      <td>-62.50</td>\n",
              "      <td>151.0</td>\n",
              "      <td>-32.3</td>\n",
              "      <td>-0.000095</td>\n",
              "      <td>-8.130</td>\n",
              "      <td>0.1560</td>\n",
              "      <td>325.0</td>\n",
              "      <td>47.60</td>\n",
              "      <td>1.050000e-02</td>\n",
              "      <td>112.0</td>\n",
              "      <td>-33.700</td>\n",
              "      <td>-6.25</td>\n",
              "      <td>112.0</td>\n",
              "      <td>-33.7</td>\n",
              "      <td>0.000000</td>\n",
              "      <td>0.0</td>\n",
              "      <td>0.0</td>\n",
              "      <td>0.0</td>\n",
              "      <td>0.0</td>\n",
              "      <td>-361.0</td>\n",
              "      <td>-0.001</td>\n",
              "      <td>-0.250</td>\n",
              "      <td>-361.0</td>\n",
              "      <td>0.0</td>\n",
              "      <td>0.000000e+00</td>\n",
              "      <td>-0.180</td>\n",
              "      <td>2.740000e-19</td>\n",
              "      <td>328.0</td>\n",
              "      <td>0.0</td>\n",
              "      <td>1.070000e-06</td>\n",
              "      <td>12.0</td>\n",
              "      <td>1.0</td>\n",
              "      <td>7.0</td>\n",
              "      <td>50.0</td>\n",
              "      <td>Prep</td>\n",
              "      <td>1</td>\n",
              "      <td>wax</td>\n",
              "      <td>6</td>\n",
              "      <td>4.0</td>\n",
              "      <td>unworn</td>\n",
              "      <td>yes</td>\n",
              "      <td>yes</td>\n",
              "    </tr>\n",
              "    <tr>\n",
              "      <th>4</th>\n",
              "      <td>193.0</td>\n",
              "      <td>-17.90</td>\n",
              "      <td>-18.80</td>\n",
              "      <td>192.0</td>\n",
              "      <td>-17.9</td>\n",
              "      <td>0.000095</td>\n",
              "      <td>-5.70</td>\n",
              "      <td>0.1140</td>\n",
              "      <td>328.0</td>\n",
              "      <td>30.50</td>\n",
              "      <td>0.004250</td>\n",
              "      <td>148.0</td>\n",
              "      <td>-32.000</td>\n",
              "      <td>138.00</td>\n",
              "      <td>148.0</td>\n",
              "      <td>-32.3</td>\n",
              "      <td>0.000095</td>\n",
              "      <td>-13.800</td>\n",
              "      <td>0.2020</td>\n",
              "      <td>326.0</td>\n",
              "      <td>47.10</td>\n",
              "      <td>1.350000e-02</td>\n",
              "      <td>109.0</td>\n",
              "      <td>-33.600</td>\n",
              "      <td>18.80</td>\n",
              "      <td>108.0</td>\n",
              "      <td>-33.7</td>\n",
              "      <td>0.000000</td>\n",
              "      <td>0.0</td>\n",
              "      <td>0.0</td>\n",
              "      <td>0.0</td>\n",
              "      <td>0.0</td>\n",
              "      <td>-361.0</td>\n",
              "      <td>0.000</td>\n",
              "      <td>-0.188</td>\n",
              "      <td>-361.0</td>\n",
              "      <td>0.0</td>\n",
              "      <td>0.000000e+00</td>\n",
              "      <td>0.226</td>\n",
              "      <td>2.740000e-19</td>\n",
              "      <td>328.0</td>\n",
              "      <td>0.0</td>\n",
              "      <td>1.960000e-06</td>\n",
              "      <td>12.0</td>\n",
              "      <td>1.0</td>\n",
              "      <td>7.0</td>\n",
              "      <td>50.0</td>\n",
              "      <td>Prep</td>\n",
              "      <td>1</td>\n",
              "      <td>wax</td>\n",
              "      <td>6</td>\n",
              "      <td>4.0</td>\n",
              "      <td>unworn</td>\n",
              "      <td>yes</td>\n",
              "      <td>yes</td>\n",
              "    </tr>\n",
              "    <tr>\n",
              "      <th>...</th>\n",
              "      <td>...</td>\n",
              "      <td>...</td>\n",
              "      <td>...</td>\n",
              "      <td>...</td>\n",
              "      <td>...</td>\n",
              "      <td>...</td>\n",
              "      <td>...</td>\n",
              "      <td>...</td>\n",
              "      <td>...</td>\n",
              "      <td>...</td>\n",
              "      <td>...</td>\n",
              "      <td>...</td>\n",
              "      <td>...</td>\n",
              "      <td>...</td>\n",
              "      <td>...</td>\n",
              "      <td>...</td>\n",
              "      <td>...</td>\n",
              "      <td>...</td>\n",
              "      <td>...</td>\n",
              "      <td>...</td>\n",
              "      <td>...</td>\n",
              "      <td>...</td>\n",
              "      <td>...</td>\n",
              "      <td>...</td>\n",
              "      <td>...</td>\n",
              "      <td>...</td>\n",
              "      <td>...</td>\n",
              "      <td>...</td>\n",
              "      <td>...</td>\n",
              "      <td>...</td>\n",
              "      <td>...</td>\n",
              "      <td>...</td>\n",
              "      <td>...</td>\n",
              "      <td>...</td>\n",
              "      <td>...</td>\n",
              "      <td>...</td>\n",
              "      <td>...</td>\n",
              "      <td>...</td>\n",
              "      <td>...</td>\n",
              "      <td>...</td>\n",
              "      <td>...</td>\n",
              "      <td>...</td>\n",
              "      <td>...</td>\n",
              "      <td>...</td>\n",
              "      <td>...</td>\n",
              "      <td>...</td>\n",
              "      <td>...</td>\n",
              "      <td>...</td>\n",
              "      <td>...</td>\n",
              "      <td>...</td>\n",
              "      <td>...</td>\n",
              "      <td>...</td>\n",
              "      <td>...</td>\n",
              "      <td>...</td>\n",
              "      <td>...</td>\n",
              "    </tr>\n",
              "    <tr>\n",
              "      <th>25261</th>\n",
              "      <td>156.0</td>\n",
              "      <td>2.97</td>\n",
              "      <td>31.30</td>\n",
              "      <td>156.0</td>\n",
              "      <td>3.0</td>\n",
              "      <td>0.000000</td>\n",
              "      <td>4.76</td>\n",
              "      <td>0.0833</td>\n",
              "      <td>327.0</td>\n",
              "      <td>8.85</td>\n",
              "      <td>0.000474</td>\n",
              "      <td>91.6</td>\n",
              "      <td>-0.100</td>\n",
              "      <td>-50.00</td>\n",
              "      <td>91.6</td>\n",
              "      <td>0.0</td>\n",
              "      <td>0.000000</td>\n",
              "      <td>-4.150</td>\n",
              "      <td>0.0749</td>\n",
              "      <td>326.0</td>\n",
              "      <td>5.05</td>\n",
              "      <td>-3.580000e-05</td>\n",
              "      <td>28.7</td>\n",
              "      <td>0.000</td>\n",
              "      <td>0.00</td>\n",
              "      <td>28.7</td>\n",
              "      <td>0.0</td>\n",
              "      <td>0.000000</td>\n",
              "      <td>0.0</td>\n",
              "      <td>0.0</td>\n",
              "      <td>0.0</td>\n",
              "      <td>0.0</td>\n",
              "      <td>-1990.0</td>\n",
              "      <td>53.300</td>\n",
              "      <td>24.300</td>\n",
              "      <td>-1990.0</td>\n",
              "      <td>53.3</td>\n",
              "      <td>9.540000e-07</td>\n",
              "      <td>20.400</td>\n",
              "      <td>8.720000e-01</td>\n",
              "      <td>324.0</td>\n",
              "      <td>118.0</td>\n",
              "      <td>1.680000e-01</td>\n",
              "      <td>12.0</td>\n",
              "      <td>1.0</td>\n",
              "      <td>80.0</td>\n",
              "      <td>3.0</td>\n",
              "      <td>End</td>\n",
              "      <td>18</td>\n",
              "      <td>wax</td>\n",
              "      <td>3</td>\n",
              "      <td>2.5</td>\n",
              "      <td>worn</td>\n",
              "      <td>yes</td>\n",
              "      <td>yes</td>\n",
              "    </tr>\n",
              "    <tr>\n",
              "      <th>25262</th>\n",
              "      <td>157.0</td>\n",
              "      <td>3.03</td>\n",
              "      <td>25.00</td>\n",
              "      <td>157.0</td>\n",
              "      <td>3.0</td>\n",
              "      <td>0.000000</td>\n",
              "      <td>2.53</td>\n",
              "      <td>0.0489</td>\n",
              "      <td>327.0</td>\n",
              "      <td>7.71</td>\n",
              "      <td>0.000301</td>\n",
              "      <td>91.6</td>\n",
              "      <td>-0.100</td>\n",
              "      <td>-50.00</td>\n",
              "      <td>91.6</td>\n",
              "      <td>0.0</td>\n",
              "      <td>0.000000</td>\n",
              "      <td>-4.100</td>\n",
              "      <td>0.0766</td>\n",
              "      <td>326.0</td>\n",
              "      <td>5.34</td>\n",
              "      <td>0.000000e+00</td>\n",
              "      <td>28.7</td>\n",
              "      <td>0.000</td>\n",
              "      <td>0.00</td>\n",
              "      <td>28.7</td>\n",
              "      <td>0.0</td>\n",
              "      <td>0.000000</td>\n",
              "      <td>0.0</td>\n",
              "      <td>0.0</td>\n",
              "      <td>0.0</td>\n",
              "      <td>0.0</td>\n",
              "      <td>-1990.0</td>\n",
              "      <td>53.400</td>\n",
              "      <td>-15.800</td>\n",
              "      <td>-1990.0</td>\n",
              "      <td>53.3</td>\n",
              "      <td>-9.540000e-07</td>\n",
              "      <td>16.900</td>\n",
              "      <td>8.850000e-01</td>\n",
              "      <td>323.0</td>\n",
              "      <td>115.0</td>\n",
              "      <td>1.690000e-01</td>\n",
              "      <td>12.0</td>\n",
              "      <td>1.0</td>\n",
              "      <td>80.0</td>\n",
              "      <td>3.0</td>\n",
              "      <td>End</td>\n",
              "      <td>18</td>\n",
              "      <td>wax</td>\n",
              "      <td>3</td>\n",
              "      <td>2.5</td>\n",
              "      <td>worn</td>\n",
              "      <td>yes</td>\n",
              "      <td>yes</td>\n",
              "    </tr>\n",
              "    <tr>\n",
              "      <th>25263</th>\n",
              "      <td>157.0</td>\n",
              "      <td>3.13</td>\n",
              "      <td>0.00</td>\n",
              "      <td>157.0</td>\n",
              "      <td>3.0</td>\n",
              "      <td>0.000000</td>\n",
              "      <td>3.89</td>\n",
              "      <td>0.0669</td>\n",
              "      <td>327.0</td>\n",
              "      <td>7.67</td>\n",
              "      <td>0.000426</td>\n",
              "      <td>91.6</td>\n",
              "      <td>-0.100</td>\n",
              "      <td>-50.00</td>\n",
              "      <td>91.6</td>\n",
              "      <td>0.0</td>\n",
              "      <td>0.000000</td>\n",
              "      <td>-4.740</td>\n",
              "      <td>0.0758</td>\n",
              "      <td>326.0</td>\n",
              "      <td>4.26</td>\n",
              "      <td>-1.210000e-05</td>\n",
              "      <td>28.7</td>\n",
              "      <td>0.025</td>\n",
              "      <td>6.25</td>\n",
              "      <td>28.7</td>\n",
              "      <td>0.0</td>\n",
              "      <td>0.000000</td>\n",
              "      <td>0.0</td>\n",
              "      <td>0.0</td>\n",
              "      <td>0.0</td>\n",
              "      <td>0.0</td>\n",
              "      <td>-1980.0</td>\n",
              "      <td>53.400</td>\n",
              "      <td>17.800</td>\n",
              "      <td>-1980.0</td>\n",
              "      <td>53.3</td>\n",
              "      <td>0.000000e+00</td>\n",
              "      <td>18.800</td>\n",
              "      <td>8.910000e-01</td>\n",
              "      <td>324.0</td>\n",
              "      <td>119.0</td>\n",
              "      <td>1.710000e-01</td>\n",
              "      <td>12.0</td>\n",
              "      <td>1.0</td>\n",
              "      <td>80.0</td>\n",
              "      <td>3.0</td>\n",
              "      <td>End</td>\n",
              "      <td>18</td>\n",
              "      <td>wax</td>\n",
              "      <td>3</td>\n",
              "      <td>2.5</td>\n",
              "      <td>worn</td>\n",
              "      <td>yes</td>\n",
              "      <td>yes</td>\n",
              "    </tr>\n",
              "    <tr>\n",
              "      <th>25264</th>\n",
              "      <td>157.0</td>\n",
              "      <td>3.20</td>\n",
              "      <td>31.30</td>\n",
              "      <td>157.0</td>\n",
              "      <td>3.0</td>\n",
              "      <td>0.000000</td>\n",
              "      <td>3.83</td>\n",
              "      <td>0.0775</td>\n",
              "      <td>327.0</td>\n",
              "      <td>8.89</td>\n",
              "      <td>0.000486</td>\n",
              "      <td>91.6</td>\n",
              "      <td>-0.100</td>\n",
              "      <td>-50.00</td>\n",
              "      <td>91.6</td>\n",
              "      <td>0.0</td>\n",
              "      <td>0.000000</td>\n",
              "      <td>-3.500</td>\n",
              "      <td>0.0751</td>\n",
              "      <td>326.0</td>\n",
              "      <td>5.88</td>\n",
              "      <td>0.000000e+00</td>\n",
              "      <td>28.7</td>\n",
              "      <td>0.000</td>\n",
              "      <td>0.00</td>\n",
              "      <td>28.7</td>\n",
              "      <td>0.0</td>\n",
              "      <td>0.000000</td>\n",
              "      <td>0.0</td>\n",
              "      <td>0.0</td>\n",
              "      <td>0.0</td>\n",
              "      <td>0.0</td>\n",
              "      <td>-1980.0</td>\n",
              "      <td>53.200</td>\n",
              "      <td>-29.400</td>\n",
              "      <td>-1980.0</td>\n",
              "      <td>53.3</td>\n",
              "      <td>0.000000e+00</td>\n",
              "      <td>24.600</td>\n",
              "      <td>9.840000e-01</td>\n",
              "      <td>323.0</td>\n",
              "      <td>120.0</td>\n",
              "      <td>1.890000e-01</td>\n",
              "      <td>12.0</td>\n",
              "      <td>1.0</td>\n",
              "      <td>80.0</td>\n",
              "      <td>3.0</td>\n",
              "      <td>End</td>\n",
              "      <td>18</td>\n",
              "      <td>wax</td>\n",
              "      <td>3</td>\n",
              "      <td>2.5</td>\n",
              "      <td>worn</td>\n",
              "      <td>yes</td>\n",
              "      <td>yes</td>\n",
              "    </tr>\n",
              "    <tr>\n",
              "      <th>25265</th>\n",
              "      <td>158.0</td>\n",
              "      <td>3.20</td>\n",
              "      <td>37.50</td>\n",
              "      <td>158.0</td>\n",
              "      <td>3.0</td>\n",
              "      <td>0.000000</td>\n",
              "      <td>5.10</td>\n",
              "      <td>0.0936</td>\n",
              "      <td>327.0</td>\n",
              "      <td>9.08</td>\n",
              "      <td>0.000629</td>\n",
              "      <td>91.6</td>\n",
              "      <td>-0.100</td>\n",
              "      <td>-50.00</td>\n",
              "      <td>91.6</td>\n",
              "      <td>0.0</td>\n",
              "      <td>0.000000</td>\n",
              "      <td>-4.340</td>\n",
              "      <td>0.0800</td>\n",
              "      <td>326.0</td>\n",
              "      <td>4.64</td>\n",
              "      <td>0.000000e+00</td>\n",
              "      <td>28.7</td>\n",
              "      <td>0.000</td>\n",
              "      <td>0.00</td>\n",
              "      <td>28.7</td>\n",
              "      <td>0.0</td>\n",
              "      <td>0.000000</td>\n",
              "      <td>0.0</td>\n",
              "      <td>0.0</td>\n",
              "      <td>0.0</td>\n",
              "      <td>0.0</td>\n",
              "      <td>-1970.0</td>\n",
              "      <td>53.400</td>\n",
              "      <td>7.620</td>\n",
              "      <td>-1970.0</td>\n",
              "      <td>53.3</td>\n",
              "      <td>0.000000e+00</td>\n",
              "      <td>17.900</td>\n",
              "      <td>8.590000e-01</td>\n",
              "      <td>324.0</td>\n",
              "      <td>117.0</td>\n",
              "      <td>1.650000e-01</td>\n",
              "      <td>12.0</td>\n",
              "      <td>1.0</td>\n",
              "      <td>80.0</td>\n",
              "      <td>3.0</td>\n",
              "      <td>End</td>\n",
              "      <td>18</td>\n",
              "      <td>wax</td>\n",
              "      <td>3</td>\n",
              "      <td>2.5</td>\n",
              "      <td>worn</td>\n",
              "      <td>yes</td>\n",
              "      <td>yes</td>\n",
              "    </tr>\n",
              "  </tbody>\n",
              "</table>\n",
              "<p>25266 rows × 55 columns</p>\n",
              "</div>"
            ],
            "text/plain": [
              "       X1_ActualPosition  ...  passed_visual_inspection\n",
              "0                  198.0  ...                       yes\n",
              "1                  198.0  ...                       yes\n",
              "2                  196.0  ...                       yes\n",
              "3                  194.0  ...                       yes\n",
              "4                  193.0  ...                       yes\n",
              "...                  ...  ...                       ...\n",
              "25261              156.0  ...                       yes\n",
              "25262              157.0  ...                       yes\n",
              "25263              157.0  ...                       yes\n",
              "25264              157.0  ...                       yes\n",
              "25265              158.0  ...                       yes\n",
              "\n",
              "[25266 rows x 55 columns]"
            ]
          },
          "metadata": {
            "tags": []
          },
          "execution_count": 12
        }
      ]
    },
    {
      "cell_type": "markdown",
      "metadata": {
        "id": "3yeKgWyAEHOj"
      },
      "source": [
        "**Normalizing the label**"
      ]
    },
    {
      "cell_type": "markdown",
      "metadata": {
        "id": "qZaAMG4REQUA"
      },
      "source": [
        "replacing \n",
        "  starting with prep,\n",
        "  end with End"
      ]
    },
    {
      "cell_type": "code",
      "metadata": {
        "id": "e4cp6zxcEMqh",
        "outputId": "c5ceb3fb-f8dd-47a9-c06f-d3b6fdf35d06",
        "colab": {
          "base_uri": "https://localhost:8080/"
        }
      },
      "source": [
        "Data['Machining_Process'].value_counts().sort_index()"
      ],
      "execution_count": 13,
      "outputs": [
        {
          "output_type": "execute_result",
          "data": {
            "text/plain": [
              "End              2585\n",
              "Layer 1 Down     2655\n",
              "Layer 1 Up       4085\n",
              "Layer 2 Down     2528\n",
              "Layer 2 Up       3104\n",
              "Layer 3 Down     2354\n",
              "Layer 3 Up       2794\n",
              "Prep             1795\n",
              "Repositioning    3377\n",
              "Starting            1\n",
              "end                 8\n",
              "Name: Machining_Process, dtype: int64"
            ]
          },
          "metadata": {
            "tags": []
          },
          "execution_count": 13
        }
      ]
    },
    {
      "cell_type": "code",
      "metadata": {
        "id": "VLWX9115FEZg"
      },
      "source": [
        "Data.replace({'Machining_Process': {'Starting':'Prep','end':'End'}}, inplace=True)"
      ],
      "execution_count": 14,
      "outputs": []
    },
    {
      "cell_type": "code",
      "metadata": {
        "id": "Gxa428I9FKOo",
        "outputId": "67074d0c-32fa-4482-97c0-dabf8eb6db69",
        "colab": {
          "base_uri": "https://localhost:8080/"
        }
      },
      "source": [
        "Data['Machining_Process'].value_counts().sort_index()"
      ],
      "execution_count": 15,
      "outputs": [
        {
          "output_type": "execute_result",
          "data": {
            "text/plain": [
              "End              2593\n",
              "Layer 1 Down     2655\n",
              "Layer 1 Up       4085\n",
              "Layer 2 Down     2528\n",
              "Layer 2 Up       3104\n",
              "Layer 3 Down     2354\n",
              "Layer 3 Up       2794\n",
              "Prep             1796\n",
              "Repositioning    3377\n",
              "Name: Machining_Process, dtype: int64"
            ]
          },
          "metadata": {
            "tags": []
          },
          "execution_count": 15
        }
      ]
    },
    {
      "cell_type": "markdown",
      "metadata": {
        "id": "SbP4to3wFwVI"
      },
      "source": [
        "# **Data Visualization**"
      ]
    },
    {
      "cell_type": "code",
      "metadata": {
        "id": "UpTywA6VF01c",
        "outputId": "66ddfec8-4da9-4eb9-ba55-eb1e35d20c36",
        "colab": {
          "base_uri": "https://localhost:8080/",
          "height": 570
        }
      },
      "source": [
        "# Get the counts for each class in tool_condition\n",
        "alabel_count = Data['tool_condition'].value_counts()\n",
        "print(alabel_count)\n",
        "\n",
        "# Plot the results \n",
        "plt.figure(figsize=(10,8))\n",
        "sns.barplot(x=alabel_count.index, y= alabel_count.values)\n",
        "plt.title('Worn and Unworn Class', fontsize=14)\n",
        "plt.xlabel('label type', fontsize=12)\n",
        "plt.ylabel('Count', fontsize=12)\n",
        "plt.xticks(range(len(alabel_count.index)), ['Worn', 'Unworn'])\n",
        "plt.show()"
      ],
      "execution_count": 16,
      "outputs": [
        {
          "output_type": "stream",
          "text": [
            "worn      13308\n",
            "unworn    11978\n",
            "Name: tool_condition, dtype: int64\n"
          ],
          "name": "stdout"
        },
        {
          "output_type": "display_data",
          "data": {
            "image/png": "[encoded data removed]",
            "text/plain": [
              "<Figure size 720x576 with 1 Axes>"
            ]
          },
          "metadata": {
            "tags": [],
            "needs_background": "light"
          }
        }
      ]
    },
    {
      "cell_type": "code",
      "metadata": {
        "id": "iMRv1127Gt8_",
        "outputId": "c26e5711-3983-4271-d15d-5fb447df76d2",
        "colab": {
          "base_uri": "https://localhost:8080/",
          "height": 570
        }
      },
      "source": [
        "# Get the counts for each class in machining_finalized\n",
        "alabel_count = Data['machining_finalized'].value_counts()\n",
        "print(alabel_count)\n",
        "\n",
        "# Plot the results \n",
        "plt.figure(figsize=(10,8))\n",
        "sns.barplot(x=alabel_count.index, y= alabel_count.values)\n",
        "plt.title('machining_finalized Class', fontsize=14)\n",
        "plt.xlabel('label type', fontsize=12)\n",
        "plt.ylabel('Count', fontsize=12)\n",
        "plt.xticks(range(len(alabel_count.index)), ['Yes', 'No'])\n",
        "plt.show()"
      ],
      "execution_count": 17,
      "outputs": [
        {
          "output_type": "stream",
          "text": [
            "yes    23125\n",
            "no      2161\n",
            "Name: machining_finalized, dtype: int64\n"
          ],
          "name": "stdout"
        },
        {
          "output_type": "display_data",
          "data": {
            "image/png": "[encoded data removed]",
            "text/plain": [
              "<Figure size 720x576 with 1 Axes>"
            ]
          },
          "metadata": {
            "tags": [],
            "needs_background": "light"
          }
        }
      ]
    },
    {
      "cell_type": "code",
      "metadata": {
        "id": "Jni2sQEnHKP8",
        "outputId": "05b6edfb-c449-43cf-ff0c-c8baa1896f76",
        "colab": {
          "base_uri": "https://localhost:8080/",
          "height": 570
        }
      },
      "source": [
        "# Get the counts for each class in passed_visual_inspection\n",
        "alabel_count = Data['passed_visual_inspection'].value_counts()\n",
        "print(alabel_count)\n",
        "\n",
        "# Plot the results \n",
        "plt.figure(figsize=(10,8))\n",
        "sns.barplot(x=alabel_count.index, y= alabel_count.values)\n",
        "plt.title('passed_visual_inspection Class', fontsize=14)\n",
        "plt.xlabel('label type', fontsize=12)\n",
        "plt.ylabel('Count', fontsize=12)\n",
        "plt.xticks(range(len(alabel_count.index)), ['Yes', 'No'])\n",
        "plt.show()"
      ],
      "execution_count": 18,
      "outputs": [
        {
          "output_type": "stream",
          "text": [
            "yes    19183\n",
            "no      6103\n",
            "Name: passed_visual_inspection, dtype: int64\n"
          ],
          "name": "stdout"
        },
        {
          "output_type": "display_data",
          "data": {
            "image/png": "[encoded data removed]",
            "text/plain": [
              "<Figure size 720x576 with 1 Axes>"
            ]
          },
          "metadata": {
            "tags": [],
            "needs_background": "light"
          }
        }
      ]
    },
    {
      "cell_type": "markdown",
      "metadata": {
        "id": "7OMws2SPJPe5"
      },
      "source": [
        "# **Preprocessing the Data**"
      ]
    },
    {
      "cell_type": "code",
      "metadata": {
        "id": "S9_H_8whJWUH",
        "outputId": "e215f57b-6b3a-4bbd-db94-d8fa5a5d11d6",
        "colab": {
          "base_uri": "https://localhost:8080/"
        }
      },
      "source": [
        "# count the number of missing values for each column\n",
        "num_missing = (Data[Data.columns] == \"NaN\").sum()\n",
        "# report the results\n",
        "print(num_missing)\n",
        "print(num_missing.sum())"
      ],
      "execution_count": 19,
      "outputs": [
        {
          "output_type": "stream",
          "text": [
            "X1_ActualPosition            0\n",
            "X1_ActualVelocity            0\n",
            "X1_ActualAcceleration        0\n",
            "X1_CommandPosition           0\n",
            "X1_CommandVelocity           0\n",
            "X1_CommandAcceleration       0\n",
            "X1_CurrentFeedback           0\n",
            "X1_DCBusVoltage              0\n",
            "X1_OutputCurrent             0\n",
            "X1_OutputVoltage             0\n",
            "X1_OutputPower               0\n",
            "Y1_ActualPosition            0\n",
            "Y1_ActualVelocity            0\n",
            "Y1_ActualAcceleration        0\n",
            "Y1_CommandPosition           0\n",
            "Y1_CommandVelocity           0\n",
            "Y1_CommandAcceleration       0\n",
            "Y1_CurrentFeedback           0\n",
            "Y1_DCBusVoltage              0\n",
            "Y1_OutputCurrent             0\n",
            "Y1_OutputVoltage             0\n",
            "Y1_OutputPower               0\n",
            "Z1_ActualPosition            0\n",
            "Z1_ActualVelocity            0\n",
            "Z1_ActualAcceleration        0\n",
            "Z1_CommandPosition           0\n",
            "Z1_CommandVelocity           0\n",
            "Z1_CommandAcceleration       0\n",
            "Z1_CurrentFeedback           0\n",
            "Z1_DCBusVoltage              0\n",
            "Z1_OutputCurrent             0\n",
            "Z1_OutputVoltage             0\n",
            "S1_ActualPosition            0\n",
            "S1_ActualVelocity            0\n",
            "S1_ActualAcceleration        0\n",
            "S1_CommandPosition           0\n",
            "S1_CommandVelocity           0\n",
            "S1_CommandAcceleration       0\n",
            "S1_CurrentFeedback           0\n",
            "S1_DCBusVoltage              0\n",
            "S1_OutputCurrent             0\n",
            "S1_OutputVoltage             0\n",
            "S1_OutputPower               0\n",
            "S1_SystemInertia             0\n",
            "M1_CURRENT_PROGRAM_NUMBER    0\n",
            "M1_sequence_number           0\n",
            "M1_CURRENT_FEEDRATE          0\n",
            "Machining_Process            0\n",
            "exp_num                      0\n",
            "material                     0\n",
            "feedrate                     0\n",
            "clamp_pressure               0\n",
            "tool_condition               0\n",
            "machining_finalized          0\n",
            "passed_visual_inspection     0\n",
            "dtype: int64\n",
            "0\n"
          ],
          "name": "stdout"
        }
      ]
    },
    {
      "cell_type": "code",
      "metadata": {
        "id": "xSLsrYbBJr0i",
        "outputId": "bdc96996-e493-4188-9c0b-6d5ecac411fa",
        "colab": {
          "base_uri": "https://localhost:8080/"
        }
      },
      "source": [
        "Data.isnull().any().any()"
      ],
      "execution_count": 20,
      "outputs": [
        {
          "output_type": "execute_result",
          "data": {
            "text/plain": [
              "False"
            ]
          },
          "metadata": {
            "tags": []
          },
          "execution_count": 20
        }
      ]
    },
    {
      "cell_type": "code",
      "metadata": {
        "id": "-rxIlRoAK-H9",
        "outputId": "71713fce-1525-4285-a63c-39c28ab374c8",
        "colab": {
          "base_uri": "https://localhost:8080/",
          "height": 426
        }
      },
      "source": [
        "Data = Data.copy()\n",
        "Data['Machining_Process'] = LabelEncoder().fit_transform(Data['Machining_Process']).astype(np.int8)\n",
        "Data['tool_condition'] = LabelEncoder().fit_transform(Data['tool_condition']).astype(np.int8)\n",
        "Data['machining_finalized'] = LabelEncoder().fit_transform(Data['machining_finalized']).astype(np.int8)\n",
        "Data['passed_visual_inspection'] = LabelEncoder().fit_transform(Data['passed_visual_inspection']).astype(np.int8)\n",
        "Data.drop(['material','exp_num'], axis=1, inplace=True)\n",
        "Data.head(-3)"
      ],
      "execution_count": 21,
      "outputs": [
        {
          "output_type": "execute_result",
          "data": {
            "text/html": [
              "<div>\n",
              "<style scoped>\n",
              "    .dataframe tbody tr th:only-of-type {\n",
              "        vertical-align: middle;\n",
              "    }\n",
              "\n",
              "    .dataframe tbody tr th {\n",
              "        vertical-align: top;\n",
              "    }\n",
              "\n",
              "    .dataframe thead th {\n",
              "        text-align: right;\n",
              "    }\n",
              "</style>\n",
              "<table border=\"1\" class=\"dataframe\">\n",
              "  <thead>\n",
              "    <tr style=\"text-align: right;\">\n",
              "      <th></th>\n",
              "      <th>X1_ActualPosition</th>\n",
              "      <th>X1_ActualVelocity</th>\n",
              "      <th>X1_ActualAcceleration</th>\n",
              "      <th>X1_CommandPosition</th>\n",
              "      <th>X1_CommandVelocity</th>\n",
              "      <th>X1_CommandAcceleration</th>\n",
              "      <th>X1_CurrentFeedback</th>\n",
              "      <th>X1_DCBusVoltage</th>\n",
              "      <th>X1_OutputCurrent</th>\n",
              "      <th>X1_OutputVoltage</th>\n",
              "      <th>X1_OutputPower</th>\n",
              "      <th>Y1_ActualPosition</th>\n",
              "      <th>Y1_ActualVelocity</th>\n",
              "      <th>Y1_ActualAcceleration</th>\n",
              "      <th>Y1_CommandPosition</th>\n",
              "      <th>Y1_CommandVelocity</th>\n",
              "      <th>Y1_CommandAcceleration</th>\n",
              "      <th>Y1_CurrentFeedback</th>\n",
              "      <th>Y1_DCBusVoltage</th>\n",
              "      <th>Y1_OutputCurrent</th>\n",
              "      <th>Y1_OutputVoltage</th>\n",
              "      <th>Y1_OutputPower</th>\n",
              "      <th>Z1_ActualPosition</th>\n",
              "      <th>Z1_ActualVelocity</th>\n",
              "      <th>Z1_ActualAcceleration</th>\n",
              "      <th>Z1_CommandPosition</th>\n",
              "      <th>Z1_CommandVelocity</th>\n",
              "      <th>Z1_CommandAcceleration</th>\n",
              "      <th>Z1_CurrentFeedback</th>\n",
              "      <th>Z1_DCBusVoltage</th>\n",
              "      <th>Z1_OutputCurrent</th>\n",
              "      <th>Z1_OutputVoltage</th>\n",
              "      <th>S1_ActualPosition</th>\n",
              "      <th>S1_ActualVelocity</th>\n",
              "      <th>S1_ActualAcceleration</th>\n",
              "      <th>S1_CommandPosition</th>\n",
              "      <th>S1_CommandVelocity</th>\n",
              "      <th>S1_CommandAcceleration</th>\n",
              "      <th>S1_CurrentFeedback</th>\n",
              "      <th>S1_DCBusVoltage</th>\n",
              "      <th>S1_OutputCurrent</th>\n",
              "      <th>S1_OutputVoltage</th>\n",
              "      <th>S1_OutputPower</th>\n",
              "      <th>S1_SystemInertia</th>\n",
              "      <th>M1_CURRENT_PROGRAM_NUMBER</th>\n",
              "      <th>M1_sequence_number</th>\n",
              "      <th>M1_CURRENT_FEEDRATE</th>\n",
              "      <th>Machining_Process</th>\n",
              "      <th>feedrate</th>\n",
              "      <th>clamp_pressure</th>\n",
              "      <th>tool_condition</th>\n",
              "      <th>machining_finalized</th>\n",
              "      <th>passed_visual_inspection</th>\n",
              "    </tr>\n",
              "  </thead>\n",
              "  <tbody>\n",
              "    <tr>\n",
              "      <th>0</th>\n",
              "      <td>198.0</td>\n",
              "      <td>0.00</td>\n",
              "      <td>0.00</td>\n",
              "      <td>198.0</td>\n",
              "      <td>0.00</td>\n",
              "      <td>0.000000</td>\n",
              "      <td>0.18</td>\n",
              "      <td>0.0207</td>\n",
              "      <td>329.0</td>\n",
              "      <td>2.77</td>\n",
              "      <td>-0.000001</td>\n",
              "      <td>158.0</td>\n",
              "      <td>-0.025</td>\n",
              "      <td>-6.25</td>\n",
              "      <td>158.0</td>\n",
              "      <td>0.00</td>\n",
              "      <td>0.000000</td>\n",
              "      <td>0.539</td>\n",
              "      <td>0.0167</td>\n",
              "      <td>328.0</td>\n",
              "      <td>1.84</td>\n",
              "      <td>6.430000e-07</td>\n",
              "      <td>119.0</td>\n",
              "      <td>0.000</td>\n",
              "      <td>0.00</td>\n",
              "      <td>119.0</td>\n",
              "      <td>0.0</td>\n",
              "      <td>0.000000</td>\n",
              "      <td>0.0</td>\n",
              "      <td>0.0</td>\n",
              "      <td>0.0</td>\n",
              "      <td>0.0</td>\n",
              "      <td>-361.0</td>\n",
              "      <td>0.001</td>\n",
              "      <td>0.250</td>\n",
              "      <td>-361.0</td>\n",
              "      <td>0.0</td>\n",
              "      <td>0.000000e+00</td>\n",
              "      <td>0.524</td>\n",
              "      <td>2.740000e-19</td>\n",
              "      <td>329.0</td>\n",
              "      <td>0.0</td>\n",
              "      <td>6.960000e-07</td>\n",
              "      <td>12.0</td>\n",
              "      <td>1.0</td>\n",
              "      <td>0.0</td>\n",
              "      <td>50.0</td>\n",
              "      <td>7</td>\n",
              "      <td>6</td>\n",
              "      <td>4.0</td>\n",
              "      <td>0</td>\n",
              "      <td>1</td>\n",
              "      <td>1</td>\n",
              "    </tr>\n",
              "    <tr>\n",
              "      <th>1</th>\n",
              "      <td>198.0</td>\n",
              "      <td>-10.80</td>\n",
              "      <td>-350.00</td>\n",
              "      <td>198.0</td>\n",
              "      <td>-13.60</td>\n",
              "      <td>-358.000000</td>\n",
              "      <td>-10.90</td>\n",
              "      <td>0.1860</td>\n",
              "      <td>328.0</td>\n",
              "      <td>23.30</td>\n",
              "      <td>0.004480</td>\n",
              "      <td>158.0</td>\n",
              "      <td>-19.800</td>\n",
              "      <td>-750.00</td>\n",
              "      <td>157.0</td>\n",
              "      <td>-24.60</td>\n",
              "      <td>-647.000000</td>\n",
              "      <td>-14.500</td>\n",
              "      <td>0.2810</td>\n",
              "      <td>325.0</td>\n",
              "      <td>37.80</td>\n",
              "      <td>1.260000e-02</td>\n",
              "      <td>119.0</td>\n",
              "      <td>-20.300</td>\n",
              "      <td>-712.00</td>\n",
              "      <td>118.0</td>\n",
              "      <td>-25.6</td>\n",
              "      <td>-674.000000</td>\n",
              "      <td>0.0</td>\n",
              "      <td>0.0</td>\n",
              "      <td>0.0</td>\n",
              "      <td>0.0</td>\n",
              "      <td>-361.0</td>\n",
              "      <td>0.000</td>\n",
              "      <td>0.250</td>\n",
              "      <td>-361.0</td>\n",
              "      <td>0.0</td>\n",
              "      <td>0.000000e+00</td>\n",
              "      <td>-0.288</td>\n",
              "      <td>2.740000e-19</td>\n",
              "      <td>328.0</td>\n",
              "      <td>0.0</td>\n",
              "      <td>-5.270000e-07</td>\n",
              "      <td>12.0</td>\n",
              "      <td>1.0</td>\n",
              "      <td>4.0</td>\n",
              "      <td>50.0</td>\n",
              "      <td>7</td>\n",
              "      <td>6</td>\n",
              "      <td>4.0</td>\n",
              "      <td>0</td>\n",
              "      <td>1</td>\n",
              "      <td>1</td>\n",
              "    </tr>\n",
              "    <tr>\n",
              "      <th>2</th>\n",
              "      <td>196.0</td>\n",
              "      <td>-17.80</td>\n",
              "      <td>-6.25</td>\n",
              "      <td>196.0</td>\n",
              "      <td>-17.90</td>\n",
              "      <td>-0.000095</td>\n",
              "      <td>-8.59</td>\n",
              "      <td>0.1400</td>\n",
              "      <td>328.0</td>\n",
              "      <td>30.60</td>\n",
              "      <td>0.005330</td>\n",
              "      <td>154.0</td>\n",
              "      <td>-32.500</td>\n",
              "      <td>0.00</td>\n",
              "      <td>154.0</td>\n",
              "      <td>-32.30</td>\n",
              "      <td>-0.000095</td>\n",
              "      <td>-7.790</td>\n",
              "      <td>0.1390</td>\n",
              "      <td>327.0</td>\n",
              "      <td>49.40</td>\n",
              "      <td>9.430000e-03</td>\n",
              "      <td>115.0</td>\n",
              "      <td>-33.700</td>\n",
              "      <td>37.50</td>\n",
              "      <td>115.0</td>\n",
              "      <td>-33.7</td>\n",
              "      <td>-0.000095</td>\n",
              "      <td>0.0</td>\n",
              "      <td>0.0</td>\n",
              "      <td>0.0</td>\n",
              "      <td>0.0</td>\n",
              "      <td>-361.0</td>\n",
              "      <td>0.000</td>\n",
              "      <td>-0.438</td>\n",
              "      <td>-361.0</td>\n",
              "      <td>0.0</td>\n",
              "      <td>0.000000e+00</td>\n",
              "      <td>0.524</td>\n",
              "      <td>2.740000e-19</td>\n",
              "      <td>328.0</td>\n",
              "      <td>0.0</td>\n",
              "      <td>9.100000e-07</td>\n",
              "      <td>12.0</td>\n",
              "      <td>1.0</td>\n",
              "      <td>7.0</td>\n",
              "      <td>50.0</td>\n",
              "      <td>7</td>\n",
              "      <td>6</td>\n",
              "      <td>4.0</td>\n",
              "      <td>0</td>\n",
              "      <td>1</td>\n",
              "      <td>1</td>\n",
              "    </tr>\n",
              "    <tr>\n",
              "      <th>3</th>\n",
              "      <td>194.0</td>\n",
              "      <td>-18.00</td>\n",
              "      <td>0.00</td>\n",
              "      <td>194.0</td>\n",
              "      <td>-17.90</td>\n",
              "      <td>-0.000095</td>\n",
              "      <td>-6.11</td>\n",
              "      <td>0.1300</td>\n",
              "      <td>327.0</td>\n",
              "      <td>30.30</td>\n",
              "      <td>0.004890</td>\n",
              "      <td>151.0</td>\n",
              "      <td>-32.600</td>\n",
              "      <td>-62.50</td>\n",
              "      <td>151.0</td>\n",
              "      <td>-32.30</td>\n",
              "      <td>-0.000095</td>\n",
              "      <td>-8.130</td>\n",
              "      <td>0.1560</td>\n",
              "      <td>325.0</td>\n",
              "      <td>47.60</td>\n",
              "      <td>1.050000e-02</td>\n",
              "      <td>112.0</td>\n",
              "      <td>-33.700</td>\n",
              "      <td>-6.25</td>\n",
              "      <td>112.0</td>\n",
              "      <td>-33.7</td>\n",
              "      <td>0.000000</td>\n",
              "      <td>0.0</td>\n",
              "      <td>0.0</td>\n",
              "      <td>0.0</td>\n",
              "      <td>0.0</td>\n",
              "      <td>-361.0</td>\n",
              "      <td>-0.001</td>\n",
              "      <td>-0.250</td>\n",
              "      <td>-361.0</td>\n",
              "      <td>0.0</td>\n",
              "      <td>0.000000e+00</td>\n",
              "      <td>-0.180</td>\n",
              "      <td>2.740000e-19</td>\n",
              "      <td>328.0</td>\n",
              "      <td>0.0</td>\n",
              "      <td>1.070000e-06</td>\n",
              "      <td>12.0</td>\n",
              "      <td>1.0</td>\n",
              "      <td>7.0</td>\n",
              "      <td>50.0</td>\n",
              "      <td>7</td>\n",
              "      <td>6</td>\n",
              "      <td>4.0</td>\n",
              "      <td>0</td>\n",
              "      <td>1</td>\n",
              "      <td>1</td>\n",
              "    </tr>\n",
              "    <tr>\n",
              "      <th>4</th>\n",
              "      <td>193.0</td>\n",
              "      <td>-17.90</td>\n",
              "      <td>-18.80</td>\n",
              "      <td>192.0</td>\n",
              "      <td>-17.90</td>\n",
              "      <td>0.000095</td>\n",
              "      <td>-5.70</td>\n",
              "      <td>0.1140</td>\n",
              "      <td>328.0</td>\n",
              "      <td>30.50</td>\n",
              "      <td>0.004250</td>\n",
              "      <td>148.0</td>\n",
              "      <td>-32.000</td>\n",
              "      <td>138.00</td>\n",
              "      <td>148.0</td>\n",
              "      <td>-32.30</td>\n",
              "      <td>0.000095</td>\n",
              "      <td>-13.800</td>\n",
              "      <td>0.2020</td>\n",
              "      <td>326.0</td>\n",
              "      <td>47.10</td>\n",
              "      <td>1.350000e-02</td>\n",
              "      <td>109.0</td>\n",
              "      <td>-33.600</td>\n",
              "      <td>18.80</td>\n",
              "      <td>108.0</td>\n",
              "      <td>-33.7</td>\n",
              "      <td>0.000000</td>\n",
              "      <td>0.0</td>\n",
              "      <td>0.0</td>\n",
              "      <td>0.0</td>\n",
              "      <td>0.0</td>\n",
              "      <td>-361.0</td>\n",
              "      <td>0.000</td>\n",
              "      <td>-0.188</td>\n",
              "      <td>-361.0</td>\n",
              "      <td>0.0</td>\n",
              "      <td>0.000000e+00</td>\n",
              "      <td>0.226</td>\n",
              "      <td>2.740000e-19</td>\n",
              "      <td>328.0</td>\n",
              "      <td>0.0</td>\n",
              "      <td>1.960000e-06</td>\n",
              "      <td>12.0</td>\n",
              "      <td>1.0</td>\n",
              "      <td>7.0</td>\n",
              "      <td>50.0</td>\n",
              "      <td>7</td>\n",
              "      <td>6</td>\n",
              "      <td>4.0</td>\n",
              "      <td>0</td>\n",
              "      <td>1</td>\n",
              "      <td>1</td>\n",
              "    </tr>\n",
              "    <tr>\n",
              "      <th>...</th>\n",
              "      <td>...</td>\n",
              "      <td>...</td>\n",
              "      <td>...</td>\n",
              "      <td>...</td>\n",
              "      <td>...</td>\n",
              "      <td>...</td>\n",
              "      <td>...</td>\n",
              "      <td>...</td>\n",
              "      <td>...</td>\n",
              "      <td>...</td>\n",
              "      <td>...</td>\n",
              "      <td>...</td>\n",
              "      <td>...</td>\n",
              "      <td>...</td>\n",
              "      <td>...</td>\n",
              "      <td>...</td>\n",
              "      <td>...</td>\n",
              "      <td>...</td>\n",
              "      <td>...</td>\n",
              "      <td>...</td>\n",
              "      <td>...</td>\n",
              "      <td>...</td>\n",
              "      <td>...</td>\n",
              "      <td>...</td>\n",
              "      <td>...</td>\n",
              "      <td>...</td>\n",
              "      <td>...</td>\n",
              "      <td>...</td>\n",
              "      <td>...</td>\n",
              "      <td>...</td>\n",
              "      <td>...</td>\n",
              "      <td>...</td>\n",
              "      <td>...</td>\n",
              "      <td>...</td>\n",
              "      <td>...</td>\n",
              "      <td>...</td>\n",
              "      <td>...</td>\n",
              "      <td>...</td>\n",
              "      <td>...</td>\n",
              "      <td>...</td>\n",
              "      <td>...</td>\n",
              "      <td>...</td>\n",
              "      <td>...</td>\n",
              "      <td>...</td>\n",
              "      <td>...</td>\n",
              "      <td>...</td>\n",
              "      <td>...</td>\n",
              "      <td>...</td>\n",
              "      <td>...</td>\n",
              "      <td>...</td>\n",
              "      <td>...</td>\n",
              "      <td>...</td>\n",
              "      <td>...</td>\n",
              "    </tr>\n",
              "    <tr>\n",
              "      <th>25278</th>\n",
              "      <td>145.0</td>\n",
              "      <td>-2.63</td>\n",
              "      <td>37.50</td>\n",
              "      <td>145.0</td>\n",
              "      <td>-2.81</td>\n",
              "      <td>0.656000</td>\n",
              "      <td>-6.22</td>\n",
              "      <td>0.0872</td>\n",
              "      <td>327.0</td>\n",
              "      <td>9.55</td>\n",
              "      <td>0.000484</td>\n",
              "      <td>73.3</td>\n",
              "      <td>1.050</td>\n",
              "      <td>-12.50</td>\n",
              "      <td>73.3</td>\n",
              "      <td>1.04</td>\n",
              "      <td>1.770000</td>\n",
              "      <td>9.000</td>\n",
              "      <td>0.1350</td>\n",
              "      <td>326.0</td>\n",
              "      <td>7.92</td>\n",
              "      <td>3.060000e-04</td>\n",
              "      <td>28.7</td>\n",
              "      <td>0.000</td>\n",
              "      <td>0.00</td>\n",
              "      <td>28.7</td>\n",
              "      <td>0.0</td>\n",
              "      <td>0.000000</td>\n",
              "      <td>0.0</td>\n",
              "      <td>0.0</td>\n",
              "      <td>0.0</td>\n",
              "      <td>0.0</td>\n",
              "      <td>-88.4</td>\n",
              "      <td>53.300</td>\n",
              "      <td>-9.310</td>\n",
              "      <td>-88.0</td>\n",
              "      <td>53.3</td>\n",
              "      <td>-9.540000e-07</td>\n",
              "      <td>19.700</td>\n",
              "      <td>7.470000e-01</td>\n",
              "      <td>323.0</td>\n",
              "      <td>121.0</td>\n",
              "      <td>1.420000e-01</td>\n",
              "      <td>12.0</td>\n",
              "      <td>1.0</td>\n",
              "      <td>57.0</td>\n",
              "      <td>3.0</td>\n",
              "      <td>0</td>\n",
              "      <td>3</td>\n",
              "      <td>2.5</td>\n",
              "      <td>1</td>\n",
              "      <td>1</td>\n",
              "      <td>1</td>\n",
              "    </tr>\n",
              "    <tr>\n",
              "      <th>25279</th>\n",
              "      <td>144.0</td>\n",
              "      <td>-2.63</td>\n",
              "      <td>75.00</td>\n",
              "      <td>144.0</td>\n",
              "      <td>-2.74</td>\n",
              "      <td>0.766000</td>\n",
              "      <td>-4.67</td>\n",
              "      <td>0.0710</td>\n",
              "      <td>327.0</td>\n",
              "      <td>9.56</td>\n",
              "      <td>0.000393</td>\n",
              "      <td>73.4</td>\n",
              "      <td>1.230</td>\n",
              "      <td>0.00</td>\n",
              "      <td>73.4</td>\n",
              "      <td>1.22</td>\n",
              "      <td>1.730000</td>\n",
              "      <td>5.630</td>\n",
              "      <td>0.0983</td>\n",
              "      <td>326.0</td>\n",
              "      <td>8.67</td>\n",
              "      <td>2.810000e-04</td>\n",
              "      <td>28.7</td>\n",
              "      <td>0.000</td>\n",
              "      <td>0.00</td>\n",
              "      <td>28.7</td>\n",
              "      <td>0.0</td>\n",
              "      <td>0.000000</td>\n",
              "      <td>0.0</td>\n",
              "      <td>0.0</td>\n",
              "      <td>0.0</td>\n",
              "      <td>0.0</td>\n",
              "      <td>-83.1</td>\n",
              "      <td>53.300</td>\n",
              "      <td>-2.750</td>\n",
              "      <td>-82.6</td>\n",
              "      <td>53.3</td>\n",
              "      <td>0.000000e+00</td>\n",
              "      <td>22.400</td>\n",
              "      <td>1.100000e+00</td>\n",
              "      <td>320.0</td>\n",
              "      <td>117.0</td>\n",
              "      <td>2.130000e-01</td>\n",
              "      <td>12.0</td>\n",
              "      <td>1.0</td>\n",
              "      <td>57.0</td>\n",
              "      <td>3.0</td>\n",
              "      <td>0</td>\n",
              "      <td>3</td>\n",
              "      <td>2.5</td>\n",
              "      <td>1</td>\n",
              "      <td>1</td>\n",
              "      <td>1</td>\n",
              "    </tr>\n",
              "    <tr>\n",
              "      <th>25280</th>\n",
              "      <td>144.0</td>\n",
              "      <td>-2.67</td>\n",
              "      <td>12.50</td>\n",
              "      <td>144.0</td>\n",
              "      <td>-2.66</td>\n",
              "      <td>0.873000</td>\n",
              "      <td>-5.21</td>\n",
              "      <td>0.0793</td>\n",
              "      <td>327.0</td>\n",
              "      <td>9.30</td>\n",
              "      <td>0.000462</td>\n",
              "      <td>73.5</td>\n",
              "      <td>1.350</td>\n",
              "      <td>-12.50</td>\n",
              "      <td>73.5</td>\n",
              "      <td>1.39</td>\n",
              "      <td>1.680000</td>\n",
              "      <td>4.940</td>\n",
              "      <td>0.0821</td>\n",
              "      <td>326.0</td>\n",
              "      <td>8.31</td>\n",
              "      <td>2.410000e-04</td>\n",
              "      <td>28.7</td>\n",
              "      <td>-0.025</td>\n",
              "      <td>-6.25</td>\n",
              "      <td>28.7</td>\n",
              "      <td>0.0</td>\n",
              "      <td>0.000000</td>\n",
              "      <td>0.0</td>\n",
              "      <td>0.0</td>\n",
              "      <td>0.0</td>\n",
              "      <td>0.0</td>\n",
              "      <td>-77.7</td>\n",
              "      <td>53.400</td>\n",
              "      <td>30.700</td>\n",
              "      <td>-77.3</td>\n",
              "      <td>53.3</td>\n",
              "      <td>0.000000e+00</td>\n",
              "      <td>16.500</td>\n",
              "      <td>8.400000e-01</td>\n",
              "      <td>321.0</td>\n",
              "      <td>118.0</td>\n",
              "      <td>1.620000e-01</td>\n",
              "      <td>12.0</td>\n",
              "      <td>1.0</td>\n",
              "      <td>57.0</td>\n",
              "      <td>3.0</td>\n",
              "      <td>0</td>\n",
              "      <td>3</td>\n",
              "      <td>2.5</td>\n",
              "      <td>1</td>\n",
              "      <td>1</td>\n",
              "      <td>1</td>\n",
              "    </tr>\n",
              "    <tr>\n",
              "      <th>25281</th>\n",
              "      <td>144.0</td>\n",
              "      <td>-2.30</td>\n",
              "      <td>100.00</td>\n",
              "      <td>144.0</td>\n",
              "      <td>-2.57</td>\n",
              "      <td>0.977000</td>\n",
              "      <td>-5.05</td>\n",
              "      <td>0.0732</td>\n",
              "      <td>327.0</td>\n",
              "      <td>9.56</td>\n",
              "      <td>0.000366</td>\n",
              "      <td>73.7</td>\n",
              "      <td>1.450</td>\n",
              "      <td>-25.00</td>\n",
              "      <td>73.7</td>\n",
              "      <td>1.55</td>\n",
              "      <td>1.620000</td>\n",
              "      <td>4.680</td>\n",
              "      <td>0.0633</td>\n",
              "      <td>326.0</td>\n",
              "      <td>7.49</td>\n",
              "      <td>1.860000e-04</td>\n",
              "      <td>28.7</td>\n",
              "      <td>0.000</td>\n",
              "      <td>-6.25</td>\n",
              "      <td>28.7</td>\n",
              "      <td>0.0</td>\n",
              "      <td>0.000000</td>\n",
              "      <td>0.0</td>\n",
              "      <td>0.0</td>\n",
              "      <td>0.0</td>\n",
              "      <td>0.0</td>\n",
              "      <td>-72.4</td>\n",
              "      <td>53.300</td>\n",
              "      <td>-63.600</td>\n",
              "      <td>-72.0</td>\n",
              "      <td>53.3</td>\n",
              "      <td>0.000000e+00</td>\n",
              "      <td>20.000</td>\n",
              "      <td>8.260000e-01</td>\n",
              "      <td>323.0</td>\n",
              "      <td>118.0</td>\n",
              "      <td>1.580000e-01</td>\n",
              "      <td>12.0</td>\n",
              "      <td>1.0</td>\n",
              "      <td>57.0</td>\n",
              "      <td>3.0</td>\n",
              "      <td>0</td>\n",
              "      <td>3</td>\n",
              "      <td>2.5</td>\n",
              "      <td>1</td>\n",
              "      <td>1</td>\n",
              "      <td>1</td>\n",
              "    </tr>\n",
              "    <tr>\n",
              "      <th>25282</th>\n",
              "      <td>144.0</td>\n",
              "      <td>-2.47</td>\n",
              "      <td>25.00</td>\n",
              "      <td>144.0</td>\n",
              "      <td>-2.46</td>\n",
              "      <td>1.080000</td>\n",
              "      <td>-5.62</td>\n",
              "      <td>0.0996</td>\n",
              "      <td>327.0</td>\n",
              "      <td>10.30</td>\n",
              "      <td>0.000506</td>\n",
              "      <td>73.8</td>\n",
              "      <td>1.700</td>\n",
              "      <td>-12.50</td>\n",
              "      <td>73.9</td>\n",
              "      <td>1.71</td>\n",
              "      <td>1.550000</td>\n",
              "      <td>5.360</td>\n",
              "      <td>0.0787</td>\n",
              "      <td>326.0</td>\n",
              "      <td>8.17</td>\n",
              "      <td>2.620000e-04</td>\n",
              "      <td>28.7</td>\n",
              "      <td>0.000</td>\n",
              "      <td>-6.25</td>\n",
              "      <td>28.7</td>\n",
              "      <td>0.0</td>\n",
              "      <td>0.000000</td>\n",
              "      <td>0.0</td>\n",
              "      <td>0.0</td>\n",
              "      <td>0.0</td>\n",
              "      <td>0.0</td>\n",
              "      <td>-67.1</td>\n",
              "      <td>53.400</td>\n",
              "      <td>41.200</td>\n",
              "      <td>-66.6</td>\n",
              "      <td>53.3</td>\n",
              "      <td>9.540000e-07</td>\n",
              "      <td>18.800</td>\n",
              "      <td>9.710000e-01</td>\n",
              "      <td>320.0</td>\n",
              "      <td>119.0</td>\n",
              "      <td>1.870000e-01</td>\n",
              "      <td>12.0</td>\n",
              "      <td>1.0</td>\n",
              "      <td>57.0</td>\n",
              "      <td>3.0</td>\n",
              "      <td>0</td>\n",
              "      <td>3</td>\n",
              "      <td>2.5</td>\n",
              "      <td>1</td>\n",
              "      <td>1</td>\n",
              "      <td>1</td>\n",
              "    </tr>\n",
              "  </tbody>\n",
              "</table>\n",
              "<p>25283 rows × 53 columns</p>\n",
              "</div>"
            ],
            "text/plain": [
              "       X1_ActualPosition  ...  passed_visual_inspection\n",
              "0                  198.0  ...                         1\n",
              "1                  198.0  ...                         1\n",
              "2                  196.0  ...                         1\n",
              "3                  194.0  ...                         1\n",
              "4                  193.0  ...                         1\n",
              "...                  ...  ...                       ...\n",
              "25278              145.0  ...                         1\n",
              "25279              144.0  ...                         1\n",
              "25280              144.0  ...                         1\n",
              "25281              144.0  ...                         1\n",
              "25282              144.0  ...                         1\n",
              "\n",
              "[25283 rows x 53 columns]"
            ]
          },
          "metadata": {
            "tags": []
          },
          "execution_count": 21
        }
      ]
    },
    {
      "cell_type": "code",
      "metadata": {
        "id": "tEzxHkYbM4c3",
        "outputId": "660562c8-4de0-4130-9b2c-e1f6953d3105",
        "colab": {
          "base_uri": "https://localhost:8080/",
          "height": 217
        }
      },
      "source": [
        "features = Data.drop(['tool_condition', 'machining_finalized', 'passed_visual_inspection'], axis = 1)\n",
        "features.head()"
      ],
      "execution_count": 22,
      "outputs": [
        {
          "output_type": "execute_result",
          "data": {
            "text/html": [
              "<div>\n",
              "<style scoped>\n",
              "    .dataframe tbody tr th:only-of-type {\n",
              "        vertical-align: middle;\n",
              "    }\n",
              "\n",
              "    .dataframe tbody tr th {\n",
              "        vertical-align: top;\n",
              "    }\n",
              "\n",
              "    .dataframe thead th {\n",
              "        text-align: right;\n",
              "    }\n",
              "</style>\n",
              "<table border=\"1\" class=\"dataframe\">\n",
              "  <thead>\n",
              "    <tr style=\"text-align: right;\">\n",
              "      <th></th>\n",
              "      <th>X1_ActualPosition</th>\n",
              "      <th>X1_ActualVelocity</th>\n",
              "      <th>X1_ActualAcceleration</th>\n",
              "      <th>X1_CommandPosition</th>\n",
              "      <th>X1_CommandVelocity</th>\n",
              "      <th>X1_CommandAcceleration</th>\n",
              "      <th>X1_CurrentFeedback</th>\n",
              "      <th>X1_DCBusVoltage</th>\n",
              "      <th>X1_OutputCurrent</th>\n",
              "      <th>X1_OutputVoltage</th>\n",
              "      <th>X1_OutputPower</th>\n",
              "      <th>Y1_ActualPosition</th>\n",
              "      <th>Y1_ActualVelocity</th>\n",
              "      <th>Y1_ActualAcceleration</th>\n",
              "      <th>Y1_CommandPosition</th>\n",
              "      <th>Y1_CommandVelocity</th>\n",
              "      <th>Y1_CommandAcceleration</th>\n",
              "      <th>Y1_CurrentFeedback</th>\n",
              "      <th>Y1_DCBusVoltage</th>\n",
              "      <th>Y1_OutputCurrent</th>\n",
              "      <th>Y1_OutputVoltage</th>\n",
              "      <th>Y1_OutputPower</th>\n",
              "      <th>Z1_ActualPosition</th>\n",
              "      <th>Z1_ActualVelocity</th>\n",
              "      <th>Z1_ActualAcceleration</th>\n",
              "      <th>Z1_CommandPosition</th>\n",
              "      <th>Z1_CommandVelocity</th>\n",
              "      <th>Z1_CommandAcceleration</th>\n",
              "      <th>Z1_CurrentFeedback</th>\n",
              "      <th>Z1_DCBusVoltage</th>\n",
              "      <th>Z1_OutputCurrent</th>\n",
              "      <th>Z1_OutputVoltage</th>\n",
              "      <th>S1_ActualPosition</th>\n",
              "      <th>S1_ActualVelocity</th>\n",
              "      <th>S1_ActualAcceleration</th>\n",
              "      <th>S1_CommandPosition</th>\n",
              "      <th>S1_CommandVelocity</th>\n",
              "      <th>S1_CommandAcceleration</th>\n",
              "      <th>S1_CurrentFeedback</th>\n",
              "      <th>S1_DCBusVoltage</th>\n",
              "      <th>S1_OutputCurrent</th>\n",
              "      <th>S1_OutputVoltage</th>\n",
              "      <th>S1_OutputPower</th>\n",
              "      <th>S1_SystemInertia</th>\n",
              "      <th>M1_CURRENT_PROGRAM_NUMBER</th>\n",
              "      <th>M1_sequence_number</th>\n",
              "      <th>M1_CURRENT_FEEDRATE</th>\n",
              "      <th>Machining_Process</th>\n",
              "      <th>feedrate</th>\n",
              "      <th>clamp_pressure</th>\n",
              "    </tr>\n",
              "  </thead>\n",
              "  <tbody>\n",
              "    <tr>\n",
              "      <th>0</th>\n",
              "      <td>198.0</td>\n",
              "      <td>0.0</td>\n",
              "      <td>0.00</td>\n",
              "      <td>198.0</td>\n",
              "      <td>0.0</td>\n",
              "      <td>0.000000</td>\n",
              "      <td>0.18</td>\n",
              "      <td>0.0207</td>\n",
              "      <td>329.0</td>\n",
              "      <td>2.77</td>\n",
              "      <td>-0.000001</td>\n",
              "      <td>158.0</td>\n",
              "      <td>-0.025</td>\n",
              "      <td>-6.25</td>\n",
              "      <td>158.0</td>\n",
              "      <td>0.0</td>\n",
              "      <td>0.000000</td>\n",
              "      <td>0.539</td>\n",
              "      <td>0.0167</td>\n",
              "      <td>328.0</td>\n",
              "      <td>1.84</td>\n",
              "      <td>6.430000e-07</td>\n",
              "      <td>119.0</td>\n",
              "      <td>0.0</td>\n",
              "      <td>0.00</td>\n",
              "      <td>119.0</td>\n",
              "      <td>0.0</td>\n",
              "      <td>0.000000</td>\n",
              "      <td>0.0</td>\n",
              "      <td>0.0</td>\n",
              "      <td>0.0</td>\n",
              "      <td>0.0</td>\n",
              "      <td>-361.0</td>\n",
              "      <td>0.001</td>\n",
              "      <td>0.250</td>\n",
              "      <td>-361.0</td>\n",
              "      <td>0.0</td>\n",
              "      <td>0.0</td>\n",
              "      <td>0.524</td>\n",
              "      <td>2.740000e-19</td>\n",
              "      <td>329.0</td>\n",
              "      <td>0.0</td>\n",
              "      <td>6.960000e-07</td>\n",
              "      <td>12.0</td>\n",
              "      <td>1.0</td>\n",
              "      <td>0.0</td>\n",
              "      <td>50.0</td>\n",
              "      <td>7</td>\n",
              "      <td>6</td>\n",
              "      <td>4.0</td>\n",
              "    </tr>\n",
              "    <tr>\n",
              "      <th>1</th>\n",
              "      <td>198.0</td>\n",
              "      <td>-10.8</td>\n",
              "      <td>-350.00</td>\n",
              "      <td>198.0</td>\n",
              "      <td>-13.6</td>\n",
              "      <td>-358.000000</td>\n",
              "      <td>-10.90</td>\n",
              "      <td>0.1860</td>\n",
              "      <td>328.0</td>\n",
              "      <td>23.30</td>\n",
              "      <td>0.004480</td>\n",
              "      <td>158.0</td>\n",
              "      <td>-19.800</td>\n",
              "      <td>-750.00</td>\n",
              "      <td>157.0</td>\n",
              "      <td>-24.6</td>\n",
              "      <td>-647.000000</td>\n",
              "      <td>-14.500</td>\n",
              "      <td>0.2810</td>\n",
              "      <td>325.0</td>\n",
              "      <td>37.80</td>\n",
              "      <td>1.260000e-02</td>\n",
              "      <td>119.0</td>\n",
              "      <td>-20.3</td>\n",
              "      <td>-712.00</td>\n",
              "      <td>118.0</td>\n",
              "      <td>-25.6</td>\n",
              "      <td>-674.000000</td>\n",
              "      <td>0.0</td>\n",
              "      <td>0.0</td>\n",
              "      <td>0.0</td>\n",
              "      <td>0.0</td>\n",
              "      <td>-361.0</td>\n",
              "      <td>0.000</td>\n",
              "      <td>0.250</td>\n",
              "      <td>-361.0</td>\n",
              "      <td>0.0</td>\n",
              "      <td>0.0</td>\n",
              "      <td>-0.288</td>\n",
              "      <td>2.740000e-19</td>\n",
              "      <td>328.0</td>\n",
              "      <td>0.0</td>\n",
              "      <td>-5.270000e-07</td>\n",
              "      <td>12.0</td>\n",
              "      <td>1.0</td>\n",
              "      <td>4.0</td>\n",
              "      <td>50.0</td>\n",
              "      <td>7</td>\n",
              "      <td>6</td>\n",
              "      <td>4.0</td>\n",
              "    </tr>\n",
              "    <tr>\n",
              "      <th>2</th>\n",
              "      <td>196.0</td>\n",
              "      <td>-17.8</td>\n",
              "      <td>-6.25</td>\n",
              "      <td>196.0</td>\n",
              "      <td>-17.9</td>\n",
              "      <td>-0.000095</td>\n",
              "      <td>-8.59</td>\n",
              "      <td>0.1400</td>\n",
              "      <td>328.0</td>\n",
              "      <td>30.60</td>\n",
              "      <td>0.005330</td>\n",
              "      <td>154.0</td>\n",
              "      <td>-32.500</td>\n",
              "      <td>0.00</td>\n",
              "      <td>154.0</td>\n",
              "      <td>-32.3</td>\n",
              "      <td>-0.000095</td>\n",
              "      <td>-7.790</td>\n",
              "      <td>0.1390</td>\n",
              "      <td>327.0</td>\n",
              "      <td>49.40</td>\n",
              "      <td>9.430000e-03</td>\n",
              "      <td>115.0</td>\n",
              "      <td>-33.7</td>\n",
              "      <td>37.50</td>\n",
              "      <td>115.0</td>\n",
              "      <td>-33.7</td>\n",
              "      <td>-0.000095</td>\n",
              "      <td>0.0</td>\n",
              "      <td>0.0</td>\n",
              "      <td>0.0</td>\n",
              "      <td>0.0</td>\n",
              "      <td>-361.0</td>\n",
              "      <td>0.000</td>\n",
              "      <td>-0.438</td>\n",
              "      <td>-361.0</td>\n",
              "      <td>0.0</td>\n",
              "      <td>0.0</td>\n",
              "      <td>0.524</td>\n",
              "      <td>2.740000e-19</td>\n",
              "      <td>328.0</td>\n",
              "      <td>0.0</td>\n",
              "      <td>9.100000e-07</td>\n",
              "      <td>12.0</td>\n",
              "      <td>1.0</td>\n",
              "      <td>7.0</td>\n",
              "      <td>50.0</td>\n",
              "      <td>7</td>\n",
              "      <td>6</td>\n",
              "      <td>4.0</td>\n",
              "    </tr>\n",
              "    <tr>\n",
              "      <th>3</th>\n",
              "      <td>194.0</td>\n",
              "      <td>-18.0</td>\n",
              "      <td>0.00</td>\n",
              "      <td>194.0</td>\n",
              "      <td>-17.9</td>\n",
              "      <td>-0.000095</td>\n",
              "      <td>-6.11</td>\n",
              "      <td>0.1300</td>\n",
              "      <td>327.0</td>\n",
              "      <td>30.30</td>\n",
              "      <td>0.004890</td>\n",
              "      <td>151.0</td>\n",
              "      <td>-32.600</td>\n",
              "      <td>-62.50</td>\n",
              "      <td>151.0</td>\n",
              "      <td>-32.3</td>\n",
              "      <td>-0.000095</td>\n",
              "      <td>-8.130</td>\n",
              "      <td>0.1560</td>\n",
              "      <td>325.0</td>\n",
              "      <td>47.60</td>\n",
              "      <td>1.050000e-02</td>\n",
              "      <td>112.0</td>\n",
              "      <td>-33.7</td>\n",
              "      <td>-6.25</td>\n",
              "      <td>112.0</td>\n",
              "      <td>-33.7</td>\n",
              "      <td>0.000000</td>\n",
              "      <td>0.0</td>\n",
              "      <td>0.0</td>\n",
              "      <td>0.0</td>\n",
              "      <td>0.0</td>\n",
              "      <td>-361.0</td>\n",
              "      <td>-0.001</td>\n",
              "      <td>-0.250</td>\n",
              "      <td>-361.0</td>\n",
              "      <td>0.0</td>\n",
              "      <td>0.0</td>\n",
              "      <td>-0.180</td>\n",
              "      <td>2.740000e-19</td>\n",
              "      <td>328.0</td>\n",
              "      <td>0.0</td>\n",
              "      <td>1.070000e-06</td>\n",
              "      <td>12.0</td>\n",
              "      <td>1.0</td>\n",
              "      <td>7.0</td>\n",
              "      <td>50.0</td>\n",
              "      <td>7</td>\n",
              "      <td>6</td>\n",
              "      <td>4.0</td>\n",
              "    </tr>\n",
              "    <tr>\n",
              "      <th>4</th>\n",
              "      <td>193.0</td>\n",
              "      <td>-17.9</td>\n",
              "      <td>-18.80</td>\n",
              "      <td>192.0</td>\n",
              "      <td>-17.9</td>\n",
              "      <td>0.000095</td>\n",
              "      <td>-5.70</td>\n",
              "      <td>0.1140</td>\n",
              "      <td>328.0</td>\n",
              "      <td>30.50</td>\n",
              "      <td>0.004250</td>\n",
              "      <td>148.0</td>\n",
              "      <td>-32.000</td>\n",
              "      <td>138.00</td>\n",
              "      <td>148.0</td>\n",
              "      <td>-32.3</td>\n",
              "      <td>0.000095</td>\n",
              "      <td>-13.800</td>\n",
              "      <td>0.2020</td>\n",
              "      <td>326.0</td>\n",
              "      <td>47.10</td>\n",
              "      <td>1.350000e-02</td>\n",
              "      <td>109.0</td>\n",
              "      <td>-33.6</td>\n",
              "      <td>18.80</td>\n",
              "      <td>108.0</td>\n",
              "      <td>-33.7</td>\n",
              "      <td>0.000000</td>\n",
              "      <td>0.0</td>\n",
              "      <td>0.0</td>\n",
              "      <td>0.0</td>\n",
              "      <td>0.0</td>\n",
              "      <td>-361.0</td>\n",
              "      <td>0.000</td>\n",
              "      <td>-0.188</td>\n",
              "      <td>-361.0</td>\n",
              "      <td>0.0</td>\n",
              "      <td>0.0</td>\n",
              "      <td>0.226</td>\n",
              "      <td>2.740000e-19</td>\n",
              "      <td>328.0</td>\n",
              "      <td>0.0</td>\n",
              "      <td>1.960000e-06</td>\n",
              "      <td>12.0</td>\n",
              "      <td>1.0</td>\n",
              "      <td>7.0</td>\n",
              "      <td>50.0</td>\n",
              "      <td>7</td>\n",
              "      <td>6</td>\n",
              "      <td>4.0</td>\n",
              "    </tr>\n",
              "  </tbody>\n",
              "</table>\n",
              "</div>"
            ],
            "text/plain": [
              "   X1_ActualPosition  X1_ActualVelocity  ...  feedrate  clamp_pressure\n",
              "0              198.0                0.0  ...         6             4.0\n",
              "1              198.0              -10.8  ...         6             4.0\n",
              "2              196.0              -17.8  ...         6             4.0\n",
              "3              194.0              -18.0  ...         6             4.0\n",
              "4              193.0              -17.9  ...         6             4.0\n",
              "\n",
              "[5 rows x 50 columns]"
            ]
          },
          "metadata": {
            "tags": []
          },
          "execution_count": 22
        }
      ]
    },
    {
      "cell_type": "code",
      "metadata": {
        "id": "tau5HQLcK2WL",
        "outputId": "ea29c141-019b-4a87-bddb-1fd54cc4d6bb",
        "colab": {
          "base_uri": "https://localhost:8080/"
        }
      },
      "source": [
        "# finding missing and categorical values\n",
        "\n",
        "\n",
        "col_missing_values = [col for col in features.columns\n",
        "                     if features[col].isnull().any() and features[col].dtype]\n",
        "\n",
        "# col wit numerical values which is null in this project\n",
        "col_numerical_values = [col for col in features.columns if features[col].dtype in ['int64', 'float64']]\n",
        "\n",
        "# col with categorical values\n",
        "col_categorical_values = [col for col in features.columns \n",
        "                         if features[col].dtype == 'object']\n",
        "\n",
        "#missing values cout per col\n",
        "missing_val_count_by_column = (features.isnull().sum())\n",
        "print(missing_val_count_by_column[missing_val_count_by_column > 0])\n",
        "print(col_categorical_values)\n",
        "print(col_numerical_values)"
      ],
      "execution_count": 23,
      "outputs": [
        {
          "output_type": "stream",
          "text": [
            "Series([], dtype: int64)\n",
            "[]\n",
            "['X1_ActualPosition', 'X1_ActualVelocity', 'X1_ActualAcceleration', 'X1_CommandPosition', 'X1_CommandVelocity', 'X1_CommandAcceleration', 'X1_CurrentFeedback', 'X1_DCBusVoltage', 'X1_OutputCurrent', 'X1_OutputVoltage', 'X1_OutputPower', 'Y1_ActualPosition', 'Y1_ActualVelocity', 'Y1_ActualAcceleration', 'Y1_CommandPosition', 'Y1_CommandVelocity', 'Y1_CommandAcceleration', 'Y1_CurrentFeedback', 'Y1_DCBusVoltage', 'Y1_OutputCurrent', 'Y1_OutputVoltage', 'Y1_OutputPower', 'Z1_ActualPosition', 'Z1_ActualVelocity', 'Z1_ActualAcceleration', 'Z1_CommandPosition', 'Z1_CommandVelocity', 'Z1_CommandAcceleration', 'Z1_CurrentFeedback', 'Z1_DCBusVoltage', 'Z1_OutputCurrent', 'Z1_OutputVoltage', 'S1_ActualPosition', 'S1_ActualVelocity', 'S1_ActualAcceleration', 'S1_CommandPosition', 'S1_CommandVelocity', 'S1_CommandAcceleration', 'S1_CurrentFeedback', 'S1_DCBusVoltage', 'S1_OutputCurrent', 'S1_OutputVoltage', 'S1_OutputPower', 'S1_SystemInertia', 'M1_CURRENT_PROGRAM_NUMBER', 'M1_sequence_number', 'M1_CURRENT_FEEDRATE', 'feedrate', 'clamp_pressure']\n"
          ],
          "name": "stdout"
        }
      ]
    },
    {
      "cell_type": "markdown",
      "metadata": {
        "id": "OBZ7fn0COedI"
      },
      "source": [
        "**PCA**"
      ]
    },
    {
      "cell_type": "code",
      "metadata": {
        "id": "nnC2ndiBOjFI",
        "outputId": "15d48870-8f29-46b8-e55b-778baae33924",
        "colab": {
          "base_uri": "https://localhost:8080/"
        }
      },
      "source": [
        "# scalling the features \n",
        "Scaler =StandardScaler()\n",
        "s_features =Scaler.fit_transform(features)\n",
        "\n",
        "# Create a PCA that will retain 99% of variance\n",
        "pca = PCA(n_components=0.99, whiten=True)\n",
        "# Conduct PCA\n",
        "pca_features = pca.fit_transform(s_features)\n",
        "# Show results\n",
        "print(\"Original number of features:\", features.shape[1])\n",
        "print(\"Reduced number of features:\", pca_features.shape[1])"
      ],
      "execution_count": 24,
      "outputs": [
        {
          "output_type": "stream",
          "text": [
            "Original number of features: 50\n",
            "Reduced number of features: 29\n"
          ],
          "name": "stdout"
        }
      ]
    },
    {
      "cell_type": "code",
      "metadata": {
        "id": "olpliHtAPYNL",
        "outputId": "474175c7-8512-43c9-8293-7b9d440bb754",
        "colab": {
          "base_uri": "https://localhost:8080/"
        }
      },
      "source": [
        "pca_features"
      ],
      "execution_count": 25,
      "outputs": [
        {
          "output_type": "execute_result",
          "data": {
            "text/plain": [
              "array([[-1.91847112, -0.25404615,  0.21703987, ...,  0.98716385,\n",
              "        -0.64710961, -0.72721905],\n",
              "       [-1.31037969,  5.77811943, -0.27797356, ...,  0.2860895 ,\n",
              "         0.55629937, -1.98779917],\n",
              "       [-1.44781083,  6.24744618, -1.10798947, ..., -0.6305137 ,\n",
              "        -0.42369405, -0.57175882],\n",
              "       ...,\n",
              "       [ 0.66580423, -0.34152727, -0.78404935, ..., -0.02327893,\n",
              "        -0.45529226,  0.56593969],\n",
              "       [ 0.70080117, -0.17088909, -0.74140451, ..., -0.2467377 ,\n",
              "         0.29445225,  0.30268362],\n",
              "       [ 0.68404868, -0.27264395, -0.76620541, ..., -0.51887735,\n",
              "         0.46779791,  0.35755015]])"
            ]
          },
          "metadata": {
            "tags": []
          },
          "execution_count": 25
        }
      ]
    },
    {
      "cell_type": "markdown",
      "metadata": {
        "id": "zt8vF49PDV--"
      },
      "source": [
        "# **Model Prediction**"
      ]
    },
    {
      "cell_type": "code",
      "metadata": {
        "id": "sNLXoeAHDaWl"
      },
      "source": [
        "def get_Model_prediction(model, test_data, test_labels):\n",
        "  import numpy as np\n",
        "\n",
        "  # # Evaluation on test dataset\n",
        "  # test_loss, test_score = model.evaluate(test_data, test_labels, batch_size=32)\n",
        "  # print(\"Loss on test set: \", test_loss)\n",
        "  # print(\"Accuracy on test set: \", test_score)\n",
        "  \n",
        "  preds = model.predict(test_data, batch_size=16)\n",
        "  preds = np.argmax(preds, axis=-1)\n",
        "\n",
        "  # orig_test_labels = np.argmax(test_labels, axis=-1)\n",
        "\n",
        "  print(test_labels)\n",
        "  print(preds)\n",
        "\n",
        "  return preds, test_labels"
      ],
      "execution_count": 46,
      "outputs": []
    },
    {
      "cell_type": "markdown",
      "metadata": {
        "id": "PJUioyenTGKz"
      },
      "source": [
        "# **Model Evaluation**"
      ]
    },
    {
      "cell_type": "markdown",
      "metadata": {
        "id": "yDSkfYZWUWC7"
      },
      "source": [
        "**Evaluation Matrics**"
      ]
    },
    {
      "cell_type": "code",
      "metadata": {
        "id": "ZYTnX9-LTKjy"
      },
      "source": [
        "def get_Evaluation_matrics(preds, orig_test_labels):\n",
        "\n",
        "  # Get the confusion matrix\n",
        "  cm  = confusion_matrix(orig_test_labels, preds)\n",
        "  plt.figure()\n",
        "  plot_confusion_matrix(cm,figsize=(12,8), hide_ticks=True,cmap=plt.cm.Blues)\n",
        "  plt.xticks(range(2), ['Fail', 'Pass'], fontsize=16)\n",
        "  plt.yticks(range(2), ['Fail', 'Pass'], fontsize=16)\n",
        "  plt.show()\n",
        "\n",
        "  # Calculate Precision and Recall\n",
        "  tn, fp, fn, tp = cm.ravel()\n",
        "  Accuracy = (tp+tn)/(tp+tn+fp+fn)\n",
        "  precision = tp/(tp+fp)\n",
        "  recall = tp/(tp+fn)\n",
        "  specificity = tn/(tn+fp)\n",
        "  F1_score = 2*tp/(2*tp+fp+fn)\n",
        "\n",
        "  print(\"Accuracy of the model is {:.5f}\".format(Accuracy))\n",
        "  print(\"Recall of the model is {:.5f}\".format(recall))\n",
        "  print(\"Precision of the model is {:.5f}\".format(precision))\n",
        "  print(\"specificity of the model is {:.5f}\".format(specificity))\n",
        "  print(\"F1_score of the model is {:.5f}\".format(F1_score))"
      ],
      "execution_count": 26,
      "outputs": []
    },
    {
      "cell_type": "markdown",
      "metadata": {
        "id": "cfcCysy-UQkO"
      },
      "source": [
        "**ROC Curve**"
      ]
    },
    {
      "cell_type": "code",
      "metadata": {
        "id": "Z4HZH43ZUPBR"
      },
      "source": [
        "def get_model_ROC_AUC_curve(model_pred, test_labels, label=None):\n",
        "    import numpy as np\n",
        "\n",
        "    from sklearn.metrics import roc_curve, auc\n",
        "    fpr, tpr, thresholds = roc_curve(test_labels, model_pred)\n",
        "    plt.plot(fpr, tpr, linewidth=2, label=label)\n",
        "    plt.plot([0, 1], [0, 1], 'k--')\n",
        "    plt.axis([0, 1, 0, 1])\n",
        "    plt.xlabel('False Positive Rate')\n",
        "    plt.ylabel('True Positive Rate')\n",
        "    plt.title('ROC curve')\n",
        "\n",
        "    auc_score = auc(fpr, tpr)\n",
        "    print('AUC Score : ', auc_score)"
      ],
      "execution_count": 27,
      "outputs": []
    },
    {
      "cell_type": "markdown",
      "metadata": {
        "id": "eug2DBop5l2N"
      },
      "source": [
        "**Model Accuracy**"
      ]
    },
    {
      "cell_type": "code",
      "metadata": {
        "id": "dCeUC-a35p2z"
      },
      "source": [
        "def plot_Model_Accuracy(History, epoch):\n",
        "  history_dict2 = History.history\n",
        "  acc_values2 = history_dict2['accuracy']\n",
        "  val_acc_values2 = history_dict2['val_accuracy']\n",
        "\n",
        "  epochs = range(1, epoch + 1)\n",
        "  plt.plot(epochs, acc_values2, 'b-', label='training Accuracy')\n",
        "  plt.plot(epochs, val_acc_values2, 'r-', label='validation Accuracy')\n",
        "  plt.title('trainin/validation Accuracy')\n",
        "  plt.xlabel('Epochs')\n",
        "  plt.ylabel('Accuracy')\n",
        "  plt.legend()\n",
        "  plt.rcParams['axes.facecolor'] = 'white'\n",
        "  plt.rcParams['axes.edgecolor'] = 'white'\n",
        "  plt.rcParams['axes.grid'] = True\n",
        "  plt.rcParams['grid.alpha'] = 1\n",
        "  plt.rcParams['grid.color'] = \"#cccccc\"\n",
        "  plt.show()"
      ],
      "execution_count": 39,
      "outputs": []
    },
    {
      "cell_type": "markdown",
      "metadata": {
        "id": "3oIax96b5qZE"
      },
      "source": [
        "**Model Loos**"
      ]
    },
    {
      "cell_type": "code",
      "metadata": {
        "id": "9fjck1VF5upv"
      },
      "source": [
        "def plot_Model_loss(History, epoch):\n",
        "  history_dict2 = History.history\n",
        "  loss_values2 = history_dict2['loss']\n",
        "  val_loss_values2 = history_dict2['val_loss']\n",
        "\n",
        "  epochs = range(1, epoch + 1)\n",
        "  plt.plot(epochs, loss_values2, 'b-', label='training loos')\n",
        "  plt.plot(epochs, val_loss_values2, 'r-', label='validation loss')\n",
        "  plt.title('trainin/validation loss')\n",
        "  plt.xlabel('Epochs')\n",
        "  plt.ylabel('Loss')\n",
        "  plt.legend()\n",
        "  plt.rcParams['axes.facecolor'] = 'white'\n",
        "  plt.rcParams['axes.edgecolor'] = 'white'\n",
        "  plt.rcParams['axes.grid'] = True\n",
        "  plt.rcParams['grid.alpha'] = 1\n",
        "  plt.rcParams['grid.color'] = \"#cccccc\"\n",
        "  plt.show()"
      ],
      "execution_count": 40,
      "outputs": []
    },
    {
      "cell_type": "markdown",
      "metadata": {
        "id": "GlifjSzDQ2Bj"
      },
      "source": [
        "# **Models Building**"
      ]
    },
    {
      "cell_type": "markdown",
      "metadata": {
        "id": "tuZxNVzGRlOp"
      },
      "source": [
        "# **1. tool_condition**"
      ]
    },
    {
      "cell_type": "markdown",
      "metadata": {
        "id": "-AF4iBNoRVGv"
      },
      "source": [
        "**XG Boost**"
      ]
    },
    {
      "cell_type": "code",
      "metadata": {
        "id": "FeWHFWw-YedY"
      },
      "source": [
        "import xgboost as xgb\n",
        "from xgboost.sklearn import XGBClassifier\n",
        "from sklearn.ensemble import RandomForestClassifier\n",
        "from sklearn.svm import SVC\n",
        "\n",
        "label1 = Data.tool_condition\n",
        "train_data, test_data, train_labels, test_labels = train_test_split(s_features, label1, test_size = 0.20, random_state = 123)"
      ],
      "execution_count": 28,
      "outputs": []
    },
    {
      "cell_type": "code",
      "metadata": {
        "id": "BLnOIHygQzrl",
        "outputId": "268b1101-3fd2-4403-e36b-5a1dd510ff4a",
        "colab": {
          "base_uri": "https://localhost:8080/",
          "height": 608
        }
      },
      "source": [
        "XG_model = XGBClassifier()\n",
        "\n",
        "XG_model.fit(train_data, train_labels)\n",
        "\n",
        "preds = XG_model.predict(test_data)\n",
        "\n",
        "get_Evaluation_matrics(preds, test_labels)"
      ],
      "execution_count": 29,
      "outputs": [
        {
          "output_type": "display_data",
          "data": {
            "text/plain": [
              "<Figure size 432x288 with 0 Axes>"
            ]
          },
          "metadata": {
            "tags": []
          }
        },
        {
          "output_type": "display_data",
          "data": {
            "image/png": "[encoded data removed]",
            "text/plain": [
              "<Figure size 864x576 with 1 Axes>"
            ]
          },
          "metadata": {
            "tags": [],
            "needs_background": "light"
          }
        },
        {
          "output_type": "stream",
          "text": [
            "Accuracy of the model is 0.97509\n",
            "Recall of the model is 0.99008\n",
            "Precision of the model is 0.96457\n",
            "specificity of the model is 0.95762\n",
            "F1_score of the model is 0.97716\n"
          ],
          "name": "stdout"
        }
      ]
    },
    {
      "cell_type": "code",
      "metadata": {
        "id": "LXwhULEeUe3d",
        "outputId": "ad204b00-6b66-4697-8a61-a22c70de6978",
        "colab": {
          "base_uri": "https://localhost:8080/",
          "height": 312
        }
      },
      "source": [
        "#plotting the ROC Curve of the model\n",
        "get_model_ROC_AUC_curve(preds, test_labels)"
      ],
      "execution_count": 30,
      "outputs": [
        {
          "output_type": "stream",
          "text": [
            "AUC Score :  0.9738503429690094\n"
          ],
          "name": "stdout"
        },
        {
          "output_type": "display_data",
          "data": {
            "image/png": "[encoded data removed]",
            "text/plain": [
              "<Figure size 432x288 with 1 Axes>"
            ]
          },
          "metadata": {
            "tags": [],
            "needs_background": "light"
          }
        }
      ]
    },
    {
      "cell_type": "markdown",
      "metadata": {
        "id": "2OUONfH7TmPf"
      },
      "source": [
        "**RF**"
      ]
    },
    {
      "cell_type": "code",
      "metadata": {
        "id": "8Ly9P9X7TqOU",
        "outputId": "6dfef245-932a-4df5-d601-113ddb282942",
        "colab": {
          "base_uri": "https://localhost:8080/",
          "height": 608
        }
      },
      "source": [
        "model = RandomForestClassifier()\n",
        "\n",
        "model.fit(train_data, train_labels)\n",
        "\n",
        "preds = model.predict(test_data)\n",
        "\n",
        "get_Evaluation_matrics(preds, test_labels)"
      ],
      "execution_count": 31,
      "outputs": [
        {
          "output_type": "display_data",
          "data": {
            "text/plain": [
              "<Figure size 432x288 with 0 Axes>"
            ]
          },
          "metadata": {
            "tags": []
          }
        },
        {
          "output_type": "display_data",
          "data": {
            "image/png": "[encoded data removed]",
            "text/plain": [
              "<Figure size 864x576 with 1 Axes>"
            ]
          },
          "metadata": {
            "tags": [],
            "needs_background": "light"
          }
        },
        {
          "output_type": "stream",
          "text": [
            "Accuracy of the model is 0.99427\n",
            "Recall of the model is 0.99633\n",
            "Precision of the model is 0.99304\n",
            "specificity of the model is 0.99187\n",
            "F1_score of the model is 0.99468\n"
          ],
          "name": "stdout"
        }
      ]
    },
    {
      "cell_type": "code",
      "metadata": {
        "id": "zKQTzYMUVFt_",
        "outputId": "309ccd8c-59ba-45fb-df03-543f376d496e",
        "colab": {
          "base_uri": "https://localhost:8080/",
          "height": 312
        }
      },
      "source": [
        "#plotting the ROC Curve of the model\n",
        "get_model_ROC_AUC_curve(preds, test_labels)"
      ],
      "execution_count": 32,
      "outputs": [
        {
          "output_type": "stream",
          "text": [
            "AUC Score :  0.9940963345344378\n"
          ],
          "name": "stdout"
        },
        {
          "output_type": "display_data",
          "data": {
            "image/png": "[encoded data removed]",
            "text/plain": [
              "<Figure size 432x288 with 1 Axes>"
            ]
          },
          "metadata": {
            "tags": [],
            "needs_background": "light"
          }
        }
      ]
    },
    {
      "cell_type": "markdown",
      "metadata": {
        "id": "6jYK5NCDT1Bj"
      },
      "source": [
        "**SVM**"
      ]
    },
    {
      "cell_type": "code",
      "metadata": {
        "id": "PCTdSCNyT3uG",
        "outputId": "50bc9a35-9a95-4856-b0dd-a2f6629605a9",
        "colab": {
          "base_uri": "https://localhost:8080/",
          "height": 608
        }
      },
      "source": [
        "model = SVC()\n",
        "\n",
        "model.fit(train_data, train_labels)\n",
        "\n",
        "preds = model.predict(test_data)\n",
        "\n",
        "get_Evaluation_matrics(preds, test_labels)"
      ],
      "execution_count": 33,
      "outputs": [
        {
          "output_type": "display_data",
          "data": {
            "text/plain": [
              "<Figure size 432x288 with 0 Axes>"
            ]
          },
          "metadata": {
            "tags": []
          }
        },
        {
          "output_type": "display_data",
          "data": {
            "image/png": "[encoded data removed]",
            "text/plain": [
              "<Figure size 864x576 with 1 Axes>"
            ]
          },
          "metadata": {
            "tags": [],
            "needs_background": "light"
          }
        },
        {
          "output_type": "stream",
          "text": [
            "Accuracy of the model is 0.76671\n",
            "Recall of the model is 0.77223\n",
            "Precision of the model is 0.78963\n",
            "specificity of the model is 0.76027\n",
            "F1_score of the model is 0.78083\n"
          ],
          "name": "stdout"
        }
      ]
    },
    {
      "cell_type": "code",
      "metadata": {
        "id": "lYyhMN1lVjES",
        "outputId": "dd3aff4e-d13b-4839-90aa-b3ebf5ba24a0",
        "colab": {
          "base_uri": "https://localhost:8080/",
          "height": 312
        }
      },
      "source": [
        "#plotting the ROC Curve of the model\n",
        "get_model_ROC_AUC_curve(preds, test_labels)"
      ],
      "execution_count": 34,
      "outputs": [
        {
          "output_type": "stream",
          "text": [
            "AUC Score :  0.7662501383954184\n"
          ],
          "name": "stdout"
        },
        {
          "output_type": "display_data",
          "data": {
            "image/png": "[encoded data removed]",
            "text/plain": [
              "<Figure size 432x288 with 1 Axes>"
            ]
          },
          "metadata": {
            "tags": [],
            "needs_background": "light"
          }
        }
      ]
    },
    {
      "cell_type": "markdown",
      "metadata": {
        "id": "oMpMPYyqcCf-"
      },
      "source": [
        "**ANN**"
      ]
    },
    {
      "cell_type": "code",
      "metadata": {
        "id": "cJTB7geK4Q8q"
      },
      "source": [
        "early_stopping_cb = keras.callbacks.EarlyStopping(patience=5,\n",
        "                                                  restore_best_weights=True)"
      ],
      "execution_count": 35,
      "outputs": []
    },
    {
      "cell_type": "code",
      "metadata": {
        "id": "I1C4enT64SnN",
        "outputId": "caa993e5-9563-48ec-d2eb-5cea51701141",
        "colab": {
          "base_uri": "https://localhost:8080/"
        }
      },
      "source": [
        "from imblearn.over_sampling import SMOTE\n",
        "\n",
        "\n",
        "oversample = SMOTE()\n",
        "X, y = oversample.fit_sample(features, label1)\n",
        "\n",
        "X = pd.DataFrame(X)\n",
        "y = pd.DataFrame(y)\n",
        "\n",
        "train_data, test_data, train_labels, test_labels = train_test_split(X, y, test_size = 0.20, random_state = 123)\n",
        "train_data, valid_data, train_labels, valid_labels = train_test_split(train_data, train_labels, train_size = 0.85, random_state = 123)\n",
        "\n",
        "train_data = np.array(train_data)\n",
        "valid_data = np.array(valid_data)\n",
        "test_data = np.array(test_data)\n",
        "train_labels = np.array(train_labels)\n",
        "valid_labels = np.array(valid_labels)\n",
        "test_labels = np.array(test_labels)\n",
        "\n",
        "y.iloc[:,0].value_counts()"
      ],
      "execution_count": 54,
      "outputs": [
        {
          "output_type": "stream",
          "text": [
            "/usr/local/lib/python3.6/dist-packages/sklearn/utils/deprecation.py:87: FutureWarning: Function safe_indexing is deprecated; safe_indexing is deprecated in version 0.22 and will be removed in version 0.24.\n",
            "  warnings.warn(msg, category=FutureWarning)\n"
          ],
          "name": "stderr"
        },
        {
          "output_type": "execute_result",
          "data": {
            "text/plain": [
              "1    13308\n",
              "0    13308\n",
              "Name: 0, dtype: int64"
            ]
          },
          "metadata": {
            "tags": []
          },
          "execution_count": 54
        }
      ]
    },
    {
      "cell_type": "code",
      "metadata": {
        "id": "CcBpqkza4pej",
        "outputId": "956bd042-c0e7-48e1-9bfc-ec3c35355a32",
        "colab": {
          "base_uri": "https://localhost:8080/"
        }
      },
      "source": [
        "from tensorflow.keras import models\n",
        "from tensorflow.keras import layers\n",
        "\n",
        "model = models.Sequential()\n",
        "model.add(layers.Dense(1024, input_shape = (50,), activation='relu'))\n",
        "model.add(layers.Dense(128, activation='relu'))\n",
        "model.add(layers.Dense(512, activation='relu'))\n",
        "model.add(layers.BatchNormalization())\n",
        "model.add(layers.Dense(128, activation='relu'))\n",
        "model.add(layers.Dense(512, activation='relu'))\n",
        "model.add(layers.BatchNormalization())\n",
        "model.add(layers.Dense(64, activation='relu'))\n",
        "model.add(layers.Dropout(0.5))\n",
        "model.add(layers.Dense(2, activation='softmax'))\n",
        "\n",
        "model.compile(optimizer='adam',\n",
        "              loss='binary_crossentropy',\n",
        "              metrics=['accuracy'])\n",
        "\n",
        "model_history = model.fit(train_data,\n",
        "                          train_labels,\n",
        "                          epochs=150,\n",
        "                          batch_size=16,\n",
        "                          validation_data=(valid_data, valid_labels),\n",
        "                          # callbacks=[early_stopping_cb]\n",
        "                          )\n"
      ],
      "execution_count": 59,
      "outputs": [
        {
          "output_type": "stream",
          "text": [
            "Epoch 1/150\n",
            "1132/1132 [==============================] - 7s 7ms/step - loss: 0.7073 - accuracy: 0.4952 - val_loss: 0.6961 - val_accuracy: 0.4530\n",
            "Epoch 2/150\n",
            "1132/1132 [==============================] - 7s 6ms/step - loss: 0.6932 - accuracy: 0.5040 - val_loss: 0.6983 - val_accuracy: 0.5081\n",
            "Epoch 3/150\n",
            "1132/1132 [==============================] - 7s 6ms/step - loss: 0.6932 - accuracy: 0.5023 - val_loss: 0.6937 - val_accuracy: 0.5069\n",
            "Epoch 4/150\n",
            "1132/1132 [==============================] - 7s 6ms/step - loss: 0.6932 - accuracy: 0.5040 - val_loss: 0.6948 - val_accuracy: 0.4850\n",
            "Epoch 5/150\n",
            "1132/1132 [==============================] - 7s 6ms/step - loss: 0.6932 - accuracy: 0.4944 - val_loss: 0.6957 - val_accuracy: 0.4925\n",
            "Epoch 6/150\n",
            "1132/1132 [==============================] - 7s 6ms/step - loss: 0.6935 - accuracy: 0.4975 - val_loss: 0.6947 - val_accuracy: 0.5394\n",
            "Epoch 7/150\n",
            "1132/1132 [==============================] - 7s 6ms/step - loss: 0.6932 - accuracy: 0.5065 - val_loss: 0.6942 - val_accuracy: 0.4947\n",
            "Epoch 8/150\n",
            "1132/1132 [==============================] - 7s 6ms/step - loss: 0.6932 - accuracy: 0.5071 - val_loss: 0.6951 - val_accuracy: 0.5204\n",
            "Epoch 9/150\n",
            "1132/1132 [==============================] - 7s 6ms/step - loss: 0.6932 - accuracy: 0.5018 - val_loss: 0.6943 - val_accuracy: 0.5097\n",
            "Epoch 10/150\n",
            "1132/1132 [==============================] - 7s 6ms/step - loss: 0.6932 - accuracy: 0.4990 - val_loss: 0.6932 - val_accuracy: 0.5094\n",
            "Epoch 11/150\n",
            "1132/1132 [==============================] - 7s 6ms/step - loss: 0.6932 - accuracy: 0.5002 - val_loss: 0.6936 - val_accuracy: 0.5088\n",
            "Epoch 12/150\n",
            "1132/1132 [==============================] - 7s 6ms/step - loss: 0.6932 - accuracy: 0.5037 - val_loss: 0.6932 - val_accuracy: 0.4909\n",
            "Epoch 13/150\n",
            "1132/1132 [==============================] - 7s 6ms/step - loss: 0.6932 - accuracy: 0.4973 - val_loss: 0.6931 - val_accuracy: 0.5078\n",
            "Epoch 14/150\n",
            "1132/1132 [==============================] - 7s 6ms/step - loss: 0.6932 - accuracy: 0.4996 - val_loss: 0.6932 - val_accuracy: 0.4912\n",
            "Epoch 15/150\n",
            "1132/1132 [==============================] - 7s 6ms/step - loss: 0.6932 - accuracy: 0.5022 - val_loss: 0.6932 - val_accuracy: 0.5091\n",
            "Epoch 16/150\n",
            "1132/1132 [==============================] - 7s 6ms/step - loss: 0.6932 - accuracy: 0.5035 - val_loss: 0.6932 - val_accuracy: 0.4915\n",
            "Epoch 17/150\n",
            "1132/1132 [==============================] - 7s 6ms/step - loss: 0.6932 - accuracy: 0.4967 - val_loss: 0.6937 - val_accuracy: 0.4922\n",
            "Epoch 18/150\n",
            "1132/1132 [==============================] - 7s 7ms/step - loss: 0.6932 - accuracy: 0.5070 - val_loss: 0.6932 - val_accuracy: 0.4887\n",
            "Epoch 19/150\n",
            "1132/1132 [==============================] - 7s 6ms/step - loss: 0.6932 - accuracy: 0.5004 - val_loss: 0.6940 - val_accuracy: 0.4919\n",
            "Epoch 20/150\n",
            "1132/1132 [==============================] - 7s 6ms/step - loss: 0.6932 - accuracy: 0.4974 - val_loss: 0.6938 - val_accuracy: 0.4925\n",
            "Epoch 21/150\n",
            "1132/1132 [==============================] - 7s 6ms/step - loss: 0.6932 - accuracy: 0.5012 - val_loss: 0.6931 - val_accuracy: 0.4909\n",
            "Epoch 22/150\n",
            "1132/1132 [==============================] - 7s 6ms/step - loss: 0.6932 - accuracy: 0.5031 - val_loss: 0.6933 - val_accuracy: 0.5088\n",
            "Epoch 23/150\n",
            "1132/1132 [==============================] - 7s 6ms/step - loss: 0.6932 - accuracy: 0.4980 - val_loss: 0.6932 - val_accuracy: 0.4915\n",
            "Epoch 24/150\n",
            "1132/1132 [==============================] - 7s 6ms/step - loss: 0.6932 - accuracy: 0.5031 - val_loss: 0.6931 - val_accuracy: 0.4912\n",
            "Epoch 25/150\n",
            "1132/1132 [==============================] - 7s 6ms/step - loss: 0.6932 - accuracy: 0.5031 - val_loss: 0.6931 - val_accuracy: 0.4912\n",
            "Epoch 26/150\n",
            "1132/1132 [==============================] - 7s 6ms/step - loss: 0.6932 - accuracy: 0.5031 - val_loss: 0.6932 - val_accuracy: 0.4912\n",
            "Epoch 27/150\n",
            "1132/1132 [==============================] - 7s 6ms/step - loss: 0.6932 - accuracy: 0.5031 - val_loss: 0.6931 - val_accuracy: 0.4912\n",
            "Epoch 28/150\n",
            "1132/1132 [==============================] - 7s 6ms/step - loss: 0.6932 - accuracy: 0.5031 - val_loss: 0.6931 - val_accuracy: 0.4912\n",
            "Epoch 29/150\n",
            "1132/1132 [==============================] - 7s 6ms/step - loss: 0.6932 - accuracy: 0.5031 - val_loss: 0.6931 - val_accuracy: 0.4912\n",
            "Epoch 30/150\n",
            "1132/1132 [==============================] - 7s 6ms/step - loss: 0.6932 - accuracy: 0.5031 - val_loss: 0.6932 - val_accuracy: 0.4915\n",
            "Epoch 31/150\n",
            "1132/1132 [==============================] - 7s 6ms/step - loss: 0.6932 - accuracy: 0.5031 - val_loss: 0.6932 - val_accuracy: 0.4909\n",
            "Epoch 32/150\n",
            "1132/1132 [==============================] - 7s 6ms/step - loss: 0.6932 - accuracy: 0.5031 - val_loss: 0.6932 - val_accuracy: 0.4915\n",
            "Epoch 33/150\n",
            "1132/1132 [==============================] - 7s 6ms/step - loss: 0.6932 - accuracy: 0.5031 - val_loss: 0.6932 - val_accuracy: 0.4912\n",
            "Epoch 34/150\n",
            "1132/1132 [==============================] - 7s 6ms/step - loss: 0.6932 - accuracy: 0.5031 - val_loss: 0.6931 - val_accuracy: 0.4915\n",
            "Epoch 35/150\n",
            "1132/1132 [==============================] - 7s 6ms/step - loss: 0.6932 - accuracy: 0.5031 - val_loss: 0.6931 - val_accuracy: 0.4909\n",
            "Epoch 36/150\n",
            "1132/1132 [==============================] - 7s 6ms/step - loss: 0.6932 - accuracy: 0.5031 - val_loss: 0.6933 - val_accuracy: 0.4912\n",
            "Epoch 37/150\n",
            "1132/1132 [==============================] - 7s 6ms/step - loss: 0.6932 - accuracy: 0.5031 - val_loss: 0.6932 - val_accuracy: 0.4915\n",
            "Epoch 38/150\n",
            "1132/1132 [==============================] - 7s 6ms/step - loss: 0.6932 - accuracy: 0.5031 - val_loss: 0.6932 - val_accuracy: 0.4915\n",
            "Epoch 39/150\n",
            "1132/1132 [==============================] - 7s 6ms/step - loss: 0.6932 - accuracy: 0.5031 - val_loss: 0.6931 - val_accuracy: 0.4912\n",
            "Epoch 40/150\n",
            "1132/1132 [==============================] - 7s 6ms/step - loss: 0.6932 - accuracy: 0.5031 - val_loss: 0.6932 - val_accuracy: 0.4915\n",
            "Epoch 41/150\n",
            "1132/1132 [==============================] - 7s 6ms/step - loss: 0.6932 - accuracy: 0.5031 - val_loss: 0.6931 - val_accuracy: 0.4919\n",
            "Epoch 42/150\n",
            "1132/1132 [==============================] - 8s 7ms/step - loss: 0.6932 - accuracy: 0.5031 - val_loss: 0.6932 - val_accuracy: 0.4919\n",
            "Epoch 43/150\n",
            "1132/1132 [==============================] - 8s 7ms/step - loss: 0.6932 - accuracy: 0.5031 - val_loss: 0.6931 - val_accuracy: 0.4912\n",
            "Epoch 44/150\n",
            "1132/1132 [==============================] - 7s 6ms/step - loss: 0.6932 - accuracy: 0.5031 - val_loss: 0.6931 - val_accuracy: 0.4912\n",
            "Epoch 45/150\n",
            "1132/1132 [==============================] - 7s 6ms/step - loss: 0.6932 - accuracy: 0.5031 - val_loss: 0.6932 - val_accuracy: 0.4912\n",
            "Epoch 46/150\n",
            "1132/1132 [==============================] - 7s 6ms/step - loss: 0.6932 - accuracy: 0.5031 - val_loss: 0.6932 - val_accuracy: 0.4912\n",
            "Epoch 47/150\n",
            "1132/1132 [==============================] - 7s 6ms/step - loss: 0.6932 - accuracy: 0.5031 - val_loss: 0.6931 - val_accuracy: 0.4912\n",
            "Epoch 48/150\n",
            "1132/1132 [==============================] - 7s 6ms/step - loss: 0.6932 - accuracy: 0.5066 - val_loss: 0.6932 - val_accuracy: 0.4915\n",
            "Epoch 49/150\n",
            "1132/1132 [==============================] - 7s 6ms/step - loss: 0.6932 - accuracy: 0.5031 - val_loss: 0.6931 - val_accuracy: 0.4912\n",
            "Epoch 50/150\n",
            "1132/1132 [==============================] - 7s 6ms/step - loss: 0.6932 - accuracy: 0.5031 - val_loss: 0.6931 - val_accuracy: 0.4912\n",
            "Epoch 51/150\n",
            "1132/1132 [==============================] - 7s 6ms/step - loss: 0.6932 - accuracy: 0.5031 - val_loss: 0.6932 - val_accuracy: 0.4912\n",
            "Epoch 52/150\n",
            "1132/1132 [==============================] - 7s 6ms/step - loss: 0.6932 - accuracy: 0.4995 - val_loss: 0.6931 - val_accuracy: 0.5088\n",
            "Epoch 53/150\n",
            "1132/1132 [==============================] - 7s 6ms/step - loss: 0.6932 - accuracy: 0.5024 - val_loss: 0.6931 - val_accuracy: 0.5088\n",
            "Epoch 54/150\n",
            "1132/1132 [==============================] - 7s 6ms/step - loss: 0.6932 - accuracy: 0.4986 - val_loss: 0.6931 - val_accuracy: 0.5091\n",
            "Epoch 55/150\n",
            "1132/1132 [==============================] - 7s 6ms/step - loss: 0.6932 - accuracy: 0.4980 - val_loss: 0.6931 - val_accuracy: 0.4912\n",
            "Epoch 56/150\n",
            "1132/1132 [==============================] - 7s 6ms/step - loss: 0.6932 - accuracy: 0.4960 - val_loss: 0.6932 - val_accuracy: 0.4915\n",
            "Epoch 57/150\n",
            "1132/1132 [==============================] - 9s 8ms/step - loss: 0.6932 - accuracy: 0.4964 - val_loss: 0.6932 - val_accuracy: 0.5091\n",
            "Epoch 58/150\n",
            "1132/1132 [==============================] - 11s 10ms/step - loss: 0.6932 - accuracy: 0.5074 - val_loss: 0.6932 - val_accuracy: 0.4909\n",
            "Epoch 59/150\n",
            "1132/1132 [==============================] - 7s 6ms/step - loss: 0.6932 - accuracy: 0.5033 - val_loss: 0.6931 - val_accuracy: 0.5088\n",
            "Epoch 60/150\n",
            "1132/1132 [==============================] - 8s 7ms/step - loss: 0.6932 - accuracy: 0.4981 - val_loss: 0.6931 - val_accuracy: 0.5081\n",
            "Epoch 61/150\n",
            "1132/1132 [==============================] - 7s 6ms/step - loss: 0.6932 - accuracy: 0.5000 - val_loss: 0.6931 - val_accuracy: 0.5091\n",
            "Epoch 62/150\n",
            "1132/1132 [==============================] - 7s 6ms/step - loss: 0.6932 - accuracy: 0.5062 - val_loss: 0.6932 - val_accuracy: 0.5091\n",
            "Epoch 63/150\n",
            "1132/1132 [==============================] - 7s 6ms/step - loss: 0.6932 - accuracy: 0.5009 - val_loss: 0.6932 - val_accuracy: 0.5088\n",
            "Epoch 64/150\n",
            "1132/1132 [==============================] - 7s 6ms/step - loss: 0.6932 - accuracy: 0.5010 - val_loss: 0.6932 - val_accuracy: 0.4912\n",
            "Epoch 65/150\n",
            "1132/1132 [==============================] - 7s 6ms/step - loss: 0.6932 - accuracy: 0.5057 - val_loss: 0.6931 - val_accuracy: 0.5091\n",
            "Epoch 66/150\n",
            "1132/1132 [==============================] - 7s 6ms/step - loss: 0.6932 - accuracy: 0.5009 - val_loss: 0.6932 - val_accuracy: 0.5088\n",
            "Epoch 67/150\n",
            "1132/1132 [==============================] - 7s 6ms/step - loss: 0.6932 - accuracy: 0.5009 - val_loss: 0.6931 - val_accuracy: 0.4909\n",
            "Epoch 68/150\n",
            "1132/1132 [==============================] - 7s 6ms/step - loss: 0.6932 - accuracy: 0.4984 - val_loss: 0.6933 - val_accuracy: 0.5088\n",
            "Epoch 69/150\n",
            "1132/1132 [==============================] - 7s 6ms/step - loss: 0.6932 - accuracy: 0.5053 - val_loss: 0.6932 - val_accuracy: 0.4909\n",
            "Epoch 70/150\n",
            "1132/1132 [==============================] - 7s 6ms/step - loss: 0.6932 - accuracy: 0.5009 - val_loss: 0.6932 - val_accuracy: 0.4915\n",
            "Epoch 71/150\n",
            "1132/1132 [==============================] - 7s 6ms/step - loss: 0.6932 - accuracy: 0.4950 - val_loss: 0.6933 - val_accuracy: 0.5091\n",
            "Epoch 72/150\n",
            "1132/1132 [==============================] - 7s 6ms/step - loss: 0.6932 - accuracy: 0.5104 - val_loss: 0.6932 - val_accuracy: 0.5088\n",
            "Epoch 73/150\n",
            "1132/1132 [==============================] - 7s 6ms/step - loss: 0.6932 - accuracy: 0.5002 - val_loss: 0.6932 - val_accuracy: 0.4915\n",
            "Epoch 74/150\n",
            "1132/1132 [==============================] - 7s 7ms/step - loss: 0.6932 - accuracy: 0.5044 - val_loss: 0.6932 - val_accuracy: 0.5085\n",
            "Epoch 75/150\n",
            "1132/1132 [==============================] - 7s 6ms/step - loss: 0.6932 - accuracy: 0.4996 - val_loss: 0.6933 - val_accuracy: 0.5081\n",
            "Epoch 76/150\n",
            "1132/1132 [==============================] - 7s 6ms/step - loss: 0.6932 - accuracy: 0.4978 - val_loss: 0.6933 - val_accuracy: 0.4912\n",
            "Epoch 77/150\n",
            "1132/1132 [==============================] - 7s 7ms/step - loss: 0.6932 - accuracy: 0.5018 - val_loss: 0.6932 - val_accuracy: 0.4912\n",
            "Epoch 78/150\n",
            "1132/1132 [==============================] - 7s 6ms/step - loss: 0.6932 - accuracy: 0.4962 - val_loss: 0.6934 - val_accuracy: 0.5091\n",
            "Epoch 79/150\n",
            "1132/1132 [==============================] - 7s 6ms/step - loss: 0.6932 - accuracy: 0.5022 - val_loss: 0.6932 - val_accuracy: 0.4915\n",
            "Epoch 80/150\n",
            "1132/1132 [==============================] - 7s 6ms/step - loss: 0.6932 - accuracy: 0.4975 - val_loss: 0.6932 - val_accuracy: 0.5088\n",
            "Epoch 81/150\n",
            "1132/1132 [==============================] - 7s 7ms/step - loss: 0.6932 - accuracy: 0.4997 - val_loss: 0.6932 - val_accuracy: 0.4915\n",
            "Epoch 82/150\n",
            "1132/1132 [==============================] - 7s 6ms/step - loss: 0.6932 - accuracy: 0.4964 - val_loss: 0.6932 - val_accuracy: 0.4912\n",
            "Epoch 83/150\n",
            "1132/1132 [==============================] - 7s 6ms/step - loss: 0.6932 - accuracy: 0.5001 - val_loss: 0.6933 - val_accuracy: 0.4915\n",
            "Epoch 84/150\n",
            "1132/1132 [==============================] - 8s 7ms/step - loss: 0.6932 - accuracy: 0.4939 - val_loss: 0.6932 - val_accuracy: 0.4912\n",
            "Epoch 85/150\n",
            "1132/1132 [==============================] - 8s 7ms/step - loss: 0.6932 - accuracy: 0.5042 - val_loss: 0.6932 - val_accuracy: 0.4912\n",
            "Epoch 86/150\n",
            "1132/1132 [==============================] - 7s 7ms/step - loss: 0.6932 - accuracy: 0.4996 - val_loss: 0.6933 - val_accuracy: 0.5088\n",
            "Epoch 87/150\n",
            "1132/1132 [==============================] - 7s 6ms/step - loss: 0.6932 - accuracy: 0.4997 - val_loss: 0.6934 - val_accuracy: 0.5091\n",
            "Epoch 88/150\n",
            "1132/1132 [==============================] - 7s 6ms/step - loss: 0.6932 - accuracy: 0.4985 - val_loss: 0.6933 - val_accuracy: 0.5085\n",
            "Epoch 89/150\n",
            "1132/1132 [==============================] - 7s 6ms/step - loss: 0.6932 - accuracy: 0.4940 - val_loss: 0.6933 - val_accuracy: 0.5081\n",
            "Epoch 90/150\n",
            "1132/1132 [==============================] - 7s 6ms/step - loss: 0.6932 - accuracy: 0.5009 - val_loss: 0.6933 - val_accuracy: 0.5088\n",
            "Epoch 91/150\n",
            "1132/1132 [==============================] - 7s 6ms/step - loss: 0.6932 - accuracy: 0.4976 - val_loss: 0.6934 - val_accuracy: 0.4919\n",
            "Epoch 92/150\n",
            "1132/1132 [==============================] - 7s 6ms/step - loss: 0.6932 - accuracy: 0.5022 - val_loss: 0.6933 - val_accuracy: 0.5085\n",
            "Epoch 93/150\n",
            "1132/1132 [==============================] - 7s 6ms/step - loss: 0.6932 - accuracy: 0.5000 - val_loss: 0.6934 - val_accuracy: 0.4909\n",
            "Epoch 94/150\n",
            "1132/1132 [==============================] - 7s 6ms/step - loss: 0.6932 - accuracy: 0.5074 - val_loss: 0.6934 - val_accuracy: 0.5085\n",
            "Epoch 95/150\n",
            "1132/1132 [==============================] - 7s 6ms/step - loss: 0.6932 - accuracy: 0.4891 - val_loss: 0.6933 - val_accuracy: 0.4915\n",
            "Epoch 96/150\n",
            "1132/1132 [==============================] - 7s 6ms/step - loss: 0.6932 - accuracy: 0.4954 - val_loss: 0.6932 - val_accuracy: 0.5081\n",
            "Epoch 97/150\n",
            "1132/1132 [==============================] - 7s 6ms/step - loss: 0.6932 - accuracy: 0.5055 - val_loss: 0.6932 - val_accuracy: 0.5085\n",
            "Epoch 98/150\n",
            "1132/1132 [==============================] - 7s 6ms/step - loss: 0.6932 - accuracy: 0.4962 - val_loss: 0.6932 - val_accuracy: 0.5085\n",
            "Epoch 99/150\n",
            "1132/1132 [==============================] - 7s 6ms/step - loss: 0.6932 - accuracy: 0.5008 - val_loss: 0.6932 - val_accuracy: 0.5081\n",
            "Epoch 100/150\n",
            "1132/1132 [==============================] - 7s 6ms/step - loss: 0.6932 - accuracy: 0.4990 - val_loss: 0.6932 - val_accuracy: 0.4915\n",
            "Epoch 101/150\n",
            "1132/1132 [==============================] - 7s 7ms/step - loss: 0.6932 - accuracy: 0.5004 - val_loss: 0.6932 - val_accuracy: 0.4912\n",
            "Epoch 102/150\n",
            "1132/1132 [==============================] - 8s 7ms/step - loss: 0.6932 - accuracy: 0.5011 - val_loss: 0.6934 - val_accuracy: 0.4915\n",
            "Epoch 103/150\n",
            "1132/1132 [==============================] - 7s 6ms/step - loss: 0.6932 - accuracy: 0.5013 - val_loss: 0.6932 - val_accuracy: 0.4906\n",
            "Epoch 104/150\n",
            "1132/1132 [==============================] - 7s 6ms/step - loss: 0.6932 - accuracy: 0.4954 - val_loss: 0.6933 - val_accuracy: 0.5088\n",
            "Epoch 105/150\n",
            "1132/1132 [==============================] - 7s 6ms/step - loss: 0.6932 - accuracy: 0.5008 - val_loss: 0.6932 - val_accuracy: 0.4909\n",
            "Epoch 106/150\n",
            "1132/1132 [==============================] - 7s 6ms/step - loss: 0.6932 - accuracy: 0.5038 - val_loss: 0.6932 - val_accuracy: 0.4906\n",
            "Epoch 107/150\n",
            "1132/1132 [==============================] - 7s 6ms/step - loss: 0.6932 - accuracy: 0.4966 - val_loss: 0.6931 - val_accuracy: 0.5081\n",
            "Epoch 108/150\n",
            "1132/1132 [==============================] - 7s 6ms/step - loss: 0.6932 - accuracy: 0.5035 - val_loss: 0.6932 - val_accuracy: 0.5088\n",
            "Epoch 109/150\n",
            "1132/1132 [==============================] - 7s 6ms/step - loss: 0.6932 - accuracy: 0.4959 - val_loss: 0.6931 - val_accuracy: 0.5085\n",
            "Epoch 110/150\n",
            "1132/1132 [==============================] - 7s 7ms/step - loss: 0.6932 - accuracy: 0.5044 - val_loss: 0.6934 - val_accuracy: 0.5091\n",
            "Epoch 111/150\n",
            "1132/1132 [==============================] - 7s 6ms/step - loss: 0.6932 - accuracy: 0.5046 - val_loss: 0.6932 - val_accuracy: 0.4912\n",
            "Epoch 112/150\n",
            "1132/1132 [==============================] - 7s 7ms/step - loss: 0.6932 - accuracy: 0.5006 - val_loss: 0.6931 - val_accuracy: 0.5085\n",
            "Epoch 113/150\n",
            "1132/1132 [==============================] - 7s 6ms/step - loss: 0.6932 - accuracy: 0.4969 - val_loss: 0.6933 - val_accuracy: 0.4915\n",
            "Epoch 114/150\n",
            "1132/1132 [==============================] - 7s 7ms/step - loss: 0.6932 - accuracy: 0.4923 - val_loss: 0.6932 - val_accuracy: 0.4909\n",
            "Epoch 115/150\n",
            "1132/1132 [==============================] - 7s 7ms/step - loss: 0.6932 - accuracy: 0.4955 - val_loss: 0.6932 - val_accuracy: 0.5085\n",
            "Epoch 116/150\n",
            "1132/1132 [==============================] - 7s 6ms/step - loss: 0.6932 - accuracy: 0.4931 - val_loss: 0.6933 - val_accuracy: 0.5088\n",
            "Epoch 117/150\n",
            "1132/1132 [==============================] - 7s 6ms/step - loss: 0.6932 - accuracy: 0.5019 - val_loss: 0.6932 - val_accuracy: 0.5085\n",
            "Epoch 118/150\n",
            "1132/1132 [==============================] - 7s 7ms/step - loss: 0.6932 - accuracy: 0.4930 - val_loss: 0.6932 - val_accuracy: 0.5097\n",
            "Epoch 119/150\n",
            "1132/1132 [==============================] - 7s 6ms/step - loss: 0.6932 - accuracy: 0.4931 - val_loss: 0.6932 - val_accuracy: 0.5094\n",
            "Epoch 120/150\n",
            "1132/1132 [==============================] - 7s 6ms/step - loss: 0.6932 - accuracy: 0.4998 - val_loss: 0.6932 - val_accuracy: 0.5081\n",
            "Epoch 121/150\n",
            "1132/1132 [==============================] - 7s 6ms/step - loss: 0.6932 - accuracy: 0.5030 - val_loss: 0.6932 - val_accuracy: 0.5094\n",
            "Epoch 122/150\n",
            "1132/1132 [==============================] - 7s 7ms/step - loss: 0.6932 - accuracy: 0.5057 - val_loss: 0.6931 - val_accuracy: 0.5085\n",
            "Epoch 123/150\n",
            "1132/1132 [==============================] - 7s 6ms/step - loss: 0.6932 - accuracy: 0.4996 - val_loss: 0.6932 - val_accuracy: 0.4909\n",
            "Epoch 124/150\n",
            "1132/1132 [==============================] - 7s 6ms/step - loss: 0.6932 - accuracy: 0.5085 - val_loss: 0.6932 - val_accuracy: 0.5085\n",
            "Epoch 125/150\n",
            "1132/1132 [==============================] - 7s 6ms/step - loss: 0.6932 - accuracy: 0.4951 - val_loss: 0.6932 - val_accuracy: 0.5088\n",
            "Epoch 126/150\n",
            "1132/1132 [==============================] - 8s 7ms/step - loss: 0.6932 - accuracy: 0.4955 - val_loss: 0.6933 - val_accuracy: 0.5085\n",
            "Epoch 127/150\n",
            "1132/1132 [==============================] - 8s 7ms/step - loss: 0.6932 - accuracy: 0.5015 - val_loss: 0.6932 - val_accuracy: 0.5088\n",
            "Epoch 128/150\n",
            "1132/1132 [==============================] - 7s 7ms/step - loss: 0.6932 - accuracy: 0.4992 - val_loss: 0.6933 - val_accuracy: 0.5088\n",
            "Epoch 129/150\n",
            "1132/1132 [==============================] - 7s 7ms/step - loss: 0.6932 - accuracy: 0.4959 - val_loss: 0.6932 - val_accuracy: 0.4912\n",
            "Epoch 130/150\n",
            "1132/1132 [==============================] - 7s 7ms/step - loss: 0.6932 - accuracy: 0.5043 - val_loss: 0.6933 - val_accuracy: 0.4912\n",
            "Epoch 131/150\n",
            "1132/1132 [==============================] - 7s 6ms/step - loss: 0.6932 - accuracy: 0.4976 - val_loss: 0.6933 - val_accuracy: 0.5088\n",
            "Epoch 132/150\n",
            "1132/1132 [==============================] - 7s 6ms/step - loss: 0.6932 - accuracy: 0.4960 - val_loss: 0.6934 - val_accuracy: 0.4912\n",
            "Epoch 133/150\n",
            "1132/1132 [==============================] - 7s 6ms/step - loss: 0.6932 - accuracy: 0.4997 - val_loss: 0.6932 - val_accuracy: 0.5088\n",
            "Epoch 134/150\n",
            "1132/1132 [==============================] - 7s 6ms/step - loss: 0.6932 - accuracy: 0.5000 - val_loss: 0.6932 - val_accuracy: 0.4915\n",
            "Epoch 135/150\n",
            "1132/1132 [==============================] - 7s 6ms/step - loss: 0.6932 - accuracy: 0.5013 - val_loss: 0.6932 - val_accuracy: 0.5088\n",
            "Epoch 136/150\n",
            "1132/1132 [==============================] - 7s 6ms/step - loss: 0.6932 - accuracy: 0.4949 - val_loss: 0.6936 - val_accuracy: 0.5088\n",
            "Epoch 137/150\n",
            "1132/1132 [==============================] - 7s 7ms/step - loss: 0.6932 - accuracy: 0.5040 - val_loss: 0.6933 - val_accuracy: 0.5091\n",
            "Epoch 138/150\n",
            "1132/1132 [==============================] - 7s 7ms/step - loss: 0.6932 - accuracy: 0.5091 - val_loss: 0.6932 - val_accuracy: 0.5085\n",
            "Epoch 139/150\n",
            "1132/1132 [==============================] - 7s 7ms/step - loss: 0.6932 - accuracy: 0.4980 - val_loss: 0.6932 - val_accuracy: 0.5088\n",
            "Epoch 140/150\n",
            "1132/1132 [==============================] - 10s 9ms/step - loss: 0.6932 - accuracy: 0.4988 - val_loss: 0.6933 - val_accuracy: 0.5091\n",
            "Epoch 141/150\n",
            "1132/1132 [==============================] - 9s 8ms/step - loss: 0.6932 - accuracy: 0.5002 - val_loss: 0.6933 - val_accuracy: 0.4912\n",
            "Epoch 142/150\n",
            "1132/1132 [==============================] - 7s 6ms/step - loss: 0.6932 - accuracy: 0.5001 - val_loss: 0.6933 - val_accuracy: 0.5085\n",
            "Epoch 143/150\n",
            "1132/1132 [==============================] - 7s 6ms/step - loss: 0.6932 - accuracy: 0.4944 - val_loss: 0.6933 - val_accuracy: 0.4915\n",
            "Epoch 144/150\n",
            "1132/1132 [==============================] - 7s 6ms/step - loss: 0.6932 - accuracy: 0.5056 - val_loss: 0.6932 - val_accuracy: 0.4912\n",
            "Epoch 145/150\n",
            "1132/1132 [==============================] - 7s 6ms/step - loss: 0.6932 - accuracy: 0.5053 - val_loss: 0.6934 - val_accuracy: 0.4915\n",
            "Epoch 146/150\n",
            "1132/1132 [==============================] - 7s 6ms/step - loss: 0.6932 - accuracy: 0.5000 - val_loss: 0.6934 - val_accuracy: 0.5085\n",
            "Epoch 147/150\n",
            "1132/1132 [==============================] - 7s 6ms/step - loss: 0.6932 - accuracy: 0.5018 - val_loss: 0.6933 - val_accuracy: 0.5088\n",
            "Epoch 148/150\n",
            "1132/1132 [==============================] - 7s 6ms/step - loss: 0.6932 - accuracy: 0.4967 - val_loss: 0.6933 - val_accuracy: 0.4909\n",
            "Epoch 149/150\n",
            "1132/1132 [==============================] - 7s 6ms/step - loss: 0.6932 - accuracy: 0.5009 - val_loss: 0.6931 - val_accuracy: 0.4909\n",
            "Epoch 150/150\n",
            "1132/1132 [==============================] - 7s 6ms/step - loss: 0.6932 - accuracy: 0.4980 - val_loss: 0.6932 - val_accuracy: 0.4909\n"
          ],
          "name": "stdout"
        }
      ]
    },
    {
      "cell_type": "code",
      "metadata": {
        "id": "GBk79kzB4ttA",
        "outputId": "afe1c381-15df-49fc-da88-5d9c12ee0206",
        "colab": {
          "base_uri": "https://localhost:8080/",
          "height": 294
        }
      },
      "source": [
        "# plotting the the training accuracy\n",
        "plot_Model_Accuracy(model_history, 150)"
      ],
      "execution_count": 60,
      "outputs": [
        {
          "output_type": "display_data",
          "data": {
            "image/png": "[encoded data removed]",
            "text/plain": [
              "<Figure size 432x288 with 1 Axes>"
            ]
          },
          "metadata": {
            "tags": [],
            "needs_background": "light"
          }
        }
      ]
    },
    {
      "cell_type": "code",
      "metadata": {
        "id": "INoQaulz4v_F",
        "outputId": "5ea7d8ff-656f-43bb-bb2c-83256301b1f5",
        "colab": {
          "base_uri": "https://localhost:8080/",
          "height": 294
        }
      },
      "source": [
        "# plotting the the training loss\n",
        "plot_Model_loss(model_history, 150)"
      ],
      "execution_count": 61,
      "outputs": [
        {
          "output_type": "display_data",
          "data": {
            "image/png": "[encoded data removed]",
            "text/plain": [
              "<Figure size 432x288 with 1 Axes>"
            ]
          },
          "metadata": {
            "tags": [],
            "needs_background": "light"
          }
        }
      ]
    },
    {
      "cell_type": "code",
      "metadata": {
        "id": "Xua8SXhP4zvb",
        "outputId": "7ab4581d-13fe-4a68-a9b6-893949baa362",
        "colab": {
          "base_uri": "https://localhost:8080/",
          "height": 786
        }
      },
      "source": [
        "# Evaluating my model using CM, precsion, and recal\n",
        "preds, original_test_labels = get_Model_prediction(model, test_data, test_labels)\n",
        "get_Evaluation_matrics(preds, original_test_labels)"
      ],
      "execution_count": 62,
      "outputs": [
        {
          "output_type": "stream",
          "text": [
            "[[0]\n",
            " [1]\n",
            " [1]\n",
            " ...\n",
            " [0]\n",
            " [0]\n",
            " [1]]\n",
            "[0 0 0 ... 0 0 0]\n"
          ],
          "name": "stdout"
        },
        {
          "output_type": "display_data",
          "data": {
            "text/plain": [
              "<Figure size 432x288 with 0 Axes>"
            ]
          },
          "metadata": {
            "tags": []
          }
        },
        {
          "output_type": "display_data",
          "data": {
            "image/png": "[encoded data removed]",
            "text/plain": [
              "<Figure size 864x576 with 1 Axes>"
            ]
          },
          "metadata": {
            "tags": [],
            "needs_background": "light"
          }
        },
        {
          "output_type": "stream",
          "text": [
            "Accuracy of the model is 0.49474\n",
            "Recall of the model is 0.00000\n",
            "Precision of the model is nan\n",
            "specificity of the model is 1.00000\n",
            "F1_score of the model is 0.00000\n"
          ],
          "name": "stdout"
        },
        {
          "output_type": "stream",
          "text": [
            "/usr/local/lib/python3.6/dist-packages/ipykernel_launcher.py:14: RuntimeWarning: invalid value encountered in long_scalars\n",
            "  \n"
          ],
          "name": "stderr"
        }
      ]
    },
    {
      "cell_type": "code",
      "metadata": {
        "id": "OdA0NXbk42aw",
        "outputId": "e81d9dc1-5a8c-47fc-b550-3da3e03de5b5",
        "colab": {
          "base_uri": "https://localhost:8080/",
          "height": 312
        }
      },
      "source": [
        "# plotting the AUC for all my classes\n",
        "get_model_ROC_AUC_curve(preds, test_labels)"
      ],
      "execution_count": 63,
      "outputs": [
        {
          "output_type": "stream",
          "text": [
            "AUC Score :  0.5\n"
          ],
          "name": "stdout"
        },
        {
          "output_type": "display_data",
          "data": {
            "image/png": "[encoded data removed]",
            "text/plain": [
              "<Figure size 432x288 with 1 Axes>"
            ]
          },
          "metadata": {
            "tags": [],
            "needs_background": "light"
          }
        }
      ]
    },
    {
      "cell_type": "markdown",
      "metadata": {
        "id": "ICrBiLIyV6o2"
      },
      "source": [
        "# **2. machining_finalized**"
      ]
    },
    {
      "cell_type": "markdown",
      "metadata": {
        "id": "bwekdD4lXTnS"
      },
      "source": [
        "**XG Boost**"
      ]
    },
    {
      "cell_type": "code",
      "metadata": {
        "id": "eW6Ws_CRYnoU"
      },
      "source": [
        "import xgboost as xgb\n",
        "from xgboost.sklearn import XGBClassifier\n",
        "from sklearn.ensemble import RandomForestClassifier\n",
        "from sklearn.svm import SVC\n",
        "\n",
        "label2 = Data.machining_finalized\n",
        "train_data, test_data, train_labels, test_labels = train_test_split(s_features, label2, test_size = 0.20, random_state = 123)"
      ],
      "execution_count": 64,
      "outputs": []
    },
    {
      "cell_type": "code",
      "metadata": {
        "id": "0UGwsYOVWA-h",
        "outputId": "a8e658ac-dab8-425e-9458-252f4137b950",
        "colab": {
          "base_uri": "https://localhost:8080/",
          "height": 618
        }
      },
      "source": [
        "model = XGBClassifier()\n",
        "\n",
        "model.fit(train_data, train_labels)\n",
        "\n",
        "preds = model.predict(test_data)\n",
        "\n",
        "get_Evaluation_matrics(preds, test_labels)"
      ],
      "execution_count": null,
      "outputs": [
        {
          "output_type": "display_data",
          "data": {
            "text/plain": [
              "<Figure size 360x360 with 0 Axes>"
            ]
          },
          "metadata": {
            "tags": []
          }
        },
        {
          "output_type": "display_data",
          "data": {
            "image/png": "[encoded data removed]",
            "text/plain": [
              "<Figure size 864x576 with 1 Axes>"
            ]
          },
          "metadata": {
            "tags": []
          }
        },
        {
          "output_type": "stream",
          "text": [
            "Accuracy of the model is 0.99941\n",
            "Recall of the model is 0.99957\n",
            "Precision of the model is 0.99978\n",
            "specificity of the model is 0.99766\n",
            "F1_score of the model is 0.99968\n"
          ],
          "name": "stdout"
        }
      ]
    },
    {
      "cell_type": "code",
      "metadata": {
        "id": "cGGzZf0ZXOu-",
        "outputId": "a42ec8ce-3357-44af-e782-fe08f9f1d84d",
        "colab": {
          "base_uri": "https://localhost:8080/",
          "height": 386
        }
      },
      "source": [
        "#plotting the ROC Curve of the model\n",
        "get_model_ROC_AUC_curve(preds, test_labels)"
      ],
      "execution_count": null,
      "outputs": [
        {
          "output_type": "stream",
          "text": [
            "AUC Score :  0.9986157929795522\n"
          ],
          "name": "stdout"
        },
        {
          "output_type": "display_data",
          "data": {
            "image/png": "[encoded data removed]",
            "text/plain": [
              "<Figure size 360x360 with 1 Axes>"
            ]
          },
          "metadata": {
            "tags": []
          }
        }
      ]
    },
    {
      "cell_type": "markdown",
      "metadata": {
        "id": "yQ6F6wjaXpXV"
      },
      "source": [
        "**RF**"
      ]
    },
    {
      "cell_type": "code",
      "metadata": {
        "id": "HfyUSGVTXss4",
        "outputId": "df6b0e72-38aa-4e91-ba71-3e67948558ee",
        "colab": {
          "base_uri": "https://localhost:8080/",
          "height": 618
        }
      },
      "source": [
        "model = RandomForestClassifier()\n",
        "\n",
        "model.fit(train_data, train_labels)\n",
        "\n",
        "preds = model.predict(test_data)\n",
        "\n",
        "get_Evaluation_matrics(preds, test_labels)"
      ],
      "execution_count": null,
      "outputs": [
        {
          "output_type": "display_data",
          "data": {
            "text/plain": [
              "<Figure size 360x360 with 0 Axes>"
            ]
          },
          "metadata": {
            "tags": []
          }
        },
        {
          "output_type": "display_data",
          "data": {
            "image/png": "[encoded data removed]",
            "text/plain": [
              "<Figure size 864x576 with 1 Axes>"
            ]
          },
          "metadata": {
            "tags": []
          }
        },
        {
          "output_type": "stream",
          "text": [
            "Accuracy of the model is 0.99960\n",
            "Recall of the model is 1.00000\n",
            "Precision of the model is 0.99957\n",
            "specificity of the model is 0.99533\n",
            "F1_score of the model is 0.99978\n"
          ],
          "name": "stdout"
        }
      ]
    },
    {
      "cell_type": "code",
      "metadata": {
        "id": "RY5DSCczX6Q8",
        "outputId": "59aa5f01-1655-4a30-92ec-9cae31246475",
        "colab": {
          "base_uri": "https://localhost:8080/",
          "height": 386
        }
      },
      "source": [
        "#plotting the ROC Curve of the model\n",
        "get_model_ROC_AUC_curve(preds, test_labels)"
      ],
      "execution_count": null,
      "outputs": [
        {
          "output_type": "stream",
          "text": [
            "AUC Score :  0.9988317757009345\n"
          ],
          "name": "stdout"
        },
        {
          "output_type": "display_data",
          "data": {
            "image/png": "[encoded data removed]",
            "text/plain": [
              "<Figure size 360x360 with 1 Axes>"
            ]
          },
          "metadata": {
            "tags": []
          }
        }
      ]
    },
    {
      "cell_type": "markdown",
      "metadata": {
        "id": "1cuTX2OuX9qf"
      },
      "source": [
        "**SVC**"
      ]
    },
    {
      "cell_type": "code",
      "metadata": {
        "id": "X7UQ7JKiX_2N",
        "outputId": "30884f0b-9239-436a-ba31-7e7286a56002",
        "colab": {
          "base_uri": "https://localhost:8080/",
          "height": 608
        }
      },
      "source": [
        "model = SVC()\n",
        "\n",
        "model.fit(train_data, train_labels)\n",
        "\n",
        "preds = model.predict(test_data)\n",
        "\n",
        "get_Evaluation_matrics(preds, test_labels)"
      ],
      "execution_count": 65,
      "outputs": [
        {
          "output_type": "display_data",
          "data": {
            "text/plain": [
              "<Figure size 432x288 with 0 Axes>"
            ]
          },
          "metadata": {
            "tags": []
          }
        },
        {
          "output_type": "display_data",
          "data": {
            "image/png": "[encoded data removed]",
            "text/plain": [
              "<Figure size 864x576 with 1 Axes>"
            ]
          },
          "metadata": {
            "tags": [],
            "needs_background": "light"
          }
        },
        {
          "output_type": "stream",
          "text": [
            "Accuracy of the model is 0.98834\n",
            "Recall of the model is 0.99935\n",
            "Precision of the model is 0.98804\n",
            "specificity of the model is 0.86916\n",
            "F1_score of the model is 0.99366\n"
          ],
          "name": "stdout"
        }
      ]
    },
    {
      "cell_type": "code",
      "metadata": {
        "id": "AGa7K5swYFSV",
        "outputId": "d0983085-fb33-4c18-a386-c04f8d50a6ad",
        "colab": {
          "base_uri": "https://localhost:8080/",
          "height": 312
        }
      },
      "source": [
        "#plotting the ROC Curve of the model\n",
        "get_model_ROC_AUC_curve(preds, test_labels)"
      ],
      "execution_count": 66,
      "outputs": [
        {
          "output_type": "stream",
          "text": [
            "AUC Score :  0.934255465170263\n"
          ],
          "name": "stdout"
        },
        {
          "output_type": "display_data",
          "data": {
            "image/png": "[encoded data removed]",
            "text/plain": [
              "<Figure size 432x288 with 1 Axes>"
            ]
          },
          "metadata": {
            "tags": [],
            "needs_background": "light"
          }
        }
      ]
    },
    {
      "cell_type": "markdown",
      "metadata": {
        "id": "ev54422Nb9Xz"
      },
      "source": [
        "**ANN**"
      ]
    },
    {
      "cell_type": "markdown",
      "metadata": {
        "id": "0D-YxQGNZA8m"
      },
      "source": [
        "# **3. passed_visual_inspection**"
      ]
    },
    {
      "cell_type": "markdown",
      "metadata": {
        "id": "0P0Rr9bRZKu1"
      },
      "source": [
        "**XG Boost**"
      ]
    },
    {
      "cell_type": "code",
      "metadata": {
        "id": "vIOHe46UZHDj"
      },
      "source": [
        "import xgboost as xgb\n",
        "from xgboost.sklearn import XGBClassifier\n",
        "from sklearn.ensemble import RandomForestClassifier\n",
        "from sklearn.svm import SVC\n",
        "\n",
        "label2 = Data.passed_visual_inspection\n",
        "train_data, test_data, train_labels, test_labels = train_test_split(s_features, label2, test_size = 0.20, random_state = 123)"
      ],
      "execution_count": null,
      "outputs": []
    },
    {
      "cell_type": "code",
      "metadata": {
        "id": "5mcxZl0zZamD",
        "outputId": "2207ee00-b9d4-41ec-e955-cc3fcb74d883",
        "colab": {
          "base_uri": "https://localhost:8080/",
          "height": 618
        }
      },
      "source": [
        "model = XGBClassifier()\n",
        "\n",
        "model.fit(train_data, train_labels)\n",
        "\n",
        "preds = model.predict(test_data)\n",
        "\n",
        "get_Evaluation_matrics(preds, test_labels)"
      ],
      "execution_count": null,
      "outputs": [
        {
          "output_type": "display_data",
          "data": {
            "text/plain": [
              "<Figure size 360x360 with 0 Axes>"
            ]
          },
          "metadata": {
            "tags": []
          }
        },
        {
          "output_type": "display_data",
          "data": {
            "image/png": "[encoded data removed]",
            "text/plain": [
              "<Figure size 864x576 with 1 Axes>"
            ]
          },
          "metadata": {
            "tags": []
          }
        },
        {
          "output_type": "stream",
          "text": [
            "Accuracy of the model is 0.99605\n",
            "Recall of the model is 0.99532\n",
            "Precision of the model is 0.99948\n",
            "specificity of the model is 0.99835\n",
            "F1_score of the model is 0.99740\n"
          ],
          "name": "stdout"
        }
      ]
    },
    {
      "cell_type": "code",
      "metadata": {
        "id": "SqwtTD8EZohe",
        "outputId": "8f890471-f7b6-41a3-eb21-db4725744c83",
        "colab": {
          "base_uri": "https://localhost:8080/",
          "height": 386
        }
      },
      "source": [
        "#plotting the ROC Curve of the model\n",
        "get_model_ROC_AUC_curve(preds, test_labels)"
      ],
      "execution_count": null,
      "outputs": [
        {
          "output_type": "stream",
          "text": [
            "AUC Score :  0.9968346763801311\n"
          ],
          "name": "stdout"
        },
        {
          "output_type": "display_data",
          "data": {
            "image/png": "[encoded data removed]",
            "text/plain": [
              "<Figure size 360x360 with 1 Axes>"
            ]
          },
          "metadata": {
            "tags": []
          }
        }
      ]
    },
    {
      "cell_type": "markdown",
      "metadata": {
        "id": "0CicpAQkZran"
      },
      "source": [
        "**RF**"
      ]
    },
    {
      "cell_type": "code",
      "metadata": {
        "id": "su9WYAPGZxVH",
        "outputId": "6c709b9b-9f75-4b16-e7bf-8d46b7449909",
        "colab": {
          "base_uri": "https://localhost:8080/",
          "height": 618
        }
      },
      "source": [
        "model = RandomForestClassifier()\n",
        "\n",
        "model.fit(train_data, train_labels)\n",
        "\n",
        "preds = model.predict(test_data)\n",
        "\n",
        "get_Evaluation_matrics(preds, test_labels)"
      ],
      "execution_count": null,
      "outputs": [
        {
          "output_type": "display_data",
          "data": {
            "text/plain": [
              "<Figure size 360x360 with 0 Axes>"
            ]
          },
          "metadata": {
            "tags": []
          }
        },
        {
          "output_type": "display_data",
          "data": {
            "image/png": "[encoded data removed]",
            "text/plain": [
              "<Figure size 864x576 with 1 Axes>"
            ]
          },
          "metadata": {
            "tags": []
          }
        },
        {
          "output_type": "stream",
          "text": [
            "Accuracy of the model is 0.99842\n",
            "Recall of the model is 0.99818\n",
            "Precision of the model is 0.99974\n",
            "specificity of the model is 0.99917\n",
            "F1_score of the model is 0.99896\n"
          ],
          "name": "stdout"
        }
      ]
    },
    {
      "cell_type": "code",
      "metadata": {
        "id": "OvCzjrmaZ3u-",
        "outputId": "e41e5ad0-eb5e-40d6-d330-dd5c16a047fb",
        "colab": {
          "base_uri": "https://localhost:8080/",
          "height": 386
        }
      },
      "source": [
        "#plotting the ROC Curve of the model\n",
        "get_model_ROC_AUC_curve(preds, test_labels)"
      ],
      "execution_count": null,
      "outputs": [
        {
          "output_type": "stream",
          "text": [
            "AUC Score :  0.9986772134499408\n"
          ],
          "name": "stdout"
        },
        {
          "output_type": "display_data",
          "data": {
            "image/png": "[encoded data removed]",
            "text/plain": [
              "<Figure size 360x360 with 1 Axes>"
            ]
          },
          "metadata": {
            "tags": []
          }
        }
      ]
    },
    {
      "cell_type": "markdown",
      "metadata": {
        "id": "qVr9PIP_aDob"
      },
      "source": [
        "**SVC**"
      ]
    },
    {
      "cell_type": "code",
      "metadata": {
        "id": "58L0xI2raCyM",
        "outputId": "446258e6-868a-4389-b126-1886a9d37a64",
        "colab": {
          "base_uri": "https://localhost:8080/",
          "height": 618
        }
      },
      "source": [
        "model = SVC()\n",
        "\n",
        "model.fit(train_data, train_labels)\n",
        "\n",
        "preds = model.predict(test_data)\n",
        "\n",
        "get_Evaluation_matrics(preds, test_labels)"
      ],
      "execution_count": null,
      "outputs": [
        {
          "output_type": "display_data",
          "data": {
            "text/plain": [
              "<Figure size 360x360 with 0 Axes>"
            ]
          },
          "metadata": {
            "tags": []
          }
        },
        {
          "output_type": "display_data",
          "data": {
            "image/png": "[encoded data removed]",
            "text/plain": [
              "<Figure size 864x576 with 1 Axes>"
            ]
          },
          "metadata": {
            "tags": []
          }
        },
        {
          "output_type": "stream",
          "text": [
            "Accuracy of the model is 0.98043\n",
            "Recall of the model is 0.98103\n",
            "Precision of the model is 0.99316\n",
            "specificity of the model is 0.97851\n",
            "F1_score of the model is 0.98706\n"
          ],
          "name": "stdout"
        }
      ]
    },
    {
      "cell_type": "code",
      "metadata": {
        "id": "rDQqhIAKaNob",
        "outputId": "2f969f0c-4a05-4143-fb11-528ca8cda604",
        "colab": {
          "base_uri": "https://localhost:8080/",
          "height": 386
        }
      },
      "source": [
        "#plotting the ROC Curve of the model\n",
        "get_model_ROC_AUC_curve(preds, test_labels)"
      ],
      "execution_count": null,
      "outputs": [
        {
          "output_type": "stream",
          "text": [
            "AUC Score :  0.9797707513616604\n"
          ],
          "name": "stdout"
        },
        {
          "output_type": "display_data",
          "data": {
            "image/png": "[encoded data removed]",
            "text/plain": [
              "<Figure size 360x360 with 1 Axes>"
            ]
          },
          "metadata": {
            "tags": []
          }
        }
      ]
    },
    {
      "cell_type": "markdown",
      "metadata": {
        "id": "YYLX5lSlb2zP"
      },
      "source": [
        "**ANN**"
      ]
    }
  ]
}