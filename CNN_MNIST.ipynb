{
  "nbformat": 4,
  "nbformat_minor": 0,
  "metadata": {
    "colab": {
      "name": "CNN_MNIST.ipynb",
      "provenance": [],
      "include_colab_link": true
    },
    "kernelspec": {
      "name": "python3",
      "display_name": "Python 3"
    }
  },
  "cells": [
    {
      "cell_type": "markdown",
      "metadata": {
        "id": "view-in-github",
        "colab_type": "text"
      },
      "source": [
        "<a href=\"https://colab.research.google.com/github/myschl/ML-DL/blob/master/CNN_MNIST.ipynb\" target=\"_parent\"><img src=\"https://colab.research.google.com/assets/colab-badge.svg\" alt=\"Open In Colab\"/></a>"
      ]
    },
    {
      "cell_type": "code",
      "metadata": {
        "id": "VxcBp1_9ra3x",
        "colab_type": "code",
        "colab": {}
      },
      "source": [
        "from tensorflow.keras import layers, models\n",
        "from tensorflow.keras.utils import normalize\n",
        "from keras.utils import to_categorical\n",
        "from keras import regularizers\n",
        "import pandas as pd\n",
        "import numpy as np\n",
        "import seaborn as sns\n",
        "from keras.datasets import mnist\n",
        "import matplotlib.pyplot as plt\n",
        "from sklearn.preprocessing import StandardScaler"
      ],
      "execution_count": 0,
      "outputs": []
    },
    {
      "cell_type": "code",
      "metadata": {
        "id": "dENih-xTrj78",
        "colab_type": "code",
        "colab": {}
      },
      "source": [
        "# mnist_train = pd.read_csv('/content/sample_data/mnist_train_small.csv')\n",
        "# mnist_test = pd.read_csv('/content/sample_data/mnist_test.csv')\n",
        "\n",
        "(X_train, y_train),(X_valid, y_valid) = mnist.load_data()\n",
        "\n",
        "y_valid_r = y_valid.copy()\n",
        "y_train_r = y_train.copy()\n",
        "# Tensors Normalization\n",
        "# X_train = normalize(X_train)\n",
        "# y_train = normalize(y_train)\n",
        "\n",
        "# X_valid = normalize(X_valid)\n",
        "# y_valid = normalize(y_valid)\n",
        "\n",
        "X_train = X_train.reshape((60000, 28, 28, 1))\n",
        "X_train = X_train.astype('float32')/255\n",
        "\n",
        "X_valid = X_valid.reshape((10000, 28, 28, 1))\n",
        "X_valid = X_valid.astype('float32')/255\n",
        "\n",
        "# label to categorical\n",
        "y_train  = to_categorical(y_train)\n",
        "y_valid  = to_categorical(y_valid)\n",
        "\n",
        "\n",
        "# X_train = np.asarray(X_train)\n",
        "# y_train = np.asarray(y_train)\n",
        "\n",
        "# X_valid = np.asarray(X_valid).astype('float32')\n",
        "# y_valid = np.asarray(y_valid).astype('float32')"
      ],
      "execution_count": 0,
      "outputs": []
    },
    {
      "cell_type": "code",
      "metadata": {
        "id": "moB719tO5crY",
        "colab_type": "code",
        "colab": {
          "base_uri": "https://localhost:8080/",
          "height": 34
        },
        "outputId": "901758db-73b9-427a-f2b8-f3e7dcb661b0"
      },
      "source": [
        "y_train_r"
      ],
      "execution_count": 173,
      "outputs": [
        {
          "output_type": "execute_result",
          "data": {
            "text/plain": [
              "array([5, 0, 4, ..., 5, 6, 8], dtype=uint8)"
            ]
          },
          "metadata": {
            "tags": []
          },
          "execution_count": 173
        }
      ]
    },
    {
      "cell_type": "code",
      "metadata": {
        "id": "cnkK2urD5dvk",
        "colab_type": "code",
        "colab": {
          "base_uri": "https://localhost:8080/",
          "height": 730
        },
        "outputId": "3a602e81-e119-4abe-c70c-7622d7d7b27d"
      },
      "source": [
        "# Get the counts for each class in training data\n",
        "\n",
        "cases_count = pd.DataFrame( y_train_r)\n",
        "cases_count.columns = ['categories']\n",
        "valuesCount = cases_count.categories.value_counts()\n",
        "\n",
        "print('VAlue Counts\\n', valuesCount)\n",
        "\n",
        "# Plot the results \n",
        "plt.figure(figsize=(10,8))\n",
        "sns.barplot(x=valuesCount.index, y= valuesCount.values)\n",
        "plt.title('Training Digits', fontsize=14)\n",
        "plt.xlabel('Train Digits', fontsize=12)\n",
        "plt.ylabel('Count', fontsize=12)\n",
        "# plt.xticks(range(len(cases_count.index)), ['Normal(0)', 'Pneumonia(1)'])\n",
        "plt.show()"
      ],
      "execution_count": 197,
      "outputs": [
        {
          "output_type": "stream",
          "text": [
            "VAlue Counts\n",
            " 1    6742\n",
            "7    6265\n",
            "3    6131\n",
            "2    5958\n",
            "9    5949\n",
            "0    5923\n",
            "6    5918\n",
            "8    5851\n",
            "4    5842\n",
            "5    5421\n",
            "Name: categories, dtype: int64\n"
          ],
          "name": "stdout"
        },
        {
          "output_type": "display_data",
          "data": {
            "image/png": "[encoded data removed]",
            "text/plain": [
              "<Figure size 720x576 with 1 Axes>"
            ]
          },
          "metadata": {
            "tags": []
          }
        }
      ]
    },
    {
      "cell_type": "code",
      "metadata": {
        "id": "3iwxcydmUhKX",
        "colab_type": "code",
        "colab": {
          "base_uri": "https://localhost:8080/",
          "height": 730
        },
        "outputId": "dd4b5b1a-6290-42f4-d084-7c45e0738f97"
      },
      "source": [
        "\n",
        "# Get the counts for each class in validation data\n",
        "cases_count = pd.DataFrame( y_valid_r)\n",
        "cases_count.columns = ['categories']\n",
        "valuesCount = cases_count.categories.value_counts()\n",
        "\n",
        "print('VAlue Counts\\n', valuesCount)\n",
        "\n",
        "# Plot the results \n",
        "plt.figure(figsize=(10,8))\n",
        "sns.barplot(x=valuesCount.index, y= valuesCount.values)\n",
        "plt.title('validation Digits', fontsize=14)\n",
        "plt.xlabel('validation Digits', fontsize=12)\n",
        "plt.ylabel('Count', fontsize=12)\n",
        "# plt.xticks(range(len(cases_count.index)), ['Normal(0)', 'Pneumonia(1)'])\n",
        "plt.show()"
      ],
      "execution_count": 196,
      "outputs": [
        {
          "output_type": "stream",
          "text": [
            "VAlue Counts\n",
            " 1    1135\n",
            "2    1032\n",
            "7    1028\n",
            "3    1010\n",
            "9    1009\n",
            "4     982\n",
            "0     980\n",
            "8     974\n",
            "6     958\n",
            "5     892\n",
            "Name: categories, dtype: int64\n"
          ],
          "name": "stdout"
        },
        {
          "output_type": "display_data",
          "data": {
            "image/png": "[encoded data removed]",
            "text/plain": [
              "<Figure size 720x576 with 1 Axes>"
            ]
          },
          "metadata": {
            "tags": []
          }
        }
      ]
    },
    {
      "cell_type": "code",
      "metadata": {
        "id": "am0p4G1L593I",
        "colab_type": "code",
        "colab": {}
      },
      "source": [
        "from keras import layers\n",
        "from keras import models\n",
        "\n",
        "\n",
        "covmodel = models.Sequential()\n",
        "covmodel.add(layers.Conv2D(32, (3, 3), activation='relu', input_shape=[28, 28, 1]))\n",
        "covmodel.add(layers.MaxPooling2D((2, 2)))\n",
        "covmodel.add(layers.Conv2D(64, (3, 3), activation='relu'))\n",
        "covmodel.add(layers.MaxPooling2D((2, 2)))\n",
        "covmodel.add(layers.Conv2D(64, (3,3), activation='relu'))"
      ],
      "execution_count": 0,
      "outputs": []
    },
    {
      "cell_type": "code",
      "metadata": {
        "id": "eqZkBH5f5_Gx",
        "colab_type": "code",
        "colab": {}
      },
      "source": [
        "# covmodel.summary()"
      ],
      "execution_count": 0,
      "outputs": []
    },
    {
      "cell_type": "code",
      "metadata": {
        "id": "JnQZTa-h_sRb",
        "colab_type": "code",
        "colab": {}
      },
      "source": [
        "covmodel.add(layers.Flatten())\n",
        "covmodel.add(layers.Dense(64, activation='relu'))\n",
        "covmodel.add(layers.Dense(10, activation='softmax'))"
      ],
      "execution_count": 0,
      "outputs": []
    },
    {
      "cell_type": "code",
      "metadata": {
        "id": "DvUc1AuUELwM",
        "colab_type": "code",
        "colab": {
          "base_uri": "https://localhost:8080/",
          "height": 443
        },
        "outputId": "00c032f4-819a-4fbc-e13d-36915ff3870b"
      },
      "source": [
        "covmodel.summary()"
      ],
      "execution_count": 148,
      "outputs": [
        {
          "output_type": "stream",
          "text": [
            "Model: \"sequential_21\"\n",
            "_________________________________________________________________\n",
            "Layer (type)                 Output Shape              Param #   \n",
            "=================================================================\n",
            "conv2d_74 (Conv2D)           (None, 26, 26, 32)        320       \n",
            "_________________________________________________________________\n",
            "max_pooling2d_52 (MaxPooling (None, 13, 13, 32)        0         \n",
            "_________________________________________________________________\n",
            "conv2d_75 (Conv2D)           (None, 11, 11, 64)        18496     \n",
            "_________________________________________________________________\n",
            "max_pooling2d_53 (MaxPooling (None, 5, 5, 64)          0         \n",
            "_________________________________________________________________\n",
            "conv2d_76 (Conv2D)           (None, 3, 3, 64)          36928     \n",
            "_________________________________________________________________\n",
            "flatten_14 (Flatten)         (None, 576)               0         \n",
            "_________________________________________________________________\n",
            "dense_17 (Dense)             (None, 64)                36928     \n",
            "_________________________________________________________________\n",
            "dense_18 (Dense)             (None, 10)                650       \n",
            "=================================================================\n",
            "Total params: 93,322\n",
            "Trainable params: 93,322\n",
            "Non-trainable params: 0\n",
            "_________________________________________________________________\n"
          ],
          "name": "stdout"
        }
      ]
    },
    {
      "cell_type": "code",
      "metadata": {
        "id": "SBdzoFVdADoz",
        "colab_type": "code",
        "colab": {}
      },
      "source": [
        "covmodel.compile(optimizer='rmsprop',\n",
        "                loss='categorical_crossentropy',\n",
        "                metrics=['accuracy'])\n"
      ],
      "execution_count": 0,
      "outputs": []
    },
    {
      "cell_type": "code",
      "metadata": {
        "id": "4GmUslr5Fxn_",
        "colab_type": "code",
        "colab": {
          "base_uri": "https://localhost:8080/",
          "height": 212
        },
        "outputId": "4d9f8ef4-3ebf-4770-d0c7-86c926cd088b"
      },
      "source": [
        "History = covmodel.fit(X_train, y_train, \n",
        "                       epochs=5, \n",
        "                       batch_size=128,\n",
        "                       validation_data=(X_valid, y_valid) )"
      ],
      "execution_count": 150,
      "outputs": [
        {
          "output_type": "stream",
          "text": [
            "Train on 60000 samples, validate on 10000 samples\n",
            "Epoch 1/5\n",
            "60000/60000 [==============================] - 50s 829us/step - loss: 0.2340 - acc: 0.9276 - val_loss: 0.0650 - val_acc: 0.9789\n",
            "Epoch 2/5\n",
            "60000/60000 [==============================] - 49s 816us/step - loss: 0.0562 - acc: 0.9824 - val_loss: 0.0362 - val_acc: 0.9876\n",
            "Epoch 3/5\n",
            "60000/60000 [==============================] - 49s 814us/step - loss: 0.0384 - acc: 0.9879 - val_loss: 0.0282 - val_acc: 0.9910\n",
            "Epoch 4/5\n",
            "60000/60000 [==============================] - 49s 821us/step - loss: 0.0291 - acc: 0.9910 - val_loss: 0.0324 - val_acc: 0.9904\n",
            "Epoch 5/5\n",
            "60000/60000 [==============================] - 49s 823us/step - loss: 0.0226 - acc: 0.9932 - val_loss: 0.0380 - val_acc: 0.9890\n"
          ],
          "name": "stdout"
        }
      ]
    },
    {
      "cell_type": "code",
      "metadata": {
        "id": "GzJFJwBsBGz1",
        "colab_type": "code",
        "colab": {}
      },
      "source": [
        "# test_acc = covmodel.evaluate(X_valid, y_valid)\n",
        "# test_acc\n"
      ],
      "execution_count": 0,
      "outputs": []
    },
    {
      "cell_type": "code",
      "metadata": {
        "id": "DQkSJvOkYHg9",
        "colab_type": "code",
        "colab": {}
      },
      "source": [
        "History.history"
      ],
      "execution_count": 0,
      "outputs": []
    },
    {
      "cell_type": "code",
      "metadata": {
        "id": "m0xL-DxRVhzf",
        "colab_type": "code",
        "colab": {
          "base_uri": "https://localhost:8080/",
          "height": 294
        },
        "outputId": "44064f0d-b86c-455f-9a67-a2cd923fb895"
      },
      "source": [
        "history_dict2 = History.history\n",
        "loss_values2 = history_dict2['loss']\n",
        "val_loss_values2 = history_dict2['val_loss']\n",
        "\n",
        "epochs = range(1, 5 + 1)\n",
        "plt.plot(epochs, loss_values2, 'b-', label='training loos')\n",
        "plt.plot(epochs, val_loss_values2, 'r-', label='validation loss')\n",
        "plt.title('trainin/validation loss')\n",
        "plt.xlabel('Epochs')\n",
        "plt.ylabel('Loss')\n",
        "plt.legend()\n",
        "plt.rcParams['axes.facecolor'] = 'white'\n",
        "plt.rcParams['axes.edgecolor'] = 'white'\n",
        "plt.rcParams['axes.grid'] = True\n",
        "plt.rcParams['grid.alpha'] = 1\n",
        "plt.rcParams['grid.color'] = \"#cccccc\"\n",
        "plt.show()"
      ],
      "execution_count": 151,
      "outputs": [
        {
          "output_type": "display_data",
          "data": {
            "image/png": "[encoded data removed]",
            "text/plain": [
              "<Figure size 432x288 with 1 Axes>"
            ]
          },
          "metadata": {
            "tags": []
          }
        }
      ]
    },
    {
      "cell_type": "code",
      "metadata": {
        "id": "Y4XE7f6EYEH6",
        "colab_type": "code",
        "colab": {
          "base_uri": "https://localhost:8080/",
          "height": 294
        },
        "outputId": "0a0df860-6151-4ab3-89dd-7e95c2941c3e"
      },
      "source": [
        "history_dict2 = History.history\n",
        "acc_values2 = history_dict2['acc']\n",
        "val_acc_values2 = history_dict2['val_acc']\n",
        "\n",
        "epochs = range(1, 5 + 1)\n",
        "plt.plot(epochs, acc_values2, 'b-', label='training Accuracy')\n",
        "plt.plot(epochs, val_acc_values2, 'r-', label='validation Accuracy')\n",
        "plt.title('trainin/validation Accuracy')\n",
        "plt.xlabel('Epochs')\n",
        "plt.ylabel('Accuracy')\n",
        "plt.legend()\n",
        "plt.rcParams['axes.facecolor'] = 'white'\n",
        "plt.rcParams['axes.edgecolor'] = 'white'\n",
        "plt.rcParams['axes.grid'] = True\n",
        "plt.rcParams['grid.alpha'] = 1\n",
        "plt.rcParams['grid.color'] = \"#cccccc\"\n",
        "plt.show()"
      ],
      "execution_count": 152,
      "outputs": [
        {
          "output_type": "display_data",
          "data": {
            "image/png": "[encoded data removed]",
            "text/plain": [
              "<Figure size 432x288 with 1 Axes>"
            ]
          },
          "metadata": {
            "tags": []
          }
        }
      ]
    }
  ]
}