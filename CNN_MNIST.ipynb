{
  "nbformat": 4,
  "nbformat_minor": 0,
  "metadata": {
    "colab": {
      "name": "CNN_MNIST.ipynb",
      "provenance": [],
      "include_colab_link": true
    },
    "kernelspec": {
      "name": "python3",
      "display_name": "Python 3"
    }
  },
  "cells": [
    {
      "cell_type": "markdown",
      "metadata": {
        "id": "view-in-github",
        "colab_type": "text"
      },
      "source": [
        "<a href=\"https://colab.research.google.com/github/myschl/ML-DL/blob/master/CNN_MNIST.ipynb\" target=\"_parent\"><img src=\"https://colab.research.google.com/assets/colab-badge.svg\" alt=\"Open In Colab\"/></a>"
      ]
    },
    {
      "cell_type": "code",
      "metadata": {
        "id": "VxcBp1_9ra3x",
        "colab_type": "code",
        "colab": {
          "base_uri": "https://localhost:8080/",
          "height": 81
        },
        "outputId": "78f73fff-ca1a-4405-c227-91ae612549fc"
      },
      "source": [
        "from tensorflow.keras import layers, models\n",
        "from tensorflow.keras.utils import normalize\n",
        "from keras.utils import to_categorical\n",
        "from keras import regularizers\n",
        "import pandas as pd\n",
        "import numpy as np\n",
        "import seaborn as sns\n",
        "from keras.datasets import mnist\n",
        "import matplotlib.pyplot as plt\n",
        "from sklearn.preprocessing import StandardScaler"
      ],
      "execution_count": 1,
      "outputs": [
        {
          "output_type": "display_data",
          "data": {
            "text/html": [
              "<p style=\"color: red;\">\n",
              "The default version of TensorFlow in Colab will soon switch to TensorFlow 2.x.<br>\n",
              "We recommend you <a href=\"https://www.tensorflow.org/guide/migrate\" target=\"_blank\">upgrade</a> now \n",
              "or ensure your notebook will continue to use TensorFlow 1.x via the <code>%tensorflow_version 1.x</code> magic:\n",
              "<a href=\"https://colab.research.google.com/notebooks/tensorflow_version.ipynb\" target=\"_blank\">more info</a>.</p>\n"
            ],
            "text/plain": [
              "<IPython.core.display.HTML object>"
            ]
          },
          "metadata": {
            "tags": []
          }
        },
        {
          "output_type": "stream",
          "text": [
            "Using TensorFlow backend.\n"
          ],
          "name": "stderr"
        }
      ]
    },
    {
      "cell_type": "code",
      "metadata": {
        "id": "dENih-xTrj78",
        "colab_type": "code",
        "colab": {
          "base_uri": "https://localhost:8080/",
          "height": 52
        },
        "outputId": "f40b541f-a91a-4c7a-8583-1a857a552625"
      },
      "source": [
        "# mnist_train = pd.read_csv('/content/sample_data/mnist_train_small.csv')\n",
        "# mnist_test = pd.read_csv('/content/sample_data/mnist_test.csv')\n",
        "\n",
        "(X_train, y_train),(X_valid, y_valid) = mnist.load_data()\n",
        "\n",
        "y_valid_r = y_valid.copy()\n",
        "y_train_r = y_train.copy()\n",
        "# Tensors Normalization\n",
        "# X_train = normalize(X_train)\n",
        "# y_train = normalize(y_train)\n",
        "\n",
        "# X_valid = normalize(X_valid)\n",
        "# y_valid = normalize(y_valid)\n",
        "\n",
        "X_train = X_train.reshape((60000, 28, 28, 1))\n",
        "X_train = X_train.astype('float32')/255\n",
        "\n",
        "X_valid = X_valid.reshape((10000, 28, 28, 1))\n",
        "X_valid = X_valid.astype('float32')/255\n",
        "\n",
        "# label to categorical\n",
        "y_train  = to_categorical(y_train)\n",
        "y_valid  = to_categorical(y_valid)\n",
        "\n",
        "\n",
        "# X_train = np.asarray(X_train)\n",
        "# y_train = np.asarray(y_train)\n",
        "\n",
        "# X_valid = np.asarray(X_valid).astype('float32')\n",
        "# y_valid = np.asarray(y_valid).astype('float32')"
      ],
      "execution_count": 2,
      "outputs": [
        {
          "output_type": "stream",
          "text": [
            "Downloading data from https://s3.amazonaws.com/img-datasets/mnist.npz\n",
            "11493376/11490434 [==============================] - 1s 0us/step\n"
          ],
          "name": "stdout"
        }
      ]
    },
    {
      "cell_type": "code",
      "metadata": {
        "id": "moB719tO5crY",
        "colab_type": "code",
        "outputId": "1f08e9f5-6615-4b6b-9b98-10c364f8a834",
        "colab": {
          "base_uri": "https://localhost:8080/",
          "height": 34
        }
      },
      "source": [
        "y_valid_r.shape"
      ],
      "execution_count": 32,
      "outputs": [
        {
          "output_type": "execute_result",
          "data": {
            "text/plain": [
              "(10000,)"
            ]
          },
          "metadata": {
            "tags": []
          },
          "execution_count": 32
        }
      ]
    },
    {
      "cell_type": "code",
      "metadata": {
        "id": "cnkK2urD5dvk",
        "colab_type": "code",
        "outputId": "4e2ef58f-1dc4-496b-b547-c20df263cf23",
        "colab": {
          "base_uri": "https://localhost:8080/",
          "height": 730
        }
      },
      "source": [
        "# Get the counts for each class in training data\n",
        "\n",
        "cases_count = pd.DataFrame( y_train_r)\n",
        "cases_count.columns = ['categories']\n",
        "valuesCount = cases_count.categories.value_counts()\n",
        "\n",
        "print('VAlue Counts\\n', valuesCount)\n",
        "\n",
        "# Plot the results \n",
        "plt.figure(figsize=(10,8))\n",
        "sns.barplot(x=valuesCount.index, y= valuesCount.values)\n",
        "plt.title('Training Digits', fontsize=14)\n",
        "plt.xlabel('Train Digits', fontsize=12)\n",
        "plt.ylabel('Count', fontsize=12)\n",
        "# plt.xticks(range(len(cases_count.index)), ['Normal(0)', 'Pneumonia(1)'])\n",
        "plt.show()"
      ],
      "execution_count": 3,
      "outputs": [
        {
          "output_type": "stream",
          "text": [
            "VAlue Counts\n",
            " 1    6742\n",
            "7    6265\n",
            "3    6131\n",
            "2    5958\n",
            "9    5949\n",
            "0    5923\n",
            "6    5918\n",
            "8    5851\n",
            "4    5842\n",
            "5    5421\n",
            "Name: categories, dtype: int64\n"
          ],
          "name": "stdout"
        },
        {
          "output_type": "display_data",
          "data": {
            "image/png": "[encoded data removed]",
            "text/plain": [
              "<Figure size 720x576 with 1 Axes>"
            ]
          },
          "metadata": {
            "tags": []
          }
        }
      ]
    },
    {
      "cell_type": "code",
      "metadata": {
        "id": "3iwxcydmUhKX",
        "colab_type": "code",
        "outputId": "5cf39d5a-7413-4f35-afa1-323407eaf842",
        "colab": {
          "base_uri": "https://localhost:8080/",
          "height": 730
        }
      },
      "source": [
        "\n",
        "# Get the counts for each class in validation data\n",
        "cases_count = pd.DataFrame( y_valid_r)\n",
        "cases_count.columns = ['categories']\n",
        "valuesCount = cases_count.categories.value_counts()\n",
        "\n",
        "print('VAlue Counts\\n', valuesCount)\n",
        "\n",
        "# Plot the results \n",
        "plt.figure(figsize=(10,8))\n",
        "sns.barplot(x=valuesCount.index, y= valuesCount.values)\n",
        "plt.title('validation Digits', fontsize=14)\n",
        "plt.xlabel('validation Digits', fontsize=12)\n",
        "plt.ylabel('Count', fontsize=12)\n",
        "# plt.xticks(range(len(cases_count.index)), ['Normal(0)', 'Pneumonia(1)'])\n",
        "plt.show()"
      ],
      "execution_count": 4,
      "outputs": [
        {
          "output_type": "stream",
          "text": [
            "VAlue Counts\n",
            " 1    1135\n",
            "2    1032\n",
            "7    1028\n",
            "3    1010\n",
            "9    1009\n",
            "4     982\n",
            "0     980\n",
            "8     974\n",
            "6     958\n",
            "5     892\n",
            "Name: categories, dtype: int64\n"
          ],
          "name": "stdout"
        },
        {
          "output_type": "display_data",
          "data": {
            "image/png": "[encoded data removed]",
            "text/plain": [
              "<Figure size 720x576 with 1 Axes>"
            ]
          },
          "metadata": {
            "tags": []
          }
        }
      ]
    },
    {
      "cell_type": "code",
      "metadata": {
        "id": "am0p4G1L593I",
        "colab_type": "code",
        "colab": {
          "base_uri": "https://localhost:8080/",
          "height": 178
        },
        "outputId": "4a84ee9c-5eaf-427b-c3c3-e8acf831a37b"
      },
      "source": [
        "from keras import layers\n",
        "from keras import models\n",
        "\n",
        "\n",
        "covmodel = models.Sequential()\n",
        "covmodel.add(layers.Conv2D(32, (3, 3), activation='relu', input_shape=[28, 28, 1]))\n",
        "covmodel.add(layers.MaxPooling2D((2, 2)))\n",
        "covmodel.add(layers.Conv2D(64, (3, 3), activation='relu'))\n",
        "covmodel.add(layers.MaxPooling2D((2, 2)))\n",
        "covmodel.add(layers.Conv2D(64, (3,3), activation='relu'))"
      ],
      "execution_count": 5,
      "outputs": [
        {
          "output_type": "stream",
          "text": [
            "WARNING:tensorflow:From /usr/local/lib/python3.6/dist-packages/keras/backend/tensorflow_backend.py:66: The name tf.get_default_graph is deprecated. Please use tf.compat.v1.get_default_graph instead.\n",
            "\n",
            "WARNING:tensorflow:From /usr/local/lib/python3.6/dist-packages/keras/backend/tensorflow_backend.py:541: The name tf.placeholder is deprecated. Please use tf.compat.v1.placeholder instead.\n",
            "\n",
            "WARNING:tensorflow:From /usr/local/lib/python3.6/dist-packages/keras/backend/tensorflow_backend.py:4432: The name tf.random_uniform is deprecated. Please use tf.random.uniform instead.\n",
            "\n",
            "WARNING:tensorflow:From /usr/local/lib/python3.6/dist-packages/keras/backend/tensorflow_backend.py:4267: The name tf.nn.max_pool is deprecated. Please use tf.nn.max_pool2d instead.\n",
            "\n"
          ],
          "name": "stdout"
        }
      ]
    },
    {
      "cell_type": "code",
      "metadata": {
        "id": "eqZkBH5f5_Gx",
        "colab_type": "code",
        "colab": {}
      },
      "source": [
        "# covmodel.summary()"
      ],
      "execution_count": 0,
      "outputs": []
    },
    {
      "cell_type": "code",
      "metadata": {
        "id": "JnQZTa-h_sRb",
        "colab_type": "code",
        "colab": {}
      },
      "source": [
        "covmodel.add(layers.Flatten())\n",
        "covmodel.add(layers.Dense(64, activation='relu'))\n",
        "covmodel.add(layers.Dense(10, activation='softmax'))"
      ],
      "execution_count": 0,
      "outputs": []
    },
    {
      "cell_type": "code",
      "metadata": {
        "id": "DvUc1AuUELwM",
        "colab_type": "code",
        "outputId": "36d430f5-89ac-414c-d85b-8e58dcaff350",
        "colab": {
          "base_uri": "https://localhost:8080/",
          "height": 443
        }
      },
      "source": [
        "covmodel.summary()"
      ],
      "execution_count": 7,
      "outputs": [
        {
          "output_type": "stream",
          "text": [
            "Model: \"sequential_1\"\n",
            "_________________________________________________________________\n",
            "Layer (type)                 Output Shape              Param #   \n",
            "=================================================================\n",
            "conv2d_1 (Conv2D)            (None, 26, 26, 32)        320       \n",
            "_________________________________________________________________\n",
            "max_pooling2d_1 (MaxPooling2 (None, 13, 13, 32)        0         \n",
            "_________________________________________________________________\n",
            "conv2d_2 (Conv2D)            (None, 11, 11, 64)        18496     \n",
            "_________________________________________________________________\n",
            "max_pooling2d_2 (MaxPooling2 (None, 5, 5, 64)          0         \n",
            "_________________________________________________________________\n",
            "conv2d_3 (Conv2D)            (None, 3, 3, 64)          36928     \n",
            "_________________________________________________________________\n",
            "flatten_1 (Flatten)          (None, 576)               0         \n",
            "_________________________________________________________________\n",
            "dense_1 (Dense)              (None, 64)                36928     \n",
            "_________________________________________________________________\n",
            "dense_2 (Dense)              (None, 10)                650       \n",
            "=================================================================\n",
            "Total params: 93,322\n",
            "Trainable params: 93,322\n",
            "Non-trainable params: 0\n",
            "_________________________________________________________________\n"
          ],
          "name": "stdout"
        }
      ]
    },
    {
      "cell_type": "code",
      "metadata": {
        "id": "SBdzoFVdADoz",
        "colab_type": "code",
        "colab": {
          "base_uri": "https://localhost:8080/",
          "height": 107
        },
        "outputId": "1f987fda-8e6f-409e-ae96-06219e38e455"
      },
      "source": [
        "covmodel.compile(optimizer='rmsprop',\n",
        "                loss='categorical_crossentropy',\n",
        "                metrics=['accuracy'])\n"
      ],
      "execution_count": 8,
      "outputs": [
        {
          "output_type": "stream",
          "text": [
            "WARNING:tensorflow:From /usr/local/lib/python3.6/dist-packages/keras/optimizers.py:793: The name tf.train.Optimizer is deprecated. Please use tf.compat.v1.train.Optimizer instead.\n",
            "\n",
            "WARNING:tensorflow:From /usr/local/lib/python3.6/dist-packages/keras/backend/tensorflow_backend.py:3576: The name tf.log is deprecated. Please use tf.math.log instead.\n",
            "\n"
          ],
          "name": "stdout"
        }
      ]
    },
    {
      "cell_type": "code",
      "metadata": {
        "id": "4GmUslr5Fxn_",
        "colab_type": "code",
        "outputId": "87be6d09-62e2-425f-c10c-19d6080a32ea",
        "colab": {
          "base_uri": "https://localhost:8080/",
          "height": 570
        }
      },
      "source": [
        "History = covmodel.fit(X_train, y_train, \n",
        "                       epochs=5, \n",
        "                       batch_size=128,\n",
        "                       validation_data=(X_valid, y_valid) )"
      ],
      "execution_count": 9,
      "outputs": [
        {
          "output_type": "stream",
          "text": [
            "WARNING:tensorflow:From /usr/local/lib/python3.6/dist-packages/tensorflow_core/python/ops/math_grad.py:1424: where (from tensorflow.python.ops.array_ops) is deprecated and will be removed in a future version.\n",
            "Instructions for updating:\n",
            "Use tf.where in 2.0, which has the same broadcast rule as np.where\n",
            "WARNING:tensorflow:From /usr/local/lib/python3.6/dist-packages/keras/backend/tensorflow_backend.py:1033: The name tf.assign_add is deprecated. Please use tf.compat.v1.assign_add instead.\n",
            "\n",
            "WARNING:tensorflow:From /usr/local/lib/python3.6/dist-packages/keras/backend/tensorflow_backend.py:1020: The name tf.assign is deprecated. Please use tf.compat.v1.assign instead.\n",
            "\n",
            "WARNING:tensorflow:From /usr/local/lib/python3.6/dist-packages/keras/backend/tensorflow_backend.py:3005: The name tf.Session is deprecated. Please use tf.compat.v1.Session instead.\n",
            "\n",
            "Train on 60000 samples, validate on 10000 samples\n",
            "Epoch 1/5\n",
            "WARNING:tensorflow:From /usr/local/lib/python3.6/dist-packages/keras/backend/tensorflow_backend.py:190: The name tf.get_default_session is deprecated. Please use tf.compat.v1.get_default_session instead.\n",
            "\n",
            "WARNING:tensorflow:From /usr/local/lib/python3.6/dist-packages/keras/backend/tensorflow_backend.py:197: The name tf.ConfigProto is deprecated. Please use tf.compat.v1.ConfigProto instead.\n",
            "\n",
            "WARNING:tensorflow:From /usr/local/lib/python3.6/dist-packages/keras/backend/tensorflow_backend.py:207: The name tf.global_variables is deprecated. Please use tf.compat.v1.global_variables instead.\n",
            "\n",
            "WARNING:tensorflow:From /usr/local/lib/python3.6/dist-packages/keras/backend/tensorflow_backend.py:216: The name tf.is_variable_initialized is deprecated. Please use tf.compat.v1.is_variable_initialized instead.\n",
            "\n",
            "WARNING:tensorflow:From /usr/local/lib/python3.6/dist-packages/keras/backend/tensorflow_backend.py:223: The name tf.variables_initializer is deprecated. Please use tf.compat.v1.variables_initializer instead.\n",
            "\n",
            "60000/60000 [==============================] - 50s 837us/step - loss: 0.2307 - acc: 0.9280 - val_loss: 0.0526 - val_acc: 0.9838\n",
            "Epoch 2/5\n",
            "60000/60000 [==============================] - 49s 822us/step - loss: 0.0550 - acc: 0.9831 - val_loss: 0.0343 - val_acc: 0.9891\n",
            "Epoch 3/5\n",
            "60000/60000 [==============================] - 49s 821us/step - loss: 0.0375 - acc: 0.9879 - val_loss: 0.0375 - val_acc: 0.9877\n",
            "Epoch 4/5\n",
            "60000/60000 [==============================] - 49s 819us/step - loss: 0.0290 - acc: 0.9905 - val_loss: 0.0281 - val_acc: 0.9916\n",
            "Epoch 5/5\n",
            "60000/60000 [==============================] - 49s 817us/step - loss: 0.0232 - acc: 0.9931 - val_loss: 0.0363 - val_acc: 0.9895\n"
          ],
          "name": "stdout"
        }
      ]
    },
    {
      "cell_type": "code",
      "metadata": {
        "id": "9pHz7lnvM-fd",
        "colab_type": "code",
        "colab": {}
      },
      "source": [
        "# saving the model\n",
        "covmodel.save('CNN_MNIST_MODEL.h5')"
      ],
      "execution_count": 0,
      "outputs": []
    },
    {
      "cell_type": "code",
      "metadata": {
        "id": "GzJFJwBsBGz1",
        "colab_type": "code",
        "colab": {}
      },
      "source": [
        "# test_acc = covmodel.evaluate(X_valid, y_valid)\n",
        "# test_acc\n"
      ],
      "execution_count": 0,
      "outputs": []
    },
    {
      "cell_type": "code",
      "metadata": {
        "id": "DQkSJvOkYHg9",
        "colab_type": "code",
        "colab": {}
      },
      "source": [
        "History.history"
      ],
      "execution_count": 0,
      "outputs": []
    },
    {
      "cell_type": "code",
      "metadata": {
        "id": "m0xL-DxRVhzf",
        "colab_type": "code",
        "outputId": "44064f0d-b86c-455f-9a67-a2cd923fb895",
        "colab": {
          "base_uri": "https://localhost:8080/",
          "height": 294
        }
      },
      "source": [
        "history_dict2 = History.history\n",
        "loss_values2 = history_dict2['loss']\n",
        "val_loss_values2 = history_dict2['val_loss']\n",
        "\n",
        "epochs = range(1, 5 + 1)\n",
        "plt.plot(epochs, loss_values2, 'b-', label='training loos')\n",
        "plt.plot(epochs, val_loss_values2, 'r-', label='validation loss')\n",
        "plt.title('trainin/validation loss')\n",
        "plt.xlabel('Epochs')\n",
        "plt.ylabel('Loss')\n",
        "plt.legend()\n",
        "plt.rcParams['axes.facecolor'] = 'white'\n",
        "plt.rcParams['axes.edgecolor'] = 'white'\n",
        "plt.rcParams['axes.grid'] = True\n",
        "plt.rcParams['grid.alpha'] = 1\n",
        "plt.rcParams['grid.color'] = \"#cccccc\"\n",
        "plt.show()"
      ],
      "execution_count": 0,
      "outputs": [
        {
          "output_type": "display_data",
          "data": {
            "image/png": "[encoded data removed]",
            "text/plain": [
              "<Figure size 432x288 with 1 Axes>"
            ]
          },
          "metadata": {
            "tags": []
          }
        }
      ]
    },
    {
      "cell_type": "code",
      "metadata": {
        "id": "Y4XE7f6EYEH6",
        "colab_type": "code",
        "outputId": "0a0df860-6151-4ab3-89dd-7e95c2941c3e",
        "colab": {
          "base_uri": "https://localhost:8080/",
          "height": 294
        }
      },
      "source": [
        "history_dict2 = History.history\n",
        "acc_values2 = history_dict2['acc']\n",
        "val_acc_values2 = history_dict2['val_acc']\n",
        "\n",
        "epochs = range(1, 5 + 1)\n",
        "plt.plot(epochs, acc_values2, 'b-', label='training Accuracy')\n",
        "plt.plot(epochs, val_acc_values2, 'r-', label='validation Accuracy')\n",
        "plt.title('trainin/validation Accuracy')\n",
        "plt.xlabel('Epochs')\n",
        "plt.ylabel('Accuracy')\n",
        "plt.legend()\n",
        "plt.rcParams['axes.facecolor'] = 'white'\n",
        "plt.rcParams['axes.edgecolor'] = 'white'\n",
        "plt.rcParams['axes.grid'] = True\n",
        "plt.rcParams['grid.alpha'] = 1\n",
        "plt.rcParams['grid.color'] = \"#cccccc\"\n",
        "plt.show()"
      ],
      "execution_count": 0,
      "outputs": [
        {
          "output_type": "display_data",
          "data": {
            "image/png": "[encoded data removed]",
            "text/plain": [
              "<Figure size 432x288 with 1 Axes>"
            ]
          },
          "metadata": {
            "tags": []
          }
        }
      ]
    },
    {
      "cell_type": "code",
      "metadata": {
        "id": "CPbf_EcfM66g",
        "colab_type": "code",
        "colab": {}
      },
      "source": [
        "# loading the saved model\n",
        "model = models.load_model('/content/CNN_MNIST_MODEL.h5')"
      ],
      "execution_count": 0,
      "outputs": []
    },
    {
      "cell_type": "code",
      "metadata": {
        "id": "HKCJchP8O7d1",
        "colab_type": "code",
        "colab": {
          "base_uri": "https://localhost:8080/",
          "height": 52
        },
        "outputId": "40e51f91-52f0-4556-fc86-0719e6ee4c36"
      },
      "source": [
        "# making prediction from validation data it is not a good idear by the way, just using it for the sake of example \n",
        "prediction = model.predict(X_valid)\n",
        "i = 444\n",
        "pred_label = np.argmax(prediction[i])\n",
        "True_label = np.argmax(y_valid[i])\n",
        "print('Pred_label  ', pred_label)\n",
        "print('True_label  ', True_label)"
      ],
      "execution_count": 29,
      "outputs": [
        {
          "output_type": "stream",
          "text": [
            "Pred_label   2\n",
            "True_label   2\n"
          ],
          "name": "stdout"
        }
      ]
    }
  ]
}