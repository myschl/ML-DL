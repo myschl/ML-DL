{
  "nbformat": 4,
  "nbformat_minor": 0,
  "metadata": {
    "colab": {
      "name": "Cyber Attack Classification .ipynb",
      "provenance": [],
      "toc_visible": true,
      "machine_shape": "hm",
      "mount_file_id": "1cBMIhzAD9TG7Gi6gojtL1pNBoHTYdiLE",
      "authorship_tag": "ABX9TyPkdVYAVyUbQgnFMGRpxQoh",
      "include_colab_link": true
    },
    "kernelspec": {
      "name": "python3",
      "display_name": "Python 3"
    },
    "accelerator": "GPU"
  },
  "cells": [
    {
      "cell_type": "markdown",
      "metadata": {
        "id": "view-in-github",
        "colab_type": "text"
      },
      "source": [
        "<a href=\"https://colab.research.google.com/github/myschl/ML-DL/blob/master/Cyber_Attack_Classification_.ipynb\" target=\"_parent\"><img src=\"https://colab.research.google.com/assets/colab-badge.svg\" alt=\"Open In Colab\"/></a>"
      ]
    },
    {
      "cell_type": "markdown",
      "metadata": {
        "id": "NDM8xHwl35JV",
        "colab_type": "text"
      },
      "source": [
        "# **Libraries to be use**"
      ]
    },
    {
      "cell_type": "code",
      "metadata": {
        "id": "wEWtBugc3fFR",
        "colab_type": "code",
        "outputId": "b94e7311-a29d-4fa3-d30a-71cd37d174ba",
        "colab": {
          "base_uri": "https://localhost:8080/",
          "height": 34
        }
      },
      "source": [
        "from sklearn.model_selection import train_test_split\n",
        "from sklearn.ensemble import RandomForestClassifier\n",
        "from sklearn.linear_model import SGDClassifier\n",
        "from sklearn.metrics import accuracy_score, confusion_matrix, precision_score, recall_score\n",
        "import matplotlib.pyplot as plt\n",
        "from sklearn.preprocessing import StandardScaler\n",
        "from xgboost import XGBClassifier\n",
        "import pandas as pd\n",
        "from sklearn.impute import SimpleImputer\n",
        "from sklearn.preprocessing import OneHotEncoder\n",
        "from sklearn.preprocessing import LabelEncoder\n",
        "from sklearn.model_selection import cross_val_score, cross_val_predict\n",
        "from mlxtend.plotting import plot_confusion_matrix\n",
        "from sklearn.metrics import confusion_matrix, accuracy_score, f1_score, precision_score, recall_score, classification_report\n",
        "from keras.utils import to_categorical\n",
        "\n",
        "# %tensorflow_version 1.x"
      ],
      "execution_count": 0,
      "outputs": [
        {
          "output_type": "stream",
          "text": [
            "Using TensorFlow backend.\n"
          ],
          "name": "stderr"
        }
      ]
    },
    {
      "cell_type": "markdown",
      "metadata": {
        "id": "oRIPB63x4eH8",
        "colab_type": "text"
      },
      "source": [
        "# **Getting the data**"
      ]
    },
    {
      "cell_type": "code",
      "metadata": {
        "id": "1q--j5E5QN4G",
        "colab_type": "code",
        "outputId": "408d1c45-7ba9-48e2-a688-409724cfb67b",
        "colab": {
          "base_uri": "https://localhost:8080/",
          "height": 34
        }
      },
      "source": [
        "# unzipping my data folder from my google drive\n",
        "from zipfile import ZipFile\n",
        "file_name = '/content/drive/My Drive/SS_Thesis/10-best Training-Testing split.zip'\n",
        "with ZipFile(file_name, 'r') as zip:\n",
        "  zip.extractall()\n",
        "  print(\"Done\")\n"
      ],
      "execution_count": 0,
      "outputs": [
        {
          "output_type": "stream",
          "text": [
            "Done\n"
          ],
          "name": "stdout"
        }
      ]
    },
    {
      "cell_type": "code",
      "metadata": {
        "id": "IfQXZc2nQjXj",
        "colab_type": "code",
        "outputId": "46a8b9a9-2682-4f50-a152-e04b4635c302",
        "colab": {
          "base_uri": "https://localhost:8080/",
          "height": 217
        }
      },
      "source": [
        "train = pd.read_csv('/content/10-best Training-Testing split/UNSW_2018_IoT_Botnet_Final_10_best_Training.csv')\n",
        "test = pd.read_csv('/content/10-best Training-Testing split/UNSW_2018_IoT_Botnet_Final_10_best_Testing.csv')\n",
        "\n",
        "# displaying my data before selecting the features to be use\n",
        "train.head()\n"
      ],
      "execution_count": 0,
      "outputs": [
        {
          "output_type": "execute_result",
          "data": {
            "text/html": [
              "<div>\n",
              "<style scoped>\n",
              "    .dataframe tbody tr th:only-of-type {\n",
              "        vertical-align: middle;\n",
              "    }\n",
              "\n",
              "    .dataframe tbody tr th {\n",
              "        vertical-align: top;\n",
              "    }\n",
              "\n",
              "    .dataframe thead th {\n",
              "        text-align: right;\n",
              "    }\n",
              "</style>\n",
              "<table border=\"1\" class=\"dataframe\">\n",
              "  <thead>\n",
              "    <tr style=\"text-align: right;\">\n",
              "      <th></th>\n",
              "      <th>pkSeqID</th>\n",
              "      <th>proto</th>\n",
              "      <th>saddr</th>\n",
              "      <th>sport</th>\n",
              "      <th>daddr</th>\n",
              "      <th>dport</th>\n",
              "      <th>seq</th>\n",
              "      <th>stddev</th>\n",
              "      <th>N_IN_Conn_P_SrcIP</th>\n",
              "      <th>min</th>\n",
              "      <th>state_number</th>\n",
              "      <th>mean</th>\n",
              "      <th>N_IN_Conn_P_DstIP</th>\n",
              "      <th>drate</th>\n",
              "      <th>srate</th>\n",
              "      <th>max</th>\n",
              "      <th>attack</th>\n",
              "      <th>category</th>\n",
              "      <th>subcategory</th>\n",
              "    </tr>\n",
              "  </thead>\n",
              "  <tbody>\n",
              "    <tr>\n",
              "      <th>0</th>\n",
              "      <td>3142762</td>\n",
              "      <td>udp</td>\n",
              "      <td>192.168.100.150</td>\n",
              "      <td>6551</td>\n",
              "      <td>192.168.100.3</td>\n",
              "      <td>80</td>\n",
              "      <td>251984</td>\n",
              "      <td>1.900363</td>\n",
              "      <td>100</td>\n",
              "      <td>0.000000</td>\n",
              "      <td>4</td>\n",
              "      <td>2.687519</td>\n",
              "      <td>100</td>\n",
              "      <td>0.0</td>\n",
              "      <td>0.494549</td>\n",
              "      <td>4.031619</td>\n",
              "      <td>1</td>\n",
              "      <td>DDoS</td>\n",
              "      <td>UDP</td>\n",
              "    </tr>\n",
              "    <tr>\n",
              "      <th>1</th>\n",
              "      <td>2432264</td>\n",
              "      <td>tcp</td>\n",
              "      <td>192.168.100.150</td>\n",
              "      <td>5532</td>\n",
              "      <td>192.168.100.3</td>\n",
              "      <td>80</td>\n",
              "      <td>256724</td>\n",
              "      <td>0.078003</td>\n",
              "      <td>38</td>\n",
              "      <td>3.856930</td>\n",
              "      <td>3</td>\n",
              "      <td>3.934927</td>\n",
              "      <td>100</td>\n",
              "      <td>0.0</td>\n",
              "      <td>0.256493</td>\n",
              "      <td>4.012924</td>\n",
              "      <td>1</td>\n",
              "      <td>DDoS</td>\n",
              "      <td>TCP</td>\n",
              "    </tr>\n",
              "    <tr>\n",
              "      <th>2</th>\n",
              "      <td>1976315</td>\n",
              "      <td>tcp</td>\n",
              "      <td>192.168.100.147</td>\n",
              "      <td>27165</td>\n",
              "      <td>192.168.100.3</td>\n",
              "      <td>80</td>\n",
              "      <td>62921</td>\n",
              "      <td>0.268666</td>\n",
              "      <td>100</td>\n",
              "      <td>2.974100</td>\n",
              "      <td>3</td>\n",
              "      <td>3.341429</td>\n",
              "      <td>100</td>\n",
              "      <td>0.0</td>\n",
              "      <td>0.294880</td>\n",
              "      <td>3.609205</td>\n",
              "      <td>1</td>\n",
              "      <td>DDoS</td>\n",
              "      <td>TCP</td>\n",
              "    </tr>\n",
              "    <tr>\n",
              "      <th>3</th>\n",
              "      <td>1240757</td>\n",
              "      <td>udp</td>\n",
              "      <td>192.168.100.150</td>\n",
              "      <td>48719</td>\n",
              "      <td>192.168.100.3</td>\n",
              "      <td>80</td>\n",
              "      <td>99168</td>\n",
              "      <td>1.823185</td>\n",
              "      <td>63</td>\n",
              "      <td>0.000000</td>\n",
              "      <td>4</td>\n",
              "      <td>3.222832</td>\n",
              "      <td>63</td>\n",
              "      <td>0.0</td>\n",
              "      <td>0.461435</td>\n",
              "      <td>4.942302</td>\n",
              "      <td>1</td>\n",
              "      <td>DoS</td>\n",
              "      <td>UDP</td>\n",
              "    </tr>\n",
              "    <tr>\n",
              "      <th>4</th>\n",
              "      <td>3257991</td>\n",
              "      <td>udp</td>\n",
              "      <td>192.168.100.147</td>\n",
              "      <td>22461</td>\n",
              "      <td>192.168.100.3</td>\n",
              "      <td>80</td>\n",
              "      <td>105063</td>\n",
              "      <td>0.822418</td>\n",
              "      <td>100</td>\n",
              "      <td>2.979995</td>\n",
              "      <td>4</td>\n",
              "      <td>3.983222</td>\n",
              "      <td>100</td>\n",
              "      <td>0.0</td>\n",
              "      <td>1.002999</td>\n",
              "      <td>4.994452</td>\n",
              "      <td>1</td>\n",
              "      <td>DDoS</td>\n",
              "      <td>UDP</td>\n",
              "    </tr>\n",
              "  </tbody>\n",
              "</table>\n",
              "</div>"
            ],
            "text/plain": [
              "   pkSeqID proto            saddr  sport  ...       max attack  category  subcategory\n",
              "0  3142762   udp  192.168.100.150   6551  ...  4.031619      1      DDoS          UDP\n",
              "1  2432264   tcp  192.168.100.150   5532  ...  4.012924      1      DDoS          TCP\n",
              "2  1976315   tcp  192.168.100.147  27165  ...  3.609205      1      DDoS          TCP\n",
              "3  1240757   udp  192.168.100.150  48719  ...  4.942302      1       DoS          UDP\n",
              "4  3257991   udp  192.168.100.147  22461  ...  4.994452      1      DDoS          UDP\n",
              "\n",
              "[5 rows x 19 columns]"
            ]
          },
          "metadata": {
            "tags": []
          },
          "execution_count": 3
        }
      ]
    },
    {
      "cell_type": "code",
      "metadata": {
        "id": "Xe3rJfxLbpKJ",
        "colab_type": "code",
        "outputId": "eec33017-e626-4b73-ab4d-7da8efcc1758",
        "colab": {
          "base_uri": "https://localhost:8080/",
          "height": 87
        }
      },
      "source": [
        "train.columns"
      ],
      "execution_count": 0,
      "outputs": [
        {
          "output_type": "execute_result",
          "data": {
            "text/plain": [
              "Index(['pkSeqID', 'proto', 'saddr', 'sport', 'daddr', 'dport', 'seq', 'stddev',\n",
              "       'N_IN_Conn_P_SrcIP', 'min', 'state_number', 'mean', 'N_IN_Conn_P_DstIP',\n",
              "       'drate', 'srate', 'max', 'attack', 'category', 'subcategory'],\n",
              "      dtype='object')"
            ]
          },
          "metadata": {
            "tags": []
          },
          "execution_count": 13
        }
      ]
    },
    {
      "cell_type": "code",
      "metadata": {
        "id": "e5jff0B-0sNS",
        "colab_type": "code",
        "outputId": "faa0fb71-4040-4a5d-c588-9a3ddeee2280",
        "colab": {
          "base_uri": "https://localhost:8080/",
          "height": 87
        }
      },
      "source": [
        "test.columns"
      ],
      "execution_count": 0,
      "outputs": [
        {
          "output_type": "execute_result",
          "data": {
            "text/plain": [
              "Index(['pkSeqID', 'proto', 'saddr', 'sport', 'daddr', 'dport', 'seq', 'stddev',\n",
              "       'N_IN_Conn_P_SrcIP', 'min', 'state_number', 'mean', 'N_IN_Conn_P_DstIP',\n",
              "       'drate', 'srate', 'max', 'attack', 'category', 'subcategory'],\n",
              "      dtype='object')"
            ]
          },
          "metadata": {
            "tags": []
          },
          "execution_count": 14
        }
      ]
    },
    {
      "cell_type": "code",
      "metadata": {
        "id": "XP1Ajku1TfRP",
        "colab_type": "code",
        "outputId": "90082f55-dff5-41f0-f6fd-e889dd7ebe11",
        "colab": {
          "base_uri": "https://localhost:8080/",
          "height": 34
        }
      },
      "source": [
        "train.shape"
      ],
      "execution_count": 0,
      "outputs": [
        {
          "output_type": "execute_result",
          "data": {
            "text/plain": [
              "(2934817, 19)"
            ]
          },
          "metadata": {
            "tags": []
          },
          "execution_count": 4
        }
      ]
    },
    {
      "cell_type": "code",
      "metadata": {
        "id": "60DGZ7a-4MHj",
        "colab_type": "code",
        "colab": {}
      },
      "source": [
        "# from google.colab import drive\n",
        "# drive.mount('/content/drive')\n",
        "features = ['srate','drate','max','state_number','mean','min','stddev']\n",
        "train_data = train[features]\n",
        "train_labels = train['category']\n",
        "# train_labels = to_categorical(train_labels)\n",
        "\n",
        "\n",
        "test_data = test[features]\n",
        "test_labels = test['category']\n",
        "# test_labels = to_categorical(test_labels)\n",
        "\n",
        "test_data, valid_data, test_labels, valid_labels = train_test_split(test_data, test_labels, random_state = 123)\n",
        "\n",
        "\n"
      ],
      "execution_count": 0,
      "outputs": []
    },
    {
      "cell_type": "code",
      "metadata": {
        "id": "mG-dM8bL-5FO",
        "colab_type": "code",
        "outputId": "b921e22d-c889-469e-b528-211cdf5f924f",
        "colab": {
          "base_uri": "https://localhost:8080/",
          "height": 197
        }
      },
      "source": [
        "# displaying my data after selecting the features to be use\n",
        "train_data.head()"
      ],
      "execution_count": 0,
      "outputs": [
        {
          "output_type": "execute_result",
          "data": {
            "text/html": [
              "<div>\n",
              "<style scoped>\n",
              "    .dataframe tbody tr th:only-of-type {\n",
              "        vertical-align: middle;\n",
              "    }\n",
              "\n",
              "    .dataframe tbody tr th {\n",
              "        vertical-align: top;\n",
              "    }\n",
              "\n",
              "    .dataframe thead th {\n",
              "        text-align: right;\n",
              "    }\n",
              "</style>\n",
              "<table border=\"1\" class=\"dataframe\">\n",
              "  <thead>\n",
              "    <tr style=\"text-align: right;\">\n",
              "      <th></th>\n",
              "      <th>srate</th>\n",
              "      <th>drate</th>\n",
              "      <th>max</th>\n",
              "      <th>state_number</th>\n",
              "      <th>mean</th>\n",
              "      <th>min</th>\n",
              "      <th>stddev</th>\n",
              "    </tr>\n",
              "  </thead>\n",
              "  <tbody>\n",
              "    <tr>\n",
              "      <th>0</th>\n",
              "      <td>0.494549</td>\n",
              "      <td>0.0</td>\n",
              "      <td>4.031619</td>\n",
              "      <td>4</td>\n",
              "      <td>2.687519</td>\n",
              "      <td>0.000000</td>\n",
              "      <td>1.900363</td>\n",
              "    </tr>\n",
              "    <tr>\n",
              "      <th>1</th>\n",
              "      <td>0.256493</td>\n",
              "      <td>0.0</td>\n",
              "      <td>4.012924</td>\n",
              "      <td>3</td>\n",
              "      <td>3.934927</td>\n",
              "      <td>3.856930</td>\n",
              "      <td>0.078003</td>\n",
              "    </tr>\n",
              "    <tr>\n",
              "      <th>2</th>\n",
              "      <td>0.294880</td>\n",
              "      <td>0.0</td>\n",
              "      <td>3.609205</td>\n",
              "      <td>3</td>\n",
              "      <td>3.341429</td>\n",
              "      <td>2.974100</td>\n",
              "      <td>0.268666</td>\n",
              "    </tr>\n",
              "    <tr>\n",
              "      <th>3</th>\n",
              "      <td>0.461435</td>\n",
              "      <td>0.0</td>\n",
              "      <td>4.942302</td>\n",
              "      <td>4</td>\n",
              "      <td>3.222832</td>\n",
              "      <td>0.000000</td>\n",
              "      <td>1.823185</td>\n",
              "    </tr>\n",
              "    <tr>\n",
              "      <th>4</th>\n",
              "      <td>1.002999</td>\n",
              "      <td>0.0</td>\n",
              "      <td>4.994452</td>\n",
              "      <td>4</td>\n",
              "      <td>3.983222</td>\n",
              "      <td>2.979995</td>\n",
              "      <td>0.822418</td>\n",
              "    </tr>\n",
              "  </tbody>\n",
              "</table>\n",
              "</div>"
            ],
            "text/plain": [
              "      srate  drate       max  state_number      mean       min    stddev\n",
              "0  0.494549    0.0  4.031619             4  2.687519  0.000000  1.900363\n",
              "1  0.256493    0.0  4.012924             3  3.934927  3.856930  0.078003\n",
              "2  0.294880    0.0  3.609205             3  3.341429  2.974100  0.268666\n",
              "3  0.461435    0.0  4.942302             4  3.222832  0.000000  1.823185\n",
              "4  1.002999    0.0  4.994452             4  3.983222  2.979995  0.822418"
            ]
          },
          "metadata": {
            "tags": []
          },
          "execution_count": 6
        }
      ]
    },
    {
      "cell_type": "code",
      "metadata": {
        "id": "-uuSZAP1YQrW",
        "colab_type": "code",
        "outputId": "bd4166d4-bb44-4c7d-f4a1-83d4a84c1a56",
        "colab": {
          "base_uri": "https://localhost:8080/",
          "height": 34
        }
      },
      "source": [
        "train_labels.unique()"
      ],
      "execution_count": 0,
      "outputs": [
        {
          "output_type": "execute_result",
          "data": {
            "text/plain": [
              "array(['DDoS', 'DoS', 'Reconnaissance', 'Normal', 'Theft'], dtype=object)"
            ]
          },
          "metadata": {
            "tags": []
          },
          "execution_count": 20
        }
      ]
    },
    {
      "cell_type": "code",
      "metadata": {
        "id": "79ZfB7OsTum2",
        "colab_type": "code",
        "outputId": "68b74e5b-0193-4bb4-c80d-1781acb4c5bf",
        "colab": {
          "base_uri": "https://localhost:8080/",
          "height": 34
        }
      },
      "source": [
        "valid_data.shape"
      ],
      "execution_count": 0,
      "outputs": [
        {
          "output_type": "execute_result",
          "data": {
            "text/plain": [
              "(733705, 7)"
            ]
          },
          "metadata": {
            "tags": []
          },
          "execution_count": 19
        }
      ]
    },
    {
      "cell_type": "code",
      "metadata": {
        "id": "TDASrMtz0-AL",
        "colab_type": "code",
        "outputId": "8ad3dce9-4e91-49f7-94f0-4cc338464461",
        "colab": {
          "base_uri": "https://localhost:8080/",
          "height": 141
        }
      },
      "source": [
        "# # creating initial dataframe\n",
        "# labels = ('DoS', 'Reconnaissance','DDoS')\n",
        "# train_labels = pd.DataFrame(train_labels, columns=['labels'])\n",
        "# test_labels = pd.DataFrame(labels, columns=['labels'])\n",
        "\n",
        "# # creating instance of labelencoder\n",
        "# labelencoder = LabelEncoder()\n",
        "# # Assigning numerical values and storing in another column\n",
        "# train_labels['labels_Cat'] = labelencoder.fit_transform(train_labels['labels'])\n",
        "# test_labels['labels_Cat'] = labelencoder.fit_transform(train_labels['labels'])\n",
        "# train_labels\n",
        "\n",
        "\n",
        "\n",
        "# creating instance of labelencoder\n",
        "label_encoder = LabelEncoder()\n",
        "train_labels = label_encoder.fit_transform(train_labels.astype('str')) \n",
        "test_labels = label_encoder.transform(test_labels.astype('str'))\n",
        "valid_labels = label_encoder.transform(valid_labels.astype('str'))\n",
        "\n",
        "# converting the training and testing labels to categorical\n",
        "train_labels = to_categorical(train_labels)\n",
        "test_labels = to_categorical(test_labels)\n",
        "valid_labels = to_categorical(valid_labels)\n",
        "\n",
        "# printing the training labels\n",
        "valid_labels"
      ],
      "execution_count": 0,
      "outputs": [
        {
          "output_type": "execute_result",
          "data": {
            "text/plain": [
              "array([[0., 1., 0., 0., 0.],\n",
              "       [0., 1., 0., 0., 0.],\n",
              "       [1., 0., 0., 0., 0.],\n",
              "       ...,\n",
              "       [1., 0., 0., 0., 0.],\n",
              "       [0., 1., 0., 0., 0.],\n",
              "       [1., 0., 0., 0., 0.]], dtype=float32)"
            ]
          },
          "metadata": {
            "tags": []
          },
          "execution_count": 17
        }
      ]
    },
    {
      "cell_type": "code",
      "metadata": {
        "id": "Ai8O6teCXUXh",
        "colab_type": "code",
        "colab": {}
      },
      "source": [
        ""
      ],
      "execution_count": 0,
      "outputs": []
    },
    {
      "cell_type": "code",
      "metadata": {
        "id": "RzZMSi45ONk-",
        "colab_type": "code",
        "outputId": "dd11c26c-9f8f-4afc-9fbc-8320d3b52e19",
        "colab": {
          "base_uri": "https://localhost:8080/",
          "height": 247
        }
      },
      "source": [
        "#Feature Scaling\n",
        "from sklearn.preprocessing import StandardScaler\n",
        "sc = StandardScaler()\n",
        "train_data = sc.fit_transform(train_data)\n",
        "test_data = sc.transform(test_data)\n",
        "valid_data = sc.transform(valid_data)\n",
        "\n",
        "valid_data"
      ],
      "execution_count": 0,
      "outputs": [
        {
          "output_type": "execute_result",
          "data": {
            "text/plain": [
              "array([[-0.0036714 , -0.0076522 ,  0.55273673, ...,  1.18239602,\n",
              "         2.00175025, -1.06983469],\n",
              "       [-0.00368206, -0.0076522 ,  0.31250324, ...,  0.30121391,\n",
              "        -0.6856577 ,  0.82721984],\n",
              "       [-0.00329576, -0.0076522 ,  0.60236985, ...,  1.08954506,\n",
              "         1.59645504, -0.6649962 ],\n",
              "       ...,\n",
              "       [-0.00346215, -0.0076522 ,  0.54094683, ..., -0.1439503 ,\n",
              "        -0.6856577 ,  0.94148507],\n",
              "       [-0.00385862, -0.00693369, -1.52977475, ..., -1.36811617,\n",
              "        -0.59266323, -1.08601111],\n",
              "       [-0.00336829, -0.0076522 ,  0.61197749, ...,  0.78771851,\n",
              "         0.6773594 ,  0.1319935 ]])"
            ]
          },
          "metadata": {
            "tags": []
          },
          "execution_count": 18
        }
      ]
    },
    {
      "cell_type": "markdown",
      "metadata": {
        "id": "xzcbGZe34tUz",
        "colab_type": "text"
      },
      "source": [
        "# **Preprocessing the Data**"
      ]
    },
    {
      "cell_type": "code",
      "metadata": {
        "id": "M-uxd9Kd42bb",
        "colab_type": "code",
        "colab": {}
      },
      "source": [
        "# finding missing and categorical values\n",
        "col_missing_values = [col for col in train_data.columns\n",
        "                     if train_data[col].isnull().any() and train_data[col].dtype]\n",
        "\n",
        "# col wit numerical values which is null in this project\n",
        "col_numerical_values = [col for col in train_data.columns if train_data[col].dtype in ['int64', 'float64']]\n",
        "\n",
        "# col with categorical values\n",
        "col_categorical_values = [col for col in train_data.columns \n",
        "                          if train_data[col].dtype == 'object']\n",
        "\n",
        "#missing values cout per col\n",
        "missing_val_count_by_column = (train_data.isnull().sum())\n",
        "print(missing_val_count_by_column[missing_val_count_by_column > 0])\n",
        "print(col_categorical_values)\n",
        "print(col_numerical_values)\n"
      ],
      "execution_count": 0,
      "outputs": []
    },
    {
      "cell_type": "code",
      "metadata": {
        "id": "DYE25nWoDPPQ",
        "colab_type": "code",
        "colab": {}
      },
      "source": [
        "# Apply one-hot encoder to each column with categorical data\n",
        "OH_encoder = OneHotEncoder(handle_unknown='ignore')\n",
        "OH_cols_train = pd.DataFrame(OH_encoder.fit_transform(train_data[col_categorical_values]))\n",
        "OH_cols_valid = pd.DataFrame(OH_encoder.transform(test_data[col_categorical_values]))\n",
        "\n",
        "# One-hot encoding removed index; put it back\n",
        "OH_cols_train.index = train_data.index\n",
        "OH_cols_valid.index = test_data.index\n",
        "\n",
        "# Remove categorical columns (will replace with one-hot encoding)\n",
        "num_X_train = train_data.drop(col_categorical_values, axis=1)\n",
        "num_X_valid = test_data.drop(col_categorical_values, axis=1)\n",
        "\n",
        "# Add one-hot encoded columns to numerical features\n",
        "train_data = pd.concat([num_X_train, OH_cols_train], axis=1)\n",
        "test_data = pd.concat([num_X_valid, OH_cols_valid], axis=1)\n",
        "\n"
      ],
      "execution_count": 0,
      "outputs": []
    },
    {
      "cell_type": "markdown",
      "metadata": {
        "id": "ofwuE24C5A61",
        "colab_type": "text"
      },
      "source": [
        "# **Model Evaluation**"
      ]
    },
    {
      "cell_type": "code",
      "metadata": {
        "id": "jd8FrMer5IJU",
        "colab_type": "code",
        "colab": {}
      },
      "source": [
        "def get_Evaluation_matrics(preds, orig_test_labels):\n",
        "\n",
        "  # Get the confusion matrix\n",
        "  cm  = confusion_matrix(orig_test_labels, preds)\n",
        "  plt.figure()\n",
        "  plot_confusion_matrix(cm,figsize=(12,12), hide_ticks=True,cmap=plt.cm.Blues)\n",
        "  plt.xticks(range(5), ['DDoS', 'DoS', 'Reconnaissance', 'Normal', 'Theft'], fontsize=16)\n",
        "  plt.yticks(range(5), ['DDoS', 'DoS', 'Reconnaissance', 'Normal', 'Theft'], fontsize=16)\n",
        "  plt.show()\n",
        "\n",
        "  # Calculate Precision and Recall\n",
        "  report = classification_report(orig_test_labels, preds)\n",
        "\n",
        "  print('')\n",
        "  print('')\n",
        "  print('')\n",
        "  print(report)\n",
        "\n"
      ],
      "execution_count": 0,
      "outputs": []
    },
    {
      "cell_type": "markdown",
      "metadata": {
        "id": "--c2Tn6Y5eKf",
        "colab_type": "text"
      },
      "source": [
        "# **Model Prediction**"
      ]
    },
    {
      "cell_type": "code",
      "metadata": {
        "id": "sg1GO41w5mol",
        "colab_type": "code",
        "colab": {}
      },
      "source": [
        "def get_Model_prediction(model, test_data, test_labels):\n",
        "  import numpy as np\n",
        "\n",
        "  # # Evaluation on test dataset\n",
        "  # test_loss, test_score = model.evaluate(test_data, test_labels, batch_size=32)\n",
        "  # print(\"Loss on test set: \", test_loss)\n",
        "  # print(\"Accuracy on test set: \", test_score)\n",
        "  \n",
        "  preds = model.predict(test_data, batch_size=32)\n",
        "  preds = np.argmax(preds, axis=-1)\n",
        "\n",
        "  orig_test_labels = np.argmax(test_labels, axis=-1)\n",
        "\n",
        "  print(orig_test_labels)\n",
        "  print(preds)\n",
        "\n",
        "  return preds, orig_test_labels"
      ],
      "execution_count": 0,
      "outputs": []
    },
    {
      "cell_type": "markdown",
      "metadata": {
        "id": "1JV81wNM7ntI",
        "colab_type": "text"
      },
      "source": [
        "# **Model ROC and AUC value**"
      ]
    },
    {
      "cell_type": "code",
      "metadata": {
        "id": "5gj9qnKk8EQW",
        "colab_type": "code",
        "colab": {}
      },
      "source": [
        "def get_model_ROC_AUC_curve(model_pred, test_labels, label=None):\n",
        "    import numpy as np\n",
        "    from sklearn.metrics import roc_curve, auc\n",
        "\n",
        "    orig_test_labels = np.argmax(test_labels, axis=-1)\n",
        "\n",
        "    # Compute ROC curve and ROC area for each class\n",
        "    n_classes = test_labels.shape[1]\n",
        "    fpr = dict()\n",
        "    tpr = dict()\n",
        "    thresholds = dict()\n",
        "    roc_auc = dict()\n",
        "    for i in range(n_classes):\n",
        "        fpr[i], tpr[i], thresholds[i] = roc_curve(orig_test_labels[:, i], model_pred[:, i])\n",
        "        roc_auc[i] = auc(fpr[i], tpr[i])\n",
        "\n",
        "    # Plot of a ROC curve for a specific class\n",
        "    for i in range(n_classes):\n",
        "        plt.figure()\n",
        "        plt.plot(fpr[i], tpr[i], label='ROC curve (area = %0.2f)' % roc_auc[i])\n",
        "        plt.plot([0, 1], [0, 1], 'k--')\n",
        "        plt.xlim([0.0, 1.0])\n",
        "        plt.ylim([0.0, 1.05])\n",
        "        plt.xlabel('False Positive Rate')\n",
        "        plt.ylabel('True Positive Rate')\n",
        "        plt.title('Receiver operating characteristic')\n",
        "        plt.legend(loc=\"lower right\")\n",
        "        plt.show()\n",
        "\n",
        "\n",
        "\n",
        "\n",
        "\n",
        "\n",
        "\n",
        "\n",
        "\n",
        "\n",
        "\n",
        "\n",
        "    # fpr, tpr, thresholds = roc_curve(test_labels, model_pred)\n",
        "    # plt.plot(fpr, tpr, linewidth=2, label=label)\n",
        "    # plt.plot([0, 1], [0, 1], 'k--')\n",
        "    # plt.axis([0, 1, 0, 1])\n",
        "    # plt.xlabel('False Positive Rate')\n",
        "    # plt.ylabel('True Positive Rate')\n",
        "    # plt.title('ROC curve')\n",
        "\n",
        "    # auc_score = auc(fpr, tpr)\n",
        "    # print('AUC Score : ', auc_score)"
      ],
      "execution_count": 0,
      "outputs": []
    },
    {
      "cell_type": "markdown",
      "metadata": {
        "id": "EnSxSPFMdbDd",
        "colab_type": "text"
      },
      "source": [
        "# **Plotting Model Loss**"
      ]
    },
    {
      "cell_type": "code",
      "metadata": {
        "id": "-gT1-HR0dk8V",
        "colab_type": "code",
        "colab": {}
      },
      "source": [
        "def plot_Model_loss(History):\n",
        "  history_dict2 = History.history\n",
        "  loss_values2 = history_dict2['loss']\n",
        "  val_loss_values2 = history_dict2['val_loss']\n",
        "\n",
        "  epochs = range(1, 200 + 1)\n",
        "  plt.plot(epochs, loss_values2, 'b-', label='training loos')\n",
        "  plt.plot(epochs, val_loss_values2, 'r-', label='validation loss')\n",
        "  plt.title('trainin/validation loss')\n",
        "  plt.xlabel('Epochs')\n",
        "  plt.ylabel('Loss')\n",
        "  plt.legend()\n",
        "  plt.rcParams['axes.facecolor'] = 'white'\n",
        "  plt.rcParams['axes.edgecolor'] = 'white'\n",
        "  plt.rcParams['axes.grid'] = True\n",
        "  plt.rcParams['grid.alpha'] = 1\n",
        "  plt.rcParams['grid.color'] = \"#cccccc\"\n",
        "  plt.show()"
      ],
      "execution_count": 0,
      "outputs": []
    },
    {
      "cell_type": "markdown",
      "metadata": {
        "id": "X0UeWQbqdpg3",
        "colab_type": "text"
      },
      "source": [
        "# **Plotting Model Accuracy**"
      ]
    },
    {
      "cell_type": "code",
      "metadata": {
        "id": "CAkiZn2LduvF",
        "colab_type": "code",
        "colab": {}
      },
      "source": [
        "def plot_Model_Accuracy(History):\n",
        "  history_dict2 = History.history\n",
        "  acc_values2 = history_dict2['accuracy']\n",
        "  val_acc_values2 = history_dict2['val_accuracy']\n",
        "\n",
        "  epochs = range(1, 200 + 1)\n",
        "  plt.plot(epochs, acc_values2, 'b-', label='training Accuracy')\n",
        "  plt.plot(epochs, val_acc_values2, 'r-', label='validation Accuracy')\n",
        "  plt.title('trainin/validation Accuracy')\n",
        "  plt.xlabel('Epochs')\n",
        "  plt.ylabel('Accuracy')\n",
        "  plt.legend()\n",
        "  plt.rcParams['axes.facecolor'] = 'white'\n",
        "  plt.rcParams['axes.edgecolor'] = 'white'\n",
        "  plt.rcParams['axes.grid'] = True\n",
        "  plt.rcParams['grid.alpha'] = 1\n",
        "  plt.rcParams['grid.color'] = \"#cccccc\"\n",
        "  plt.show()"
      ],
      "execution_count": 0,
      "outputs": []
    },
    {
      "cell_type": "markdown",
      "metadata": {
        "id": "cCH87v3k43sk",
        "colab_type": "text"
      },
      "source": [
        "# **Model Building**"
      ]
    },
    {
      "cell_type": "code",
      "metadata": {
        "id": "BFkDw1fd5Abd",
        "colab_type": "code",
        "colab": {}
      },
      "source": [
        "#model to use\n",
        "# model = XGBClassifier()\n",
        "model = GradientBoostingClassifier(learning_rate= 0.4, random_state= 123, max_depth= 20)\n",
        "#model = DecisionTreeClassifier(random_state = 1)\n",
        "# model = RandomForestClassifier(random_state = 1)\n",
        "\n",
        "# fitting the model\n",
        "model.fit(train_data, train_labels)\n",
        "\n",
        "# predicting the model\n",
        "pred = model.predict(test_data)\n",
        "\n",
        "# print(y_valid)\n",
        "print(pred)\n",
        "\n",
        "get_Evaluation_matrics(pred, test_labels)\n",
        "acc = accuracy_score(pred, test_labels)\n",
        "precision = precision_score(pred, test_labels)\n",
        "recall = recall_score(pred, test_labels)\n",
        "\n",
        "print(acc)\n",
        "print(precision)\n",
        "print(recall)\n"
      ],
      "execution_count": 0,
      "outputs": []
    },
    {
      "cell_type": "markdown",
      "metadata": {
        "id": "vKHjtSZ4ffsy",
        "colab_type": "text"
      },
      "source": [
        "# **ANN**"
      ]
    },
    {
      "cell_type": "code",
      "metadata": {
        "id": "qBJadKgXLz2V",
        "colab_type": "code",
        "outputId": "d4c94b27-4435-4e57-c135-eb290809b911",
        "colab": {
          "base_uri": "https://localhost:8080/",
          "height": 1000
        }
      },
      "source": [
        "from tensorflow.keras import models\n",
        "from tensorflow.keras import layers\n",
        "\n",
        "model = models.Sequential()\n",
        "model.add(layers.Dense(512, input_shape = (7,), activation='relu'))\n",
        "model.add(layers.Dense(128, activation='relu'))\n",
        "model.add(layers.Dense(512, activation='relu'))\n",
        "model.add(layers.Dense(64, activation='relu'))\n",
        "model.add(layers.Dense(5, activation='softmax'))\n",
        "\n",
        "model.compile(optimizer='adam',\n",
        "              loss='categorical_crossentropy',\n",
        "              metrics=['accuracy'])\n",
        "\n",
        "model_history = model.fit(train_data,\n",
        "                          train_labels,\n",
        "                          epochs=200,\n",
        "                          batch_size=512,\n",
        "                          validation_data=(valid_data, valid_labels))\n"
      ],
      "execution_count": 24,
      "outputs": [
        {
          "output_type": "stream",
          "text": [
            "Epoch 1/200\n",
            "5733/5733 [==============================] - 13s 2ms/step - loss: 0.2306 - accuracy: 0.8942 - val_loss: 0.2003 - val_accuracy: 0.9109\n",
            "Epoch 2/200\n",
            "5733/5733 [==============================] - 13s 2ms/step - loss: 0.1841 - accuracy: 0.9123 - val_loss: 0.2124 - val_accuracy: 0.9078\n",
            "Epoch 3/200\n",
            "5733/5733 [==============================] - 13s 2ms/step - loss: 0.1695 - accuracy: 0.9191 - val_loss: 0.2270 - val_accuracy: 0.8879\n",
            "Epoch 4/200\n",
            "5733/5733 [==============================] - 13s 2ms/step - loss: 0.1610 - accuracy: 0.9227 - val_loss: 0.1636 - val_accuracy: 0.9279\n",
            "Epoch 5/200\n",
            "5733/5733 [==============================] - 13s 2ms/step - loss: 0.1577 - accuracy: 0.9244 - val_loss: 0.2088 - val_accuracy: 0.9005\n",
            "Epoch 6/200\n",
            "5733/5733 [==============================] - 14s 3ms/step - loss: 0.1543 - accuracy: 0.9257 - val_loss: 0.1987 - val_accuracy: 0.9103\n",
            "Epoch 7/200\n",
            "5733/5733 [==============================] - 13s 2ms/step - loss: 0.1535 - accuracy: 0.9269 - val_loss: 0.1912 - val_accuracy: 0.9122\n",
            "Epoch 8/200\n",
            "5733/5733 [==============================] - 13s 2ms/step - loss: 0.1493 - accuracy: 0.9280 - val_loss: 0.1522 - val_accuracy: 0.9248\n",
            "Epoch 9/200\n",
            "5733/5733 [==============================] - 13s 2ms/step - loss: 0.1443 - accuracy: 0.9297 - val_loss: 0.2408 - val_accuracy: 0.9046\n",
            "Epoch 10/200\n",
            "5733/5733 [==============================] - 13s 2ms/step - loss: 0.1421 - accuracy: 0.9307 - val_loss: 0.1540 - val_accuracy: 0.9261\n",
            "Epoch 11/200\n",
            "5733/5733 [==============================] - 13s 2ms/step - loss: 0.1413 - accuracy: 0.9310 - val_loss: 0.1595 - val_accuracy: 0.9225\n",
            "Epoch 12/200\n",
            "5733/5733 [==============================] - 13s 2ms/step - loss: 0.1391 - accuracy: 0.9324 - val_loss: 0.2585 - val_accuracy: 0.9170\n",
            "Epoch 13/200\n",
            "5733/5733 [==============================] - 13s 2ms/step - loss: 0.1396 - accuracy: 0.9320 - val_loss: 0.1464 - val_accuracy: 0.9294\n",
            "Epoch 14/200\n",
            "5733/5733 [==============================] - 13s 2ms/step - loss: 0.1374 - accuracy: 0.9326 - val_loss: 0.1201 - val_accuracy: 0.9378\n",
            "Epoch 15/200\n",
            "5733/5733 [==============================] - 13s 2ms/step - loss: 0.1370 - accuracy: 0.9333 - val_loss: 0.1756 - val_accuracy: 0.9171\n",
            "Epoch 16/200\n",
            "5733/5733 [==============================] - 13s 2ms/step - loss: 0.1384 - accuracy: 0.9325 - val_loss: 0.1370 - val_accuracy: 0.9313\n",
            "Epoch 17/200\n",
            "5733/5733 [==============================] - 13s 2ms/step - loss: 0.1348 - accuracy: 0.9335 - val_loss: 0.1346 - val_accuracy: 0.9326\n",
            "Epoch 18/200\n",
            "5733/5733 [==============================] - 13s 2ms/step - loss: 0.1330 - accuracy: 0.9342 - val_loss: 0.1318 - val_accuracy: 0.9356\n",
            "Epoch 19/200\n",
            "5733/5733 [==============================] - 13s 2ms/step - loss: 0.1351 - accuracy: 0.9351 - val_loss: 0.1564 - val_accuracy: 0.9259\n",
            "Epoch 20/200\n",
            "5733/5733 [==============================] - 14s 2ms/step - loss: 0.1340 - accuracy: 0.9344 - val_loss: 0.1315 - val_accuracy: 0.9329\n",
            "Epoch 21/200\n",
            "5733/5733 [==============================] - 14s 2ms/step - loss: 0.1297 - accuracy: 0.9367 - val_loss: 0.1244 - val_accuracy: 0.9584\n",
            "Epoch 22/200\n",
            "5733/5733 [==============================] - 14s 2ms/step - loss: 0.1261 - accuracy: 0.9391 - val_loss: 0.1934 - val_accuracy: 0.9163\n",
            "Epoch 23/200\n",
            "5733/5733 [==============================] - 14s 2ms/step - loss: 0.1211 - accuracy: 0.9422 - val_loss: 0.1693 - val_accuracy: 0.9109\n",
            "Epoch 24/200\n",
            "5733/5733 [==============================] - 13s 2ms/step - loss: 0.1194 - accuracy: 0.9433 - val_loss: 0.1025 - val_accuracy: 0.9637\n",
            "Epoch 25/200\n",
            "5733/5733 [==============================] - 13s 2ms/step - loss: 0.1180 - accuracy: 0.9428 - val_loss: 0.1105 - val_accuracy: 0.9403\n",
            "Epoch 26/200\n",
            "5733/5733 [==============================] - 13s 2ms/step - loss: 0.1205 - accuracy: 0.9410 - val_loss: 0.1291 - val_accuracy: 0.9385\n",
            "Epoch 27/200\n",
            "5733/5733 [==============================] - 13s 2ms/step - loss: 0.1174 - accuracy: 0.9440 - val_loss: 0.1084 - val_accuracy: 0.9307\n",
            "Epoch 28/200\n",
            "5733/5733 [==============================] - 13s 2ms/step - loss: 0.1152 - accuracy: 0.9447 - val_loss: 0.1141 - val_accuracy: 0.9205\n",
            "Epoch 29/200\n",
            "5733/5733 [==============================] - 14s 2ms/step - loss: 0.1134 - accuracy: 0.9470 - val_loss: 0.1859 - val_accuracy: 0.9142\n",
            "Epoch 30/200\n",
            "5733/5733 [==============================] - 14s 2ms/step - loss: 0.1114 - accuracy: 0.9477 - val_loss: 0.1767 - val_accuracy: 0.9298\n",
            "Epoch 31/200\n",
            "5733/5733 [==============================] - 13s 2ms/step - loss: 0.1058 - accuracy: 0.9516 - val_loss: 0.1416 - val_accuracy: 0.9410\n",
            "Epoch 32/200\n",
            "5733/5733 [==============================] - 13s 2ms/step - loss: 0.1056 - accuracy: 0.9534 - val_loss: 0.0895 - val_accuracy: 0.9641\n",
            "Epoch 33/200\n",
            "5733/5733 [==============================] - 13s 2ms/step - loss: 0.0982 - accuracy: 0.9565 - val_loss: 0.1050 - val_accuracy: 0.9431\n",
            "Epoch 34/200\n",
            "5733/5733 [==============================] - 13s 2ms/step - loss: 0.1062 - accuracy: 0.9571 - val_loss: 0.1146 - val_accuracy: 0.9308\n",
            "Epoch 35/200\n",
            "5733/5733 [==============================] - 13s 2ms/step - loss: 0.0997 - accuracy: 0.9561 - val_loss: 0.1093 - val_accuracy: 0.9294\n",
            "Epoch 36/200\n",
            "5733/5733 [==============================] - 13s 2ms/step - loss: 0.1049 - accuracy: 0.9558 - val_loss: 0.0902 - val_accuracy: 0.9624\n",
            "Epoch 37/200\n",
            "5733/5733 [==============================] - 13s 2ms/step - loss: 0.1042 - accuracy: 0.9535 - val_loss: 0.1120 - val_accuracy: 0.9279\n",
            "Epoch 38/200\n",
            "5733/5733 [==============================] - 13s 2ms/step - loss: 0.0985 - accuracy: 0.9567 - val_loss: 0.2712 - val_accuracy: 0.9386\n",
            "Epoch 39/200\n",
            "5733/5733 [==============================] - 13s 2ms/step - loss: 0.0967 - accuracy: 0.9570 - val_loss: 0.0789 - val_accuracy: 0.9592\n",
            "Epoch 40/200\n",
            "5733/5733 [==============================] - 13s 2ms/step - loss: 0.0976 - accuracy: 0.9570 - val_loss: 0.1820 - val_accuracy: 0.9348\n",
            "Epoch 41/200\n",
            "5733/5733 [==============================] - 13s 2ms/step - loss: 0.0967 - accuracy: 0.9577 - val_loss: 0.1086 - val_accuracy: 0.9400\n",
            "Epoch 42/200\n",
            "5733/5733 [==============================] - 13s 2ms/step - loss: 0.0961 - accuracy: 0.9583 - val_loss: 0.0899 - val_accuracy: 0.9648\n",
            "Epoch 43/200\n",
            "5733/5733 [==============================] - 13s 2ms/step - loss: 0.1003 - accuracy: 0.9565 - val_loss: 0.0982 - val_accuracy: 0.9549\n",
            "Epoch 44/200\n",
            "5733/5733 [==============================] - 13s 2ms/step - loss: 0.0970 - accuracy: 0.9568 - val_loss: 0.0804 - val_accuracy: 0.9669\n",
            "Epoch 45/200\n",
            "5733/5733 [==============================] - 13s 2ms/step - loss: 0.0956 - accuracy: 0.9580 - val_loss: 0.1054 - val_accuracy: 0.9334\n",
            "Epoch 46/200\n",
            "5733/5733 [==============================] - 13s 2ms/step - loss: 0.0963 - accuracy: 0.9576 - val_loss: 0.0993 - val_accuracy: 0.9642\n",
            "Epoch 47/200\n",
            "5733/5733 [==============================] - 13s 2ms/step - loss: 0.0955 - accuracy: 0.9580 - val_loss: 0.1151 - val_accuracy: 0.9568\n",
            "Epoch 48/200\n",
            "5733/5733 [==============================] - 13s 2ms/step - loss: 0.0953 - accuracy: 0.9585 - val_loss: 0.1492 - val_accuracy: 0.9213\n",
            "Epoch 49/200\n",
            "5733/5733 [==============================] - 13s 2ms/step - loss: 0.1190 - accuracy: 0.9521 - val_loss: 0.1011 - val_accuracy: 0.9625\n",
            "Epoch 50/200\n",
            "5733/5733 [==============================] - 13s 2ms/step - loss: 0.1038 - accuracy: 0.9553 - val_loss: 0.1277 - val_accuracy: 0.9281\n",
            "Epoch 51/200\n",
            "5733/5733 [==============================] - 13s 2ms/step - loss: 0.1005 - accuracy: 0.9573 - val_loss: 0.0866 - val_accuracy: 0.9664\n",
            "Epoch 52/200\n",
            "5733/5733 [==============================] - 13s 2ms/step - loss: 0.0949 - accuracy: 0.9585 - val_loss: 0.0794 - val_accuracy: 0.9637\n",
            "Epoch 53/200\n",
            "5733/5733 [==============================] - 14s 2ms/step - loss: 0.0922 - accuracy: 0.9594 - val_loss: 0.1149 - val_accuracy: 0.9633\n",
            "Epoch 54/200\n",
            "5733/5733 [==============================] - 14s 2ms/step - loss: 0.0911 - accuracy: 0.9600 - val_loss: 0.1123 - val_accuracy: 0.9458\n",
            "Epoch 55/200\n",
            "5733/5733 [==============================] - 13s 2ms/step - loss: 0.0926 - accuracy: 0.9596 - val_loss: 0.1902 - val_accuracy: 0.9149\n",
            "Epoch 56/200\n",
            "5733/5733 [==============================] - 13s 2ms/step - loss: 0.0933 - accuracy: 0.9590 - val_loss: 0.0826 - val_accuracy: 0.9662\n",
            "Epoch 57/200\n",
            "5733/5733 [==============================] - 13s 2ms/step - loss: 0.0950 - accuracy: 0.9592 - val_loss: 0.1510 - val_accuracy: 0.9451\n",
            "Epoch 58/200\n",
            "5733/5733 [==============================] - 13s 2ms/step - loss: 0.1267 - accuracy: 0.9595 - val_loss: 0.1328 - val_accuracy: 0.9328\n",
            "Epoch 59/200\n",
            "5733/5733 [==============================] - 13s 2ms/step - loss: 0.0902 - accuracy: 0.9605 - val_loss: 0.0887 - val_accuracy: 0.9575\n",
            "Epoch 60/200\n",
            "5733/5733 [==============================] - 13s 2ms/step - loss: 0.0886 - accuracy: 0.9608 - val_loss: 0.0860 - val_accuracy: 0.9677\n",
            "Epoch 61/200\n",
            "5733/5733 [==============================] - 13s 2ms/step - loss: 0.0894 - accuracy: 0.9606 - val_loss: 0.1248 - val_accuracy: 0.9307\n",
            "Epoch 62/200\n",
            "5733/5733 [==============================] - 13s 2ms/step - loss: 0.0970 - accuracy: 0.9576 - val_loss: 0.0895 - val_accuracy: 0.9571\n",
            "Epoch 63/200\n",
            "5733/5733 [==============================] - 13s 2ms/step - loss: 0.0934 - accuracy: 0.9591 - val_loss: 0.1658 - val_accuracy: 0.9264\n",
            "Epoch 64/200\n",
            "5733/5733 [==============================] - 13s 2ms/step - loss: 0.0959 - accuracy: 0.9601 - val_loss: 0.0864 - val_accuracy: 0.9665\n",
            "Epoch 65/200\n",
            "5733/5733 [==============================] - 13s 2ms/step - loss: 0.0899 - accuracy: 0.9605 - val_loss: 0.0869 - val_accuracy: 0.9581\n",
            "Epoch 66/200\n",
            "5733/5733 [==============================] - 13s 2ms/step - loss: 0.0888 - accuracy: 0.9606 - val_loss: 0.3027 - val_accuracy: 0.9227\n",
            "Epoch 67/200\n",
            "5733/5733 [==============================] - 13s 2ms/step - loss: 0.0951 - accuracy: 0.9604 - val_loss: 0.1234 - val_accuracy: 0.9569\n",
            "Epoch 68/200\n",
            "5733/5733 [==============================] - 13s 2ms/step - loss: 0.0875 - accuracy: 0.9613 - val_loss: 0.1289 - val_accuracy: 0.9427\n",
            "Epoch 69/200\n",
            "5733/5733 [==============================] - 13s 2ms/step - loss: 0.0886 - accuracy: 0.9611 - val_loss: 0.1820 - val_accuracy: 0.9248\n",
            "Epoch 70/200\n",
            "5733/5733 [==============================] - 13s 2ms/step - loss: 0.0906 - accuracy: 0.9598 - val_loss: 0.0907 - val_accuracy: 0.9686\n",
            "Epoch 71/200\n",
            "5733/5733 [==============================] - 13s 2ms/step - loss: 0.0924 - accuracy: 0.9592 - val_loss: 0.0823 - val_accuracy: 0.9685\n",
            "Epoch 72/200\n",
            "5733/5733 [==============================] - 13s 2ms/step - loss: 0.0951 - accuracy: 0.9586 - val_loss: 0.0867 - val_accuracy: 0.9675\n",
            "Epoch 73/200\n",
            "5733/5733 [==============================] - 13s 2ms/step - loss: 0.0943 - accuracy: 0.9588 - val_loss: 0.1057 - val_accuracy: 0.9511\n",
            "Epoch 74/200\n",
            "5733/5733 [==============================] - 13s 2ms/step - loss: 0.0936 - accuracy: 0.9593 - val_loss: 0.1332 - val_accuracy: 0.9276\n",
            "Epoch 75/200\n",
            "5733/5733 [==============================] - 13s 2ms/step - loss: 0.1006 - accuracy: 0.9602 - val_loss: 0.0949 - val_accuracy: 0.9669\n",
            "Epoch 76/200\n",
            "5733/5733 [==============================] - 13s 2ms/step - loss: 0.0897 - accuracy: 0.9604 - val_loss: 0.1219 - val_accuracy: 0.9437\n",
            "Epoch 77/200\n",
            "5733/5733 [==============================] - 13s 2ms/step - loss: 0.0910 - accuracy: 0.9606 - val_loss: 0.1385 - val_accuracy: 0.9413\n",
            "Epoch 78/200\n",
            "5733/5733 [==============================] - 14s 2ms/step - loss: 0.0905 - accuracy: 0.9606 - val_loss: 0.0758 - val_accuracy: 0.9612\n",
            "Epoch 79/200\n",
            "5733/5733 [==============================] - 13s 2ms/step - loss: 0.0926 - accuracy: 0.9603 - val_loss: 0.1050 - val_accuracy: 0.9638\n",
            "Epoch 80/200\n",
            "5733/5733 [==============================] - 12s 2ms/step - loss: 0.0897 - accuracy: 0.9605 - val_loss: 0.0990 - val_accuracy: 0.9670\n",
            "Epoch 81/200\n",
            "5733/5733 [==============================] - 13s 2ms/step - loss: 0.1367 - accuracy: 0.9604 - val_loss: 0.1547 - val_accuracy: 0.9456\n",
            "Epoch 82/200\n",
            "5733/5733 [==============================] - 13s 2ms/step - loss: 0.0897 - accuracy: 0.9607 - val_loss: 0.0974 - val_accuracy: 0.9522\n",
            "Epoch 83/200\n",
            "5733/5733 [==============================] - 13s 2ms/step - loss: 0.0875 - accuracy: 0.9612 - val_loss: 0.0848 - val_accuracy: 0.9643\n",
            "Epoch 84/200\n",
            "5733/5733 [==============================] - 13s 2ms/step - loss: 0.0879 - accuracy: 0.9610 - val_loss: 0.1307 - val_accuracy: 0.9431\n",
            "Epoch 85/200\n",
            "5733/5733 [==============================] - 13s 2ms/step - loss: 0.0867 - accuracy: 0.9619 - val_loss: 0.0871 - val_accuracy: 0.9649\n",
            "Epoch 86/200\n",
            "5733/5733 [==============================] - 13s 2ms/step - loss: 0.0966 - accuracy: 0.9616 - val_loss: 0.1194 - val_accuracy: 0.9341\n",
            "Epoch 87/200\n",
            "5733/5733 [==============================] - 13s 2ms/step - loss: 0.0901 - accuracy: 0.9601 - val_loss: 0.0866 - val_accuracy: 0.9697\n",
            "Epoch 88/200\n",
            "5733/5733 [==============================] - 13s 2ms/step - loss: 0.0891 - accuracy: 0.9598 - val_loss: 0.1679 - val_accuracy: 0.9371\n",
            "Epoch 89/200\n",
            "5733/5733 [==============================] - 13s 2ms/step - loss: 0.0882 - accuracy: 0.9597 - val_loss: 0.1126 - val_accuracy: 0.9424\n",
            "Epoch 90/200\n",
            "5733/5733 [==============================] - 13s 2ms/step - loss: 0.0918 - accuracy: 0.9609 - val_loss: 0.1429 - val_accuracy: 0.9322\n",
            "Epoch 91/200\n",
            "5733/5733 [==============================] - 13s 2ms/step - loss: 0.0879 - accuracy: 0.9618 - val_loss: 0.0758 - val_accuracy: 0.9653\n",
            "Epoch 92/200\n",
            "5733/5733 [==============================] - 13s 2ms/step - loss: 0.0885 - accuracy: 0.9608 - val_loss: 0.0905 - val_accuracy: 0.9663\n",
            "Epoch 93/200\n",
            "5733/5733 [==============================] - 13s 2ms/step - loss: 0.0868 - accuracy: 0.9616 - val_loss: 0.0993 - val_accuracy: 0.9556\n",
            "Epoch 94/200\n",
            "5733/5733 [==============================] - 13s 2ms/step - loss: 0.0948 - accuracy: 0.9617 - val_loss: 0.0822 - val_accuracy: 0.9590\n",
            "Epoch 95/200\n",
            "5733/5733 [==============================] - 13s 2ms/step - loss: 0.0856 - accuracy: 0.9622 - val_loss: 0.0750 - val_accuracy: 0.9653\n",
            "Epoch 96/200\n",
            "5733/5733 [==============================] - 13s 2ms/step - loss: 0.0855 - accuracy: 0.9622 - val_loss: 0.0862 - val_accuracy: 0.9673\n",
            "Epoch 97/200\n",
            "5733/5733 [==============================] - 13s 2ms/step - loss: 0.0891 - accuracy: 0.9619 - val_loss: 0.1202 - val_accuracy: 0.9453\n",
            "Epoch 98/200\n",
            "5733/5733 [==============================] - 13s 2ms/step - loss: 0.0903 - accuracy: 0.9605 - val_loss: 0.1280 - val_accuracy: 0.9323\n",
            "Epoch 99/200\n",
            "5733/5733 [==============================] - 13s 2ms/step - loss: 0.0998 - accuracy: 0.9601 - val_loss: 0.0921 - val_accuracy: 0.9661\n",
            "Epoch 100/200\n",
            "5733/5733 [==============================] - 13s 2ms/step - loss: 0.0869 - accuracy: 0.9622 - val_loss: 0.0744 - val_accuracy: 0.9686\n",
            "Epoch 101/200\n",
            "5733/5733 [==============================] - 13s 2ms/step - loss: 0.0863 - accuracy: 0.9623 - val_loss: 0.1455 - val_accuracy: 0.9463\n",
            "Epoch 102/200\n",
            "5733/5733 [==============================] - 14s 2ms/step - loss: 0.0841 - accuracy: 0.9626 - val_loss: 0.0793 - val_accuracy: 0.9613\n",
            "Epoch 103/200\n",
            "5733/5733 [==============================] - 13s 2ms/step - loss: 0.0854 - accuracy: 0.9622 - val_loss: 0.0786 - val_accuracy: 0.9684\n",
            "Epoch 104/200\n",
            "5733/5733 [==============================] - 13s 2ms/step - loss: 0.0832 - accuracy: 0.9631 - val_loss: 0.0996 - val_accuracy: 0.9449\n",
            "Epoch 105/200\n",
            "5733/5733 [==============================] - 13s 2ms/step - loss: 0.0875 - accuracy: 0.9616 - val_loss: 0.1277 - val_accuracy: 0.9441\n",
            "Epoch 106/200\n",
            "5733/5733 [==============================] - 13s 2ms/step - loss: 0.0918 - accuracy: 0.9621 - val_loss: 0.0791 - val_accuracy: 0.9693\n",
            "Epoch 107/200\n",
            "5733/5733 [==============================] - 13s 2ms/step - loss: 0.0836 - accuracy: 0.9629 - val_loss: 0.1512 - val_accuracy: 0.9455\n",
            "Epoch 108/200\n",
            "5733/5733 [==============================] - 13s 2ms/step - loss: 0.0930 - accuracy: 0.9621 - val_loss: 0.0782 - val_accuracy: 0.9678\n",
            "Epoch 109/200\n",
            "5733/5733 [==============================] - 13s 2ms/step - loss: 0.0843 - accuracy: 0.9625 - val_loss: 0.0793 - val_accuracy: 0.9620\n",
            "Epoch 110/200\n",
            "5733/5733 [==============================] - 13s 2ms/step - loss: 0.0861 - accuracy: 0.9618 - val_loss: 0.1268 - val_accuracy: 0.9327\n",
            "Epoch 111/200\n",
            "5733/5733 [==============================] - 13s 2ms/step - loss: 0.0836 - accuracy: 0.9627 - val_loss: 0.1083 - val_accuracy: 0.9436\n",
            "Epoch 112/200\n",
            "5733/5733 [==============================] - 13s 2ms/step - loss: 0.0885 - accuracy: 0.9625 - val_loss: 0.0769 - val_accuracy: 0.9603\n",
            "Epoch 113/200\n",
            "5733/5733 [==============================] - 13s 2ms/step - loss: 0.0853 - accuracy: 0.9625 - val_loss: 0.0921 - val_accuracy: 0.9671\n",
            "Epoch 114/200\n",
            "5733/5733 [==============================] - 13s 2ms/step - loss: 0.0829 - accuracy: 0.9629 - val_loss: 0.0752 - val_accuracy: 0.9694\n",
            "Epoch 115/200\n",
            "5733/5733 [==============================] - 13s 2ms/step - loss: 0.0834 - accuracy: 0.9628 - val_loss: 0.0722 - val_accuracy: 0.9669\n",
            "Epoch 116/200\n",
            "5733/5733 [==============================] - 13s 2ms/step - loss: 0.0939 - accuracy: 0.9625 - val_loss: 0.1112 - val_accuracy: 0.9340\n",
            "Epoch 117/200\n",
            "5733/5733 [==============================] - 13s 2ms/step - loss: 0.0890 - accuracy: 0.9623 - val_loss: 0.1056 - val_accuracy: 0.9361\n",
            "Epoch 118/200\n",
            "5733/5733 [==============================] - 13s 2ms/step - loss: 0.0832 - accuracy: 0.9629 - val_loss: 0.0862 - val_accuracy: 0.9696\n",
            "Epoch 119/200\n",
            "5733/5733 [==============================] - 13s 2ms/step - loss: 0.0822 - accuracy: 0.9635 - val_loss: 0.0754 - val_accuracy: 0.9639\n",
            "Epoch 120/200\n",
            "5733/5733 [==============================] - 13s 2ms/step - loss: 0.0850 - accuracy: 0.9631 - val_loss: 0.0883 - val_accuracy: 0.9698\n",
            "Epoch 121/200\n",
            "5733/5733 [==============================] - 13s 2ms/step - loss: 0.0821 - accuracy: 0.9632 - val_loss: 0.2184 - val_accuracy: 0.9262\n",
            "Epoch 122/200\n",
            "5733/5733 [==============================] - 13s 2ms/step - loss: 0.0863 - accuracy: 0.9619 - val_loss: 0.1127 - val_accuracy: 0.9420\n",
            "Epoch 123/200\n",
            "5733/5733 [==============================] - 13s 2ms/step - loss: 0.0832 - accuracy: 0.9631 - val_loss: 0.0726 - val_accuracy: 0.9609\n",
            "Epoch 124/200\n",
            "5733/5733 [==============================] - 13s 2ms/step - loss: 0.0822 - accuracy: 0.9633 - val_loss: 0.0766 - val_accuracy: 0.9679\n",
            "Epoch 125/200\n",
            "5733/5733 [==============================] - 13s 2ms/step - loss: 0.0820 - accuracy: 0.9634 - val_loss: 0.0759 - val_accuracy: 0.9639\n",
            "Epoch 126/200\n",
            "5733/5733 [==============================] - 13s 2ms/step - loss: 0.0807 - accuracy: 0.9636 - val_loss: 0.0785 - val_accuracy: 0.9676\n",
            "Epoch 127/200\n",
            "5733/5733 [==============================] - 14s 2ms/step - loss: 0.0921 - accuracy: 0.9633 - val_loss: 0.2501 - val_accuracy: 0.9198\n",
            "Epoch 128/200\n",
            "5733/5733 [==============================] - 13s 2ms/step - loss: 0.0854 - accuracy: 0.9625 - val_loss: 0.0946 - val_accuracy: 0.9671\n",
            "Epoch 129/200\n",
            "5733/5733 [==============================] - 13s 2ms/step - loss: 0.0819 - accuracy: 0.9634 - val_loss: 0.0756 - val_accuracy: 0.9630\n",
            "Epoch 130/200\n",
            "5733/5733 [==============================] - 13s 2ms/step - loss: 0.1063 - accuracy: 0.9632 - val_loss: 0.1079 - val_accuracy: 0.9381\n",
            "Epoch 131/200\n",
            "5733/5733 [==============================] - 13s 2ms/step - loss: 0.0836 - accuracy: 0.9629 - val_loss: 0.0973 - val_accuracy: 0.9679\n",
            "Epoch 132/200\n",
            "5733/5733 [==============================] - 13s 2ms/step - loss: 0.0820 - accuracy: 0.9631 - val_loss: 0.1199 - val_accuracy: 0.9298\n",
            "Epoch 133/200\n",
            "5733/5733 [==============================] - 13s 2ms/step - loss: 0.0813 - accuracy: 0.9633 - val_loss: 0.0737 - val_accuracy: 0.9619\n",
            "Epoch 134/200\n",
            "5733/5733 [==============================] - 13s 2ms/step - loss: 0.0815 - accuracy: 0.9632 - val_loss: 0.1315 - val_accuracy: 0.9304\n",
            "Epoch 135/200\n",
            "5733/5733 [==============================] - 13s 2ms/step - loss: 0.1524 - accuracy: 0.9629 - val_loss: 0.0706 - val_accuracy: 0.9624\n",
            "Epoch 136/200\n",
            "5733/5733 [==============================] - 13s 2ms/step - loss: 0.0828 - accuracy: 0.9631 - val_loss: 0.1327 - val_accuracy: 0.9282\n",
            "Epoch 137/200\n",
            "5733/5733 [==============================] - 13s 2ms/step - loss: 0.0827 - accuracy: 0.9630 - val_loss: 0.0739 - val_accuracy: 0.9617\n",
            "Epoch 138/200\n",
            "5733/5733 [==============================] - 13s 2ms/step - loss: 0.0801 - accuracy: 0.9638 - val_loss: 0.1709 - val_accuracy: 0.9292\n",
            "Epoch 139/200\n",
            "5733/5733 [==============================] - 13s 2ms/step - loss: 0.0832 - accuracy: 0.9629 - val_loss: 0.0748 - val_accuracy: 0.9615\n",
            "Epoch 140/200\n",
            "5733/5733 [==============================] - 13s 2ms/step - loss: 0.0935 - accuracy: 0.9633 - val_loss: 0.0773 - val_accuracy: 0.9602\n",
            "Epoch 141/200\n",
            "5733/5733 [==============================] - 13s 2ms/step - loss: 0.0968 - accuracy: 0.9631 - val_loss: 0.0848 - val_accuracy: 0.9701\n",
            "Epoch 142/200\n",
            "5733/5733 [==============================] - 13s 2ms/step - loss: 0.0811 - accuracy: 0.9636 - val_loss: 0.1153 - val_accuracy: 0.9365\n",
            "Epoch 143/200\n",
            "5733/5733 [==============================] - 13s 2ms/step - loss: 0.0796 - accuracy: 0.9638 - val_loss: 0.0707 - val_accuracy: 0.9622\n",
            "Epoch 144/200\n",
            "5733/5733 [==============================] - 13s 2ms/step - loss: 0.0914 - accuracy: 0.9641 - val_loss: 0.0828 - val_accuracy: 0.9693\n",
            "Epoch 145/200\n",
            "5733/5733 [==============================] - 13s 2ms/step - loss: 0.0787 - accuracy: 0.9641 - val_loss: 0.0682 - val_accuracy: 0.9633\n",
            "Epoch 146/200\n",
            "5733/5733 [==============================] - 13s 2ms/step - loss: 0.0818 - accuracy: 0.9635 - val_loss: 0.1689 - val_accuracy: 0.9256\n",
            "Epoch 147/200\n",
            "5733/5733 [==============================] - 13s 2ms/step - loss: 0.0792 - accuracy: 0.9638 - val_loss: 0.0754 - val_accuracy: 0.9684\n",
            "Epoch 148/200\n",
            "5733/5733 [==============================] - 13s 2ms/step - loss: 0.0794 - accuracy: 0.9639 - val_loss: 0.0716 - val_accuracy: 0.9691\n",
            "Epoch 149/200\n",
            "5733/5733 [==============================] - 13s 2ms/step - loss: 0.0973 - accuracy: 0.9639 - val_loss: 0.1043 - val_accuracy: 0.9684\n",
            "Epoch 150/200\n",
            "5733/5733 [==============================] - 13s 2ms/step - loss: 0.4461 - accuracy: 0.9643 - val_loss: 0.0708 - val_accuracy: 0.9694\n",
            "Epoch 151/200\n",
            "5733/5733 [==============================] - 14s 2ms/step - loss: 0.1640 - accuracy: 0.9642 - val_loss: 0.0704 - val_accuracy: 0.9653\n",
            "Epoch 152/200\n",
            "5733/5733 [==============================] - 13s 2ms/step - loss: 0.1332 - accuracy: 0.9634 - val_loss: 0.0700 - val_accuracy: 0.9628\n",
            "Epoch 153/200\n",
            "5733/5733 [==============================] - 13s 2ms/step - loss: 0.1534 - accuracy: 0.9644 - val_loss: 0.0677 - val_accuracy: 0.9624\n",
            "Epoch 154/200\n",
            "5733/5733 [==============================] - 13s 2ms/step - loss: 0.1168 - accuracy: 0.9643 - val_loss: 0.0684 - val_accuracy: 0.9637\n",
            "Epoch 155/200\n",
            "5733/5733 [==============================] - 13s 2ms/step - loss: 0.3162 - accuracy: 0.9633 - val_loss: 0.0725 - val_accuracy: 0.9625\n",
            "Epoch 156/200\n",
            "5733/5733 [==============================] - 13s 2ms/step - loss: 0.1251 - accuracy: 0.9637 - val_loss: 0.0759 - val_accuracy: 0.9685\n",
            "Epoch 157/200\n",
            "5733/5733 [==============================] - 13s 2ms/step - loss: 0.0800 - accuracy: 0.9635 - val_loss: 0.0811 - val_accuracy: 0.9694\n",
            "Epoch 158/200\n",
            "5733/5733 [==============================] - 13s 2ms/step - loss: 0.1098 - accuracy: 0.9629 - val_loss: 0.0782 - val_accuracy: 0.9716\n",
            "Epoch 159/200\n",
            "5733/5733 [==============================] - 13s 2ms/step - loss: 0.0803 - accuracy: 0.9632 - val_loss: 0.1186 - val_accuracy: 0.9325\n",
            "Epoch 160/200\n",
            "5733/5733 [==============================] - 13s 2ms/step - loss: 0.0827 - accuracy: 0.9625 - val_loss: 0.0764 - val_accuracy: 0.9610\n",
            "Epoch 161/200\n",
            "5733/5733 [==============================] - 13s 2ms/step - loss: 0.0809 - accuracy: 0.9631 - val_loss: 0.0745 - val_accuracy: 0.9604\n",
            "Epoch 162/200\n",
            "5733/5733 [==============================] - 13s 2ms/step - loss: 0.0803 - accuracy: 0.9638 - val_loss: 0.0766 - val_accuracy: 0.9646\n",
            "Epoch 163/200\n",
            "5733/5733 [==============================] - 13s 2ms/step - loss: 0.0794 - accuracy: 0.9637 - val_loss: 0.0849 - val_accuracy: 0.9669\n",
            "Epoch 164/200\n",
            "5733/5733 [==============================] - 13s 2ms/step - loss: 0.0779 - accuracy: 0.9641 - val_loss: 0.0678 - val_accuracy: 0.9628\n",
            "Epoch 165/200\n",
            "5733/5733 [==============================] - 13s 2ms/step - loss: 0.0848 - accuracy: 0.9634 - val_loss: 0.0921 - val_accuracy: 0.9676\n",
            "Epoch 166/200\n",
            "5733/5733 [==============================] - 13s 2ms/step - loss: 0.0775 - accuracy: 0.9643 - val_loss: 0.0733 - val_accuracy: 0.9698\n",
            "Epoch 167/200\n",
            "5733/5733 [==============================] - 13s 2ms/step - loss: 0.0769 - accuracy: 0.9645 - val_loss: 0.0706 - val_accuracy: 0.9614\n",
            "Epoch 168/200\n",
            "5733/5733 [==============================] - 13s 2ms/step - loss: 0.0761 - accuracy: 0.9644 - val_loss: 0.1062 - val_accuracy: 0.9636\n",
            "Epoch 169/200\n",
            "5733/5733 [==============================] - 13s 2ms/step - loss: 0.0768 - accuracy: 0.9642 - val_loss: 0.0670 - val_accuracy: 0.9633\n",
            "Epoch 170/200\n",
            "5733/5733 [==============================] - 13s 2ms/step - loss: 0.0761 - accuracy: 0.9646 - val_loss: 0.0717 - val_accuracy: 0.9681\n",
            "Epoch 171/200\n",
            "5733/5733 [==============================] - 13s 2ms/step - loss: 0.0776 - accuracy: 0.9641 - val_loss: 0.0793 - val_accuracy: 0.9626\n",
            "Epoch 172/200\n",
            "5733/5733 [==============================] - 13s 2ms/step - loss: 0.0769 - accuracy: 0.9641 - val_loss: 0.0666 - val_accuracy: 0.9701\n",
            "Epoch 173/200\n",
            "5733/5733 [==============================] - 13s 2ms/step - loss: 0.0803 - accuracy: 0.9638 - val_loss: 0.0781 - val_accuracy: 0.9702\n",
            "Epoch 174/200\n",
            "5733/5733 [==============================] - 13s 2ms/step - loss: 0.0773 - accuracy: 0.9644 - val_loss: 0.0777 - val_accuracy: 0.9605\n",
            "Epoch 175/200\n",
            "5733/5733 [==============================] - 14s 2ms/step - loss: 0.0760 - accuracy: 0.9644 - val_loss: 0.0692 - val_accuracy: 0.9701\n",
            "Epoch 176/200\n",
            "5733/5733 [==============================] - 13s 2ms/step - loss: 0.0797 - accuracy: 0.9634 - val_loss: 0.0711 - val_accuracy: 0.9634\n",
            "Epoch 177/200\n",
            "5733/5733 [==============================] - 13s 2ms/step - loss: 0.0792 - accuracy: 0.9638 - val_loss: 0.1568 - val_accuracy: 0.9428\n",
            "Epoch 178/200\n",
            "5733/5733 [==============================] - 13s 2ms/step - loss: 0.0800 - accuracy: 0.9639 - val_loss: 0.0896 - val_accuracy: 0.9537\n",
            "Epoch 179/200\n",
            "5733/5733 [==============================] - 13s 2ms/step - loss: 0.0826 - accuracy: 0.9633 - val_loss: 0.1777 - val_accuracy: 0.9416\n",
            "Epoch 180/200\n",
            "5733/5733 [==============================] - 13s 2ms/step - loss: 0.0845 - accuracy: 0.9626 - val_loss: 0.0756 - val_accuracy: 0.9601\n",
            "Epoch 181/200\n",
            "5733/5733 [==============================] - 13s 2ms/step - loss: 0.0812 - accuracy: 0.9629 - val_loss: 0.0769 - val_accuracy: 0.9691\n",
            "Epoch 182/200\n",
            "5733/5733 [==============================] - 13s 2ms/step - loss: 0.0803 - accuracy: 0.9636 - val_loss: 0.0752 - val_accuracy: 0.9654\n",
            "Epoch 183/200\n",
            "5733/5733 [==============================] - 13s 2ms/step - loss: 0.0804 - accuracy: 0.9637 - val_loss: 0.1098 - val_accuracy: 0.9683\n",
            "Epoch 184/200\n",
            "5733/5733 [==============================] - 13s 2ms/step - loss: 0.0795 - accuracy: 0.9642 - val_loss: 0.0757 - val_accuracy: 0.9673\n",
            "Epoch 185/200\n",
            "5733/5733 [==============================] - 13s 2ms/step - loss: 0.0772 - accuracy: 0.9643 - val_loss: 0.0701 - val_accuracy: 0.9613\n",
            "Epoch 186/200\n",
            "5733/5733 [==============================] - 13s 2ms/step - loss: 0.0780 - accuracy: 0.9641 - val_loss: 0.0794 - val_accuracy: 0.9621\n",
            "Epoch 187/200\n",
            "5733/5733 [==============================] - 13s 2ms/step - loss: 0.0788 - accuracy: 0.9645 - val_loss: 0.0703 - val_accuracy: 0.9694\n",
            "Epoch 188/200\n",
            "5733/5733 [==============================] - 13s 2ms/step - loss: 0.0778 - accuracy: 0.9640 - val_loss: 0.0719 - val_accuracy: 0.9689\n",
            "Epoch 189/200\n",
            "5733/5733 [==============================] - 13s 2ms/step - loss: 0.0774 - accuracy: 0.9641 - val_loss: 0.1631 - val_accuracy: 0.9202\n",
            "Epoch 190/200\n",
            "5733/5733 [==============================] - 13s 2ms/step - loss: 0.1663 - accuracy: 0.9644 - val_loss: 0.1263 - val_accuracy: 0.9465\n",
            "Epoch 191/200\n",
            "5733/5733 [==============================] - 13s 2ms/step - loss: 0.0775 - accuracy: 0.9640 - val_loss: 0.0703 - val_accuracy: 0.9687\n",
            "Epoch 192/200\n",
            "5733/5733 [==============================] - 13s 2ms/step - loss: 0.0834 - accuracy: 0.9628 - val_loss: 0.0872 - val_accuracy: 0.9704\n",
            "Epoch 193/200\n",
            "5733/5733 [==============================] - 13s 2ms/step - loss: 0.0802 - accuracy: 0.9628 - val_loss: 0.0920 - val_accuracy: 0.9626\n",
            "Epoch 194/200\n",
            "5733/5733 [==============================] - 13s 2ms/step - loss: 0.0833 - accuracy: 0.9623 - val_loss: 0.0739 - val_accuracy: 0.9685\n",
            "Epoch 195/200\n",
            "5733/5733 [==============================] - 13s 2ms/step - loss: 0.0808 - accuracy: 0.9633 - val_loss: 0.0881 - val_accuracy: 0.9680\n",
            "Epoch 196/200\n",
            "5733/5733 [==============================] - 13s 2ms/step - loss: 0.0830 - accuracy: 0.9636 - val_loss: 0.0974 - val_accuracy: 0.9684\n",
            "Epoch 197/200\n",
            "5733/5733 [==============================] - 13s 2ms/step - loss: 0.1850 - accuracy: 0.9633 - val_loss: 0.0737 - val_accuracy: 0.9655\n",
            "Epoch 198/200\n",
            "5733/5733 [==============================] - 13s 2ms/step - loss: 0.0789 - accuracy: 0.9638 - val_loss: 0.0858 - val_accuracy: 0.9668\n",
            "Epoch 199/200\n",
            "5733/5733 [==============================] - 14s 2ms/step - loss: 0.0800 - accuracy: 0.9639 - val_loss: 0.0721 - val_accuracy: 0.9628\n",
            "Epoch 200/200\n",
            "5733/5733 [==============================] - 13s 2ms/step - loss: 0.0775 - accuracy: 0.9644 - val_loss: 0.0994 - val_accuracy: 0.9574\n"
          ],
          "name": "stdout"
        }
      ]
    },
    {
      "cell_type": "code",
      "metadata": {
        "id": "sJTDuBlk5V3A",
        "colab_type": "code",
        "outputId": "cf90bba2-9b5f-4c0e-8e3f-3968853fa41a",
        "colab": {
          "base_uri": "https://localhost:8080/",
          "height": 294
        }
      },
      "source": [
        "# plotting the the training accuracy\n",
        "plot_Model_Accuracy(model_history)"
      ],
      "execution_count": 28,
      "outputs": [
        {
          "output_type": "display_data",
          "data": {
            "image/png": "[encoded data removed]",
            "text/plain": [
              "<Figure size 432x288 with 1 Axes>"
            ]
          },
          "metadata": {
            "tags": [],
            "needs_background": "light"
          }
        }
      ]
    },
    {
      "cell_type": "code",
      "metadata": {
        "id": "LC6RebaM5ast",
        "colab_type": "code",
        "outputId": "41d7c325-9d5f-4d26-a70d-3608a8294123",
        "colab": {
          "base_uri": "https://localhost:8080/",
          "height": 294
        }
      },
      "source": [
        "# plotting the the training loss\n",
        "plot_Model_loss(model_history)"
      ],
      "execution_count": 29,
      "outputs": [
        {
          "output_type": "display_data",
          "data": {
            "image/png": "[encoded data removed]",
            "text/plain": [
              "<Figure size 432x288 with 1 Axes>"
            ]
          },
          "metadata": {
            "tags": [],
            "needs_background": "light"
          }
        }
      ]
    },
    {
      "cell_type": "code",
      "metadata": {
        "id": "Oye08sGa5y1c",
        "colab_type": "code",
        "outputId": "0f813036-7b40-46c8-ea7d-41e74711c7f2",
        "colab": {
          "base_uri": "https://localhost:8080/",
          "height": 1000
        }
      },
      "source": [
        "# Evaluating my model using CM, precsion, and recal\n",
        "preds, original_test_labels = get_Model_prediction(model, test_data, test_labels)\n",
        "get_Evaluation_matrics(preds, original_test_labels)"
      ],
      "execution_count": 30,
      "outputs": [
        {
          "output_type": "stream",
          "text": [
            "[1 0 0 ... 1 0 1]\n",
            "[1 0 0 ... 1 0 1]\n"
          ],
          "name": "stdout"
        },
        {
          "output_type": "display_data",
          "data": {
            "text/plain": [
              "<Figure size 432x288 with 0 Axes>"
            ]
          },
          "metadata": {
            "tags": []
          }
        },
        {
          "output_type": "display_data",
          "data": {
            "image/png": "[encoded data removed]",
            "text/plain": [
              "<Figure size 864x864 with 1 Axes>"
            ]
          },
          "metadata": {
            "tags": [],
            "needs_background": "light"
          }
        },
        {
          "output_type": "stream",
          "text": [
            "\n",
            "\n",
            "\n",
            "              precision    recall  f1-score   support\n",
            "\n",
            "           0       0.93      0.99      0.96    289145\n",
            "           1       0.99      0.92      0.95    247442\n",
            "           2       0.71      0.73      0.72        81\n",
            "           3       0.99      0.98      0.99     13597\n",
            "           4       1.00      0.23      0.38        13\n",
            "\n",
            "    accuracy                           0.96    550278\n",
            "   macro avg       0.93      0.77      0.80    550278\n",
            "weighted avg       0.96      0.96      0.96    550278\n",
            "\n"
          ],
          "name": "stdout"
        }
      ]
    },
    {
      "cell_type": "code",
      "metadata": {
        "id": "9LU-7zbt54QM",
        "colab_type": "code",
        "colab": {}
      },
      "source": [
        "# plotting the AUC for all my classes\n",
        "get_model_ROC_AUC_curve(preds, test_labels)"
      ],
      "execution_count": 0,
      "outputs": []
    },
    {
      "cell_type": "code",
      "metadata": {
        "id": "yN2O6s45JRIZ",
        "colab_type": "code",
        "colab": {}
      },
      "source": [
        "import sys\n",
        "import scipy\n",
        "import numpy\n",
        "import matplotlib\n",
        "import pandas\n",
        "import sklearn\n",
        "\n",
        "import numpy as np\n",
        "from sklearn.neighbors import KNeighborsClassifier\n",
        "from sklearn.svm import SVC\n",
        "from sklearn import model_selection\n",
        "from sklearn.metrics import classification_report\n",
        "from sklearn.metrics import accuracy_score\n",
        "from pandas.plotting import scatter_matrix\n",
        "import matplotlib.pyplot as plt\n",
        "import pandas as pd\n",
        "from sklearn import preprocessing"
      ],
      "execution_count": 0,
      "outputs": []
    },
    {
      "cell_type": "code",
      "metadata": {
        "id": "xMrpiPNjIxPY",
        "colab_type": "code",
        "outputId": "61318733-416e-4c2a-e23c-2c7e8c5a3ac8",
        "colab": {
          "base_uri": "https://localhost:8080/",
          "height": 72
        }
      },
      "source": [
        "# Testing Options\n",
        "seed = 8\n",
        "scoring = 'accuracy'\n",
        "\n",
        "# Define models to train\n",
        "models = []\n",
        "models.append(('KNN', KNeighborsClassifier(n_neighbors = 5)))\n",
        "models.append(('SVM', SVC()))\n",
        "\n",
        "# evaluate each model in turn\n",
        "results = []\n",
        "names = []\n",
        "\n",
        "for name, model in models:\n",
        "    kfold = model_selection.KFold(n_splits=10, random_state = seed)\n",
        "    cv_results = model_selection.cross_val_score(model, train_data, train_labels, cv=kfold, scoring=scoring)\n",
        "    results.append(cv_results)\n",
        "    names.append(name)\n",
        "    msg = \"%s: %f (%f)\" % (name, cv_results.mean(), cv_results.std())\n",
        "    print(msg)"
      ],
      "execution_count": 0,
      "outputs": [
        {
          "output_type": "stream",
          "text": [
            "/usr/local/lib/python3.6/dist-packages/sklearn/model_selection/_split.py:296: FutureWarning: Setting a random_state has no effect since shuffle is False. This will raise an error in 0.24. You should leave random_state to its default (None), or set shuffle=True.\n",
            "  FutureWarning\n"
          ],
          "name": "stderr"
        }
      ]
    },
    {
      "cell_type": "code",
      "metadata": {
        "id": "g4lzg08fJmcJ",
        "colab_type": "code",
        "colab": {}
      },
      "source": [
        "# Make predictions on validation dataset\n",
        "\n",
        "for name, model in models:\n",
        "    model.fit(train_data, train_labels)\n",
        "    predictions = model.predict(test_data)\n",
        "    print(name)\n",
        "    print(accuracy_score(test_labels, predictions))\n",
        "    print(classification_report(y_test, predictions))"
      ],
      "execution_count": 0,
      "outputs": []
    }
  ]
}