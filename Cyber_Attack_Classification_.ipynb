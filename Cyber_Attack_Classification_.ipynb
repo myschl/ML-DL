{
  "nbformat": 4,
  "nbformat_minor": 0,
  "metadata": {
    "colab": {
      "name": "Cyber Attack Classification .ipynb",
      "provenance": [],
      "toc_visible": true,
      "machine_shape": "hm",
      "mount_file_id": "1cBMIhzAD9TG7Gi6gojtL1pNBoHTYdiLE",
      "authorship_tag": "ABX9TyMQ7c+RoSh+y7i4o0u3XQqk",
      "include_colab_link": true
    },
    "kernelspec": {
      "name": "python3",
      "display_name": "Python 3"
    },
    "accelerator": "GPU"
  },
  "cells": [
    {
      "cell_type": "markdown",
      "metadata": {
        "id": "view-in-github",
        "colab_type": "text"
      },
      "source": [
        "<a href=\"https://colab.research.google.com/github/myschl/ML-DL/blob/master/Cyber_Attack_Classification_.ipynb\" target=\"_parent\"><img src=\"https://colab.research.google.com/assets/colab-badge.svg\" alt=\"Open In Colab\"/></a>"
      ]
    },
    {
      "cell_type": "markdown",
      "metadata": {
        "id": "NDM8xHwl35JV",
        "colab_type": "text"
      },
      "source": [
        "# **Libraries to be use**"
      ]
    },
    {
      "cell_type": "code",
      "metadata": {
        "id": "wEWtBugc3fFR",
        "colab_type": "code",
        "outputId": "a94b6207-cb37-4b9e-a4d5-a3af234cc32b",
        "colab": {
          "base_uri": "https://localhost:8080/",
          "height": 34
        }
      },
      "source": [
        "from sklearn.model_selection import train_test_split\n",
        "from sklearn.ensemble import RandomForestClassifier\n",
        "from sklearn.linear_model import SGDClassifier\n",
        "from sklearn.metrics import accuracy_score, confusion_matrix, precision_score, recall_score\n",
        "import matplotlib.pyplot as plt\n",
        "from sklearn.preprocessing import StandardScaler\n",
        "from xgboost import XGBClassifier\n",
        "import pandas as pd\n",
        "from sklearn.impute import SimpleImputer\n",
        "from sklearn.preprocessing import OneHotEncoder\n",
        "from sklearn.preprocessing import LabelEncoder\n",
        "from sklearn.model_selection import cross_val_score, cross_val_predict\n",
        "from mlxtend.plotting import plot_confusion_matrix\n",
        "from sklearn.metrics import confusion_matrix, accuracy_score, f1_score, precision_score, recall_score, classification_report\n",
        "from keras.utils import to_categorical\n",
        "\n",
        "# %tensorflow_version 1.x"
      ],
      "execution_count": 1,
      "outputs": [
        {
          "output_type": "stream",
          "text": [
            "Using TensorFlow backend.\n"
          ],
          "name": "stderr"
        }
      ]
    },
    {
      "cell_type": "markdown",
      "metadata": {
        "id": "oRIPB63x4eH8",
        "colab_type": "text"
      },
      "source": [
        "# **Getting the data**"
      ]
    },
    {
      "cell_type": "code",
      "metadata": {
        "id": "1q--j5E5QN4G",
        "colab_type": "code",
        "outputId": "e69c2f0f-1ea1-4ae3-c01c-3c24f00b95cb",
        "colab": {
          "base_uri": "https://localhost:8080/",
          "height": 34
        }
      },
      "source": [
        "# unzipping my data folder from my google drive\n",
        "from zipfile import ZipFile\n",
        "file_name = '/content/drive/My Drive/SS_Thesis/10-best Training-Testing split.zip'\n",
        "with ZipFile(file_name, 'r') as zip:\n",
        "  zip.extractall()\n",
        "  print(\"Done\")\n"
      ],
      "execution_count": 2,
      "outputs": [
        {
          "output_type": "stream",
          "text": [
            "Done\n"
          ],
          "name": "stdout"
        }
      ]
    },
    {
      "cell_type": "code",
      "metadata": {
        "id": "IfQXZc2nQjXj",
        "colab_type": "code",
        "outputId": "8caaf383-b35d-4131-f144-bcddafaed773",
        "colab": {
          "base_uri": "https://localhost:8080/",
          "height": 217
        }
      },
      "source": [
        "train = pd.read_csv('/content/10-best Training-Testing split/UNSW_2018_IoT_Botnet_Final_10_best_Training.csv')\n",
        "test = pd.read_csv('/content/10-best Training-Testing split/UNSW_2018_IoT_Botnet_Final_10_best_Testing.csv')\n",
        "\n",
        "# displaying my data before selecting the features to be use\n",
        "train.head()\n"
      ],
      "execution_count": 3,
      "outputs": [
        {
          "output_type": "execute_result",
          "data": {
            "text/html": [
              "<div>\n",
              "<style scoped>\n",
              "    .dataframe tbody tr th:only-of-type {\n",
              "        vertical-align: middle;\n",
              "    }\n",
              "\n",
              "    .dataframe tbody tr th {\n",
              "        vertical-align: top;\n",
              "    }\n",
              "\n",
              "    .dataframe thead th {\n",
              "        text-align: right;\n",
              "    }\n",
              "</style>\n",
              "<table border=\"1\" class=\"dataframe\">\n",
              "  <thead>\n",
              "    <tr style=\"text-align: right;\">\n",
              "      <th></th>\n",
              "      <th>pkSeqID</th>\n",
              "      <th>proto</th>\n",
              "      <th>saddr</th>\n",
              "      <th>sport</th>\n",
              "      <th>daddr</th>\n",
              "      <th>dport</th>\n",
              "      <th>seq</th>\n",
              "      <th>stddev</th>\n",
              "      <th>N_IN_Conn_P_SrcIP</th>\n",
              "      <th>min</th>\n",
              "      <th>state_number</th>\n",
              "      <th>mean</th>\n",
              "      <th>N_IN_Conn_P_DstIP</th>\n",
              "      <th>drate</th>\n",
              "      <th>srate</th>\n",
              "      <th>max</th>\n",
              "      <th>attack</th>\n",
              "      <th>category</th>\n",
              "      <th>subcategory</th>\n",
              "    </tr>\n",
              "  </thead>\n",
              "  <tbody>\n",
              "    <tr>\n",
              "      <th>0</th>\n",
              "      <td>3142762</td>\n",
              "      <td>udp</td>\n",
              "      <td>192.168.100.150</td>\n",
              "      <td>6551</td>\n",
              "      <td>192.168.100.3</td>\n",
              "      <td>80</td>\n",
              "      <td>251984</td>\n",
              "      <td>1.900363</td>\n",
              "      <td>100</td>\n",
              "      <td>0.000000</td>\n",
              "      <td>4</td>\n",
              "      <td>2.687519</td>\n",
              "      <td>100</td>\n",
              "      <td>0.0</td>\n",
              "      <td>0.494549</td>\n",
              "      <td>4.031619</td>\n",
              "      <td>1</td>\n",
              "      <td>DDoS</td>\n",
              "      <td>UDP</td>\n",
              "    </tr>\n",
              "    <tr>\n",
              "      <th>1</th>\n",
              "      <td>2432264</td>\n",
              "      <td>tcp</td>\n",
              "      <td>192.168.100.150</td>\n",
              "      <td>5532</td>\n",
              "      <td>192.168.100.3</td>\n",
              "      <td>80</td>\n",
              "      <td>256724</td>\n",
              "      <td>0.078003</td>\n",
              "      <td>38</td>\n",
              "      <td>3.856930</td>\n",
              "      <td>3</td>\n",
              "      <td>3.934927</td>\n",
              "      <td>100</td>\n",
              "      <td>0.0</td>\n",
              "      <td>0.256493</td>\n",
              "      <td>4.012924</td>\n",
              "      <td>1</td>\n",
              "      <td>DDoS</td>\n",
              "      <td>TCP</td>\n",
              "    </tr>\n",
              "    <tr>\n",
              "      <th>2</th>\n",
              "      <td>1976315</td>\n",
              "      <td>tcp</td>\n",
              "      <td>192.168.100.147</td>\n",
              "      <td>27165</td>\n",
              "      <td>192.168.100.3</td>\n",
              "      <td>80</td>\n",
              "      <td>62921</td>\n",
              "      <td>0.268666</td>\n",
              "      <td>100</td>\n",
              "      <td>2.974100</td>\n",
              "      <td>3</td>\n",
              "      <td>3.341429</td>\n",
              "      <td>100</td>\n",
              "      <td>0.0</td>\n",
              "      <td>0.294880</td>\n",
              "      <td>3.609205</td>\n",
              "      <td>1</td>\n",
              "      <td>DDoS</td>\n",
              "      <td>TCP</td>\n",
              "    </tr>\n",
              "    <tr>\n",
              "      <th>3</th>\n",
              "      <td>1240757</td>\n",
              "      <td>udp</td>\n",
              "      <td>192.168.100.150</td>\n",
              "      <td>48719</td>\n",
              "      <td>192.168.100.3</td>\n",
              "      <td>80</td>\n",
              "      <td>99168</td>\n",
              "      <td>1.823185</td>\n",
              "      <td>63</td>\n",
              "      <td>0.000000</td>\n",
              "      <td>4</td>\n",
              "      <td>3.222832</td>\n",
              "      <td>63</td>\n",
              "      <td>0.0</td>\n",
              "      <td>0.461435</td>\n",
              "      <td>4.942302</td>\n",
              "      <td>1</td>\n",
              "      <td>DoS</td>\n",
              "      <td>UDP</td>\n",
              "    </tr>\n",
              "    <tr>\n",
              "      <th>4</th>\n",
              "      <td>3257991</td>\n",
              "      <td>udp</td>\n",
              "      <td>192.168.100.147</td>\n",
              "      <td>22461</td>\n",
              "      <td>192.168.100.3</td>\n",
              "      <td>80</td>\n",
              "      <td>105063</td>\n",
              "      <td>0.822418</td>\n",
              "      <td>100</td>\n",
              "      <td>2.979995</td>\n",
              "      <td>4</td>\n",
              "      <td>3.983222</td>\n",
              "      <td>100</td>\n",
              "      <td>0.0</td>\n",
              "      <td>1.002999</td>\n",
              "      <td>4.994452</td>\n",
              "      <td>1</td>\n",
              "      <td>DDoS</td>\n",
              "      <td>UDP</td>\n",
              "    </tr>\n",
              "  </tbody>\n",
              "</table>\n",
              "</div>"
            ],
            "text/plain": [
              "   pkSeqID proto            saddr  sport  ...       max attack  category  subcategory\n",
              "0  3142762   udp  192.168.100.150   6551  ...  4.031619      1      DDoS          UDP\n",
              "1  2432264   tcp  192.168.100.150   5532  ...  4.012924      1      DDoS          TCP\n",
              "2  1976315   tcp  192.168.100.147  27165  ...  3.609205      1      DDoS          TCP\n",
              "3  1240757   udp  192.168.100.150  48719  ...  4.942302      1       DoS          UDP\n",
              "4  3257991   udp  192.168.100.147  22461  ...  4.994452      1      DDoS          UDP\n",
              "\n",
              "[5 rows x 19 columns]"
            ]
          },
          "metadata": {
            "tags": []
          },
          "execution_count": 3
        }
      ]
    },
    {
      "cell_type": "code",
      "metadata": {
        "id": "Xe3rJfxLbpKJ",
        "colab_type": "code",
        "outputId": "eec33017-e626-4b73-ab4d-7da8efcc1758",
        "colab": {
          "base_uri": "https://localhost:8080/",
          "height": 87
        }
      },
      "source": [
        "train.columns"
      ],
      "execution_count": 0,
      "outputs": [
        {
          "output_type": "execute_result",
          "data": {
            "text/plain": [
              "Index(['pkSeqID', 'proto', 'saddr', 'sport', 'daddr', 'dport', 'seq', 'stddev',\n",
              "       'N_IN_Conn_P_SrcIP', 'min', 'state_number', 'mean', 'N_IN_Conn_P_DstIP',\n",
              "       'drate', 'srate', 'max', 'attack', 'category', 'subcategory'],\n",
              "      dtype='object')"
            ]
          },
          "metadata": {
            "tags": []
          },
          "execution_count": 13
        }
      ]
    },
    {
      "cell_type": "code",
      "metadata": {
        "id": "e5jff0B-0sNS",
        "colab_type": "code",
        "outputId": "faa0fb71-4040-4a5d-c588-9a3ddeee2280",
        "colab": {
          "base_uri": "https://localhost:8080/",
          "height": 87
        }
      },
      "source": [
        "test.columns"
      ],
      "execution_count": 0,
      "outputs": [
        {
          "output_type": "execute_result",
          "data": {
            "text/plain": [
              "Index(['pkSeqID', 'proto', 'saddr', 'sport', 'daddr', 'dport', 'seq', 'stddev',\n",
              "       'N_IN_Conn_P_SrcIP', 'min', 'state_number', 'mean', 'N_IN_Conn_P_DstIP',\n",
              "       'drate', 'srate', 'max', 'attack', 'category', 'subcategory'],\n",
              "      dtype='object')"
            ]
          },
          "metadata": {
            "tags": []
          },
          "execution_count": 14
        }
      ]
    },
    {
      "cell_type": "code",
      "metadata": {
        "id": "XP1Ajku1TfRP",
        "colab_type": "code",
        "outputId": "90082f55-dff5-41f0-f6fd-e889dd7ebe11",
        "colab": {
          "base_uri": "https://localhost:8080/",
          "height": 34
        }
      },
      "source": [
        "train.shape"
      ],
      "execution_count": 0,
      "outputs": [
        {
          "output_type": "execute_result",
          "data": {
            "text/plain": [
              "(2934817, 19)"
            ]
          },
          "metadata": {
            "tags": []
          },
          "execution_count": 4
        }
      ]
    },
    {
      "cell_type": "code",
      "metadata": {
        "id": "60DGZ7a-4MHj",
        "colab_type": "code",
        "colab": {}
      },
      "source": [
        "# from google.colab import drive\n",
        "# drive.mount('/content/drive')\n",
        "features = ['srate','drate','max','state_number','mean','min','stddev']\n",
        "train_data = train[features]\n",
        "train_labels = train['category']\n",
        "# train_labels = to_categorical(train_labels)\n",
        "\n",
        "\n",
        "test_data = test[features]\n",
        "test_labels = test['category']\n",
        "# test_labels = to_categorical(test_labels)\n",
        "\n",
        "test_data, valid_data, test_labels, valid_labels = train_test_split(test_data, test_labels, random_state = 123)\n",
        "\n",
        "\n"
      ],
      "execution_count": 0,
      "outputs": []
    },
    {
      "cell_type": "code",
      "metadata": {
        "id": "mG-dM8bL-5FO",
        "colab_type": "code",
        "outputId": "b921e22d-c889-469e-b528-211cdf5f924f",
        "colab": {
          "base_uri": "https://localhost:8080/",
          "height": 197
        }
      },
      "source": [
        "# displaying my data after selecting the features to be use\n",
        "train_data.head()"
      ],
      "execution_count": 0,
      "outputs": [
        {
          "output_type": "execute_result",
          "data": {
            "text/html": [
              "<div>\n",
              "<style scoped>\n",
              "    .dataframe tbody tr th:only-of-type {\n",
              "        vertical-align: middle;\n",
              "    }\n",
              "\n",
              "    .dataframe tbody tr th {\n",
              "        vertical-align: top;\n",
              "    }\n",
              "\n",
              "    .dataframe thead th {\n",
              "        text-align: right;\n",
              "    }\n",
              "</style>\n",
              "<table border=\"1\" class=\"dataframe\">\n",
              "  <thead>\n",
              "    <tr style=\"text-align: right;\">\n",
              "      <th></th>\n",
              "      <th>srate</th>\n",
              "      <th>drate</th>\n",
              "      <th>max</th>\n",
              "      <th>state_number</th>\n",
              "      <th>mean</th>\n",
              "      <th>min</th>\n",
              "      <th>stddev</th>\n",
              "    </tr>\n",
              "  </thead>\n",
              "  <tbody>\n",
              "    <tr>\n",
              "      <th>0</th>\n",
              "      <td>0.494549</td>\n",
              "      <td>0.0</td>\n",
              "      <td>4.031619</td>\n",
              "      <td>4</td>\n",
              "      <td>2.687519</td>\n",
              "      <td>0.000000</td>\n",
              "      <td>1.900363</td>\n",
              "    </tr>\n",
              "    <tr>\n",
              "      <th>1</th>\n",
              "      <td>0.256493</td>\n",
              "      <td>0.0</td>\n",
              "      <td>4.012924</td>\n",
              "      <td>3</td>\n",
              "      <td>3.934927</td>\n",
              "      <td>3.856930</td>\n",
              "      <td>0.078003</td>\n",
              "    </tr>\n",
              "    <tr>\n",
              "      <th>2</th>\n",
              "      <td>0.294880</td>\n",
              "      <td>0.0</td>\n",
              "      <td>3.609205</td>\n",
              "      <td>3</td>\n",
              "      <td>3.341429</td>\n",
              "      <td>2.974100</td>\n",
              "      <td>0.268666</td>\n",
              "    </tr>\n",
              "    <tr>\n",
              "      <th>3</th>\n",
              "      <td>0.461435</td>\n",
              "      <td>0.0</td>\n",
              "      <td>4.942302</td>\n",
              "      <td>4</td>\n",
              "      <td>3.222832</td>\n",
              "      <td>0.000000</td>\n",
              "      <td>1.823185</td>\n",
              "    </tr>\n",
              "    <tr>\n",
              "      <th>4</th>\n",
              "      <td>1.002999</td>\n",
              "      <td>0.0</td>\n",
              "      <td>4.994452</td>\n",
              "      <td>4</td>\n",
              "      <td>3.983222</td>\n",
              "      <td>2.979995</td>\n",
              "      <td>0.822418</td>\n",
              "    </tr>\n",
              "  </tbody>\n",
              "</table>\n",
              "</div>"
            ],
            "text/plain": [
              "      srate  drate       max  state_number      mean       min    stddev\n",
              "0  0.494549    0.0  4.031619             4  2.687519  0.000000  1.900363\n",
              "1  0.256493    0.0  4.012924             3  3.934927  3.856930  0.078003\n",
              "2  0.294880    0.0  3.609205             3  3.341429  2.974100  0.268666\n",
              "3  0.461435    0.0  4.942302             4  3.222832  0.000000  1.823185\n",
              "4  1.002999    0.0  4.994452             4  3.983222  2.979995  0.822418"
            ]
          },
          "metadata": {
            "tags": []
          },
          "execution_count": 6
        }
      ]
    },
    {
      "cell_type": "code",
      "metadata": {
        "id": "-uuSZAP1YQrW",
        "colab_type": "code",
        "outputId": "bd4166d4-bb44-4c7d-f4a1-83d4a84c1a56",
        "colab": {
          "base_uri": "https://localhost:8080/",
          "height": 34
        }
      },
      "source": [
        "train_labels.unique()"
      ],
      "execution_count": 0,
      "outputs": [
        {
          "output_type": "execute_result",
          "data": {
            "text/plain": [
              "array(['DDoS', 'DoS', 'Reconnaissance', 'Normal', 'Theft'], dtype=object)"
            ]
          },
          "metadata": {
            "tags": []
          },
          "execution_count": 20
        }
      ]
    },
    {
      "cell_type": "code",
      "metadata": {
        "id": "79ZfB7OsTum2",
        "colab_type": "code",
        "outputId": "68b74e5b-0193-4bb4-c80d-1781acb4c5bf",
        "colab": {
          "base_uri": "https://localhost:8080/",
          "height": 34
        }
      },
      "source": [
        "valid_data.shape"
      ],
      "execution_count": 0,
      "outputs": [
        {
          "output_type": "execute_result",
          "data": {
            "text/plain": [
              "(733705, 7)"
            ]
          },
          "metadata": {
            "tags": []
          },
          "execution_count": 19
        }
      ]
    },
    {
      "cell_type": "code",
      "metadata": {
        "id": "TDASrMtz0-AL",
        "colab_type": "code",
        "outputId": "1c0d159f-fbd6-47ec-acf0-c512c6b34b9a",
        "colab": {
          "base_uri": "https://localhost:8080/",
          "height": 141
        }
      },
      "source": [
        "# # creating initial dataframe\n",
        "# labels = ('DoS', 'Reconnaissance','DDoS')\n",
        "# train_labels = pd.DataFrame(train_labels, columns=['labels'])\n",
        "# test_labels = pd.DataFrame(labels, columns=['labels'])\n",
        "\n",
        "# # creating instance of labelencoder\n",
        "# labelencoder = LabelEncoder()\n",
        "# # Assigning numerical values and storing in another column\n",
        "# train_labels['labels_Cat'] = labelencoder.fit_transform(train_labels['labels'])\n",
        "# test_labels['labels_Cat'] = labelencoder.fit_transform(train_labels['labels'])\n",
        "# train_labels\n",
        "\n",
        "\n",
        "\n",
        "# creating instance of labelencoder\n",
        "label_encoder = LabelEncoder()\n",
        "train_labels = label_encoder.fit_transform(train_labels.astype('str')) \n",
        "test_labels = label_encoder.transform(test_labels.astype('str'))\n",
        "valid_labels = label_encoder.transform(valid_labels.astype('str'))\n",
        "\n",
        "# converting the training and testing labels to categorical\n",
        "train_labels = to_categorical(train_labels)\n",
        "test_labels = to_categorical(test_labels)\n",
        "valid_labels = to_categorical(valid_labels)\n",
        "\n",
        "# printing the training labels\n",
        "valid_labels"
      ],
      "execution_count": 5,
      "outputs": [
        {
          "output_type": "execute_result",
          "data": {
            "text/plain": [
              "array([[0., 1., 0., 0., 0.],\n",
              "       [0., 1., 0., 0., 0.],\n",
              "       [1., 0., 0., 0., 0.],\n",
              "       ...,\n",
              "       [1., 0., 0., 0., 0.],\n",
              "       [0., 1., 0., 0., 0.],\n",
              "       [1., 0., 0., 0., 0.]], dtype=float32)"
            ]
          },
          "metadata": {
            "tags": []
          },
          "execution_count": 5
        }
      ]
    },
    {
      "cell_type": "code",
      "metadata": {
        "id": "Ai8O6teCXUXh",
        "colab_type": "code",
        "colab": {}
      },
      "source": [
        ""
      ],
      "execution_count": 0,
      "outputs": []
    },
    {
      "cell_type": "code",
      "metadata": {
        "id": "RzZMSi45ONk-",
        "colab_type": "code",
        "outputId": "5f69c1e3-0465-47d4-8533-33048806f669",
        "colab": {
          "base_uri": "https://localhost:8080/",
          "height": 247
        }
      },
      "source": [
        "#Feature Scaling\n",
        "from sklearn.preprocessing import StandardScaler\n",
        "sc = StandardScaler()\n",
        "train_data = sc.fit_transform(train_data)\n",
        "test_data = sc.transform(test_data)\n",
        "valid_data = sc.transform(valid_data)\n",
        "\n",
        "valid_data"
      ],
      "execution_count": 6,
      "outputs": [
        {
          "output_type": "execute_result",
          "data": {
            "text/plain": [
              "array([[-0.0036714 , -0.0076522 ,  0.55273673, ...,  1.18239602,\n",
              "         2.00175025, -1.06983469],\n",
              "       [-0.00368206, -0.0076522 ,  0.31250324, ...,  0.30121391,\n",
              "        -0.6856577 ,  0.82721984],\n",
              "       [-0.00329576, -0.0076522 ,  0.60236985, ...,  1.08954506,\n",
              "         1.59645504, -0.6649962 ],\n",
              "       ...,\n",
              "       [-0.00346215, -0.0076522 ,  0.54094683, ..., -0.1439503 ,\n",
              "        -0.6856577 ,  0.94148507],\n",
              "       [-0.00385862, -0.00693369, -1.52977475, ..., -1.36811617,\n",
              "        -0.59266323, -1.08601111],\n",
              "       [-0.00336829, -0.0076522 ,  0.61197749, ...,  0.78771851,\n",
              "         0.6773594 ,  0.1319935 ]])"
            ]
          },
          "metadata": {
            "tags": []
          },
          "execution_count": 6
        }
      ]
    },
    {
      "cell_type": "markdown",
      "metadata": {
        "id": "xzcbGZe34tUz",
        "colab_type": "text"
      },
      "source": [
        "# **Preprocessing the Data**"
      ]
    },
    {
      "cell_type": "code",
      "metadata": {
        "id": "M-uxd9Kd42bb",
        "colab_type": "code",
        "colab": {}
      },
      "source": [
        "# finding missing and categorical values\n",
        "col_missing_values = [col for col in train_data.columns\n",
        "                     if train_data[col].isnull().any() and train_data[col].dtype]\n",
        "\n",
        "# col wit numerical values which is null in this project\n",
        "col_numerical_values = [col for col in train_data.columns if train_data[col].dtype in ['int64', 'float64']]\n",
        "\n",
        "# col with categorical values\n",
        "col_categorical_values = [col for col in train_data.columns \n",
        "                          if train_data[col].dtype == 'object']\n",
        "\n",
        "#missing values cout per col\n",
        "missing_val_count_by_column = (train_data.isnull().sum())\n",
        "print(missing_val_count_by_column[missing_val_count_by_column > 0])\n",
        "print(col_categorical_values)\n",
        "print(col_numerical_values)\n"
      ],
      "execution_count": 0,
      "outputs": []
    },
    {
      "cell_type": "code",
      "metadata": {
        "id": "DYE25nWoDPPQ",
        "colab_type": "code",
        "colab": {}
      },
      "source": [
        "# Apply one-hot encoder to each column with categorical data\n",
        "OH_encoder = OneHotEncoder(handle_unknown='ignore')\n",
        "OH_cols_train = pd.DataFrame(OH_encoder.fit_transform(train_data[col_categorical_values]))\n",
        "OH_cols_valid = pd.DataFrame(OH_encoder.transform(test_data[col_categorical_values]))\n",
        "\n",
        "# One-hot encoding removed index; put it back\n",
        "OH_cols_train.index = train_data.index\n",
        "OH_cols_valid.index = test_data.index\n",
        "\n",
        "# Remove categorical columns (will replace with one-hot encoding)\n",
        "num_X_train = train_data.drop(col_categorical_values, axis=1)\n",
        "num_X_valid = test_data.drop(col_categorical_values, axis=1)\n",
        "\n",
        "# Add one-hot encoded columns to numerical features\n",
        "train_data = pd.concat([num_X_train, OH_cols_train], axis=1)\n",
        "test_data = pd.concat([num_X_valid, OH_cols_valid], axis=1)\n",
        "\n"
      ],
      "execution_count": 0,
      "outputs": []
    },
    {
      "cell_type": "markdown",
      "metadata": {
        "id": "ofwuE24C5A61",
        "colab_type": "text"
      },
      "source": [
        "# **Model Evaluation**"
      ]
    },
    {
      "cell_type": "code",
      "metadata": {
        "id": "jd8FrMer5IJU",
        "colab_type": "code",
        "colab": {}
      },
      "source": [
        "def get_Evaluation_matrics(preds, orig_test_labels):\n",
        "\n",
        "  # Get the confusion matrix\n",
        "  cm  = confusion_matrix(orig_test_labels, preds)\n",
        "  plt.figure()\n",
        "  plot_confusion_matrix(cm,figsize=(12,12), hide_ticks=True,cmap=plt.cm.Blues)\n",
        "  plt.xticks(range(5), ['DDoS', 'DoS', 'Reconnaissance', 'Normal', 'Theft'], fontsize=16)\n",
        "  plt.yticks(range(5), ['DDoS', 'DoS', 'Reconnaissance', 'Normal', 'Theft'], fontsize=16)\n",
        "  plt.show()\n",
        "\n",
        "  # Calculate Precision and Recall\n",
        "  report = classification_report(orig_test_labels, preds)\n",
        "\n",
        "  print('')\n",
        "  print('')\n",
        "  print('')\n",
        "  print(report)\n",
        "\n"
      ],
      "execution_count": 0,
      "outputs": []
    },
    {
      "cell_type": "markdown",
      "metadata": {
        "id": "--c2Tn6Y5eKf",
        "colab_type": "text"
      },
      "source": [
        "# **Model Prediction**"
      ]
    },
    {
      "cell_type": "code",
      "metadata": {
        "id": "sg1GO41w5mol",
        "colab_type": "code",
        "colab": {}
      },
      "source": [
        "def get_Model_prediction(model, test_data, test_labels):\n",
        "  import numpy as np\n",
        "\n",
        "  # # Evaluation on test dataset\n",
        "  # test_loss, test_score = model.evaluate(test_data, test_labels, batch_size=32)\n",
        "  # print(\"Loss on test set: \", test_loss)\n",
        "  # print(\"Accuracy on test set: \", test_score)\n",
        "  \n",
        "  preds = model.predict(test_data, batch_size=32)\n",
        "  preds = np.argmax(preds, axis=-1)\n",
        "\n",
        "  orig_test_labels = np.argmax(test_labels, axis=-1)\n",
        "\n",
        "  print(orig_test_labels)\n",
        "  print(preds)\n",
        "\n",
        "  return preds, orig_test_labels"
      ],
      "execution_count": 0,
      "outputs": []
    },
    {
      "cell_type": "markdown",
      "metadata": {
        "id": "1JV81wNM7ntI",
        "colab_type": "text"
      },
      "source": [
        "# **Model ROC and AUC value**"
      ]
    },
    {
      "cell_type": "code",
      "metadata": {
        "id": "5gj9qnKk8EQW",
        "colab_type": "code",
        "colab": {}
      },
      "source": [
        "def get_model_ROC_AUC_curve(model_pred, test_labels, label=None):\n",
        "    import numpy as np\n",
        "    from sklearn.metrics import roc_curve, auc\n",
        "\n",
        "    orig_test_labels = np.argmax(test_labels, axis=-1)\n",
        "\n",
        "    # Compute ROC curve and ROC area for each class\n",
        "    n_classes = test_labels.shape[1]\n",
        "    fpr = dict()\n",
        "    tpr = dict()\n",
        "    thresholds = dict()\n",
        "    roc_auc = dict()\n",
        "    for i in range(n_classes):\n",
        "        fpr[i], tpr[i], thresholds[i] = roc_curve(orig_test_labels[:, i], model_pred[:, i])\n",
        "        roc_auc[i] = auc(fpr[i], tpr[i])\n",
        "\n",
        "    # Plot of a ROC curve for a specific class\n",
        "    for i in range(n_classes):\n",
        "        plt.figure()\n",
        "        plt.plot(fpr[i], tpr[i], label='ROC curve (area = %0.2f)' % roc_auc[i])\n",
        "        plt.plot([0, 1], [0, 1], 'k--')\n",
        "        plt.xlim([0.0, 1.0])\n",
        "        plt.ylim([0.0, 1.05])\n",
        "        plt.xlabel('False Positive Rate')\n",
        "        plt.ylabel('True Positive Rate')\n",
        "        plt.title('Receiver operating characteristic')\n",
        "        plt.legend(loc=\"lower right\")\n",
        "        plt.show()\n",
        "\n",
        "\n",
        "\n",
        "\n",
        "\n",
        "\n",
        "\n",
        "\n",
        "\n",
        "\n",
        "\n",
        "\n",
        "    # fpr, tpr, thresholds = roc_curve(test_labels, model_pred)\n",
        "    # plt.plot(fpr, tpr, linewidth=2, label=label)\n",
        "    # plt.plot([0, 1], [0, 1], 'k--')\n",
        "    # plt.axis([0, 1, 0, 1])\n",
        "    # plt.xlabel('False Positive Rate')\n",
        "    # plt.ylabel('True Positive Rate')\n",
        "    # plt.title('ROC curve')\n",
        "\n",
        "    # auc_score = auc(fpr, tpr)\n",
        "    # print('AUC Score : ', auc_score)"
      ],
      "execution_count": 0,
      "outputs": []
    },
    {
      "cell_type": "markdown",
      "metadata": {
        "id": "EnSxSPFMdbDd",
        "colab_type": "text"
      },
      "source": [
        "# **Plotting Model Loss**"
      ]
    },
    {
      "cell_type": "code",
      "metadata": {
        "id": "-gT1-HR0dk8V",
        "colab_type": "code",
        "colab": {}
      },
      "source": [
        "def plot_Model_loss(History):\n",
        "  history_dict2 = History.history\n",
        "  loss_values2 = history_dict2['loss']\n",
        "  val_loss_values2 = history_dict2['val_loss']\n",
        "\n",
        "  epochs = range(1, 100 + 1)\n",
        "  plt.plot(epochs, loss_values2, 'b-', label='training loos')\n",
        "  plt.plot(epochs, val_loss_values2, 'r-', label='validation loss')\n",
        "  plt.title('trainin/validation loss')\n",
        "  plt.xlabel('Epochs')\n",
        "  plt.ylabel('Loss')\n",
        "  plt.legend()\n",
        "  plt.rcParams['axes.facecolor'] = 'white'\n",
        "  plt.rcParams['axes.edgecolor'] = 'white'\n",
        "  plt.rcParams['axes.grid'] = True\n",
        "  plt.rcParams['grid.alpha'] = 1\n",
        "  plt.rcParams['grid.color'] = \"#cccccc\"\n",
        "  plt.show()"
      ],
      "execution_count": 0,
      "outputs": []
    },
    {
      "cell_type": "markdown",
      "metadata": {
        "id": "X0UeWQbqdpg3",
        "colab_type": "text"
      },
      "source": [
        "# **Plotting Model Accuracy**"
      ]
    },
    {
      "cell_type": "code",
      "metadata": {
        "id": "CAkiZn2LduvF",
        "colab_type": "code",
        "colab": {}
      },
      "source": [
        "def plot_Model_Accuracy(History):\n",
        "  history_dict2 = History.history\n",
        "  acc_values2 = history_dict2['accuracy']\n",
        "  val_acc_values2 = history_dict2['val_accuracy']\n",
        "\n",
        "  epochs = range(1, 100 + 1)\n",
        "  plt.plot(epochs, acc_values2, 'b-', label='training Accuracy')\n",
        "  plt.plot(epochs, val_acc_values2, 'r-', label='validation Accuracy')\n",
        "  plt.title('trainin/validation Accuracy')\n",
        "  plt.xlabel('Epochs')\n",
        "  plt.ylabel('Accuracy')\n",
        "  plt.legend()\n",
        "  plt.rcParams['axes.facecolor'] = 'white'\n",
        "  plt.rcParams['axes.edgecolor'] = 'white'\n",
        "  plt.rcParams['axes.grid'] = True\n",
        "  plt.rcParams['grid.alpha'] = 1\n",
        "  plt.rcParams['grid.color'] = \"#cccccc\"\n",
        "  plt.show()"
      ],
      "execution_count": 0,
      "outputs": []
    },
    {
      "cell_type": "markdown",
      "metadata": {
        "id": "cCH87v3k43sk",
        "colab_type": "text"
      },
      "source": [
        "# **Model Building**"
      ]
    },
    {
      "cell_type": "code",
      "metadata": {
        "id": "BFkDw1fd5Abd",
        "colab_type": "code",
        "colab": {}
      },
      "source": [
        "#model to use\n",
        "# model = XGBClassifier()\n",
        "model = GradientBoostingClassifier(learning_rate= 0.4, random_state= 123, max_depth= 20)\n",
        "#model = DecisionTreeClassifier(random_state = 1)\n",
        "# model = RandomForestClassifier(random_state = 1)\n",
        "\n",
        "# fitting the model\n",
        "model.fit(train_data, train_labels)\n",
        "\n",
        "# predicting the model\n",
        "pred = model.predict(test_data)\n",
        "\n",
        "# print(y_valid)\n",
        "print(pred)\n",
        "\n",
        "get_Evaluation_matrics(pred, test_labels)\n",
        "acc = accuracy_score(pred, test_labels)\n",
        "precision = precision_score(pred, test_labels)\n",
        "recall = recall_score(pred, test_labels)\n",
        "\n",
        "print(acc)\n",
        "print(precision)\n",
        "print(recall)\n"
      ],
      "execution_count": 0,
      "outputs": []
    },
    {
      "cell_type": "markdown",
      "metadata": {
        "id": "vKHjtSZ4ffsy",
        "colab_type": "text"
      },
      "source": [
        "# **ANN**"
      ]
    },
    {
      "cell_type": "code",
      "metadata": {
        "id": "qBJadKgXLz2V",
        "colab_type": "code",
        "outputId": "0b21bd38-c386-429b-de95-c6bf7a7a994c",
        "colab": {
          "base_uri": "https://localhost:8080/",
          "height": 1000
        }
      },
      "source": [
        "from tensorflow.keras import models\n",
        "from tensorflow.keras import layers\n",
        "\n",
        "model = models.Sequential()\n",
        "model.add(layers.Dense(1024, input_shape = (7,), activation='relu'))\n",
        "model.add(layers.Dense(128, activation='relu'))\n",
        "model.add(layers.Dense(512, activation='relu'))\n",
        "model.add(layers.Dense(64, activation='relu'))\n",
        "model.add(layers.Dense(5, activation='softmax'))\n",
        "\n",
        "model.compile(optimizer='adam',\n",
        "              loss='categorical_crossentropy',\n",
        "              metrics=['accuracy'])\n",
        "\n",
        "model_history = model.fit(train_data,\n",
        "                          train_labels,\n",
        "                          epochs=100,\n",
        "                          batch_size=512,\n",
        "                          validation_data=(valid_data, valid_labels))\n"
      ],
      "execution_count": 12,
      "outputs": [
        {
          "output_type": "stream",
          "text": [
            "Epoch 1/100\n",
            "5733/5733 [==============================] - 29s 5ms/step - loss: 0.2271 - accuracy: 0.8957 - val_loss: 0.2094 - val_accuracy: 0.9001\n",
            "Epoch 2/100\n",
            "5733/5733 [==============================] - 28s 5ms/step - loss: 0.1827 - accuracy: 0.9139 - val_loss: 0.2491 - val_accuracy: 0.8811\n",
            "Epoch 3/100\n",
            "5733/5733 [==============================] - 28s 5ms/step - loss: 0.1707 - accuracy: 0.9191 - val_loss: 0.1625 - val_accuracy: 0.9207\n",
            "Epoch 4/100\n",
            "5733/5733 [==============================] - 28s 5ms/step - loss: 0.1634 - accuracy: 0.9222 - val_loss: 0.1569 - val_accuracy: 0.9218\n",
            "Epoch 5/100\n",
            "5733/5733 [==============================] - 28s 5ms/step - loss: 0.1596 - accuracy: 0.9236 - val_loss: 0.1785 - val_accuracy: 0.9076\n",
            "Epoch 6/100\n",
            "5733/5733 [==============================] - 28s 5ms/step - loss: 0.1536 - accuracy: 0.9258 - val_loss: 0.1676 - val_accuracy: 0.9185\n",
            "Epoch 7/100\n",
            "5733/5733 [==============================] - 29s 5ms/step - loss: 0.1506 - accuracy: 0.9272 - val_loss: 0.1365 - val_accuracy: 0.9346\n",
            "Epoch 8/100\n",
            "5733/5733 [==============================] - 29s 5ms/step - loss: 0.1532 - accuracy: 0.9276 - val_loss: 0.1344 - val_accuracy: 0.9346\n",
            "Epoch 9/100\n",
            "5733/5733 [==============================] - 28s 5ms/step - loss: 0.1461 - accuracy: 0.9290 - val_loss: 0.1339 - val_accuracy: 0.9331\n",
            "Epoch 10/100\n",
            "5733/5733 [==============================] - 29s 5ms/step - loss: 0.1437 - accuracy: 0.9302 - val_loss: 0.1991 - val_accuracy: 0.9126\n",
            "Epoch 11/100\n",
            "5733/5733 [==============================] - 28s 5ms/step - loss: 0.1475 - accuracy: 0.9311 - val_loss: 0.1285 - val_accuracy: 0.9370\n",
            "Epoch 12/100\n",
            "5733/5733 [==============================] - 28s 5ms/step - loss: 0.1410 - accuracy: 0.9312 - val_loss: 0.1304 - val_accuracy: 0.9347\n",
            "Epoch 13/100\n",
            "5733/5733 [==============================] - 28s 5ms/step - loss: 0.1402 - accuracy: 0.9316 - val_loss: 0.1339 - val_accuracy: 0.9357\n",
            "Epoch 14/100\n",
            "5733/5733 [==============================] - 28s 5ms/step - loss: 0.1378 - accuracy: 0.9324 - val_loss: 0.1860 - val_accuracy: 0.9207\n",
            "Epoch 15/100\n",
            "5733/5733 [==============================] - 28s 5ms/step - loss: 0.1403 - accuracy: 0.9316 - val_loss: 0.1334 - val_accuracy: 0.9354\n",
            "Epoch 16/100\n",
            "5733/5733 [==============================] - 28s 5ms/step - loss: 0.1356 - accuracy: 0.9332 - val_loss: 0.1210 - val_accuracy: 0.9375\n",
            "Epoch 17/100\n",
            "5733/5733 [==============================] - 28s 5ms/step - loss: 0.1314 - accuracy: 0.9347 - val_loss: 0.1240 - val_accuracy: 0.9385\n",
            "Epoch 18/100\n",
            "5733/5733 [==============================] - 29s 5ms/step - loss: 0.1308 - accuracy: 0.9348 - val_loss: 0.1440 - val_accuracy: 0.9311\n",
            "Epoch 19/100\n",
            "5733/5733 [==============================] - 29s 5ms/step - loss: 0.1307 - accuracy: 0.9347 - val_loss: 0.1571 - val_accuracy: 0.9248\n",
            "Epoch 20/100\n",
            "5733/5733 [==============================] - 28s 5ms/step - loss: 0.1328 - accuracy: 0.9337 - val_loss: 0.1601 - val_accuracy: 0.9260\n",
            "Epoch 21/100\n",
            "5733/5733 [==============================] - 29s 5ms/step - loss: 0.1345 - accuracy: 0.9346 - val_loss: 0.1177 - val_accuracy: 0.9397\n",
            "Epoch 22/100\n",
            "5733/5733 [==============================] - 28s 5ms/step - loss: 0.1272 - accuracy: 0.9357 - val_loss: 0.1245 - val_accuracy: 0.9393\n",
            "Epoch 23/100\n",
            "5733/5733 [==============================] - 28s 5ms/step - loss: 0.1328 - accuracy: 0.9344 - val_loss: 0.1344 - val_accuracy: 0.9324\n",
            "Epoch 24/100\n",
            "5733/5733 [==============================] - 28s 5ms/step - loss: 0.1292 - accuracy: 0.9361 - val_loss: 0.1358 - val_accuracy: 0.9284\n",
            "Epoch 25/100\n",
            "5733/5733 [==============================] - 28s 5ms/step - loss: 0.1274 - accuracy: 0.9360 - val_loss: 0.1743 - val_accuracy: 0.8904\n",
            "Epoch 26/100\n",
            "5733/5733 [==============================] - 28s 5ms/step - loss: 0.1241 - accuracy: 0.9371 - val_loss: 0.1097 - val_accuracy: 0.9394\n",
            "Epoch 27/100\n",
            "5733/5733 [==============================] - 28s 5ms/step - loss: 0.1267 - accuracy: 0.9358 - val_loss: 0.1280 - val_accuracy: 0.9366\n",
            "Epoch 28/100\n",
            "5733/5733 [==============================] - 28s 5ms/step - loss: 0.1286 - accuracy: 0.9356 - val_loss: 0.1551 - val_accuracy: 0.9279\n",
            "Epoch 29/100\n",
            "5733/5733 [==============================] - 29s 5ms/step - loss: 0.1228 - accuracy: 0.9387 - val_loss: 0.1578 - val_accuracy: 0.9035\n",
            "Epoch 30/100\n",
            "5733/5733 [==============================] - 29s 5ms/step - loss: 0.1173 - accuracy: 0.9422 - val_loss: 0.1371 - val_accuracy: 0.9365\n",
            "Epoch 31/100\n",
            "5733/5733 [==============================] - 28s 5ms/step - loss: 0.1144 - accuracy: 0.9442 - val_loss: 0.1311 - val_accuracy: 0.9167\n",
            "Epoch 32/100\n",
            "5733/5733 [==============================] - 29s 5ms/step - loss: 0.1101 - accuracy: 0.9476 - val_loss: 0.1312 - val_accuracy: 0.9179\n",
            "Epoch 33/100\n",
            "5733/5733 [==============================] - 28s 5ms/step - loss: 0.1051 - accuracy: 0.9512 - val_loss: 0.0923 - val_accuracy: 0.9450\n",
            "Epoch 34/100\n",
            "5733/5733 [==============================] - 28s 5ms/step - loss: 0.1048 - accuracy: 0.9519 - val_loss: 0.1181 - val_accuracy: 0.9348\n",
            "Epoch 35/100\n",
            "5733/5733 [==============================] - 28s 5ms/step - loss: 0.1067 - accuracy: 0.9503 - val_loss: 0.1018 - val_accuracy: 0.9342\n",
            "Epoch 36/100\n",
            "5733/5733 [==============================] - 28s 5ms/step - loss: 0.1027 - accuracy: 0.9554 - val_loss: 0.1028 - val_accuracy: 0.9325\n",
            "Epoch 37/100\n",
            "5733/5733 [==============================] - 28s 5ms/step - loss: 0.0964 - accuracy: 0.9567 - val_loss: 0.2438 - val_accuracy: 0.9373\n",
            "Epoch 38/100\n",
            "5733/5733 [==============================] - 28s 5ms/step - loss: 0.0976 - accuracy: 0.9565 - val_loss: 0.0870 - val_accuracy: 0.9583\n",
            "Epoch 39/100\n",
            "5733/5733 [==============================] - 28s 5ms/step - loss: 0.0965 - accuracy: 0.9572 - val_loss: 0.1010 - val_accuracy: 0.9432\n",
            "Epoch 40/100\n",
            "5733/5733 [==============================] - 28s 5ms/step - loss: 0.0983 - accuracy: 0.9567 - val_loss: 0.1037 - val_accuracy: 0.9453\n",
            "Epoch 41/100\n",
            "5733/5733 [==============================] - 29s 5ms/step - loss: 0.0966 - accuracy: 0.9571 - val_loss: 0.0791 - val_accuracy: 0.9606\n",
            "Epoch 42/100\n",
            "5733/5733 [==============================] - 28s 5ms/step - loss: 0.0992 - accuracy: 0.9584 - val_loss: 0.3839 - val_accuracy: 0.8943\n",
            "Epoch 43/100\n",
            "5733/5733 [==============================] - 29s 5ms/step - loss: 0.1181 - accuracy: 0.9501 - val_loss: 0.1290 - val_accuracy: 0.9241\n",
            "Epoch 44/100\n",
            "5733/5733 [==============================] - 28s 5ms/step - loss: 0.0988 - accuracy: 0.9562 - val_loss: 0.1494 - val_accuracy: 0.9422\n",
            "Epoch 45/100\n",
            "5733/5733 [==============================] - 28s 5ms/step - loss: 0.0943 - accuracy: 0.9583 - val_loss: 0.1074 - val_accuracy: 0.9441\n",
            "Epoch 46/100\n",
            "5733/5733 [==============================] - 28s 5ms/step - loss: 0.0938 - accuracy: 0.9585 - val_loss: 0.0842 - val_accuracy: 0.9580\n",
            "Epoch 47/100\n",
            "5733/5733 [==============================] - 28s 5ms/step - loss: 0.0929 - accuracy: 0.9595 - val_loss: 0.1930 - val_accuracy: 0.9217\n",
            "Epoch 48/100\n",
            "5733/5733 [==============================] - 28s 5ms/step - loss: 0.0926 - accuracy: 0.9594 - val_loss: 0.1199 - val_accuracy: 0.9375\n",
            "Epoch 49/100\n",
            "5733/5733 [==============================] - 28s 5ms/step - loss: 0.0980 - accuracy: 0.9593 - val_loss: 0.0959 - val_accuracy: 0.9606\n",
            "Epoch 50/100\n",
            "5733/5733 [==============================] - 28s 5ms/step - loss: 0.0927 - accuracy: 0.9597 - val_loss: 0.0832 - val_accuracy: 0.9575\n",
            "Epoch 51/100\n",
            "5733/5733 [==============================] - 28s 5ms/step - loss: 0.0966 - accuracy: 0.9582 - val_loss: 0.1027 - val_accuracy: 0.9411\n",
            "Epoch 52/100\n",
            "5733/5733 [==============================] - 29s 5ms/step - loss: 0.0921 - accuracy: 0.9592 - val_loss: 0.1125 - val_accuracy: 0.9378\n",
            "Epoch 53/100\n",
            "5733/5733 [==============================] - 28s 5ms/step - loss: 0.0903 - accuracy: 0.9599 - val_loss: 0.0862 - val_accuracy: 0.9682\n",
            "Epoch 54/100\n",
            "5733/5733 [==============================] - 28s 5ms/step - loss: 0.0922 - accuracy: 0.9597 - val_loss: 0.1626 - val_accuracy: 0.9231\n",
            "Epoch 55/100\n",
            "5733/5733 [==============================] - 28s 5ms/step - loss: 0.1024 - accuracy: 0.9597 - val_loss: 0.1359 - val_accuracy: 0.9496\n",
            "Epoch 56/100\n",
            "5733/5733 [==============================] - 28s 5ms/step - loss: 0.0939 - accuracy: 0.9587 - val_loss: 0.0838 - val_accuracy: 0.9670\n",
            "Epoch 57/100\n",
            "5733/5733 [==============================] - 28s 5ms/step - loss: 0.0935 - accuracy: 0.9588 - val_loss: 0.0978 - val_accuracy: 0.9398\n",
            "Epoch 58/100\n",
            "5733/5733 [==============================] - 28s 5ms/step - loss: 0.0916 - accuracy: 0.9599 - val_loss: 0.0901 - val_accuracy: 0.9626\n",
            "Epoch 59/100\n",
            "5733/5733 [==============================] - 28s 5ms/step - loss: 0.0958 - accuracy: 0.9610 - val_loss: 0.1689 - val_accuracy: 0.9294\n",
            "Epoch 60/100\n",
            "5733/5733 [==============================] - 28s 5ms/step - loss: 0.0936 - accuracy: 0.9604 - val_loss: 0.1017 - val_accuracy: 0.9558\n",
            "Epoch 61/100\n",
            "5733/5733 [==============================] - 28s 5ms/step - loss: 0.0892 - accuracy: 0.9603 - val_loss: 0.1383 - val_accuracy: 0.9258\n",
            "Epoch 62/100\n",
            "5733/5733 [==============================] - 28s 5ms/step - loss: 0.0883 - accuracy: 0.9609 - val_loss: 0.1406 - val_accuracy: 0.9478\n",
            "Epoch 63/100\n",
            "5733/5733 [==============================] - 29s 5ms/step - loss: 0.0918 - accuracy: 0.9592 - val_loss: 0.0812 - val_accuracy: 0.9683\n",
            "Epoch 64/100\n",
            "5733/5733 [==============================] - 28s 5ms/step - loss: 0.0862 - accuracy: 0.9614 - val_loss: 0.1339 - val_accuracy: 0.9268\n",
            "Epoch 65/100\n",
            "5733/5733 [==============================] - 28s 5ms/step - loss: 0.1019 - accuracy: 0.9602 - val_loss: 0.0870 - val_accuracy: 0.9674\n",
            "Epoch 66/100\n",
            "5733/5733 [==============================] - 28s 5ms/step - loss: 0.0876 - accuracy: 0.9608 - val_loss: 0.1610 - val_accuracy: 0.9233\n",
            "Epoch 67/100\n",
            "5733/5733 [==============================] - 28s 5ms/step - loss: 0.0881 - accuracy: 0.9613 - val_loss: 0.0863 - val_accuracy: 0.9694\n",
            "Epoch 68/100\n",
            "5733/5733 [==============================] - 28s 5ms/step - loss: 0.0856 - accuracy: 0.9618 - val_loss: 0.0785 - val_accuracy: 0.9613\n",
            "Epoch 69/100\n",
            "5733/5733 [==============================] - 28s 5ms/step - loss: 0.0862 - accuracy: 0.9614 - val_loss: 0.0850 - val_accuracy: 0.9607\n",
            "Epoch 70/100\n",
            "5733/5733 [==============================] - 28s 5ms/step - loss: 0.0862 - accuracy: 0.9613 - val_loss: 0.0826 - val_accuracy: 0.9673\n",
            "Epoch 71/100\n",
            "5733/5733 [==============================] - 28s 5ms/step - loss: 0.0898 - accuracy: 0.9604 - val_loss: 0.0754 - val_accuracy: 0.9615\n",
            "Epoch 72/100\n",
            "5733/5733 [==============================] - 28s 5ms/step - loss: 0.0893 - accuracy: 0.9603 - val_loss: 0.1997 - val_accuracy: 0.9231\n",
            "Epoch 73/100\n",
            "5733/5733 [==============================] - 28s 5ms/step - loss: 0.0891 - accuracy: 0.9608 - val_loss: 0.1055 - val_accuracy: 0.9682\n",
            "Epoch 74/100\n",
            "5733/5733 [==============================] - 29s 5ms/step - loss: 0.0856 - accuracy: 0.9618 - val_loss: 0.0746 - val_accuracy: 0.9613\n",
            "Epoch 75/100\n",
            "5733/5733 [==============================] - 28s 5ms/step - loss: 0.0856 - accuracy: 0.9620 - val_loss: 0.0751 - val_accuracy: 0.9607\n",
            "Epoch 76/100\n",
            "5733/5733 [==============================] - 28s 5ms/step - loss: 0.0862 - accuracy: 0.9615 - val_loss: 0.0804 - val_accuracy: 0.9639\n",
            "Epoch 77/100\n",
            "5733/5733 [==============================] - 28s 5ms/step - loss: 0.0862 - accuracy: 0.9616 - val_loss: 0.0811 - val_accuracy: 0.9688\n",
            "Epoch 78/100\n",
            "5733/5733 [==============================] - 28s 5ms/step - loss: 0.0846 - accuracy: 0.9623 - val_loss: 0.0750 - val_accuracy: 0.9609\n",
            "Epoch 79/100\n",
            "5733/5733 [==============================] - 28s 5ms/step - loss: 0.0841 - accuracy: 0.9625 - val_loss: 0.0774 - val_accuracy: 0.9639\n",
            "Epoch 80/100\n",
            "5733/5733 [==============================] - 28s 5ms/step - loss: 0.0851 - accuracy: 0.9622 - val_loss: 0.1028 - val_accuracy: 0.9652\n",
            "Epoch 81/100\n",
            "5733/5733 [==============================] - 28s 5ms/step - loss: 0.0829 - accuracy: 0.9626 - val_loss: 0.0932 - val_accuracy: 0.9655\n",
            "Epoch 82/100\n",
            "5733/5733 [==============================] - 28s 5ms/step - loss: 0.0882 - accuracy: 0.9611 - val_loss: 0.0833 - val_accuracy: 0.9668\n",
            "Epoch 83/100\n",
            "5733/5733 [==============================] - 28s 5ms/step - loss: 0.0885 - accuracy: 0.9609 - val_loss: 0.1336 - val_accuracy: 0.9424\n",
            "Epoch 84/100\n",
            "5733/5733 [==============================] - 28s 5ms/step - loss: 0.0838 - accuracy: 0.9624 - val_loss: 0.0715 - val_accuracy: 0.9621\n",
            "Epoch 85/100\n",
            "5733/5733 [==============================] - 29s 5ms/step - loss: 0.0848 - accuracy: 0.9616 - val_loss: 0.1123 - val_accuracy: 0.9527\n",
            "Epoch 86/100\n",
            "5733/5733 [==============================] - 28s 5ms/step - loss: 0.0878 - accuracy: 0.9607 - val_loss: 0.0754 - val_accuracy: 0.9622\n",
            "Epoch 87/100\n",
            "5733/5733 [==============================] - 28s 5ms/step - loss: 0.1048 - accuracy: 0.9620 - val_loss: 0.2226 - val_accuracy: 0.9196\n",
            "Epoch 88/100\n",
            "5733/5733 [==============================] - 28s 5ms/step - loss: 0.0844 - accuracy: 0.9620 - val_loss: 0.0986 - val_accuracy: 0.9671\n",
            "Epoch 89/100\n",
            "5733/5733 [==============================] - 28s 5ms/step - loss: 0.0829 - accuracy: 0.9627 - val_loss: 0.1142 - val_accuracy: 0.9447\n",
            "Epoch 90/100\n",
            "5733/5733 [==============================] - 28s 5ms/step - loss: 0.0822 - accuracy: 0.9632 - val_loss: 0.0748 - val_accuracy: 0.9603\n",
            "Epoch 91/100\n",
            "5733/5733 [==============================] - 28s 5ms/step - loss: 0.0816 - accuracy: 0.9632 - val_loss: 0.0745 - val_accuracy: 0.9616\n",
            "Epoch 92/100\n",
            "5733/5733 [==============================] - 28s 5ms/step - loss: 0.0819 - accuracy: 0.9631 - val_loss: 0.0730 - val_accuracy: 0.9650\n",
            "Epoch 93/100\n",
            "5733/5733 [==============================] - 28s 5ms/step - loss: 0.0809 - accuracy: 0.9634 - val_loss: 0.0871 - val_accuracy: 0.9707\n",
            "Epoch 94/100\n",
            "5733/5733 [==============================] - 28s 5ms/step - loss: 0.0818 - accuracy: 0.9628 - val_loss: 0.1061 - val_accuracy: 0.9606\n",
            "Epoch 95/100\n",
            "5733/5733 [==============================] - 28s 5ms/step - loss: 0.0813 - accuracy: 0.9631 - val_loss: 0.4878 - val_accuracy: 0.9074\n",
            "Epoch 96/100\n",
            "5733/5733 [==============================] - 29s 5ms/step - loss: 0.0855 - accuracy: 0.9613 - val_loss: 0.0801 - val_accuracy: 0.9675\n",
            "Epoch 97/100\n",
            "5733/5733 [==============================] - 29s 5ms/step - loss: 0.1195 - accuracy: 0.9621 - val_loss: 0.0836 - val_accuracy: 0.9700\n",
            "Epoch 98/100\n",
            "5733/5733 [==============================] - 28s 5ms/step - loss: 0.0885 - accuracy: 0.9632 - val_loss: 0.1682 - val_accuracy: 0.9324\n",
            "Epoch 99/100\n",
            "5733/5733 [==============================] - 28s 5ms/step - loss: 0.0843 - accuracy: 0.9633 - val_loss: 0.0909 - val_accuracy: 0.9628\n",
            "Epoch 100/100\n",
            "5733/5733 [==============================] - 28s 5ms/step - loss: 0.0827 - accuracy: 0.9624 - val_loss: 0.0763 - val_accuracy: 0.9657\n"
          ],
          "name": "stdout"
        }
      ]
    },
    {
      "cell_type": "code",
      "metadata": {
        "id": "sJTDuBlk5V3A",
        "colab_type": "code",
        "outputId": "96e395ca-1bcb-4163-b174-17aba2d412a8",
        "colab": {
          "base_uri": "https://localhost:8080/",
          "height": 294
        }
      },
      "source": [
        "# plotting the the training accuracy\n",
        "plot_Model_Accuracy(model_history)"
      ],
      "execution_count": 13,
      "outputs": [
        {
          "output_type": "display_data",
          "data": {
            "image/png": "[encoded data removed]",
            "text/plain": [
              "<Figure size 432x288 with 1 Axes>"
            ]
          },
          "metadata": {
            "tags": [],
            "needs_background": "light"
          }
        }
      ]
    },
    {
      "cell_type": "code",
      "metadata": {
        "id": "LC6RebaM5ast",
        "colab_type": "code",
        "outputId": "38a0d238-9424-4656-82a0-c318e462f76e",
        "colab": {
          "base_uri": "https://localhost:8080/",
          "height": 294
        }
      },
      "source": [
        "# plotting the the training loss\n",
        "plot_Model_loss(model_history)"
      ],
      "execution_count": 14,
      "outputs": [
        {
          "output_type": "display_data",
          "data": {
            "image/png": "[encoded data removed]",
            "text/plain": [
              "<Figure size 432x288 with 1 Axes>"
            ]
          },
          "metadata": {
            "tags": [],
            "needs_background": "light"
          }
        }
      ]
    },
    {
      "cell_type": "code",
      "metadata": {
        "id": "Oye08sGa5y1c",
        "colab_type": "code",
        "outputId": "dd6f7806-fc5a-4568-cab8-09d73287da34",
        "colab": {
          "base_uri": "https://localhost:8080/",
          "height": 1000
        }
      },
      "source": [
        "# Evaluating my model using CM, precsion, and recal\n",
        "preds, original_test_labels = get_Model_prediction(model, test_data, test_labels)\n",
        "get_Evaluation_matrics(preds, original_test_labels)"
      ],
      "execution_count": 15,
      "outputs": [
        {
          "output_type": "stream",
          "text": [
            "[1 0 0 ... 1 0 1]\n",
            "[1 0 0 ... 1 0 1]\n"
          ],
          "name": "stdout"
        },
        {
          "output_type": "display_data",
          "data": {
            "text/plain": [
              "<Figure size 432x288 with 0 Axes>"
            ]
          },
          "metadata": {
            "tags": []
          }
        },
        {
          "output_type": "display_data",
          "data": {
            "image/png": "[encoded data removed]",
            "text/plain": [
              "<Figure size 864x864 with 1 Axes>"
            ]
          },
          "metadata": {
            "tags": [],
            "needs_background": "light"
          }
        },
        {
          "output_type": "stream",
          "text": [
            "\n",
            "\n",
            "\n",
            "              precision    recall  f1-score   support\n",
            "\n",
            "           0       0.99      0.95      0.97    289145\n",
            "           1       0.94      0.99      0.96    247442\n",
            "           2       0.71      0.63      0.67        81\n",
            "           3       1.00      0.99      0.99     13597\n",
            "           4       1.00      0.23      0.38        13\n",
            "\n",
            "    accuracy                           0.97    550278\n",
            "   macro avg       0.93      0.76      0.79    550278\n",
            "weighted avg       0.97      0.97      0.97    550278\n",
            "\n"
          ],
          "name": "stdout"
        }
      ]
    },
    {
      "cell_type": "code",
      "metadata": {
        "id": "9LU-7zbt54QM",
        "colab_type": "code",
        "colab": {}
      },
      "source": [
        "# plotting the AUC for all my classes\n",
        "get_model_ROC_AUC_curve(preds, test_labels)"
      ],
      "execution_count": 0,
      "outputs": []
    },
    {
      "cell_type": "code",
      "metadata": {
        "id": "yN2O6s45JRIZ",
        "colab_type": "code",
        "colab": {}
      },
      "source": [
        "import sys\n",
        "import scipy\n",
        "import numpy\n",
        "import matplotlib\n",
        "import pandas\n",
        "import sklearn\n",
        "\n",
        "import numpy as np\n",
        "from sklearn.neighbors import KNeighborsClassifier\n",
        "from sklearn.svm import SVC\n",
        "from sklearn import model_selection\n",
        "from sklearn.metrics import classification_report\n",
        "from sklearn.metrics import accuracy_score\n",
        "from pandas.plotting import scatter_matrix\n",
        "import matplotlib.pyplot as plt\n",
        "import pandas as pd\n",
        "from sklearn import preprocessing"
      ],
      "execution_count": 0,
      "outputs": []
    },
    {
      "cell_type": "code",
      "metadata": {
        "id": "xMrpiPNjIxPY",
        "colab_type": "code",
        "outputId": "61318733-416e-4c2a-e23c-2c7e8c5a3ac8",
        "colab": {
          "base_uri": "https://localhost:8080/",
          "height": 72
        }
      },
      "source": [
        "# Testing Options\n",
        "seed = 8\n",
        "scoring = 'accuracy'\n",
        "\n",
        "# Define models to train\n",
        "models = []\n",
        "models.append(('KNN', KNeighborsClassifier(n_neighbors = 5)))\n",
        "models.append(('SVM', SVC()))\n",
        "\n",
        "# evaluate each model in turn\n",
        "results = []\n",
        "names = []\n",
        "\n",
        "for name, model in models:\n",
        "    kfold = model_selection.KFold(n_splits=10, random_state = seed)\n",
        "    cv_results = model_selection.cross_val_score(model, train_data, train_labels, cv=kfold, scoring=scoring)\n",
        "    results.append(cv_results)\n",
        "    names.append(name)\n",
        "    msg = \"%s: %f (%f)\" % (name, cv_results.mean(), cv_results.std())\n",
        "    print(msg)"
      ],
      "execution_count": 0,
      "outputs": [
        {
          "output_type": "stream",
          "text": [
            "/usr/local/lib/python3.6/dist-packages/sklearn/model_selection/_split.py:296: FutureWarning: Setting a random_state has no effect since shuffle is False. This will raise an error in 0.24. You should leave random_state to its default (None), or set shuffle=True.\n",
            "  FutureWarning\n"
          ],
          "name": "stderr"
        }
      ]
    },
    {
      "cell_type": "code",
      "metadata": {
        "id": "g4lzg08fJmcJ",
        "colab_type": "code",
        "colab": {}
      },
      "source": [
        "# Make predictions on validation dataset\n",
        "\n",
        "for name, model in models:\n",
        "    model.fit(train_data, train_labels)\n",
        "    predictions = model.predict(test_data)\n",
        "    print(name)\n",
        "    print(accuracy_score(test_labels, predictions))\n",
        "    print(classification_report(y_test, predictions))"
      ],
      "execution_count": 0,
      "outputs": []
    }
  ]
}