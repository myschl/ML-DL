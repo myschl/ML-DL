{
  "nbformat": 4,
  "nbformat_minor": 0,
  "metadata": {
    "colab": {
      "name": "Cyber Attack Classification .ipynb",
      "provenance": [],
      "machine_shape": "hm",
      "mount_file_id": "1cBMIhzAD9TG7Gi6gojtL1pNBoHTYdiLE",
      "authorship_tag": "ABX9TyM4XkrEKfri+odBYBstVEfW",
      "include_colab_link": true
    },
    "kernelspec": {
      "name": "python3",
      "display_name": "Python 3"
    },
    "accelerator": "GPU"
  },
  "cells": [
    {
      "cell_type": "markdown",
      "metadata": {
        "id": "view-in-github",
        "colab_type": "text"
      },
      "source": [
        "<a href=\"https://colab.research.google.com/github/myschl/ML-DL/blob/master/Cyber_Attack_Classification_.ipynb\" target=\"_parent\"><img src=\"https://colab.research.google.com/assets/colab-badge.svg\" alt=\"Open In Colab\"/></a>"
      ]
    },
    {
      "cell_type": "markdown",
      "metadata": {
        "id": "NDM8xHwl35JV",
        "colab_type": "text"
      },
      "source": [
        "# **Libraries to be use**"
      ]
    },
    {
      "cell_type": "code",
      "metadata": {
        "id": "wEWtBugc3fFR",
        "colab_type": "code",
        "outputId": "779ddb8b-8405-490a-97fe-5fd75cdc3b23",
        "colab": {
          "base_uri": "https://localhost:8080/",
          "height": 34
        }
      },
      "source": [
        "from sklearn.model_selection import train_test_split\n",
        "from sklearn.ensemble import RandomForestClassifier\n",
        "from sklearn.linear_model import SGDClassifier\n",
        "from sklearn.metrics import accuracy_score, confusion_matrix, precision_score, recall_score\n",
        "import matplotlib.pyplot as plt\n",
        "from sklearn.preprocessing import StandardScaler\n",
        "from xgboost import XGBClassifier\n",
        "import pandas as pd\n",
        "from sklearn.impute import SimpleImputer\n",
        "from sklearn.preprocessing import OneHotEncoder\n",
        "from sklearn.preprocessing import LabelEncoder\n",
        "from sklearn.model_selection import cross_val_score, cross_val_predict\n",
        "from mlxtend.plotting import plot_confusion_matrix\n",
        "from sklearn.metrics import confusion_matrix, accuracy_score, f1_score, precision_score, recall_score\n",
        "from keras.utils import to_categorical\n",
        "\n",
        "# %tensorflow_version 1.x"
      ],
      "execution_count": 0,
      "outputs": [
        {
          "output_type": "stream",
          "text": [
            "Using TensorFlow backend.\n"
          ],
          "name": "stderr"
        }
      ]
    },
    {
      "cell_type": "markdown",
      "metadata": {
        "id": "oRIPB63x4eH8",
        "colab_type": "text"
      },
      "source": [
        "# **Getting the data**"
      ]
    },
    {
      "cell_type": "code",
      "metadata": {
        "id": "1q--j5E5QN4G",
        "colab_type": "code",
        "outputId": "4b570346-67e5-428d-f7d9-b53f68bf01ae",
        "colab": {
          "base_uri": "https://localhost:8080/",
          "height": 34
        }
      },
      "source": [
        "from zipfile import ZipFile\n",
        "file_name = '/content/drive/My Drive/SS_Thesis/10-best Training-Testing split.zip'\n",
        "with ZipFile(file_name, 'r') as zip:\n",
        "  zip.extractall()\n",
        "  print(\"Done\")\n"
      ],
      "execution_count": 0,
      "outputs": [
        {
          "output_type": "stream",
          "text": [
            "Done\n"
          ],
          "name": "stdout"
        }
      ]
    },
    {
      "cell_type": "code",
      "metadata": {
        "id": "IfQXZc2nQjXj",
        "colab_type": "code",
        "outputId": "7913b6de-9315-4e28-f203-8f9a9ad00ceb",
        "colab": {
          "base_uri": "https://localhost:8080/",
          "height": 217
        }
      },
      "source": [
        "train = pd.read_csv('/content/10-best Training-Testing split/UNSW_2018_IoT_Botnet_Final_10_best_Training.csv')\n",
        "test = pd.read_csv('/content/10-best Training-Testing split/UNSW_2018_IoT_Botnet_Final_10_best_Testing.csv')\n",
        "\n",
        "train.head()\n"
      ],
      "execution_count": 0,
      "outputs": [
        {
          "output_type": "execute_result",
          "data": {
            "text/html": [
              "<div>\n",
              "<style scoped>\n",
              "    .dataframe tbody tr th:only-of-type {\n",
              "        vertical-align: middle;\n",
              "    }\n",
              "\n",
              "    .dataframe tbody tr th {\n",
              "        vertical-align: top;\n",
              "    }\n",
              "\n",
              "    .dataframe thead th {\n",
              "        text-align: right;\n",
              "    }\n",
              "</style>\n",
              "<table border=\"1\" class=\"dataframe\">\n",
              "  <thead>\n",
              "    <tr style=\"text-align: right;\">\n",
              "      <th></th>\n",
              "      <th>pkSeqID</th>\n",
              "      <th>proto</th>\n",
              "      <th>saddr</th>\n",
              "      <th>sport</th>\n",
              "      <th>daddr</th>\n",
              "      <th>dport</th>\n",
              "      <th>seq</th>\n",
              "      <th>stddev</th>\n",
              "      <th>N_IN_Conn_P_SrcIP</th>\n",
              "      <th>min</th>\n",
              "      <th>state_number</th>\n",
              "      <th>mean</th>\n",
              "      <th>N_IN_Conn_P_DstIP</th>\n",
              "      <th>drate</th>\n",
              "      <th>srate</th>\n",
              "      <th>max</th>\n",
              "      <th>attack</th>\n",
              "      <th>category</th>\n",
              "      <th>subcategory</th>\n",
              "    </tr>\n",
              "  </thead>\n",
              "  <tbody>\n",
              "    <tr>\n",
              "      <th>0</th>\n",
              "      <td>3142762</td>\n",
              "      <td>udp</td>\n",
              "      <td>192.168.100.150</td>\n",
              "      <td>6551</td>\n",
              "      <td>192.168.100.3</td>\n",
              "      <td>80</td>\n",
              "      <td>251984</td>\n",
              "      <td>1.900363</td>\n",
              "      <td>100</td>\n",
              "      <td>0.000000</td>\n",
              "      <td>4</td>\n",
              "      <td>2.687519</td>\n",
              "      <td>100</td>\n",
              "      <td>0.0</td>\n",
              "      <td>0.494549</td>\n",
              "      <td>4.031619</td>\n",
              "      <td>1</td>\n",
              "      <td>DDoS</td>\n",
              "      <td>UDP</td>\n",
              "    </tr>\n",
              "    <tr>\n",
              "      <th>1</th>\n",
              "      <td>2432264</td>\n",
              "      <td>tcp</td>\n",
              "      <td>192.168.100.150</td>\n",
              "      <td>5532</td>\n",
              "      <td>192.168.100.3</td>\n",
              "      <td>80</td>\n",
              "      <td>256724</td>\n",
              "      <td>0.078003</td>\n",
              "      <td>38</td>\n",
              "      <td>3.856930</td>\n",
              "      <td>3</td>\n",
              "      <td>3.934927</td>\n",
              "      <td>100</td>\n",
              "      <td>0.0</td>\n",
              "      <td>0.256493</td>\n",
              "      <td>4.012924</td>\n",
              "      <td>1</td>\n",
              "      <td>DDoS</td>\n",
              "      <td>TCP</td>\n",
              "    </tr>\n",
              "    <tr>\n",
              "      <th>2</th>\n",
              "      <td>1976315</td>\n",
              "      <td>tcp</td>\n",
              "      <td>192.168.100.147</td>\n",
              "      <td>27165</td>\n",
              "      <td>192.168.100.3</td>\n",
              "      <td>80</td>\n",
              "      <td>62921</td>\n",
              "      <td>0.268666</td>\n",
              "      <td>100</td>\n",
              "      <td>2.974100</td>\n",
              "      <td>3</td>\n",
              "      <td>3.341429</td>\n",
              "      <td>100</td>\n",
              "      <td>0.0</td>\n",
              "      <td>0.294880</td>\n",
              "      <td>3.609205</td>\n",
              "      <td>1</td>\n",
              "      <td>DDoS</td>\n",
              "      <td>TCP</td>\n",
              "    </tr>\n",
              "    <tr>\n",
              "      <th>3</th>\n",
              "      <td>1240757</td>\n",
              "      <td>udp</td>\n",
              "      <td>192.168.100.150</td>\n",
              "      <td>48719</td>\n",
              "      <td>192.168.100.3</td>\n",
              "      <td>80</td>\n",
              "      <td>99168</td>\n",
              "      <td>1.823185</td>\n",
              "      <td>63</td>\n",
              "      <td>0.000000</td>\n",
              "      <td>4</td>\n",
              "      <td>3.222832</td>\n",
              "      <td>63</td>\n",
              "      <td>0.0</td>\n",
              "      <td>0.461435</td>\n",
              "      <td>4.942302</td>\n",
              "      <td>1</td>\n",
              "      <td>DoS</td>\n",
              "      <td>UDP</td>\n",
              "    </tr>\n",
              "    <tr>\n",
              "      <th>4</th>\n",
              "      <td>3257991</td>\n",
              "      <td>udp</td>\n",
              "      <td>192.168.100.147</td>\n",
              "      <td>22461</td>\n",
              "      <td>192.168.100.3</td>\n",
              "      <td>80</td>\n",
              "      <td>105063</td>\n",
              "      <td>0.822418</td>\n",
              "      <td>100</td>\n",
              "      <td>2.979995</td>\n",
              "      <td>4</td>\n",
              "      <td>3.983222</td>\n",
              "      <td>100</td>\n",
              "      <td>0.0</td>\n",
              "      <td>1.002999</td>\n",
              "      <td>4.994452</td>\n",
              "      <td>1</td>\n",
              "      <td>DDoS</td>\n",
              "      <td>UDP</td>\n",
              "    </tr>\n",
              "  </tbody>\n",
              "</table>\n",
              "</div>"
            ],
            "text/plain": [
              "   pkSeqID proto            saddr  sport  ...       max attack  category  subcategory\n",
              "0  3142762   udp  192.168.100.150   6551  ...  4.031619      1      DDoS          UDP\n",
              "1  2432264   tcp  192.168.100.150   5532  ...  4.012924      1      DDoS          TCP\n",
              "2  1976315   tcp  192.168.100.147  27165  ...  3.609205      1      DDoS          TCP\n",
              "3  1240757   udp  192.168.100.150  48719  ...  4.942302      1       DoS          UDP\n",
              "4  3257991   udp  192.168.100.147  22461  ...  4.994452      1      DDoS          UDP\n",
              "\n",
              "[5 rows x 19 columns]"
            ]
          },
          "metadata": {
            "tags": []
          },
          "execution_count": 3
        }
      ]
    },
    {
      "cell_type": "code",
      "metadata": {
        "id": "Xe3rJfxLbpKJ",
        "colab_type": "code",
        "outputId": "eec33017-e626-4b73-ab4d-7da8efcc1758",
        "colab": {
          "base_uri": "https://localhost:8080/",
          "height": 87
        }
      },
      "source": [
        "train.columns"
      ],
      "execution_count": 0,
      "outputs": [
        {
          "output_type": "execute_result",
          "data": {
            "text/plain": [
              "Index(['pkSeqID', 'proto', 'saddr', 'sport', 'daddr', 'dport', 'seq', 'stddev',\n",
              "       'N_IN_Conn_P_SrcIP', 'min', 'state_number', 'mean', 'N_IN_Conn_P_DstIP',\n",
              "       'drate', 'srate', 'max', 'attack', 'category', 'subcategory'],\n",
              "      dtype='object')"
            ]
          },
          "metadata": {
            "tags": []
          },
          "execution_count": 13
        }
      ]
    },
    {
      "cell_type": "code",
      "metadata": {
        "id": "e5jff0B-0sNS",
        "colab_type": "code",
        "outputId": "faa0fb71-4040-4a5d-c588-9a3ddeee2280",
        "colab": {
          "base_uri": "https://localhost:8080/",
          "height": 87
        }
      },
      "source": [
        "test.columns"
      ],
      "execution_count": 0,
      "outputs": [
        {
          "output_type": "execute_result",
          "data": {
            "text/plain": [
              "Index(['pkSeqID', 'proto', 'saddr', 'sport', 'daddr', 'dport', 'seq', 'stddev',\n",
              "       'N_IN_Conn_P_SrcIP', 'min', 'state_number', 'mean', 'N_IN_Conn_P_DstIP',\n",
              "       'drate', 'srate', 'max', 'attack', 'category', 'subcategory'],\n",
              "      dtype='object')"
            ]
          },
          "metadata": {
            "tags": []
          },
          "execution_count": 14
        }
      ]
    },
    {
      "cell_type": "code",
      "metadata": {
        "id": "60DGZ7a-4MHj",
        "colab_type": "code",
        "colab": {}
      },
      "source": [
        "# from google.colab import drive\n",
        "# drive.mount('/content/drive')\n",
        "features = ['srate','drate','max','state_number','mean','min','stddev']\n",
        "train_data = train[features]\n",
        "train_labels = train['category']\n",
        "# train_labels = to_categorical(train_labels)\n",
        "\n",
        "test_data = test[features]\n",
        "test_labels = test['category']\n",
        "# test_labels = to_categorical(test_labels)\n",
        "\n",
        "\n"
      ],
      "execution_count": 0,
      "outputs": []
    },
    {
      "cell_type": "code",
      "metadata": {
        "id": "-uuSZAP1YQrW",
        "colab_type": "code",
        "outputId": "bd4166d4-bb44-4c7d-f4a1-83d4a84c1a56",
        "colab": {
          "base_uri": "https://localhost:8080/",
          "height": 34
        }
      },
      "source": [
        "train_labels.unique()"
      ],
      "execution_count": 0,
      "outputs": [
        {
          "output_type": "execute_result",
          "data": {
            "text/plain": [
              "array(['DDoS', 'DoS', 'Reconnaissance', 'Normal', 'Theft'], dtype=object)"
            ]
          },
          "metadata": {
            "tags": []
          },
          "execution_count": 20
        }
      ]
    },
    {
      "cell_type": "code",
      "metadata": {
        "id": "TDASrMtz0-AL",
        "colab_type": "code",
        "outputId": "4d8ad0ba-3774-4ea1-b749-41874726b00f",
        "colab": {
          "base_uri": "https://localhost:8080/",
          "height": 141
        }
      },
      "source": [
        "# # creating initial dataframe\n",
        "# labels = ('DoS', 'Reconnaissance','DDoS')\n",
        "# train_labels = pd.DataFrame(train_labels, columns=['labels'])\n",
        "# test_labels = pd.DataFrame(labels, columns=['labels'])\n",
        "\n",
        "# # creating instance of labelencoder\n",
        "# labelencoder = LabelEncoder()\n",
        "# # Assigning numerical values and storing in another column\n",
        "# train_labels['labels_Cat'] = labelencoder.fit_transform(train_labels['labels'])\n",
        "# test_labels['labels_Cat'] = labelencoder.fit_transform(train_labels['labels'])\n",
        "# train_labels\n",
        "\n",
        "\n",
        "\n",
        "# creating instance of labelencoder\n",
        "label_encoder = LabelEncoder()\n",
        "train_labels = label_encoder.fit_transform(train_labels.astype('str'))\n",
        "test_labels = label_encoder.transform(test_labels.astype('str'))\n",
        "\n",
        "train_labels = to_categorical(train_labels)\n",
        "test_labels = to_categorical(test_labels)\n",
        "\n",
        "train_labels"
      ],
      "execution_count": 0,
      "outputs": [
        {
          "output_type": "execute_result",
          "data": {
            "text/plain": [
              "array([[1., 0., 0., 0., 0.],\n",
              "       [1., 0., 0., 0., 0.],\n",
              "       [1., 0., 0., 0., 0.],\n",
              "       ...,\n",
              "       [0., 1., 0., 0., 0.],\n",
              "       [0., 1., 0., 0., 0.],\n",
              "       [0., 1., 0., 0., 0.]], dtype=float32)"
            ]
          },
          "metadata": {
            "tags": []
          },
          "execution_count": 5
        }
      ]
    },
    {
      "cell_type": "code",
      "metadata": {
        "id": "Ai8O6teCXUXh",
        "colab_type": "code",
        "colab": {}
      },
      "source": [
        ""
      ],
      "execution_count": 0,
      "outputs": []
    },
    {
      "cell_type": "code",
      "metadata": {
        "id": "RzZMSi45ONk-",
        "colab_type": "code",
        "outputId": "01b6830e-d902-464a-ef13-e0f379052118",
        "colab": {
          "base_uri": "https://localhost:8080/",
          "height": 247
        }
      },
      "source": [
        "#Feature Scaling\n",
        "from sklearn.preprocessing import StandardScaler\n",
        "sc = StandardScaler()\n",
        "train_data = sc.fit_transform(train_data)\n",
        "test_data = sc.transform(test_data)\n",
        "\n",
        "train_data"
      ],
      "execution_count": 0,
      "outputs": [
        {
          "output_type": "execute_result",
          "data": {
            "text/plain": [
              "array([[-0.00335701, -0.0076522 ,  0.54400662, ...,  0.30113222,\n",
              "        -0.6856577 ,  1.26101287],\n",
              "       [-0.00366044, -0.0076522 ,  0.53396048, ...,  1.12300345,\n",
              "         1.91413882, -1.00662223],\n",
              "       [-0.00361151, -0.0076522 ,  0.31701393, ...,  0.73196946,\n",
              "         1.31905974, -0.76937267],\n",
              "       ...,\n",
              "       [-0.00372296, -0.0076522 ,  0.70575289, ..., -0.07886912,\n",
              "        -0.6856577 ,  1.52464493],\n",
              "       [-0.00378072, -0.0076522 , -1.6224652 , ..., -1.46957517,\n",
              "        -0.6856577 , -1.10368447],\n",
              "       [-0.00383902, -0.00696229, -1.52981828, ..., -1.3914419 ,\n",
              "        -0.64200095, -1.0367141 ]])"
            ]
          },
          "metadata": {
            "tags": []
          },
          "execution_count": 6
        }
      ]
    },
    {
      "cell_type": "markdown",
      "metadata": {
        "id": "xzcbGZe34tUz",
        "colab_type": "text"
      },
      "source": [
        "# **Preprocessing the Data**"
      ]
    },
    {
      "cell_type": "code",
      "metadata": {
        "id": "M-uxd9Kd42bb",
        "colab_type": "code",
        "colab": {}
      },
      "source": [
        "# finding missing and categorical values\n",
        "col_missing_values = [col for col in train_data.columns\n",
        "                     if train_data[col].isnull().any() and train_data[col].dtype]\n",
        "\n",
        "# col wit numerical values which is null in this project\n",
        "col_numerical_values = [col for col in train_data.columns if train_data[col].dtype in ['int64', 'float64']]\n",
        "\n",
        "# col with categorical values\n",
        "col_categorical_values = [col for col in train_data.columns \n",
        "                          if train_data[col].dtype == 'object']\n",
        "\n",
        "#missing values cout per col\n",
        "missing_val_count_by_column = (train_data.isnull().sum())\n",
        "print(missing_val_count_by_column[missing_val_count_by_column > 0])\n",
        "print(col_categorical_values)\n",
        "print(col_numerical_values)\n"
      ],
      "execution_count": 0,
      "outputs": []
    },
    {
      "cell_type": "code",
      "metadata": {
        "id": "DYE25nWoDPPQ",
        "colab_type": "code",
        "colab": {}
      },
      "source": [
        "# Apply one-hot encoder to each column with categorical data\n",
        "OH_encoder = OneHotEncoder(handle_unknown='ignore')\n",
        "OH_cols_train = pd.DataFrame(OH_encoder.fit_transform(train_data[col_categorical_values]))\n",
        "OH_cols_valid = pd.DataFrame(OH_encoder.transform(test_data[col_categorical_values]))\n",
        "\n",
        "# One-hot encoding removed index; put it back\n",
        "OH_cols_train.index = train_data.index\n",
        "OH_cols_valid.index = test_data.index\n",
        "\n",
        "# Remove categorical columns (will replace with one-hot encoding)\n",
        "num_X_train = train_data.drop(col_categorical_values, axis=1)\n",
        "num_X_valid = test_data.drop(col_categorical_values, axis=1)\n",
        "\n",
        "# Add one-hot encoded columns to numerical features\n",
        "train_data = pd.concat([num_X_train, OH_cols_train], axis=1)\n",
        "test_data = pd.concat([num_X_valid, OH_cols_valid], axis=1)\n",
        "\n"
      ],
      "execution_count": 0,
      "outputs": []
    },
    {
      "cell_type": "markdown",
      "metadata": {
        "id": "ofwuE24C5A61",
        "colab_type": "text"
      },
      "source": [
        "# **Model Evaluation**"
      ]
    },
    {
      "cell_type": "code",
      "metadata": {
        "id": "jd8FrMer5IJU",
        "colab_type": "code",
        "colab": {}
      },
      "source": [
        "def get_Evaluation_matrics(preds, orig_test_labels):\n",
        "  # Get the confusion matrix\n",
        "  cm  = confusion_matrix(orig_test_labels, preds)\n",
        "  plt.figure()\n",
        "  plot_confusion_matrix(cm,figsize=(12,12), hide_ticks=True,cmap=plt.cm.Blues)\n",
        "  plt.xticks(range(5), ['DDoS', 'DoS', 'Reconnaissance', 'Normal', 'Theft'], fontsize=16)\n",
        "  plt.yticks(range(5), ['DDoS', 'DoS', 'Reconnaissance', 'Normal', 'Theft'], fontsize=16)\n",
        "  plt.show()\n",
        "\n",
        "  # Calculate Precision and Recall\n",
        "  tn, fp, fn, tp = cm.ravel()\n",
        "  Accuracy = (tp+tn)/(tp+tn+fp+fn)\n",
        "  precision = tp/(tp+fp)\n",
        "  recall = tp/(tp+fn)\n",
        "  specificity = tn/(tn+fp)\n",
        "  F1_score = 2*tp/(2*tp+fp+fn)\n",
        "\n",
        "  print(\"Accuracy of the model is {:.2f}\".format(Accuracy))\n",
        "  print(\"Recall of the model is {:.2f}\".format(recall))\n",
        "  print(\"Precision of the model is {:.2f}\".format(precision))\n",
        "  print(\"specificity of the model is {:.2f}\".format(specificity))\n",
        "  print(\"F1_score of the model is {:.2f}\".format(F1_score))"
      ],
      "execution_count": 0,
      "outputs": []
    },
    {
      "cell_type": "markdown",
      "metadata": {
        "id": "--c2Tn6Y5eKf",
        "colab_type": "text"
      },
      "source": [
        "# **Model Prediction**"
      ]
    },
    {
      "cell_type": "code",
      "metadata": {
        "id": "sg1GO41w5mol",
        "colab_type": "code",
        "colab": {}
      },
      "source": [
        "def get_Model_prediction(model, test_data, test_labels):\n",
        "  import numpy as np\n",
        "\n",
        "  # # Evaluation on test dataset\n",
        "  # test_loss, test_score = model.evaluate(test_data, test_labels, batch_size=32)\n",
        "  # print(\"Loss on test set: \", test_loss)\n",
        "  # print(\"Accuracy on test set: \", test_score)\n",
        "  \n",
        "  preds = model.predict(test_data, batch_size=32)\n",
        "  preds = np.argmax(preds, axis=-1)\n",
        "\n",
        "  orig_test_labels = np.argmax(test_labels, axis=-1)\n",
        "\n",
        "  print(orig_test_labels)\n",
        "  print(preds)\n",
        "\n",
        "  return preds, orig_test_labels"
      ],
      "execution_count": 0,
      "outputs": []
    },
    {
      "cell_type": "markdown",
      "metadata": {
        "id": "1JV81wNM7ntI",
        "colab_type": "text"
      },
      "source": [
        "# **Model ROC and AUC value**"
      ]
    },
    {
      "cell_type": "code",
      "metadata": {
        "id": "5gj9qnKk8EQW",
        "colab_type": "code",
        "colab": {}
      },
      "source": [
        "def get_model_ROC_AUC_curve(model_pred, test_labels, label=None):\n",
        "    from sklearn.metrics import roc_curve, auc\n",
        "    fpr, tpr, thresholds = roc_curve(test_labels, model_pred)\n",
        "    plt.plot(fpr, tpr, linewidth=2, label=label)\n",
        "    plt.plot([0, 1], [0, 1], 'k--')\n",
        "    plt.axis([0, 1, 0, 1])\n",
        "    plt.xlabel('False Positive Rate')\n",
        "    plt.ylabel('True Positive Rate')\n",
        "    plt.title('ROC curve')\n",
        "\n",
        "    auc_score = auc(fpr, tpr)\n",
        "    print('AUC Score : ', auc_score)"
      ],
      "execution_count": 0,
      "outputs": []
    },
    {
      "cell_type": "markdown",
      "metadata": {
        "id": "EnSxSPFMdbDd",
        "colab_type": "text"
      },
      "source": [
        "# **Plotting Model Loss**"
      ]
    },
    {
      "cell_type": "code",
      "metadata": {
        "id": "-gT1-HR0dk8V",
        "colab_type": "code",
        "colab": {}
      },
      "source": [
        "def plot_Model_loss(History):\n",
        "  history_dict2 = History.history\n",
        "  loss_values2 = history_dict2['loss']\n",
        "  val_loss_values2 = history_dict2['val_loss']\n",
        "\n",
        "  epochs = range(1, 50 + 1)\n",
        "  plt.plot(epochs, loss_values2, 'b-', label='training loos')\n",
        "  plt.plot(epochs, val_loss_values2, 'r-', label='validation loss')\n",
        "  plt.title('trainin/validation loss')\n",
        "  plt.xlabel('Epochs')\n",
        "  plt.ylabel('Loss')\n",
        "  plt.legend()\n",
        "  plt.rcParams['axes.facecolor'] = 'white'\n",
        "  plt.rcParams['axes.edgecolor'] = 'white'\n",
        "  plt.rcParams['axes.grid'] = True\n",
        "  plt.rcParams['grid.alpha'] = 1\n",
        "  plt.rcParams['grid.color'] = \"#cccccc\"\n",
        "  plt.show()"
      ],
      "execution_count": 0,
      "outputs": []
    },
    {
      "cell_type": "markdown",
      "metadata": {
        "id": "X0UeWQbqdpg3",
        "colab_type": "text"
      },
      "source": [
        "# **Plotting Model Accuracy**"
      ]
    },
    {
      "cell_type": "code",
      "metadata": {
        "id": "CAkiZn2LduvF",
        "colab_type": "code",
        "colab": {}
      },
      "source": [
        "def plot_Model_Accuracy(History):\n",
        "  history_dict2 = History.history\n",
        "  acc_values2 = history_dict2['accuracy']\n",
        "  val_acc_values2 = history_dict2['val_accuracy']\n",
        "\n",
        "  epochs = range(1, 50 + 1)\n",
        "  plt.plot(epochs, acc_values2, 'b-', label='training Accuracy')\n",
        "  plt.plot(epochs, val_acc_values2, 'r-', label='validation Accuracy')\n",
        "  plt.title('trainin/validation Accuracy')\n",
        "  plt.xlabel('Epochs')\n",
        "  plt.ylabel('Accuracy')\n",
        "  plt.legend()\n",
        "  plt.rcParams['axes.facecolor'] = 'white'\n",
        "  plt.rcParams['axes.edgecolor'] = 'white'\n",
        "  plt.rcParams['axes.grid'] = True\n",
        "  plt.rcParams['grid.alpha'] = 1\n",
        "  plt.rcParams['grid.color'] = \"#cccccc\"\n",
        "  plt.show()"
      ],
      "execution_count": 0,
      "outputs": []
    },
    {
      "cell_type": "markdown",
      "metadata": {
        "id": "cCH87v3k43sk",
        "colab_type": "text"
      },
      "source": [
        "# **Model Building**"
      ]
    },
    {
      "cell_type": "code",
      "metadata": {
        "id": "BFkDw1fd5Abd",
        "colab_type": "code",
        "colab": {}
      },
      "source": [
        "#model to use\n",
        "# model = XGBClassifier()\n",
        "model = GradientBoostingClassifier(learning_rate= 0.4, random_state= 123, max_depth= 20)\n",
        "#model = DecisionTreeClassifier(random_state = 1)\n",
        "# model = RandomForestClassifier(random_state = 1)\n",
        "\n",
        "# fitting the model\n",
        "model.fit(train_data, train_labels)\n",
        "\n",
        "# predicting the model\n",
        "pred = model.predict(test_data)\n",
        "\n",
        "# print(y_valid)\n",
        "print(pred)\n",
        "\n",
        "get_Evaluation_matrics(pred, test_labels)\n",
        "acc = accuracy_score(pred, test_labels)\n",
        "precision = precision_score(pred, test_labels)\n",
        "recall = recall_score(pred, test_labels)\n",
        "\n",
        "print(acc)\n",
        "print(precision)\n",
        "print(recall)\n"
      ],
      "execution_count": 0,
      "outputs": []
    },
    {
      "cell_type": "markdown",
      "metadata": {
        "id": "vKHjtSZ4ffsy",
        "colab_type": "text"
      },
      "source": [
        "# **ANN**"
      ]
    },
    {
      "cell_type": "code",
      "metadata": {
        "id": "qBJadKgXLz2V",
        "colab_type": "code",
        "outputId": "293954f9-fd4f-4f8d-da5a-ca8baf741193",
        "colab": {
          "base_uri": "https://localhost:8080/",
          "height": 1000
        }
      },
      "source": [
        "from tensorflow.keras import models\n",
        "from tensorflow.keras import layers\n",
        "\n",
        "model = models.Sequential()\n",
        "model.add(layers.Dense(512, input_shape = (7,), activation='relu'))\n",
        "model.add(layers.Dense(128, activation='relu'))\n",
        "model.add(layers.Dense(512, activation='relu'))\n",
        "model.add(layers.Dense(64, activation='relu'))\n",
        "model.add(layers.Dense(5, activation='softmax'))\n",
        "\n",
        "model.compile(optimizer='adam',\n",
        "              loss='categorical_crossentropy',\n",
        "              metrics=['accuracy'])\n",
        "\n",
        "model_history = model.fit(train_data,\n",
        "                          train_labels,\n",
        "                          epochs=50,\n",
        "                          batch_size=512,\n",
        "                          validation_data=(test_data, test_labels))\n"
      ],
      "execution_count": 0,
      "outputs": [
        {
          "output_type": "stream",
          "text": [
            "Epoch 1/50\n",
            "5733/5733 [==============================] - 29s 5ms/step - loss: 0.1293 - accuracy: 0.9355 - val_loss: 0.1104 - val_accuracy: 0.9435\n",
            "Epoch 2/50\n",
            "5733/5733 [==============================] - 30s 5ms/step - loss: 0.1261 - accuracy: 0.9365 - val_loss: 0.1161 - val_accuracy: 0.9408\n",
            "Epoch 3/50\n",
            "5733/5733 [==============================] - 29s 5ms/step - loss: 0.1246 - accuracy: 0.9371 - val_loss: 0.1440 - val_accuracy: 0.9200\n",
            "Epoch 4/50\n",
            "5733/5733 [==============================] - 29s 5ms/step - loss: 0.1270 - accuracy: 0.9360 - val_loss: 0.2600 - val_accuracy: 0.9153\n",
            "Epoch 5/50\n",
            "5733/5733 [==============================] - 29s 5ms/step - loss: 0.1302 - accuracy: 0.9353 - val_loss: 0.1217 - val_accuracy: 0.9388\n",
            "Epoch 6/50\n",
            "5733/5733 [==============================] - 29s 5ms/step - loss: 0.1278 - accuracy: 0.9372 - val_loss: 0.3354 - val_accuracy: 0.9144\n",
            "Epoch 7/50\n",
            "5733/5733 [==============================] - 29s 5ms/step - loss: 0.1284 - accuracy: 0.9359 - val_loss: 0.1179 - val_accuracy: 0.9375\n",
            "Epoch 8/50\n",
            "5733/5733 [==============================] - 29s 5ms/step - loss: 0.1251 - accuracy: 0.9363 - val_loss: 0.1176 - val_accuracy: 0.9396\n",
            "Epoch 9/50\n",
            "5733/5733 [==============================] - 29s 5ms/step - loss: 0.1272 - accuracy: 0.9365 - val_loss: 0.1494 - val_accuracy: 0.9376\n",
            "Epoch 10/50\n",
            "5733/5733 [==============================] - 29s 5ms/step - loss: 0.1368 - accuracy: 0.9358 - val_loss: 0.1477 - val_accuracy: 0.9243\n",
            "Epoch 11/50\n",
            "5733/5733 [==============================] - 29s 5ms/step - loss: 0.1186 - accuracy: 0.9411 - val_loss: 0.1439 - val_accuracy: 0.9403\n",
            "Epoch 12/50\n",
            "5733/5733 [==============================] - 30s 5ms/step - loss: 0.1237 - accuracy: 0.9398 - val_loss: 0.1575 - val_accuracy: 0.9369\n",
            "Epoch 13/50\n",
            "5733/5733 [==============================] - 30s 5ms/step - loss: 0.1161 - accuracy: 0.9445 - val_loss: 0.0884 - val_accuracy: 0.9601\n",
            "Epoch 14/50\n",
            "5733/5733 [==============================] - 29s 5ms/step - loss: 0.1007 - accuracy: 0.9554 - val_loss: 0.1482 - val_accuracy: 0.9196\n",
            "Epoch 15/50\n",
            "5733/5733 [==============================] - 29s 5ms/step - loss: 0.0958 - accuracy: 0.9577 - val_loss: 0.1154 - val_accuracy: 0.9496\n",
            "Epoch 16/50\n",
            "5733/5733 [==============================] - 29s 5ms/step - loss: 0.0971 - accuracy: 0.9577 - val_loss: 0.0939 - val_accuracy: 0.9539\n",
            "Epoch 17/50\n",
            "5733/5733 [==============================] - 29s 5ms/step - loss: 0.0969 - accuracy: 0.9579 - val_loss: 0.0814 - val_accuracy: 0.9682\n",
            "Epoch 18/50\n",
            "5733/5733 [==============================] - 29s 5ms/step - loss: 0.0954 - accuracy: 0.9583 - val_loss: 0.1629 - val_accuracy: 0.9243\n",
            "Epoch 19/50\n",
            "5733/5733 [==============================] - 29s 5ms/step - loss: 0.1109 - accuracy: 0.9587 - val_loss: 0.1238 - val_accuracy: 0.9332\n",
            "Epoch 20/50\n",
            "5733/5733 [==============================] - 29s 5ms/step - loss: 0.0982 - accuracy: 0.9578 - val_loss: 0.0916 - val_accuracy: 0.9675\n",
            "Epoch 21/50\n",
            "5733/5733 [==============================] - 29s 5ms/step - loss: 0.0974 - accuracy: 0.9580 - val_loss: 0.1359 - val_accuracy: 0.9293\n",
            "Epoch 22/50\n",
            "5733/5733 [==============================] - 30s 5ms/step - loss: 0.0994 - accuracy: 0.9565 - val_loss: 0.0813 - val_accuracy: 0.9603\n",
            "Epoch 23/50\n",
            "5733/5733 [==============================] - 29s 5ms/step - loss: 0.1087 - accuracy: 0.9582 - val_loss: 0.1046 - val_accuracy: 0.9605\n",
            "Epoch 24/50\n",
            "5733/5733 [==============================] - 30s 5ms/step - loss: 0.0922 - accuracy: 0.9595 - val_loss: 0.0769 - val_accuracy: 0.9611\n",
            "Epoch 25/50\n",
            "5733/5733 [==============================] - 29s 5ms/step - loss: 0.0913 - accuracy: 0.9600 - val_loss: 0.1655 - val_accuracy: 0.9368\n",
            "Epoch 26/50\n",
            "5733/5733 [==============================] - 29s 5ms/step - loss: 0.0927 - accuracy: 0.9592 - val_loss: 0.1073 - val_accuracy: 0.9630\n",
            "Epoch 27/50\n",
            "5733/5733 [==============================] - 29s 5ms/step - loss: 0.0910 - accuracy: 0.9600 - val_loss: 0.1037 - val_accuracy: 0.9606\n",
            "Epoch 28/50\n",
            "5733/5733 [==============================] - 29s 5ms/step - loss: 0.0903 - accuracy: 0.9600 - val_loss: 0.0968 - val_accuracy: 0.9650\n",
            "Epoch 29/50\n",
            "5733/5733 [==============================] - 29s 5ms/step - loss: 0.0967 - accuracy: 0.9598 - val_loss: 0.1120 - val_accuracy: 0.9426\n",
            "Epoch 30/50\n",
            "5733/5733 [==============================] - 29s 5ms/step - loss: 0.1057 - accuracy: 0.9604 - val_loss: 0.1180 - val_accuracy: 0.9379\n",
            "Epoch 31/50\n",
            "5733/5733 [==============================] - 29s 5ms/step - loss: 0.0874 - accuracy: 0.9609 - val_loss: 0.0891 - val_accuracy: 0.9689\n",
            "Epoch 32/50\n",
            "5733/5733 [==============================] - 29s 5ms/step - loss: 0.0914 - accuracy: 0.9597 - val_loss: 0.1106 - val_accuracy: 0.9450\n",
            "Epoch 33/50\n",
            "5733/5733 [==============================] - 30s 5ms/step - loss: 0.0919 - accuracy: 0.9591 - val_loss: 0.1629 - val_accuracy: 0.9151\n",
            "Epoch 34/50\n",
            "5733/5733 [==============================] - 30s 5ms/step - loss: 0.0924 - accuracy: 0.9596 - val_loss: 0.1161 - val_accuracy: 0.9477\n",
            "Epoch 35/50\n",
            "5733/5733 [==============================] - 29s 5ms/step - loss: 0.1000 - accuracy: 0.9612 - val_loss: 0.0902 - val_accuracy: 0.9672\n",
            "Epoch 36/50\n",
            "5733/5733 [==============================] - 29s 5ms/step - loss: 0.0894 - accuracy: 0.9609 - val_loss: 0.0935 - val_accuracy: 0.9653\n",
            "Epoch 37/50\n",
            "5733/5733 [==============================] - 29s 5ms/step - loss: 0.0927 - accuracy: 0.9616 - val_loss: 0.1352 - val_accuracy: 0.9441\n",
            "Epoch 38/50\n",
            "5733/5733 [==============================] - 29s 5ms/step - loss: 0.0879 - accuracy: 0.9613 - val_loss: 0.1206 - val_accuracy: 0.9540\n",
            "Epoch 39/50\n",
            "5733/5733 [==============================] - 29s 5ms/step - loss: 0.0923 - accuracy: 0.9603 - val_loss: 0.2380 - val_accuracy: 0.9089\n",
            "Epoch 40/50\n",
            "5733/5733 [==============================] - 29s 5ms/step - loss: 0.0863 - accuracy: 0.9616 - val_loss: 0.0848 - val_accuracy: 0.9724\n",
            "Epoch 41/50\n",
            "5733/5733 [==============================] - 29s 5ms/step - loss: 0.0837 - accuracy: 0.9623 - val_loss: 0.0944 - val_accuracy: 0.9637\n",
            "Epoch 42/50\n",
            "5733/5733 [==============================] - 29s 5ms/step - loss: 0.0848 - accuracy: 0.9622 - val_loss: 0.0882 - val_accuracy: 0.9733\n",
            "Epoch 43/50\n",
            "5733/5733 [==============================] - 30s 5ms/step - loss: 0.0847 - accuracy: 0.9622 - val_loss: 0.0880 - val_accuracy: 0.9653\n",
            "Epoch 44/50\n",
            "5733/5733 [==============================] - 29s 5ms/step - loss: 0.0886 - accuracy: 0.9610 - val_loss: 0.1625 - val_accuracy: 0.9344\n",
            "Epoch 45/50\n",
            "5733/5733 [==============================] - 30s 5ms/step - loss: 0.0870 - accuracy: 0.9614 - val_loss: 0.0812 - val_accuracy: 0.9654\n",
            "Epoch 46/50\n",
            "5733/5733 [==============================] - 29s 5ms/step - loss: 0.0876 - accuracy: 0.9614 - val_loss: 0.1197 - val_accuracy: 0.9393\n",
            "Epoch 47/50\n",
            "5733/5733 [==============================] - 29s 5ms/step - loss: 0.0850 - accuracy: 0.9622 - val_loss: 0.0891 - val_accuracy: 0.9675\n",
            "Epoch 48/50\n",
            "5733/5733 [==============================] - 29s 5ms/step - loss: 0.1745 - accuracy: 0.9615 - val_loss: 0.0881 - val_accuracy: 0.9625\n",
            "Epoch 49/50\n",
            "5733/5733 [==============================] - 29s 5ms/step - loss: 0.0908 - accuracy: 0.9612 - val_loss: 0.0858 - val_accuracy: 0.9577\n",
            "Epoch 50/50\n",
            "5733/5733 [==============================] - 29s 5ms/step - loss: 0.0854 - accuracy: 0.9621 - val_loss: 0.0705 - val_accuracy: 0.9691\n"
          ],
          "name": "stdout"
        }
      ]
    },
    {
      "cell_type": "code",
      "metadata": {
        "id": "B5bVG55deymM",
        "colab_type": "code",
        "outputId": "ac310856-0c2c-4a54-9cdc-3b68016073da",
        "colab": {
          "base_uri": "https://localhost:8080/",
          "height": 294
        }
      },
      "source": [
        "results = model.evaluate(test_data, test_labels)\n",
        "preds, original_test_labels = get_Model_prediction(model, test_data, test_labels)\n",
        "get_Evaluation_matrics(pred, original_test_labels)\n",
        "get_model_ROC_AUC_curve(preds, test_labels)\n",
        "plot_Model_Accuracy(model_history)\n",
        "plot_Model_loss(model_history)"
      ],
      "execution_count": 0,
      "outputs": [
        {
          "output_type": "display_data",
          "data": {
            "image/png": "[encoded data removed]",
            "text/plain": [
              "<Figure size 432x288 with 1 Axes>"
            ]
          },
          "metadata": {
            "tags": [],
            "needs_background": "light"
          }
        }
      ]
    },
    {
      "cell_type": "code",
      "metadata": {
        "id": "yN2O6s45JRIZ",
        "colab_type": "code",
        "colab": {}
      },
      "source": [
        "import sys\n",
        "import scipy\n",
        "import numpy\n",
        "import matplotlib\n",
        "import pandas\n",
        "import sklearn\n",
        "\n",
        "import numpy as np\n",
        "from sklearn.neighbors import KNeighborsClassifier\n",
        "from sklearn.svm import SVC\n",
        "from sklearn import model_selection\n",
        "from sklearn.metrics import classification_report\n",
        "from sklearn.metrics import accuracy_score\n",
        "from pandas.plotting import scatter_matrix\n",
        "import matplotlib.pyplot as plt\n",
        "import pandas as pd\n",
        "from sklearn import preprocessing"
      ],
      "execution_count": 0,
      "outputs": []
    },
    {
      "cell_type": "code",
      "metadata": {
        "id": "xMrpiPNjIxPY",
        "colab_type": "code",
        "outputId": "4f2982fa-4561-432f-ee22-200f07ced5d8",
        "colab": {
          "base_uri": "https://localhost:8080/",
          "height": 72
        }
      },
      "source": [
        "# Testing Options\n",
        "seed = 8\n",
        "scoring = 'accuracy'\n",
        "\n",
        "# Define models to train\n",
        "models = []\n",
        "models.append(('KNN', KNeighborsClassifier(n_neighbors = 5)))\n",
        "models.append(('SVM', SVC()))\n",
        "\n",
        "# evaluate each model in turn\n",
        "results = []\n",
        "names = []\n",
        "\n",
        "for name, model in models:\n",
        "    kfold = model_selection.KFold(n_splits=10, random_state = seed)\n",
        "    cv_results = model_selection.cross_val_score(model, train_data, train_labels, cv=kfold, scoring=scoring)\n",
        "    results.append(cv_results)\n",
        "    names.append(name)\n",
        "    msg = \"%s: %f (%f)\" % (name, cv_results.mean(), cv_results.std())\n",
        "    print(msg)"
      ],
      "execution_count": 0,
      "outputs": [
        {
          "output_type": "stream",
          "text": [
            "/usr/local/lib/python3.6/dist-packages/sklearn/model_selection/_split.py:296: FutureWarning: Setting a random_state has no effect since shuffle is False. This will raise an error in 0.24. You should leave random_state to its default (None), or set shuffle=True.\n",
            "  FutureWarning\n"
          ],
          "name": "stderr"
        }
      ]
    },
    {
      "cell_type": "code",
      "metadata": {
        "id": "g4lzg08fJmcJ",
        "colab_type": "code",
        "colab": {}
      },
      "source": [
        "# Make predictions on validation dataset\n",
        "\n",
        "for name, model in models:\n",
        "    model.fit(train_data, train_labels)\n",
        "    predictions = model.predict(test_data)\n",
        "    print(name)\n",
        "    print(accuracy_score(test_labels, predictions))\n",
        "    print(classification_report(y_test, predictions))"
      ],
      "execution_count": 0,
      "outputs": []
    }
  ]
}