{
  "nbformat": 4,
  "nbformat_minor": 0,
  "metadata": {
    "colab": {
      "name": "Cyber Attack Classification .ipynb",
      "provenance": [],
      "toc_visible": true,
      "machine_shape": "hm",
      "mount_file_id": "1cBMIhzAD9TG7Gi6gojtL1pNBoHTYdiLE",
      "authorship_tag": "ABX9TyM8tgl1rFUOokz56Rkzlc4g",
      "include_colab_link": true
    },
    "kernelspec": {
      "name": "python3",
      "display_name": "Python 3"
    },
    "accelerator": "GPU"
  },
  "cells": [
    {
      "cell_type": "markdown",
      "metadata": {
        "id": "view-in-github",
        "colab_type": "text"
      },
      "source": [
        "<a href=\"https://colab.research.google.com/github/myschl/ML-DL/blob/master/Cyber_Attack_Classification_.ipynb\" target=\"_parent\"><img src=\"https://colab.research.google.com/assets/colab-badge.svg\" alt=\"Open In Colab\"/></a>"
      ]
    },
    {
      "cell_type": "markdown",
      "metadata": {
        "id": "NDM8xHwl35JV",
        "colab_type": "text"
      },
      "source": [
        "# **Libraries to be use**"
      ]
    },
    {
      "cell_type": "code",
      "metadata": {
        "id": "wEWtBugc3fFR",
        "colab_type": "code",
        "outputId": "8558d303-ab25-418e-a4ba-0f5cca52e834",
        "colab": {
          "base_uri": "https://localhost:8080/",
          "height": 72
        }
      },
      "source": [
        "from sklearn.model_selection import train_test_split\n",
        "from sklearn.ensemble import RandomForestClassifier\n",
        "from sklearn.linear_model import SGDClassifier\n",
        "from sklearn.metrics import accuracy_score, confusion_matrix, precision_score, recall_score\n",
        "import matplotlib.pyplot as plt\n",
        "from sklearn.preprocessing import StandardScaler\n",
        "from xgboost import XGBClassifier\n",
        "import pandas as pd\n",
        "import seaborn as sns\n",
        "from sklearn.impute import SimpleImputer\n",
        "from sklearn.preprocessing import OneHotEncoder\n",
        "from sklearn.preprocessing import LabelEncoder\n",
        "from sklearn.model_selection import cross_val_score, cross_val_predict\n",
        "from mlxtend.plotting import plot_confusion_matrix\n",
        "from sklearn.metrics import confusion_matrix, accuracy_score, f1_score, precision_score, recall_score, classification_report\n",
        "from keras.utils import to_categorical\n",
        "\n",
        "# %tensorflow_version 1.x"
      ],
      "execution_count": 17,
      "outputs": [
        {
          "output_type": "stream",
          "text": [
            "/usr/local/lib/python3.6/dist-packages/statsmodels/tools/_testing.py:19: FutureWarning: pandas.util.testing is deprecated. Use the functions in the public API at pandas.testing instead.\n",
            "  import pandas.util.testing as tm\n"
          ],
          "name": "stderr"
        }
      ]
    },
    {
      "cell_type": "markdown",
      "metadata": {
        "id": "oRIPB63x4eH8",
        "colab_type": "text"
      },
      "source": [
        "# **Getting the data**"
      ]
    },
    {
      "cell_type": "code",
      "metadata": {
        "id": "1q--j5E5QN4G",
        "colab_type": "code",
        "outputId": "77f15c65-83d0-48fd-d4db-385ba6364adf",
        "colab": {
          "base_uri": "https://localhost:8080/",
          "height": 34
        }
      },
      "source": [
        "# unzipping my data folder from my google drive\n",
        "from zipfile import ZipFile\n",
        "file_name = '/content/drive/My Drive/SS_Thesis/10-best Training-Testing split.zip'\n",
        "with ZipFile(file_name, 'r') as zip:\n",
        "  zip.extractall()\n",
        "  print(\"Done\")\n"
      ],
      "execution_count": 2,
      "outputs": [
        {
          "output_type": "stream",
          "text": [
            "Done\n"
          ],
          "name": "stdout"
        }
      ]
    },
    {
      "cell_type": "code",
      "metadata": {
        "id": "IfQXZc2nQjXj",
        "colab_type": "code",
        "outputId": "4ab451ce-4b31-4ee1-e601-eb3c5df1862d",
        "colab": {
          "base_uri": "https://localhost:8080/",
          "height": 217
        }
      },
      "source": [
        "train = pd.read_csv('/content/10-best Training-Testing split/UNSW_2018_IoT_Botnet_Final_10_best_Training.csv')\n",
        "test = pd.read_csv('/content/10-best Training-Testing split/UNSW_2018_IoT_Botnet_Final_10_best_Testing.csv')\n",
        "\n",
        "# displaying my data before selecting the features to be use\n",
        "train.head()\n"
      ],
      "execution_count": 3,
      "outputs": [
        {
          "output_type": "execute_result",
          "data": {
            "text/html": [
              "<div>\n",
              "<style scoped>\n",
              "    .dataframe tbody tr th:only-of-type {\n",
              "        vertical-align: middle;\n",
              "    }\n",
              "\n",
              "    .dataframe tbody tr th {\n",
              "        vertical-align: top;\n",
              "    }\n",
              "\n",
              "    .dataframe thead th {\n",
              "        text-align: right;\n",
              "    }\n",
              "</style>\n",
              "<table border=\"1\" class=\"dataframe\">\n",
              "  <thead>\n",
              "    <tr style=\"text-align: right;\">\n",
              "      <th></th>\n",
              "      <th>pkSeqID</th>\n",
              "      <th>proto</th>\n",
              "      <th>saddr</th>\n",
              "      <th>sport</th>\n",
              "      <th>daddr</th>\n",
              "      <th>dport</th>\n",
              "      <th>seq</th>\n",
              "      <th>stddev</th>\n",
              "      <th>N_IN_Conn_P_SrcIP</th>\n",
              "      <th>min</th>\n",
              "      <th>state_number</th>\n",
              "      <th>mean</th>\n",
              "      <th>N_IN_Conn_P_DstIP</th>\n",
              "      <th>drate</th>\n",
              "      <th>srate</th>\n",
              "      <th>max</th>\n",
              "      <th>attack</th>\n",
              "      <th>category</th>\n",
              "      <th>subcategory</th>\n",
              "    </tr>\n",
              "  </thead>\n",
              "  <tbody>\n",
              "    <tr>\n",
              "      <th>0</th>\n",
              "      <td>3142762</td>\n",
              "      <td>udp</td>\n",
              "      <td>192.168.100.150</td>\n",
              "      <td>6551</td>\n",
              "      <td>192.168.100.3</td>\n",
              "      <td>80</td>\n",
              "      <td>251984</td>\n",
              "      <td>1.900363</td>\n",
              "      <td>100</td>\n",
              "      <td>0.000000</td>\n",
              "      <td>4</td>\n",
              "      <td>2.687519</td>\n",
              "      <td>100</td>\n",
              "      <td>0.0</td>\n",
              "      <td>0.494549</td>\n",
              "      <td>4.031619</td>\n",
              "      <td>1</td>\n",
              "      <td>DDoS</td>\n",
              "      <td>UDP</td>\n",
              "    </tr>\n",
              "    <tr>\n",
              "      <th>1</th>\n",
              "      <td>2432264</td>\n",
              "      <td>tcp</td>\n",
              "      <td>192.168.100.150</td>\n",
              "      <td>5532</td>\n",
              "      <td>192.168.100.3</td>\n",
              "      <td>80</td>\n",
              "      <td>256724</td>\n",
              "      <td>0.078003</td>\n",
              "      <td>38</td>\n",
              "      <td>3.856930</td>\n",
              "      <td>3</td>\n",
              "      <td>3.934927</td>\n",
              "      <td>100</td>\n",
              "      <td>0.0</td>\n",
              "      <td>0.256493</td>\n",
              "      <td>4.012924</td>\n",
              "      <td>1</td>\n",
              "      <td>DDoS</td>\n",
              "      <td>TCP</td>\n",
              "    </tr>\n",
              "    <tr>\n",
              "      <th>2</th>\n",
              "      <td>1976315</td>\n",
              "      <td>tcp</td>\n",
              "      <td>192.168.100.147</td>\n",
              "      <td>27165</td>\n",
              "      <td>192.168.100.3</td>\n",
              "      <td>80</td>\n",
              "      <td>62921</td>\n",
              "      <td>0.268666</td>\n",
              "      <td>100</td>\n",
              "      <td>2.974100</td>\n",
              "      <td>3</td>\n",
              "      <td>3.341429</td>\n",
              "      <td>100</td>\n",
              "      <td>0.0</td>\n",
              "      <td>0.294880</td>\n",
              "      <td>3.609205</td>\n",
              "      <td>1</td>\n",
              "      <td>DDoS</td>\n",
              "      <td>TCP</td>\n",
              "    </tr>\n",
              "    <tr>\n",
              "      <th>3</th>\n",
              "      <td>1240757</td>\n",
              "      <td>udp</td>\n",
              "      <td>192.168.100.150</td>\n",
              "      <td>48719</td>\n",
              "      <td>192.168.100.3</td>\n",
              "      <td>80</td>\n",
              "      <td>99168</td>\n",
              "      <td>1.823185</td>\n",
              "      <td>63</td>\n",
              "      <td>0.000000</td>\n",
              "      <td>4</td>\n",
              "      <td>3.222832</td>\n",
              "      <td>63</td>\n",
              "      <td>0.0</td>\n",
              "      <td>0.461435</td>\n",
              "      <td>4.942302</td>\n",
              "      <td>1</td>\n",
              "      <td>DoS</td>\n",
              "      <td>UDP</td>\n",
              "    </tr>\n",
              "    <tr>\n",
              "      <th>4</th>\n",
              "      <td>3257991</td>\n",
              "      <td>udp</td>\n",
              "      <td>192.168.100.147</td>\n",
              "      <td>22461</td>\n",
              "      <td>192.168.100.3</td>\n",
              "      <td>80</td>\n",
              "      <td>105063</td>\n",
              "      <td>0.822418</td>\n",
              "      <td>100</td>\n",
              "      <td>2.979995</td>\n",
              "      <td>4</td>\n",
              "      <td>3.983222</td>\n",
              "      <td>100</td>\n",
              "      <td>0.0</td>\n",
              "      <td>1.002999</td>\n",
              "      <td>4.994452</td>\n",
              "      <td>1</td>\n",
              "      <td>DDoS</td>\n",
              "      <td>UDP</td>\n",
              "    </tr>\n",
              "  </tbody>\n",
              "</table>\n",
              "</div>"
            ],
            "text/plain": [
              "   pkSeqID proto            saddr  sport  ...       max attack  category  subcategory\n",
              "0  3142762   udp  192.168.100.150   6551  ...  4.031619      1      DDoS          UDP\n",
              "1  2432264   tcp  192.168.100.150   5532  ...  4.012924      1      DDoS          TCP\n",
              "2  1976315   tcp  192.168.100.147  27165  ...  3.609205      1      DDoS          TCP\n",
              "3  1240757   udp  192.168.100.150  48719  ...  4.942302      1       DoS          UDP\n",
              "4  3257991   udp  192.168.100.147  22461  ...  4.994452      1      DDoS          UDP\n",
              "\n",
              "[5 rows x 19 columns]"
            ]
          },
          "metadata": {
            "tags": []
          },
          "execution_count": 3
        }
      ]
    },
    {
      "cell_type": "code",
      "metadata": {
        "id": "Xe3rJfxLbpKJ",
        "colab_type": "code",
        "outputId": "eec33017-e626-4b73-ab4d-7da8efcc1758",
        "colab": {
          "base_uri": "https://localhost:8080/",
          "height": 87
        }
      },
      "source": [
        "train.columns"
      ],
      "execution_count": 0,
      "outputs": [
        {
          "output_type": "execute_result",
          "data": {
            "text/plain": [
              "Index(['pkSeqID', 'proto', 'saddr', 'sport', 'daddr', 'dport', 'seq', 'stddev',\n",
              "       'N_IN_Conn_P_SrcIP', 'min', 'state_number', 'mean', 'N_IN_Conn_P_DstIP',\n",
              "       'drate', 'srate', 'max', 'attack', 'category', 'subcategory'],\n",
              "      dtype='object')"
            ]
          },
          "metadata": {
            "tags": []
          },
          "execution_count": 13
        }
      ]
    },
    {
      "cell_type": "code",
      "metadata": {
        "id": "e5jff0B-0sNS",
        "colab_type": "code",
        "outputId": "faa0fb71-4040-4a5d-c588-9a3ddeee2280",
        "colab": {
          "base_uri": "https://localhost:8080/",
          "height": 87
        }
      },
      "source": [
        "test.columns"
      ],
      "execution_count": 0,
      "outputs": [
        {
          "output_type": "execute_result",
          "data": {
            "text/plain": [
              "Index(['pkSeqID', 'proto', 'saddr', 'sport', 'daddr', 'dport', 'seq', 'stddev',\n",
              "       'N_IN_Conn_P_SrcIP', 'min', 'state_number', 'mean', 'N_IN_Conn_P_DstIP',\n",
              "       'drate', 'srate', 'max', 'attack', 'category', 'subcategory'],\n",
              "      dtype='object')"
            ]
          },
          "metadata": {
            "tags": []
          },
          "execution_count": 14
        }
      ]
    },
    {
      "cell_type": "code",
      "metadata": {
        "id": "XP1Ajku1TfRP",
        "colab_type": "code",
        "outputId": "90082f55-dff5-41f0-f6fd-e889dd7ebe11",
        "colab": {
          "base_uri": "https://localhost:8080/",
          "height": 34
        }
      },
      "source": [
        "train.shape"
      ],
      "execution_count": 0,
      "outputs": [
        {
          "output_type": "execute_result",
          "data": {
            "text/plain": [
              "(2934817, 19)"
            ]
          },
          "metadata": {
            "tags": []
          },
          "execution_count": 4
        }
      ]
    },
    {
      "cell_type": "code",
      "metadata": {
        "id": "60DGZ7a-4MHj",
        "colab_type": "code",
        "colab": {}
      },
      "source": [
        "# from google.colab import drive\n",
        "# drive.mount('/content/drive')\n",
        "features = ['srate','drate','max','state_number','mean','min','stddev']\n",
        "train_data = train[features]\n",
        "train_labels = train['category']\n",
        "# train_labels = to_categorical(train_labels)\n",
        "\n",
        "\n",
        "test_data = test[features]\n",
        "test_labels = test['category']\n",
        "# test_labels = to_categorical(test_labels)\n",
        "\n",
        "test_data, valid_data, test_labels, valid_labels = train_test_split(test_data, test_labels, random_state = 123)\n",
        "\n",
        "\n"
      ],
      "execution_count": 0,
      "outputs": []
    },
    {
      "cell_type": "code",
      "metadata": {
        "id": "mG-dM8bL-5FO",
        "colab_type": "code",
        "outputId": "b921e22d-c889-469e-b528-211cdf5f924f",
        "colab": {
          "base_uri": "https://localhost:8080/",
          "height": 197
        }
      },
      "source": [
        "# displaying my data after selecting the features to be use\n",
        "train_data.head()"
      ],
      "execution_count": 0,
      "outputs": [
        {
          "output_type": "execute_result",
          "data": {
            "text/html": [
              "<div>\n",
              "<style scoped>\n",
              "    .dataframe tbody tr th:only-of-type {\n",
              "        vertical-align: middle;\n",
              "    }\n",
              "\n",
              "    .dataframe tbody tr th {\n",
              "        vertical-align: top;\n",
              "    }\n",
              "\n",
              "    .dataframe thead th {\n",
              "        text-align: right;\n",
              "    }\n",
              "</style>\n",
              "<table border=\"1\" class=\"dataframe\">\n",
              "  <thead>\n",
              "    <tr style=\"text-align: right;\">\n",
              "      <th></th>\n",
              "      <th>srate</th>\n",
              "      <th>drate</th>\n",
              "      <th>max</th>\n",
              "      <th>state_number</th>\n",
              "      <th>mean</th>\n",
              "      <th>min</th>\n",
              "      <th>stddev</th>\n",
              "    </tr>\n",
              "  </thead>\n",
              "  <tbody>\n",
              "    <tr>\n",
              "      <th>0</th>\n",
              "      <td>0.494549</td>\n",
              "      <td>0.0</td>\n",
              "      <td>4.031619</td>\n",
              "      <td>4</td>\n",
              "      <td>2.687519</td>\n",
              "      <td>0.000000</td>\n",
              "      <td>1.900363</td>\n",
              "    </tr>\n",
              "    <tr>\n",
              "      <th>1</th>\n",
              "      <td>0.256493</td>\n",
              "      <td>0.0</td>\n",
              "      <td>4.012924</td>\n",
              "      <td>3</td>\n",
              "      <td>3.934927</td>\n",
              "      <td>3.856930</td>\n",
              "      <td>0.078003</td>\n",
              "    </tr>\n",
              "    <tr>\n",
              "      <th>2</th>\n",
              "      <td>0.294880</td>\n",
              "      <td>0.0</td>\n",
              "      <td>3.609205</td>\n",
              "      <td>3</td>\n",
              "      <td>3.341429</td>\n",
              "      <td>2.974100</td>\n",
              "      <td>0.268666</td>\n",
              "    </tr>\n",
              "    <tr>\n",
              "      <th>3</th>\n",
              "      <td>0.461435</td>\n",
              "      <td>0.0</td>\n",
              "      <td>4.942302</td>\n",
              "      <td>4</td>\n",
              "      <td>3.222832</td>\n",
              "      <td>0.000000</td>\n",
              "      <td>1.823185</td>\n",
              "    </tr>\n",
              "    <tr>\n",
              "      <th>4</th>\n",
              "      <td>1.002999</td>\n",
              "      <td>0.0</td>\n",
              "      <td>4.994452</td>\n",
              "      <td>4</td>\n",
              "      <td>3.983222</td>\n",
              "      <td>2.979995</td>\n",
              "      <td>0.822418</td>\n",
              "    </tr>\n",
              "  </tbody>\n",
              "</table>\n",
              "</div>"
            ],
            "text/plain": [
              "      srate  drate       max  state_number      mean       min    stddev\n",
              "0  0.494549    0.0  4.031619             4  2.687519  0.000000  1.900363\n",
              "1  0.256493    0.0  4.012924             3  3.934927  3.856930  0.078003\n",
              "2  0.294880    0.0  3.609205             3  3.341429  2.974100  0.268666\n",
              "3  0.461435    0.0  4.942302             4  3.222832  0.000000  1.823185\n",
              "4  1.002999    0.0  4.994452             4  3.983222  2.979995  0.822418"
            ]
          },
          "metadata": {
            "tags": []
          },
          "execution_count": 6
        }
      ]
    },
    {
      "cell_type": "code",
      "metadata": {
        "id": "-uuSZAP1YQrW",
        "colab_type": "code",
        "outputId": "bd4166d4-bb44-4c7d-f4a1-83d4a84c1a56",
        "colab": {
          "base_uri": "https://localhost:8080/",
          "height": 34
        }
      },
      "source": [
        "train_labels.unique()"
      ],
      "execution_count": 0,
      "outputs": [
        {
          "output_type": "execute_result",
          "data": {
            "text/plain": [
              "array(['DDoS', 'DoS', 'Reconnaissance', 'Normal', 'Theft'], dtype=object)"
            ]
          },
          "metadata": {
            "tags": []
          },
          "execution_count": 20
        }
      ]
    },
    {
      "cell_type": "code",
      "metadata": {
        "id": "79ZfB7OsTum2",
        "colab_type": "code",
        "outputId": "68b74e5b-0193-4bb4-c80d-1781acb4c5bf",
        "colab": {
          "base_uri": "https://localhost:8080/",
          "height": 34
        }
      },
      "source": [
        "valid_data.shape"
      ],
      "execution_count": 0,
      "outputs": [
        {
          "output_type": "execute_result",
          "data": {
            "text/plain": [
              "(733705, 7)"
            ]
          },
          "metadata": {
            "tags": []
          },
          "execution_count": 19
        }
      ]
    },
    {
      "cell_type": "markdown",
      "metadata": {
        "id": "IwW-PzYCwkBi",
        "colab_type": "text"
      },
      "source": [
        "# **Data Visualisation**"
      ]
    },
    {
      "cell_type": "code",
      "metadata": {
        "id": "Ai8O6teCXUXh",
        "colab_type": "code",
        "colab": {
          "base_uri": "https://localhost:8080/",
          "height": 623
        },
        "outputId": "1f88f15b-2650-4ac6-da58-cc73acf66862"
      },
      "source": [
        "# Get the counts for each class\n",
        "attacks_count = train['category'].value_counts()\n",
        "print(attacks_count)\n",
        "\n",
        "# Plot the results \n",
        "plt.figure(figsize=(10,8))\n",
        "sns.barplot(x=attacks_count.index, y= attacks_count.values)\n",
        "plt.title('Number of attacks', fontsize=14)\n",
        "plt.xlabel('attacks type', fontsize=12)\n",
        "plt.ylabel('Count', fontsize=12)\n",
        "plt.xticks(range(len(attacks_count.index)), ['DDoS', 'DoS', 'Reconnaissance', 'Normal', 'Theft'])\n",
        "plt.show()"
      ],
      "execution_count": 18,
      "outputs": [
        {
          "output_type": "stream",
          "text": [
            "DDoS              1541315\n",
            "DoS               1320148\n",
            "Reconnaissance      72919\n",
            "Normal                370\n",
            "Theft                  65\n",
            "Name: category, dtype: int64\n"
          ],
          "name": "stdout"
        },
        {
          "output_type": "display_data",
          "data": {
            "image/png": "[encoded data removed]",
            "text/plain": [
              "<Figure size 720x576 with 1 Axes>"
            ]
          },
          "metadata": {
            "tags": [],
            "needs_background": "light"
          }
        }
      ]
    },
    {
      "cell_type": "markdown",
      "metadata": {
        "id": "xzcbGZe34tUz",
        "colab_type": "text"
      },
      "source": [
        "# **Preprocessing the Data**"
      ]
    },
    {
      "cell_type": "code",
      "metadata": {
        "id": "TDASrMtz0-AL",
        "colab_type": "code",
        "outputId": "18a02a7e-b7cd-440f-e1eb-58e492f22e1e",
        "colab": {
          "base_uri": "https://localhost:8080/",
          "height": 141
        }
      },
      "source": [
        "# # creating initial dataframe\n",
        "# labels = ('DoS', 'Reconnaissance','DDoS')\n",
        "# train_labels = pd.DataFrame(train_labels, columns=['labels'])\n",
        "# test_labels = pd.DataFrame(labels, columns=['labels'])\n",
        "\n",
        "# # creating instance of labelencoder\n",
        "# labelencoder = LabelEncoder()\n",
        "# # Assigning numerical values and storing in another column\n",
        "# train_labels['labels_Cat'] = labelencoder.fit_transform(train_labels['labels'])\n",
        "# test_labels['labels_Cat'] = labelencoder.fit_transform(train_labels['labels'])\n",
        "# train_labels\n",
        "\n",
        "\n",
        "\n",
        "# creating instance of labelencoder\n",
        "label_encoder = LabelEncoder()\n",
        "train_labels = label_encoder.fit_transform(train_labels.astype('str')) \n",
        "test_labels = label_encoder.transform(test_labels.astype('str'))\n",
        "valid_labels = label_encoder.transform(valid_labels.astype('str'))\n",
        "\n",
        "# converting the training and testing labels to categorical\n",
        "train_labels = to_categorical(train_labels)\n",
        "test_labels = to_categorical(test_labels)\n",
        "valid_labels = to_categorical(valid_labels)\n",
        "\n",
        "# printing the training labels\n",
        "valid_labels"
      ],
      "execution_count": 5,
      "outputs": [
        {
          "output_type": "execute_result",
          "data": {
            "text/plain": [
              "array([[0., 1., 0., 0., 0.],\n",
              "       [0., 1., 0., 0., 0.],\n",
              "       [1., 0., 0., 0., 0.],\n",
              "       ...,\n",
              "       [1., 0., 0., 0., 0.],\n",
              "       [0., 1., 0., 0., 0.],\n",
              "       [1., 0., 0., 0., 0.]], dtype=float32)"
            ]
          },
          "metadata": {
            "tags": []
          },
          "execution_count": 5
        }
      ]
    },
    {
      "cell_type": "code",
      "metadata": {
        "id": "RzZMSi45ONk-",
        "colab_type": "code",
        "outputId": "9a9a7dab-1054-49fd-8ae1-08c792f9be89",
        "colab": {
          "base_uri": "https://localhost:8080/",
          "height": 247
        }
      },
      "source": [
        "#Feature Scaling\n",
        "from sklearn.preprocessing import StandardScaler\n",
        "sc = StandardScaler()\n",
        "train_data = sc.fit_transform(train_data)\n",
        "test_data = sc.transform(test_data)\n",
        "valid_data = sc.transform(valid_data)\n",
        "\n",
        "valid_data"
      ],
      "execution_count": 6,
      "outputs": [
        {
          "output_type": "execute_result",
          "data": {
            "text/plain": [
              "array([[-0.0036714 , -0.0076522 ,  0.55273673, ...,  1.18239602,\n",
              "         2.00175025, -1.06983469],\n",
              "       [-0.00368206, -0.0076522 ,  0.31250324, ...,  0.30121391,\n",
              "        -0.6856577 ,  0.82721984],\n",
              "       [-0.00329576, -0.0076522 ,  0.60236985, ...,  1.08954506,\n",
              "         1.59645504, -0.6649962 ],\n",
              "       ...,\n",
              "       [-0.00346215, -0.0076522 ,  0.54094683, ..., -0.1439503 ,\n",
              "        -0.6856577 ,  0.94148507],\n",
              "       [-0.00385862, -0.00693369, -1.52977475, ..., -1.36811617,\n",
              "        -0.59266323, -1.08601111],\n",
              "       [-0.00336829, -0.0076522 ,  0.61197749, ...,  0.78771851,\n",
              "         0.6773594 ,  0.1319935 ]])"
            ]
          },
          "metadata": {
            "tags": []
          },
          "execution_count": 6
        }
      ]
    },
    {
      "cell_type": "code",
      "metadata": {
        "id": "M-uxd9Kd42bb",
        "colab_type": "code",
        "colab": {}
      },
      "source": [
        "# finding missing and categorical values\n",
        "\n",
        "def getMissingAndCategoricalValues(train_data):\n",
        "  col_missing_values = [col for col in train_data.columns\n",
        "                       if train_data[col].isnull().any() and train_data[col].dtype]\n",
        "\n",
        "  # col wit numerical values which is null in this project\n",
        "  col_numerical_values = [col for col in train_data.columns if train_data[col].dtype in ['int64', 'float64']]\n",
        "\n",
        "  # col with categorical values\n",
        "  col_categorical_values = [col for col in train_data.columns \n",
        "                           if train_data[col].dtype == 'object']\n",
        "\n",
        "  #missing values cout per col\n",
        "  missing_val_count_by_column = (train_data.isnull().sum())\n",
        "  print(missing_val_count_by_column[missing_val_count_by_column > 0])\n",
        "  print(col_categorical_values)\n",
        "  print(col_numerical_values)\n",
        "  \n",
        "  return col_missing_values, col_numerical_values,  col_categorical_values \n"
      ],
      "execution_count": 0,
      "outputs": []
    },
    {
      "cell_type": "code",
      "metadata": {
        "id": "DYE25nWoDPPQ",
        "colab_type": "code",
        "colab": {}
      },
      "source": [
        "# Apply one-hot encoder to each column with categorical data\n",
        "\n",
        "def encodeTheCategoricalValues(train_data, test_data, col_categorical_values):\n",
        "  \n",
        "  OH_encoder = OneHotEncoder(handle_unknown='ignore')\n",
        "  OH_cols_train = pd.DataFrame(OH_encoder.fit_transform(train_data[col_categorical_values]))\n",
        "  OH_cols_valid = pd.DataFrame(OH_encoder.transform(test_data[col_categorical_values]))\n",
        "\n",
        "  # One-hot encoding removed index; put it back\n",
        "  OH_cols_train.index = train_data.index\n",
        "  OH_cols_valid.index = test_data.index\n",
        "\n",
        "  # Remove categorical columns (will replace with one-hot encoding)\n",
        "  num_X_train = train_data.drop(col_categorical_values, axis=1)\n",
        "  num_X_valid = test_data.drop(col_categorical_values, axis=1)\n",
        "\n",
        "  # Add one-hot encoded columns to numerical features\n",
        "  train_data = pd.concat([num_X_train, OH_cols_train], axis=1)\n",
        "  test_data = pd.concat([num_X_valid, OH_cols_valid], axis=1)\n",
        "\n",
        "  return train_data, test_data\n",
        "\n"
      ],
      "execution_count": 0,
      "outputs": []
    },
    {
      "cell_type": "markdown",
      "metadata": {
        "id": "ofwuE24C5A61",
        "colab_type": "text"
      },
      "source": [
        "# **Model Evaluation**"
      ]
    },
    {
      "cell_type": "code",
      "metadata": {
        "id": "jd8FrMer5IJU",
        "colab_type": "code",
        "colab": {}
      },
      "source": [
        "def get_Evaluation_matrics(preds, orig_test_labels):\n",
        "\n",
        "  # Get the confusion matrix\n",
        "  cm  = confusion_matrix(orig_test_labels, preds)\n",
        "  plt.figure()\n",
        "  plot_confusion_matrix(cm,figsize=(12,12), hide_ticks=True,cmap=plt.cm.Blues)\n",
        "  plt.xticks(range(5), ['DDoS', 'DoS', 'Reconnaissance', 'Normal', 'Theft'], fontsize=16)\n",
        "  plt.yticks(range(5), ['DDoS', 'DoS', 'Reconnaissance', 'Normal', 'Theft'], fontsize=16)\n",
        "  plt.show()\n",
        "\n",
        "  # Calculate Precision and Recall\n",
        "  report = classification_report(orig_test_labels, preds)\n",
        "\n",
        "  print('')\n",
        "  print('')\n",
        "  print('')\n",
        "  print(report)\n",
        "\n"
      ],
      "execution_count": 0,
      "outputs": []
    },
    {
      "cell_type": "markdown",
      "metadata": {
        "id": "--c2Tn6Y5eKf",
        "colab_type": "text"
      },
      "source": [
        "# **Model Prediction**"
      ]
    },
    {
      "cell_type": "code",
      "metadata": {
        "id": "sg1GO41w5mol",
        "colab_type": "code",
        "colab": {}
      },
      "source": [
        "def get_Model_prediction(model, test_data, test_labels):\n",
        "  import numpy as np\n",
        "\n",
        "  # # Evaluation on test dataset\n",
        "  # test_loss, test_score = model.evaluate(test_data, test_labels, batch_size=32)\n",
        "  # print(\"Loss on test set: \", test_loss)\n",
        "  # print(\"Accuracy on test set: \", test_score)\n",
        "  \n",
        "  preds = model.predict(test_data, batch_size=32)\n",
        "  preds = np.argmax(preds, axis=-1)\n",
        "\n",
        "  orig_test_labels = np.argmax(test_labels, axis=-1)\n",
        "\n",
        "  print(orig_test_labels)\n",
        "  print(preds)\n",
        "\n",
        "  return preds, orig_test_labels"
      ],
      "execution_count": 0,
      "outputs": []
    },
    {
      "cell_type": "markdown",
      "metadata": {
        "id": "1JV81wNM7ntI",
        "colab_type": "text"
      },
      "source": [
        "# **Model ROC and AUC value**"
      ]
    },
    {
      "cell_type": "code",
      "metadata": {
        "id": "5gj9qnKk8EQW",
        "colab_type": "code",
        "colab": {}
      },
      "source": [
        "def get_model_ROC_AUC_curve(model_pred, test_labels, label=None):\n",
        "    import numpy as np\n",
        "    from sklearn.metrics import roc_curve, auc\n",
        "\n",
        "    orig_test_labels = np.argmax(test_labels, axis=-1)\n",
        "\n",
        "    # Compute ROC curve and ROC area for each class\n",
        "    n_classes = test_labels.shape[1]\n",
        "    fpr = dict()\n",
        "    tpr = dict()\n",
        "    thresholds = dict()\n",
        "    roc_auc = dict()\n",
        "    for i in range(n_classes):\n",
        "        fpr[i], tpr[i], thresholds[i] = roc_curve(orig_test_labels[:, i], model_pred[:, i])\n",
        "        roc_auc[i] = auc(fpr[i], tpr[i])\n",
        "\n",
        "    # Plot of a ROC curve for a specific class\n",
        "    for i in range(n_classes):\n",
        "        plt.figure()\n",
        "        plt.plot(fpr[i], tpr[i], label='ROC curve (area = %0.2f)' % roc_auc[i])\n",
        "        plt.plot([0, 1], [0, 1], 'k--')\n",
        "        plt.xlim([0.0, 1.0])\n",
        "        plt.ylim([0.0, 1.05])\n",
        "        plt.xlabel('False Positive Rate')\n",
        "        plt.ylabel('True Positive Rate')\n",
        "        plt.title('Receiver operating characteristic')\n",
        "        plt.legend(loc=\"lower right\")\n",
        "        plt.show()\n",
        "\n",
        "\n",
        "\n",
        "\n",
        "\n",
        "\n",
        "\n",
        "\n",
        "\n",
        "\n",
        "\n",
        "\n",
        "    # fpr, tpr, thresholds = roc_curve(test_labels, model_pred)\n",
        "    # plt.plot(fpr, tpr, linewidth=2, label=label)\n",
        "    # plt.plot([0, 1], [0, 1], 'k--')\n",
        "    # plt.axis([0, 1, 0, 1])\n",
        "    # plt.xlabel('False Positive Rate')\n",
        "    # plt.ylabel('True Positive Rate')\n",
        "    # plt.title('ROC curve')\n",
        "\n",
        "    # auc_score = auc(fpr, tpr)\n",
        "    # print('AUC Score : ', auc_score)"
      ],
      "execution_count": 0,
      "outputs": []
    },
    {
      "cell_type": "markdown",
      "metadata": {
        "id": "EnSxSPFMdbDd",
        "colab_type": "text"
      },
      "source": [
        "# **Plotting Model Loss**"
      ]
    },
    {
      "cell_type": "code",
      "metadata": {
        "id": "-gT1-HR0dk8V",
        "colab_type": "code",
        "colab": {}
      },
      "source": [
        "def plot_Model_loss(History):\n",
        "  history_dict2 = History.history\n",
        "  loss_values2 = history_dict2['loss']\n",
        "  val_loss_values2 = history_dict2['val_loss']\n",
        "\n",
        "  epochs = range(1, 150 + 1)\n",
        "  plt.plot(epochs, loss_values2, 'b-', label='training loos')\n",
        "  plt.plot(epochs, val_loss_values2, 'r-', label='validation loss')\n",
        "  plt.title('trainin/validation loss')\n",
        "  plt.xlabel('Epochs')\n",
        "  plt.ylabel('Loss')\n",
        "  plt.legend()\n",
        "  plt.rcParams['axes.facecolor'] = 'white'\n",
        "  plt.rcParams['axes.edgecolor'] = 'white'\n",
        "  plt.rcParams['axes.grid'] = True\n",
        "  plt.rcParams['grid.alpha'] = 1\n",
        "  plt.rcParams['grid.color'] = \"#cccccc\"\n",
        "  plt.show()"
      ],
      "execution_count": 0,
      "outputs": []
    },
    {
      "cell_type": "markdown",
      "metadata": {
        "id": "X0UeWQbqdpg3",
        "colab_type": "text"
      },
      "source": [
        "# **Plotting Model Accuracy**"
      ]
    },
    {
      "cell_type": "code",
      "metadata": {
        "id": "CAkiZn2LduvF",
        "colab_type": "code",
        "colab": {}
      },
      "source": [
        "def plot_Model_Accuracy(History):\n",
        "  history_dict2 = History.history\n",
        "  acc_values2 = history_dict2['accuracy']\n",
        "  val_acc_values2 = history_dict2['val_accuracy']\n",
        "\n",
        "  epochs = range(1, 150 + 1)\n",
        "  plt.plot(epochs, acc_values2, 'b-', label='training Accuracy')\n",
        "  plt.plot(epochs, val_acc_values2, 'r-', label='validation Accuracy')\n",
        "  plt.title('trainin/validation Accuracy')\n",
        "  plt.xlabel('Epochs')\n",
        "  plt.ylabel('Accuracy')\n",
        "  plt.legend()\n",
        "  plt.rcParams['axes.facecolor'] = 'white'\n",
        "  plt.rcParams['axes.edgecolor'] = 'white'\n",
        "  plt.rcParams['axes.grid'] = True\n",
        "  plt.rcParams['grid.alpha'] = 1\n",
        "  plt.rcParams['grid.color'] = \"#cccccc\"\n",
        "  plt.show()"
      ],
      "execution_count": 0,
      "outputs": []
    },
    {
      "cell_type": "markdown",
      "metadata": {
        "id": "cCH87v3k43sk",
        "colab_type": "text"
      },
      "source": [
        "# **Model Building**"
      ]
    },
    {
      "cell_type": "code",
      "metadata": {
        "id": "BFkDw1fd5Abd",
        "colab_type": "code",
        "colab": {}
      },
      "source": [
        "#model to use\n",
        "# model = XGBClassifier()\n",
        "# model = GradientBoostingClassifier(learning_rate= 0.4, random_state= 123, max_depth= 20)\n",
        "#model = DecisionTreeClassifier(random_state = 1)\n",
        "model = RandomForestClassifier(random_state = 1)\n",
        "\n",
        "# fitting the model\n",
        "model.fit(train_data, train_labels)\n",
        "\n",
        "# predicting the model\n",
        "pred = model.predict(test_data)\n",
        "\n",
        "# print(y_valid)\n",
        "print(pred)\n",
        "\n",
        "get_Evaluation_matrics(pred, test_labels)\n",
        "acc = accuracy_score(pred, test_labels)\n",
        "precision = precision_score(pred, test_labels)\n",
        "recall = recall_score(pred, test_labels)\n",
        "\n",
        "print(acc)\n",
        "print(precision)\n",
        "print(recall)\n"
      ],
      "execution_count": 0,
      "outputs": []
    },
    {
      "cell_type": "markdown",
      "metadata": {
        "id": "vKHjtSZ4ffsy",
        "colab_type": "text"
      },
      "source": [
        "# **ANN**"
      ]
    },
    {
      "cell_type": "code",
      "metadata": {
        "id": "qBJadKgXLz2V",
        "colab_type": "code",
        "outputId": "d15fc9d3-b96b-4bdf-abfa-9dd772257f51",
        "colab": {
          "base_uri": "https://localhost:8080/",
          "height": 1000
        }
      },
      "source": [
        "from tensorflow.keras import models\n",
        "from tensorflow.keras import layers\n",
        "\n",
        "model = models.Sequential()\n",
        "model.add(layers.Dense(1024, input_shape = (7,), activation='relu'))\n",
        "model.add(layers.Dense(128, activation='relu'))\n",
        "model.add(layers.Dense(512, activation='relu'))\n",
        "model.add(layers.Dense(64, activation='relu'))\n",
        "model.add(layers.Dense(5, activation='softmax'))\n",
        "\n",
        "model.compile(optimizer='adam',\n",
        "              loss='categorical_crossentropy',\n",
        "              metrics=['accuracy'])\n",
        "\n",
        "model_history = model.fit(train_data,\n",
        "                          train_labels,\n",
        "                          epochs=150,\n",
        "                          batch_size=512,\n",
        "                          validation_data=(valid_data, valid_labels))\n"
      ],
      "execution_count": 23,
      "outputs": [
        {
          "output_type": "stream",
          "text": [
            "Epoch 1/150\n",
            "5733/5733 [==============================] - 18s 3ms/step - loss: 0.2284 - accuracy: 0.8952 - val_loss: 0.2383 - val_accuracy: 0.8977\n",
            "Epoch 2/150\n",
            "5733/5733 [==============================] - 17s 3ms/step - loss: 0.1805 - accuracy: 0.9147 - val_loss: 0.1748 - val_accuracy: 0.9199\n",
            "Epoch 3/150\n",
            "5733/5733 [==============================] - 18s 3ms/step - loss: 0.1673 - accuracy: 0.9204 - val_loss: 0.1589 - val_accuracy: 0.9199\n",
            "Epoch 4/150\n",
            "5733/5733 [==============================] - 18s 3ms/step - loss: 0.1639 - accuracy: 0.9221 - val_loss: 0.2104 - val_accuracy: 0.9055\n",
            "Epoch 5/150\n",
            "5733/5733 [==============================] - 18s 3ms/step - loss: 0.1585 - accuracy: 0.9241 - val_loss: 0.1609 - val_accuracy: 0.9221\n",
            "Epoch 6/150\n",
            "5733/5733 [==============================] - 18s 3ms/step - loss: 0.1557 - accuracy: 0.9253 - val_loss: 0.2617 - val_accuracy: 0.9032\n",
            "Epoch 7/150\n",
            "5733/5733 [==============================] - 18s 3ms/step - loss: 0.1548 - accuracy: 0.9259 - val_loss: 0.1640 - val_accuracy: 0.9180\n",
            "Epoch 8/150\n",
            "5733/5733 [==============================] - 18s 3ms/step - loss: 0.1528 - accuracy: 0.9268 - val_loss: 0.1624 - val_accuracy: 0.9011\n",
            "Epoch 9/150\n",
            "5733/5733 [==============================] - 18s 3ms/step - loss: 0.1484 - accuracy: 0.9282 - val_loss: 0.1687 - val_accuracy: 0.9180\n",
            "Epoch 10/150\n",
            "5733/5733 [==============================] - 18s 3ms/step - loss: 0.1456 - accuracy: 0.9293 - val_loss: 0.1752 - val_accuracy: 0.9161\n",
            "Epoch 11/150\n",
            "5733/5733 [==============================] - 18s 3ms/step - loss: 0.1420 - accuracy: 0.9303 - val_loss: 0.1396 - val_accuracy: 0.9299\n",
            "Epoch 12/150\n",
            "5733/5733 [==============================] - 18s 3ms/step - loss: 0.1410 - accuracy: 0.9306 - val_loss: 0.1346 - val_accuracy: 0.9347\n",
            "Epoch 13/150\n",
            "5733/5733 [==============================] - 18s 3ms/step - loss: 0.1383 - accuracy: 0.9317 - val_loss: 0.1403 - val_accuracy: 0.9306\n",
            "Epoch 14/150\n",
            "5733/5733 [==============================] - 18s 3ms/step - loss: 0.1389 - accuracy: 0.9317 - val_loss: 0.1506 - val_accuracy: 0.9201\n",
            "Epoch 15/150\n",
            "5733/5733 [==============================] - 18s 3ms/step - loss: 0.1318 - accuracy: 0.9367 - val_loss: 0.1176 - val_accuracy: 0.9634\n",
            "Epoch 16/150\n",
            "5733/5733 [==============================] - 18s 3ms/step - loss: 0.1318 - accuracy: 0.9380 - val_loss: 0.1736 - val_accuracy: 0.9309\n",
            "Epoch 17/150\n",
            "5733/5733 [==============================] - 18s 3ms/step - loss: 0.1367 - accuracy: 0.9425 - val_loss: 0.1491 - val_accuracy: 0.9375\n",
            "Epoch 18/150\n",
            "5733/5733 [==============================] - 19s 3ms/step - loss: 0.1223 - accuracy: 0.9433 - val_loss: 0.1432 - val_accuracy: 0.9282\n",
            "Epoch 19/150\n",
            "5733/5733 [==============================] - 18s 3ms/step - loss: 0.1303 - accuracy: 0.9368 - val_loss: 0.2117 - val_accuracy: 0.9100\n",
            "Epoch 20/150\n",
            "5733/5733 [==============================] - 18s 3ms/step - loss: 0.1335 - accuracy: 0.9361 - val_loss: 0.1303 - val_accuracy: 0.9495\n",
            "Epoch 21/150\n",
            "5733/5733 [==============================] - 18s 3ms/step - loss: 0.1257 - accuracy: 0.9398 - val_loss: 0.1359 - val_accuracy: 0.9166\n",
            "Epoch 22/150\n",
            "5733/5733 [==============================] - 18s 3ms/step - loss: 0.1276 - accuracy: 0.9393 - val_loss: 0.3294 - val_accuracy: 0.9169\n",
            "Epoch 23/150\n",
            "5733/5733 [==============================] - 18s 3ms/step - loss: 0.1251 - accuracy: 0.9419 - val_loss: 0.1090 - val_accuracy: 0.9607\n",
            "Epoch 24/150\n",
            "5733/5733 [==============================] - 18s 3ms/step - loss: 0.1170 - accuracy: 0.9469 - val_loss: 0.1103 - val_accuracy: 0.9385\n",
            "Epoch 25/150\n",
            "5733/5733 [==============================] - 18s 3ms/step - loss: 0.1121 - accuracy: 0.9493 - val_loss: 0.1064 - val_accuracy: 0.9595\n",
            "Epoch 26/150\n",
            "5733/5733 [==============================] - 17s 3ms/step - loss: 0.1127 - accuracy: 0.9492 - val_loss: 0.0991 - val_accuracy: 0.9635\n",
            "Epoch 27/150\n",
            "5733/5733 [==============================] - 18s 3ms/step - loss: 0.1118 - accuracy: 0.9503 - val_loss: 0.0964 - val_accuracy: 0.9630\n",
            "Epoch 28/150\n",
            "5733/5733 [==============================] - 18s 3ms/step - loss: 0.1102 - accuracy: 0.9510 - val_loss: 0.3444 - val_accuracy: 0.8854\n",
            "Epoch 29/150\n",
            "5733/5733 [==============================] - 17s 3ms/step - loss: 0.1130 - accuracy: 0.9492 - val_loss: 0.1742 - val_accuracy: 0.9203\n",
            "Epoch 30/150\n",
            "5733/5733 [==============================] - 18s 3ms/step - loss: 0.1081 - accuracy: 0.9522 - val_loss: 0.0956 - val_accuracy: 0.9649\n",
            "Epoch 31/150\n",
            "5733/5733 [==============================] - 18s 3ms/step - loss: 0.1070 - accuracy: 0.9536 - val_loss: 0.1009 - val_accuracy: 0.9606\n",
            "Epoch 32/150\n",
            "5733/5733 [==============================] - 18s 3ms/step - loss: 0.1139 - accuracy: 0.9553 - val_loss: 0.1403 - val_accuracy: 0.9218\n",
            "Epoch 33/150\n",
            "5733/5733 [==============================] - 18s 3ms/step - loss: 0.1018 - accuracy: 0.9558 - val_loss: 0.1526 - val_accuracy: 0.9410\n",
            "Epoch 34/150\n",
            "5733/5733 [==============================] - 17s 3ms/step - loss: 0.1018 - accuracy: 0.9560 - val_loss: 0.2044 - val_accuracy: 0.9144\n",
            "Epoch 35/150\n",
            "5733/5733 [==============================] - 18s 3ms/step - loss: 0.1041 - accuracy: 0.9550 - val_loss: 0.0912 - val_accuracy: 0.9658\n",
            "Epoch 36/150\n",
            "5733/5733 [==============================] - 18s 3ms/step - loss: 0.1008 - accuracy: 0.9560 - val_loss: 0.0839 - val_accuracy: 0.9650\n",
            "Epoch 37/150\n",
            "5733/5733 [==============================] - 18s 3ms/step - loss: 0.0977 - accuracy: 0.9574 - val_loss: 0.1822 - val_accuracy: 0.9239\n",
            "Epoch 38/150\n",
            "5733/5733 [==============================] - 18s 3ms/step - loss: 0.0989 - accuracy: 0.9572 - val_loss: 0.1027 - val_accuracy: 0.9627\n",
            "Epoch 39/150\n",
            "5733/5733 [==============================] - 18s 3ms/step - loss: 0.1208 - accuracy: 0.9560 - val_loss: 0.0919 - val_accuracy: 0.9654\n",
            "Epoch 40/150\n",
            "5733/5733 [==============================] - 18s 3ms/step - loss: 0.0972 - accuracy: 0.9595 - val_loss: 0.1123 - val_accuracy: 0.9343\n",
            "Epoch 41/150\n",
            "5733/5733 [==============================] - 19s 3ms/step - loss: 0.0925 - accuracy: 0.9595 - val_loss: 0.1053 - val_accuracy: 0.9630\n",
            "Epoch 42/150\n",
            "5733/5733 [==============================] - 18s 3ms/step - loss: 0.1003 - accuracy: 0.9573 - val_loss: 0.1003 - val_accuracy: 0.9514\n",
            "Epoch 43/150\n",
            "5733/5733 [==============================] - 19s 3ms/step - loss: 0.0945 - accuracy: 0.9584 - val_loss: 0.1057 - val_accuracy: 0.9459\n",
            "Epoch 44/150\n",
            "5733/5733 [==============================] - 19s 3ms/step - loss: 0.0989 - accuracy: 0.9578 - val_loss: 0.0826 - val_accuracy: 0.9651\n",
            "Epoch 45/150\n",
            "5733/5733 [==============================] - 18s 3ms/step - loss: 0.0976 - accuracy: 0.9578 - val_loss: 0.1260 - val_accuracy: 0.9302\n",
            "Epoch 46/150\n",
            "5733/5733 [==============================] - 18s 3ms/step - loss: 0.0953 - accuracy: 0.9584 - val_loss: 0.3678 - val_accuracy: 0.9047\n",
            "Epoch 47/150\n",
            "5733/5733 [==============================] - 18s 3ms/step - loss: 0.1334 - accuracy: 0.9573 - val_loss: 0.0854 - val_accuracy: 0.9655\n",
            "Epoch 48/150\n",
            "5733/5733 [==============================] - 18s 3ms/step - loss: 0.0954 - accuracy: 0.9592 - val_loss: 0.0805 - val_accuracy: 0.9597\n",
            "Epoch 49/150\n",
            "5733/5733 [==============================] - 18s 3ms/step - loss: 0.0952 - accuracy: 0.9589 - val_loss: 0.1310 - val_accuracy: 0.9417\n",
            "Epoch 50/150\n",
            "5733/5733 [==============================] - 18s 3ms/step - loss: 0.0956 - accuracy: 0.9587 - val_loss: 0.1050 - val_accuracy: 0.9444\n",
            "Epoch 51/150\n",
            "5733/5733 [==============================] - 18s 3ms/step - loss: 0.0931 - accuracy: 0.9591 - val_loss: 0.1581 - val_accuracy: 0.9272\n",
            "Epoch 52/150\n",
            "5733/5733 [==============================] - 19s 3ms/step - loss: 0.0918 - accuracy: 0.9597 - val_loss: 0.1102 - val_accuracy: 0.9396\n",
            "Epoch 53/150\n",
            "5733/5733 [==============================] - 18s 3ms/step - loss: 0.0935 - accuracy: 0.9586 - val_loss: 0.0958 - val_accuracy: 0.9633\n",
            "Epoch 54/150\n",
            "5733/5733 [==============================] - 18s 3ms/step - loss: 0.0917 - accuracy: 0.9598 - val_loss: 0.1002 - val_accuracy: 0.9670\n",
            "Epoch 55/150\n",
            "5733/5733 [==============================] - 18s 3ms/step - loss: 0.1060 - accuracy: 0.9588 - val_loss: 0.1239 - val_accuracy: 0.9445\n",
            "Epoch 56/150\n",
            "5733/5733 [==============================] - 18s 3ms/step - loss: 0.0948 - accuracy: 0.9596 - val_loss: 0.1129 - val_accuracy: 0.9325\n",
            "Epoch 57/150\n",
            "5733/5733 [==============================] - 18s 3ms/step - loss: 0.0994 - accuracy: 0.9581 - val_loss: 0.0768 - val_accuracy: 0.9623\n",
            "Epoch 58/150\n",
            "5733/5733 [==============================] - 18s 3ms/step - loss: 0.0929 - accuracy: 0.9604 - val_loss: 0.1733 - val_accuracy: 0.9150\n",
            "Epoch 59/150\n",
            "5733/5733 [==============================] - 18s 3ms/step - loss: 0.0955 - accuracy: 0.9596 - val_loss: 0.0898 - val_accuracy: 0.9694\n",
            "Epoch 60/150\n",
            "5733/5733 [==============================] - 19s 3ms/step - loss: 0.0907 - accuracy: 0.9602 - val_loss: 0.1906 - val_accuracy: 0.9229\n",
            "Epoch 61/150\n",
            "5733/5733 [==============================] - 19s 3ms/step - loss: 0.0910 - accuracy: 0.9599 - val_loss: 0.0937 - val_accuracy: 0.9658\n",
            "Epoch 62/150\n",
            "5733/5733 [==============================] - 18s 3ms/step - loss: 0.0925 - accuracy: 0.9596 - val_loss: 0.0737 - val_accuracy: 0.9626\n",
            "Epoch 63/150\n",
            "5733/5733 [==============================] - 18s 3ms/step - loss: 0.1087 - accuracy: 0.9580 - val_loss: 0.0942 - val_accuracy: 0.9637\n",
            "Epoch 64/150\n",
            "5733/5733 [==============================] - 18s 3ms/step - loss: 0.1300 - accuracy: 0.9589 - val_loss: 0.1398 - val_accuracy: 0.9300\n",
            "Epoch 65/150\n",
            "5733/5733 [==============================] - 18s 3ms/step - loss: 0.0884 - accuracy: 0.9613 - val_loss: 0.0951 - val_accuracy: 0.9550\n",
            "Epoch 66/150\n",
            "5733/5733 [==============================] - 18s 3ms/step - loss: 0.0873 - accuracy: 0.9616 - val_loss: 0.1308 - val_accuracy: 0.9421\n",
            "Epoch 67/150\n",
            "5733/5733 [==============================] - 18s 3ms/step - loss: 0.0885 - accuracy: 0.9614 - val_loss: 0.1323 - val_accuracy: 0.9288\n",
            "Epoch 68/150\n",
            "5733/5733 [==============================] - 18s 3ms/step - loss: 0.0997 - accuracy: 0.9612 - val_loss: 0.0878 - val_accuracy: 0.9659\n",
            "Epoch 69/150\n",
            "5733/5733 [==============================] - 18s 3ms/step - loss: 0.0893 - accuracy: 0.9609 - val_loss: 0.0805 - val_accuracy: 0.9662\n",
            "Epoch 70/150\n",
            "5733/5733 [==============================] - 19s 3ms/step - loss: 0.0906 - accuracy: 0.9603 - val_loss: 0.0820 - val_accuracy: 0.9714\n",
            "Epoch 71/150\n",
            "5733/5733 [==============================] - 18s 3ms/step - loss: 0.0854 - accuracy: 0.9620 - val_loss: 0.0718 - val_accuracy: 0.9629\n",
            "Epoch 72/150\n",
            "5733/5733 [==============================] - 18s 3ms/step - loss: 0.0880 - accuracy: 0.9612 - val_loss: 0.0731 - val_accuracy: 0.9627\n",
            "Epoch 73/150\n",
            "5733/5733 [==============================] - 18s 3ms/step - loss: 0.0879 - accuracy: 0.9619 - val_loss: 0.0938 - val_accuracy: 0.9641\n",
            "Epoch 74/150\n",
            "5733/5733 [==============================] - 18s 3ms/step - loss: 0.0901 - accuracy: 0.9605 - val_loss: 0.3314 - val_accuracy: 0.9058\n",
            "Epoch 75/150\n",
            "5733/5733 [==============================] - 18s 3ms/step - loss: 0.0949 - accuracy: 0.9621 - val_loss: 0.1200 - val_accuracy: 0.9429\n",
            "Epoch 76/150\n",
            "5733/5733 [==============================] - 18s 3ms/step - loss: 0.0858 - accuracy: 0.9620 - val_loss: 0.1468 - val_accuracy: 0.9420\n",
            "Epoch 77/150\n",
            "5733/5733 [==============================] - 19s 3ms/step - loss: 0.0859 - accuracy: 0.9622 - val_loss: 0.1314 - val_accuracy: 0.9463\n",
            "Epoch 78/150\n",
            "5733/5733 [==============================] - 18s 3ms/step - loss: 0.0871 - accuracy: 0.9625 - val_loss: 0.2072 - val_accuracy: 0.9152\n",
            "Epoch 79/150\n",
            "5733/5733 [==============================] - 18s 3ms/step - loss: 0.0825 - accuracy: 0.9631 - val_loss: 0.0702 - val_accuracy: 0.9629\n",
            "Epoch 80/150\n",
            "5733/5733 [==============================] - 18s 3ms/step - loss: 0.0825 - accuracy: 0.9629 - val_loss: 0.1347 - val_accuracy: 0.9462\n",
            "Epoch 81/150\n",
            "5733/5733 [==============================] - 18s 3ms/step - loss: 0.1044 - accuracy: 0.9621 - val_loss: 0.0812 - val_accuracy: 0.9680\n",
            "Epoch 82/150\n",
            "5733/5733 [==============================] - 18s 3ms/step - loss: 0.0843 - accuracy: 0.9624 - val_loss: 0.1048 - val_accuracy: 0.9668\n",
            "Epoch 83/150\n",
            "5733/5733 [==============================] - 18s 3ms/step - loss: 0.0860 - accuracy: 0.9617 - val_loss: 0.1380 - val_accuracy: 0.9456\n",
            "Epoch 84/150\n",
            "5733/5733 [==============================] - 18s 3ms/step - loss: 0.0849 - accuracy: 0.9621 - val_loss: 0.0758 - val_accuracy: 0.9629\n",
            "Epoch 85/150\n",
            "5733/5733 [==============================] - 18s 3ms/step - loss: 0.0837 - accuracy: 0.9626 - val_loss: 0.1079 - val_accuracy: 0.9448\n",
            "Epoch 86/150\n",
            "5733/5733 [==============================] - 18s 3ms/step - loss: 0.0827 - accuracy: 0.9626 - val_loss: 0.0702 - val_accuracy: 0.9635\n",
            "Epoch 87/150\n",
            "5733/5733 [==============================] - 19s 3ms/step - loss: 0.0960 - accuracy: 0.9619 - val_loss: 0.0730 - val_accuracy: 0.9626\n",
            "Epoch 88/150\n",
            "5733/5733 [==============================] - 18s 3ms/step - loss: 0.0859 - accuracy: 0.9620 - val_loss: 0.0801 - val_accuracy: 0.9593\n",
            "Epoch 89/150\n",
            "5733/5733 [==============================] - 18s 3ms/step - loss: 0.0823 - accuracy: 0.9629 - val_loss: 0.0747 - val_accuracy: 0.9690\n",
            "Epoch 90/150\n",
            "5733/5733 [==============================] - 18s 3ms/step - loss: 0.0820 - accuracy: 0.9632 - val_loss: 0.0853 - val_accuracy: 0.9715\n",
            "Epoch 91/150\n",
            "5733/5733 [==============================] - 18s 3ms/step - loss: 0.0817 - accuracy: 0.9632 - val_loss: 0.0690 - val_accuracy: 0.9638\n",
            "Epoch 92/150\n",
            "5733/5733 [==============================] - 18s 3ms/step - loss: 0.0806 - accuracy: 0.9634 - val_loss: 0.0708 - val_accuracy: 0.9633\n",
            "Epoch 93/150\n",
            "5733/5733 [==============================] - 18s 3ms/step - loss: 0.0816 - accuracy: 0.9633 - val_loss: 0.0839 - val_accuracy: 0.9653\n",
            "Epoch 94/150\n",
            "5733/5733 [==============================] - 18s 3ms/step - loss: 0.0826 - accuracy: 0.9631 - val_loss: 0.1056 - val_accuracy: 0.9606\n",
            "Epoch 95/150\n",
            "5733/5733 [==============================] - 18s 3ms/step - loss: 0.0838 - accuracy: 0.9626 - val_loss: 0.1067 - val_accuracy: 0.9615\n",
            "Epoch 96/150\n",
            "5733/5733 [==============================] - 18s 3ms/step - loss: 0.0887 - accuracy: 0.9617 - val_loss: 0.0819 - val_accuracy: 0.9608\n",
            "Epoch 97/150\n",
            "5733/5733 [==============================] - 18s 3ms/step - loss: 0.0844 - accuracy: 0.9624 - val_loss: 0.1372 - val_accuracy: 0.9358\n",
            "Epoch 98/150\n",
            "5733/5733 [==============================] - 18s 3ms/step - loss: 0.0832 - accuracy: 0.9628 - val_loss: 0.1322 - val_accuracy: 0.9257\n",
            "Epoch 99/150\n",
            "5733/5733 [==============================] - 18s 3ms/step - loss: 0.0821 - accuracy: 0.9628 - val_loss: 0.0673 - val_accuracy: 0.9616\n",
            "Epoch 100/150\n",
            "5733/5733 [==============================] - 18s 3ms/step - loss: 0.0827 - accuracy: 0.9626 - val_loss: 0.0874 - val_accuracy: 0.9707\n",
            "Epoch 101/150\n",
            "5733/5733 [==============================] - 18s 3ms/step - loss: 0.0826 - accuracy: 0.9627 - val_loss: 0.0993 - val_accuracy: 0.9589\n",
            "Epoch 102/150\n",
            "5733/5733 [==============================] - 18s 3ms/step - loss: 0.0815 - accuracy: 0.9632 - val_loss: 0.2843 - val_accuracy: 0.9037\n",
            "Epoch 103/150\n",
            "5733/5733 [==============================] - 18s 3ms/step - loss: 0.0858 - accuracy: 0.9620 - val_loss: 0.0734 - val_accuracy: 0.9661\n",
            "Epoch 104/150\n",
            "5733/5733 [==============================] - 19s 3ms/step - loss: 0.0823 - accuracy: 0.9629 - val_loss: 0.0943 - val_accuracy: 0.9674\n",
            "Epoch 105/150\n",
            "5733/5733 [==============================] - 18s 3ms/step - loss: 0.0857 - accuracy: 0.9627 - val_loss: 0.0744 - val_accuracy: 0.9660\n",
            "Epoch 106/150\n",
            "5733/5733 [==============================] - 18s 3ms/step - loss: 0.0820 - accuracy: 0.9634 - val_loss: 0.1012 - val_accuracy: 0.9555\n",
            "Epoch 107/150\n",
            "5733/5733 [==============================] - 18s 3ms/step - loss: 0.0805 - accuracy: 0.9633 - val_loss: 0.1823 - val_accuracy: 0.9211\n",
            "Epoch 108/150\n",
            "5733/5733 [==============================] - 18s 3ms/step - loss: 0.0809 - accuracy: 0.9631 - val_loss: 0.0823 - val_accuracy: 0.9661\n",
            "Epoch 109/150\n",
            "5733/5733 [==============================] - 18s 3ms/step - loss: 0.0793 - accuracy: 0.9634 - val_loss: 0.0774 - val_accuracy: 0.9577\n",
            "Epoch 110/150\n",
            "5733/5733 [==============================] - 18s 3ms/step - loss: 0.0814 - accuracy: 0.9630 - val_loss: 0.1100 - val_accuracy: 0.9446\n",
            "Epoch 111/150\n",
            "5733/5733 [==============================] - 18s 3ms/step - loss: 0.0810 - accuracy: 0.9631 - val_loss: 0.1025 - val_accuracy: 0.9476\n",
            "Epoch 112/150\n",
            "5733/5733 [==============================] - 18s 3ms/step - loss: 0.0818 - accuracy: 0.9628 - val_loss: 0.1136 - val_accuracy: 0.9456\n",
            "Epoch 113/150\n",
            "5733/5733 [==============================] - 18s 3ms/step - loss: 0.0806 - accuracy: 0.9633 - val_loss: 0.0723 - val_accuracy: 0.9683\n",
            "Epoch 114/150\n",
            "5733/5733 [==============================] - 18s 3ms/step - loss: 0.0879 - accuracy: 0.9603 - val_loss: 0.1436 - val_accuracy: 0.9311\n",
            "Epoch 115/150\n",
            "5733/5733 [==============================] - 18s 3ms/step - loss: 0.0834 - accuracy: 0.9637 - val_loss: 0.0722 - val_accuracy: 0.9632\n",
            "Epoch 116/150\n",
            "5733/5733 [==============================] - 18s 3ms/step - loss: 0.0789 - accuracy: 0.9639 - val_loss: 0.0816 - val_accuracy: 0.9665\n",
            "Epoch 117/150\n",
            "5733/5733 [==============================] - 18s 3ms/step - loss: 0.0821 - accuracy: 0.9626 - val_loss: 0.1944 - val_accuracy: 0.9162\n",
            "Epoch 118/150\n",
            "5733/5733 [==============================] - 18s 3ms/step - loss: 0.0797 - accuracy: 0.9634 - val_loss: 0.0951 - val_accuracy: 0.9668\n",
            "Epoch 119/150\n",
            "5733/5733 [==============================] - 18s 3ms/step - loss: 0.1606 - accuracy: 0.9635 - val_loss: 0.0713 - val_accuracy: 0.9626\n",
            "Epoch 120/150\n",
            "5733/5733 [==============================] - 18s 3ms/step - loss: 0.0781 - accuracy: 0.9641 - val_loss: 0.1684 - val_accuracy: 0.9213\n",
            "Epoch 121/150\n",
            "5733/5733 [==============================] - 18s 3ms/step - loss: 0.0808 - accuracy: 0.9631 - val_loss: 0.0752 - val_accuracy: 0.9680\n",
            "Epoch 122/150\n",
            "5733/5733 [==============================] - 19s 3ms/step - loss: 0.0879 - accuracy: 0.9639 - val_loss: 0.0675 - val_accuracy: 0.9641\n",
            "Epoch 123/150\n",
            "5733/5733 [==============================] - 18s 3ms/step - loss: 0.0848 - accuracy: 0.9636 - val_loss: 0.0910 - val_accuracy: 0.9546\n",
            "Epoch 124/150\n",
            "5733/5733 [==============================] - 18s 3ms/step - loss: 0.0790 - accuracy: 0.9638 - val_loss: 0.0783 - val_accuracy: 0.9574\n",
            "Epoch 125/150\n",
            "5733/5733 [==============================] - 18s 3ms/step - loss: 0.0790 - accuracy: 0.9642 - val_loss: 0.0684 - val_accuracy: 0.9621\n",
            "Epoch 126/150\n",
            "5733/5733 [==============================] - 18s 3ms/step - loss: 0.0770 - accuracy: 0.9643 - val_loss: 0.1280 - val_accuracy: 0.9433\n",
            "Epoch 127/150\n",
            "5733/5733 [==============================] - 18s 3ms/step - loss: 0.0799 - accuracy: 0.9633 - val_loss: 0.0713 - val_accuracy: 0.9654\n",
            "Epoch 128/150\n",
            "5733/5733 [==============================] - 18s 3ms/step - loss: 0.0789 - accuracy: 0.9636 - val_loss: 0.0778 - val_accuracy: 0.9602\n",
            "Epoch 129/150\n",
            "5733/5733 [==============================] - 18s 3ms/step - loss: 0.0818 - accuracy: 0.9630 - val_loss: 0.2703 - val_accuracy: 0.9147\n",
            "Epoch 130/150\n",
            "5733/5733 [==============================] - 18s 3ms/step - loss: 0.0789 - accuracy: 0.9638 - val_loss: 0.0757 - val_accuracy: 0.9591\n",
            "Epoch 131/150\n",
            "5733/5733 [==============================] - 18s 3ms/step - loss: 0.0786 - accuracy: 0.9638 - val_loss: 0.0802 - val_accuracy: 0.9593\n",
            "Epoch 132/150\n",
            "5733/5733 [==============================] - 18s 3ms/step - loss: 0.0786 - accuracy: 0.9640 - val_loss: 0.1176 - val_accuracy: 0.9347\n",
            "Epoch 133/150\n",
            "5733/5733 [==============================] - 18s 3ms/step - loss: 0.0819 - accuracy: 0.9633 - val_loss: 0.0824 - val_accuracy: 0.9662\n",
            "Epoch 134/150\n",
            "5733/5733 [==============================] - 18s 3ms/step - loss: 0.0802 - accuracy: 0.9639 - val_loss: 0.0967 - val_accuracy: 0.9671\n",
            "Epoch 135/150\n",
            "5733/5733 [==============================] - 18s 3ms/step - loss: 0.0792 - accuracy: 0.9638 - val_loss: 0.0830 - val_accuracy: 0.9597\n",
            "Epoch 136/150\n",
            "5733/5733 [==============================] - 18s 3ms/step - loss: 0.0809 - accuracy: 0.9633 - val_loss: 0.0807 - val_accuracy: 0.9638\n",
            "Epoch 137/150\n",
            "5733/5733 [==============================] - 18s 3ms/step - loss: 0.0784 - accuracy: 0.9639 - val_loss: 0.0776 - val_accuracy: 0.9648\n",
            "Epoch 138/150\n",
            "5733/5733 [==============================] - 18s 3ms/step - loss: 0.0780 - accuracy: 0.9639 - val_loss: 0.0748 - val_accuracy: 0.9667\n",
            "Epoch 139/150\n",
            "5733/5733 [==============================] - 19s 3ms/step - loss: 0.0796 - accuracy: 0.9643 - val_loss: 0.1124 - val_accuracy: 0.9545\n",
            "Epoch 140/150\n",
            "5733/5733 [==============================] - 18s 3ms/step - loss: 0.0771 - accuracy: 0.9641 - val_loss: 0.1042 - val_accuracy: 0.9649\n",
            "Epoch 141/150\n",
            "5733/5733 [==============================] - 18s 3ms/step - loss: 0.0768 - accuracy: 0.9644 - val_loss: 0.0791 - val_accuracy: 0.9664\n",
            "Epoch 142/150\n",
            "5733/5733 [==============================] - 18s 3ms/step - loss: 0.0846 - accuracy: 0.9643 - val_loss: 0.0718 - val_accuracy: 0.9692\n",
            "Epoch 143/150\n",
            "5733/5733 [==============================] - 18s 3ms/step - loss: 0.0761 - accuracy: 0.9646 - val_loss: 0.0853 - val_accuracy: 0.9677\n",
            "Epoch 144/150\n",
            "5733/5733 [==============================] - 18s 3ms/step - loss: 0.0768 - accuracy: 0.9646 - val_loss: 0.0996 - val_accuracy: 0.9693\n",
            "Epoch 145/150\n",
            "5733/5733 [==============================] - 18s 3ms/step - loss: 0.0776 - accuracy: 0.9642 - val_loss: 0.0689 - val_accuracy: 0.9634\n",
            "Epoch 146/150\n",
            "5733/5733 [==============================] - 18s 3ms/step - loss: 0.0881 - accuracy: 0.9642 - val_loss: 0.0757 - val_accuracy: 0.9677\n",
            "Epoch 147/150\n",
            "5733/5733 [==============================] - 18s 3ms/step - loss: 0.0757 - accuracy: 0.9644 - val_loss: 0.1381 - val_accuracy: 0.9401\n",
            "Epoch 148/150\n",
            "5733/5733 [==============================] - 18s 3ms/step - loss: 0.0772 - accuracy: 0.9643 - val_loss: 0.0756 - val_accuracy: 0.9655\n",
            "Epoch 149/150\n",
            "5733/5733 [==============================] - 18s 3ms/step - loss: 0.0784 - accuracy: 0.9639 - val_loss: 0.1393 - val_accuracy: 0.9259\n",
            "Epoch 150/150\n",
            "5733/5733 [==============================] - 17s 3ms/step - loss: 0.0805 - accuracy: 0.9641 - val_loss: 0.0726 - val_accuracy: 0.9658\n"
          ],
          "name": "stdout"
        }
      ]
    },
    {
      "cell_type": "code",
      "metadata": {
        "id": "sJTDuBlk5V3A",
        "colab_type": "code",
        "outputId": "1f101e79-89d4-459b-b301-351413aacc89",
        "colab": {
          "base_uri": "https://localhost:8080/",
          "height": 294
        }
      },
      "source": [
        "# plotting the the training accuracy\n",
        "plot_Model_Accuracy(model_history)"
      ],
      "execution_count": 27,
      "outputs": [
        {
          "output_type": "display_data",
          "data": {
            "image/png": "[encoded data removed]",
            "text/plain": [
              "<Figure size 432x288 with 1 Axes>"
            ]
          },
          "metadata": {
            "tags": [],
            "needs_background": "light"
          }
        }
      ]
    },
    {
      "cell_type": "code",
      "metadata": {
        "id": "LC6RebaM5ast",
        "colab_type": "code",
        "outputId": "8dda4214-e0c5-4adb-87f8-dfd0ecda0cd7",
        "colab": {
          "base_uri": "https://localhost:8080/",
          "height": 294
        }
      },
      "source": [
        "# plotting the the training loss\n",
        "plot_Model_loss(model_history)"
      ],
      "execution_count": 28,
      "outputs": [
        {
          "output_type": "display_data",
          "data": {
            "image/png": "[encoded data removed]",
            "text/plain": [
              "<Figure size 432x288 with 1 Axes>"
            ]
          },
          "metadata": {
            "tags": [],
            "needs_background": "light"
          }
        }
      ]
    },
    {
      "cell_type": "code",
      "metadata": {
        "id": "Oye08sGa5y1c",
        "colab_type": "code",
        "outputId": "2a0efb79-6d6c-41d9-f549-3cdf220d9a76",
        "colab": {
          "base_uri": "https://localhost:8080/",
          "height": 1000
        }
      },
      "source": [
        "# Evaluating my model using CM, precsion, and recal\n",
        "preds, original_test_labels = get_Model_prediction(model, test_data, test_labels)\n",
        "get_Evaluation_matrics(preds, original_test_labels)"
      ],
      "execution_count": 29,
      "outputs": [
        {
          "output_type": "stream",
          "text": [
            "[1 0 0 ... 1 0 1]\n",
            "[1 0 0 ... 1 0 1]\n"
          ],
          "name": "stdout"
        },
        {
          "output_type": "display_data",
          "data": {
            "text/plain": [
              "<Figure size 432x288 with 0 Axes>"
            ]
          },
          "metadata": {
            "tags": []
          }
        },
        {
          "output_type": "display_data",
          "data": {
            "image/png": "[encoded data removed]",
            "text/plain": [
              "<Figure size 864x864 with 1 Axes>"
            ]
          },
          "metadata": {
            "tags": [],
            "needs_background": "light"
          }
        },
        {
          "output_type": "stream",
          "text": [
            "\n",
            "\n",
            "\n",
            "              precision    recall  f1-score   support\n",
            "\n",
            "           0       0.97      0.96      0.97    289145\n",
            "           1       0.96      0.97      0.96    247442\n",
            "           2       0.69      0.60      0.64        81\n",
            "           3       1.00      0.99      0.99     13597\n",
            "           4       1.00      0.23      0.38        13\n",
            "\n",
            "    accuracy                           0.97    550278\n",
            "   macro avg       0.92      0.75      0.79    550278\n",
            "weighted avg       0.97      0.97      0.97    550278\n",
            "\n"
          ],
          "name": "stdout"
        }
      ]
    },
    {
      "cell_type": "code",
      "metadata": {
        "id": "9LU-7zbt54QM",
        "colab_type": "code",
        "colab": {}
      },
      "source": [
        "# plotting the AUC for all my classes\n",
        "get_model_ROC_AUC_curve(preds, test_labels)"
      ],
      "execution_count": 0,
      "outputs": []
    },
    {
      "cell_type": "code",
      "metadata": {
        "id": "yN2O6s45JRIZ",
        "colab_type": "code",
        "colab": {}
      },
      "source": [
        "import sys\n",
        "import scipy\n",
        "import numpy\n",
        "import matplotlib\n",
        "import pandas\n",
        "import sklearn\n",
        "\n",
        "import numpy as np\n",
        "from sklearn.neighbors import KNeighborsClassifier\n",
        "from sklearn.svm import SVC\n",
        "from sklearn import model_selection\n",
        "from sklearn.metrics import classification_report\n",
        "from sklearn.metrics import accuracy_score\n",
        "from pandas.plotting import scatter_matrix\n",
        "import matplotlib.pyplot as plt\n",
        "import pandas as pd\n",
        "from sklearn import preprocessing"
      ],
      "execution_count": 0,
      "outputs": []
    },
    {
      "cell_type": "code",
      "metadata": {
        "id": "xMrpiPNjIxPY",
        "colab_type": "code",
        "outputId": "61318733-416e-4c2a-e23c-2c7e8c5a3ac8",
        "colab": {
          "base_uri": "https://localhost:8080/",
          "height": 72
        }
      },
      "source": [
        "# Testing Options\n",
        "seed = 8\n",
        "scoring = 'accuracy'\n",
        "\n",
        "# Define models to train\n",
        "models = []\n",
        "models.append(('KNN', KNeighborsClassifier(n_neighbors = 5)))\n",
        "models.append(('SVM', SVC()))\n",
        "\n",
        "# evaluate each model in turn\n",
        "results = []\n",
        "names = []\n",
        "\n",
        "for name, model in models:\n",
        "    kfold = model_selection.KFold(n_splits=10, random_state = seed)\n",
        "    cv_results = model_selection.cross_val_score(model, train_data, train_labels, cv=kfold, scoring=scoring)\n",
        "    results.append(cv_results)\n",
        "    names.append(name)\n",
        "    msg = \"%s: %f (%f)\" % (name, cv_results.mean(), cv_results.std())\n",
        "    print(msg)"
      ],
      "execution_count": 0,
      "outputs": [
        {
          "output_type": "stream",
          "text": [
            "/usr/local/lib/python3.6/dist-packages/sklearn/model_selection/_split.py:296: FutureWarning: Setting a random_state has no effect since shuffle is False. This will raise an error in 0.24. You should leave random_state to its default (None), or set shuffle=True.\n",
            "  FutureWarning\n"
          ],
          "name": "stderr"
        }
      ]
    },
    {
      "cell_type": "code",
      "metadata": {
        "id": "g4lzg08fJmcJ",
        "colab_type": "code",
        "colab": {}
      },
      "source": [
        "# Make predictions on validation dataset\n",
        "\n",
        "for name, model in models:\n",
        "    model.fit(train_data, train_labels)\n",
        "    predictions = model.predict(test_data)\n",
        "    print(name)\n",
        "    print(accuracy_score(test_labels, predictions))\n",
        "    print(classification_report(y_test, predictions))"
      ],
      "execution_count": 0,
      "outputs": []
    }
  ]
}