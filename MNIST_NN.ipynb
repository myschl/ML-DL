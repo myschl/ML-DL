{
  "nbformat": 4,
  "nbformat_minor": 0,
  "metadata": {
    "colab": {
      "name": "MNIST NN",
      "version": "0.3.2",
      "provenance": [],
      "include_colab_link": true
    },
    "kernelspec": {
      "name": "python3",
      "display_name": "Python 3"
    },
    "accelerator": "GPU"
  },
  "cells": [
    {
      "cell_type": "markdown",
      "metadata": {
        "id": "view-in-github",
        "colab_type": "text"
      },
      "source": [
        "<a href=\"https://colab.research.google.com/github/myschl/ML-DL/blob/master/MNIST_NN.ipynb\" target=\"_parent\"><img src=\"https://colab.research.google.com/assets/colab-badge.svg\" alt=\"Open In Colab\"/></a>"
      ]
    },
    {
      "cell_type": "code",
      "metadata": {
        "id": "KE8G0ELo8b5v",
        "colab_type": "code",
        "outputId": "97bbc1ac-2c9b-4049-967e-d8d014231c48",
        "colab": {
          "base_uri": "https://localhost:8080/",
          "height": 34
        }
      },
      "source": [
        "from tensorflow.keras import layers, models\n",
        "from tensorflow.keras.utils import normalize\n",
        "import pandas as pd\n",
        "import numpy as np\n",
        "from keras.datasets import mnist\n",
        "import matplotlib.pyplot as plt\n",
        "from sklearn.preprocessing import StandardScaler"
      ],
      "execution_count": 0,
      "outputs": [
        {
          "output_type": "stream",
          "text": [
            "Using TensorFlow backend.\n"
          ],
          "name": "stderr"
        }
      ]
    },
    {
      "cell_type": "code",
      "metadata": {
        "id": "Gv6FH450LRS_",
        "colab_type": "code",
        "colab": {}
      },
      "source": [
        "# mnist_train = pd.read_csv('/content/sample_data/mnist_train_small.csv')\n",
        "# mnist_test = pd.read_csv('/content/sample_data/mnist_test.csv')\n",
        "\n",
        "(X_train, y_train),(X_valid, y_valid) = mnist.load_data()\n",
        "\n",
        "X_train_r = X_train.copy()\n",
        "y_train_r = y_train.copy()\n",
        "\n",
        "\n",
        "X_train_r = normalize(X_train_r)\n",
        "y_train_r = normalize(y_train_r)\n",
        "\n",
        "X_valid = normalize(X_valid)\n",
        "y_valid = normalize(y_valid)\n",
        "\n",
        "# X_train_r = np.asarray(X_train_r)\n",
        "# y_train_r = np.asarray(y_train_r)\n",
        "\n",
        "# X_valid = np.asarray(X_valid).astype('float32')\n",
        "# y_valid = np.asarray(y_valid).astype('float32')"
      ],
      "execution_count": 0,
      "outputs": []
    },
    {
      "cell_type": "code",
      "metadata": {
        "id": "U6R5-cZ_SvDG",
        "colab_type": "code",
        "colab": {}
      },
      "source": [
        "# X_train_r = X_train_r.reshape((60000, 28 * 28))\n",
        "# X_train_r = X_train_r.astype('float32')/255\n",
        "\n",
        "# y_train_r = y_train_r.reshape((10000, 28 * 28))\n",
        "# y_train_r = y_train_r.astype('float32')/255\n",
        "\n",
        "\n",
        "# scaler = StandardScaler().fit(X_train_r)\n",
        "# X_train_s = scaler.fit_transform(X_train_r)\n",
        "\n",
        "# scaler2 = StandardScaler().fit(y_train_r)\n",
        "# y_train_s = scaler2.fit_transform(y_train_r)\n"
      ],
      "execution_count": 0,
      "outputs": []
    },
    {
      "cell_type": "code",
      "metadata": {
        "id": "b-5XQaWzY8jY",
        "colab_type": "code",
        "outputId": "b725e317-7ffd-4a5f-b98c-d7d90f94e3ee",
        "colab": {
          "base_uri": "https://localhost:8080/",
          "height": 34
        }
      },
      "source": [
        "X_train_r.shape"
      ],
      "execution_count": 0,
      "outputs": [
        {
          "output_type": "execute_result",
          "data": {
            "text/plain": [
              "(60000, 28, 28)"
            ]
          },
          "metadata": {
            "tags": []
          },
          "execution_count": 30
        }
      ]
    },
    {
      "cell_type": "code",
      "metadata": {
        "id": "zcEifEFAPofL",
        "colab_type": "code",
        "outputId": "9d0f24e4-10be-403a-b363-e11c6cd5cffb",
        "colab": {
          "base_uri": "https://localhost:8080/",
          "height": 269
        }
      },
      "source": [
        "plt.imshow(X_train[300], cmap = plt.cm.binary)\n",
        "plt.show()"
      ],
      "execution_count": 0,
      "outputs": [
        {
          "output_type": "display_data",
          "data": {
            "image/png": "[encoded data removed]",
            "text/plain": [
              "<Figure size 432x288 with 1 Axes>"
            ]
          },
          "metadata": {
            "tags": []
          }
        }
      ]
    },
    {
      "cell_type": "code",
      "metadata": {
        "id": "X7uU8_otL8cQ",
        "colab_type": "code",
        "outputId": "407e3e49-7dc9-4e40-b5bc-e900c5e33f8a",
        "colab": {
          "base_uri": "https://localhost:8080/",
          "height": 374
        }
      },
      "source": [
        "model = models.Sequential()\n",
        "model.add(layers.Flatten())\n",
        "model.add(layers.Dense(10, activation = 'relu', input_shape = (28 * 28, )))\n",
        "# model.add(layers.Dense(8, activation = 'relu'))\n",
        "# model.add(layers.Dense(16, activation = 'relu'))\n",
        "model.add(layers.Dense(10, activation = 'softmax')) \n",
        "\n",
        "model.compile(optimizer = 'rmsprop' ,\n",
        "             loss = 'categorical_crossentropy',\n",
        "             matrics = ['accuracy'])\n",
        "\n",
        "history = model.fit(X_train_r, y_train_r.T, \n",
        "                   epochs = 10, \n",
        "                   batch_size = 100,\n",
        "                   validation_data=(X_valid, y_valid.T))"
      ],
      "execution_count": 0,
      "outputs": [
        {
          "output_type": "stream",
          "text": [
            "Train on 60000 samples, validate on 10000 samples\n",
            "Epoch 1/10\n",
            "60000/60000 [==============================] - 4s 67us/sample - loss: 0.1355 - val_loss: 0.3972\n",
            "Epoch 2/10\n",
            "60000/60000 [==============================] - 2s 32us/sample - loss: 0.1630 - val_loss: 0.3999\n",
            "Epoch 3/10\n",
            "60000/60000 [==============================] - 2s 30us/sample - loss: 0.1578 - val_loss: 0.3837\n",
            "Epoch 4/10\n",
            "60000/60000 [==============================] - 2s 30us/sample - loss: 0.1508 - val_loss: 0.3716\n",
            "Epoch 5/10\n",
            "60000/60000 [==============================] - 2s 32us/sample - loss: 0.1438 - val_loss: 0.3447\n",
            "Epoch 6/10\n",
            "60000/60000 [==============================] - 2s 32us/sample - loss: 0.1360 - val_loss: 0.3197\n",
            "Epoch 7/10\n",
            "60000/60000 [==============================] - 2s 29us/sample - loss: 0.1273 - val_loss: 0.3170\n",
            "Epoch 8/10\n",
            "60000/60000 [==============================] - 2s 33us/sample - loss: 0.1182 - val_loss: 0.2829\n",
            "Epoch 9/10\n",
            "60000/60000 [==============================] - 2s 32us/sample - loss: 0.1050 - val_loss: 0.2396\n",
            "Epoch 10/10\n",
            "60000/60000 [==============================] - 2s 33us/sample - loss: 0.0859 - val_loss: 0.2018\n"
          ],
          "name": "stdout"
        }
      ]
    },
    {
      "cell_type": "code",
      "metadata": {
        "id": "593bIiV3P0jZ",
        "colab_type": "code",
        "outputId": "a988ac6a-e4f7-4dd1-9259-5423ecb7a691",
        "colab": {
          "base_uri": "https://localhost:8080/",
          "height": 34
        }
      },
      "source": [
        "history_keys = history.history\n",
        "history_keys.keys()"
      ],
      "execution_count": 0,
      "outputs": [
        {
          "output_type": "execute_result",
          "data": {
            "text/plain": [
              "dict_keys(['loss', 'val_loss'])"
            ]
          },
          "metadata": {
            "tags": []
          },
          "execution_count": 69
        }
      ]
    },
    {
      "cell_type": "code",
      "metadata": {
        "id": "iHuoIfDaQsYp",
        "colab_type": "code",
        "outputId": "a0f8a7dc-b812-400f-e833-c0ff4c6ef24b",
        "colab": {
          "base_uri": "https://localhost:8080/",
          "height": 295
        }
      },
      "source": [
        "history_dict = history.history\n",
        "loss_values = history_dict['loss']\n",
        "val_loss_values = history_dict['val_loss']\n",
        "epochs = range(1, 10 + 1)\n",
        "plt.plot(epochs, loss_values, 'bo', label='Training loss')\n",
        "plt.plot(epochs, val_loss_values, 'b', label='Validation loss')\n",
        "plt.title('Training and validation loss')\n",
        "plt.xlabel('Epochs')\n",
        "plt.ylabel('Loss')\n",
        "plt.legend()\n",
        "plt.show()"
      ],
      "execution_count": 0,
      "outputs": [
        {
          "output_type": "display_data",
          "data": {
            "image/png": "[encoded data removed]",
            "text/plain": [
              "<Figure size 432x288 with 1 Axes>"
            ]
          },
          "metadata": {
            "tags": []
          }
        }
      ]
    },
    {
      "cell_type": "code",
      "metadata": {
        "id": "7eoFdOPCM6xR",
        "colab_type": "code",
        "outputId": "84dc57b7-74bb-40b5-a258-bf3fb73312a3",
        "colab": {
          "base_uri": "https://localhost:8080/",
          "height": 34
        }
      },
      "source": [
        "scores.history"
      ],
      "execution_count": 0,
      "outputs": [
        {
          "output_type": "execute_result",
          "data": {
            "text/plain": [
              "{'loss': [0.10740356841087341, 0.11607370029687882]}"
            ]
          },
          "metadata": {
            "tags": []
          },
          "execution_count": 45
        }
      ]
    },
    {
      "cell_type": "code",
      "metadata": {
        "id": "RkS139fPNSS9",
        "colab_type": "code",
        "colab": {}
      },
      "source": [
        ""
      ],
      "execution_count": 0,
      "outputs": []
    },
    {
      "cell_type": "code",
      "metadata": {
        "id": "9r1nP-QkJU7N",
        "colab_type": "code",
        "outputId": "7407d5f5-29df-4b2e-b188-c62fd7c32b3b",
        "colab": {
          "base_uri": "https://localhost:8080/",
          "height": 34
        }
      },
      "source": [
        "y_valid = y_valid.T\n",
        "y_valid.shape"
      ],
      "execution_count": 0,
      "outputs": [
        {
          "output_type": "execute_result",
          "data": {
            "text/plain": [
              "(10000, 1)"
            ]
          },
          "metadata": {
            "tags": []
          },
          "execution_count": 118
        }
      ]
    },
    {
      "cell_type": "code",
      "metadata": {
        "id": "VhggydeWGnUI",
        "colab_type": "code",
        "outputId": "5f4fc8a6-d464-4698-b7b8-c3d876a9b9cb",
        "colab": {
          "base_uri": "https://localhost:8080/",
          "height": 51
        }
      },
      "source": [
        "loss = model.evaluate(X_valid, y_valid)\n",
        "\n",
        "print( loss)"
      ],
      "execution_count": 0,
      "outputs": [
        {
          "output_type": "stream",
          "text": [
            "10000/10000 [==============================] - 0s 34us/sample - loss: 0.2018\n",
            "0.20179340181350708\n"
          ],
          "name": "stdout"
        }
      ]
    }
  ]
}