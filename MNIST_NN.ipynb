{
  "nbformat": 4,
  "nbformat_minor": 0,
  "metadata": {
    "colab": {
      "name": "MNIST NN",
      "version": "0.3.2",
      "provenance": [],
      "include_colab_link": true
    },
    "kernelspec": {
      "name": "python3",
      "display_name": "Python 3"
    },
    "accelerator": "GPU"
  },
  "cells": [
    {
      "cell_type": "markdown",
      "metadata": {
        "id": "view-in-github",
        "colab_type": "text"
      },
      "source": [
        "<a href=\"https://colab.research.google.com/github/myschl/ML-DL/blob/master/MNIST_NN.ipynb\" target=\"_parent\"><img src=\"https://colab.research.google.com/assets/colab-badge.svg\" alt=\"Open In Colab\"/></a>"
      ]
    },
    {
      "cell_type": "code",
      "metadata": {
        "id": "KE8G0ELo8b5v",
        "colab_type": "code",
        "colab": {}
      },
      "source": [
        "from tensorflow.keras import layers, models\n",
        "from tensorflow.keras.utils import normalize\n",
        "from keras import regularizers\n",
        "import pandas as pd\n",
        "import numpy as np\n",
        "from keras.datasets import mnist\n",
        "import matplotlib.pyplot as plt\n",
        "from sklearn.preprocessing import StandardScaler"
      ],
      "execution_count": 0,
      "outputs": []
    },
    {
      "cell_type": "code",
      "metadata": {
        "id": "Gv6FH450LRS_",
        "colab_type": "code",
        "colab": {
          "base_uri": "https://localhost:8080/",
          "height": 51
        },
        "outputId": "0957a7af-00fc-4699-fcb7-04e7a0e6bd57"
      },
      "source": [
        "# mnist_train = pd.read_csv('/content/sample_data/mnist_train_small.csv')\n",
        "# mnist_test = pd.read_csv('/content/sample_data/mnist_test.csv')\n",
        "\n",
        "(X_train, y_train),(X_valid, y_valid) = mnist.load_data()\n",
        "\n",
        "X_train_r = X_train.copy()\n",
        "y_train_r = y_train.copy()\n",
        "\n",
        "# Tensors Normalization\n",
        "X_train_r = normalize(X_train_r)\n",
        "y_train_r = normalize(y_train_r)\n",
        "\n",
        "X_valid = normalize(X_valid)\n",
        "y_valid = normalize(y_valid)\n",
        "\n",
        "# X_train_r = np.asarray(X_train_r)\n",
        "# y_train_r = np.asarray(y_train_r)\n",
        "\n",
        "# X_valid = np.asarray(X_valid).astype('float32')\n",
        "# y_valid = np.asarray(y_valid).astype('float32')"
      ],
      "execution_count": 3,
      "outputs": [
        {
          "output_type": "stream",
          "text": [
            "Downloading data from https://s3.amazonaws.com/img-datasets/mnist.npz\n",
            "11493376/11490434 [==============================] - 2s 0us/step\n"
          ],
          "name": "stdout"
        }
      ]
    },
    {
      "cell_type": "code",
      "metadata": {
        "id": "0a34Cz_DOMmV",
        "colab_type": "code",
        "outputId": "c7cc38ab-0e00-4f57-d7a1-58acce4b9687",
        "colab": {
          "base_uri": "https://localhost:8080/",
          "height": 1000
        }
      },
      "source": [
        "X_valid[50]"
      ],
      "execution_count": 0,
      "outputs": [
        {
          "output_type": "execute_result",
          "data": {
            "text/plain": [
              "array([[  0,   0,   0,   0,   0,   0,   0,   0,   0,   0,   0,   0,   0,\n",
              "          0,   0,   0,   0,   0,   0,   0,   0,   0,   0,   0,   0,   0,\n",
              "          0,   0],\n",
              "       [  0,   0,   0,   0,   0,   0,   0,   0,   0,   0,   0,   0,   0,\n",
              "          0,   0,   0,   0,   0,   0,   0,   0,   0,   0,   0,   0,   0,\n",
              "          0,   0],\n",
              "       [  0,   0,   0,   0,   0,   0,   0,   0,   0,   0,   0,   0,   0,\n",
              "          0,   0,   0,   0,   0,   0,   0,   0,   0,   0,   0,   0,   0,\n",
              "          0,   0],\n",
              "       [  0,   0,   0,   0,   0,   0,   0,   0,   0,   0,   0,   0,   0,\n",
              "          0,   0,   0,  35, 156, 246,  58,   0,   0,   0,   0,   0,   0,\n",
              "          0,   0],\n",
              "       [  0,   0,   0,   0,   0,   0,   0,   0,   0,   0,   0,   0,   0,\n",
              "          0,   0,  28, 217, 253, 250,  54,   0,   0,   0,   0,   0,   0,\n",
              "          0,   0],\n",
              "       [  0,   0,   0,   0,   0,   0,   0,   0,   0,   0,   0,   0,   0,\n",
              "          0,   0, 127, 253, 253, 153,   0,   0,   0,   0,   0,   0,   0,\n",
              "          0,   0],\n",
              "       [  0,   0,   0,   0,   0,   0,   0,   0,   0,   0,   0,   0,   0,\n",
              "          0,  53, 246, 253, 195,   9,   0,   0,   0,   0,   0,   0,   0,\n",
              "          0,   0],\n",
              "       [  0,   0,   0,   0,   0,   0,   0,   0,   0,   0,   0,   0,   0,\n",
              "          0, 135, 254, 200,  18,   0,   0,   0,   0,   0,   0,   0,   0,\n",
              "          0,   0],\n",
              "       [  0,   0,   0,   0,   0,   0,   0,   0,   0,   0,   0,   0,   0,\n",
              "        100, 254, 241,  30,   0,   0,   0,   0,   0,   0,   0,   0,   0,\n",
              "          0,   0],\n",
              "       [  0,   0,   0,   0,   0,   0,   0,   0,   0,   0,   0,   0,   7,\n",
              "        183, 253, 105,   0,   0,   0,   0,   0,   0,   0,   0,   0,   0,\n",
              "          0,   0],\n",
              "       [  0,   0,   0,   0,   0,   0,   0,   0,   0,   0,   0,   0,  79,\n",
              "        253, 185,   0,   0,   0,   0,   0,   0,   0,   0,   0,   0,   0,\n",
              "          0,   0],\n",
              "       [  0,   0,   0,   0,   0,   0,   0,   0,   0,   0,   0, 191, 134,\n",
              "        216,  34,   0,   0,   0,   0,   0,   0,   0,   0,   0,   0,   0,\n",
              "          0,   0],\n",
              "       [  0,   0,   0,   0,   0,   0,   0,   0,   0,   0,  46, 244, 253,\n",
              "         79,   0,   0,   0,   0,   0,   0,   0,   0,   0,   0,   0,   0,\n",
              "          0,   0],\n",
              "       [  0,   0,   0,   0,   0,   0,   0,   0,   0,   0, 217, 254, 183,\n",
              "          8,   0,   0,   0,  41,  27,   0,   0,   0,   0,   0,   0,   0,\n",
              "          0,   0],\n",
              "       [  0,   0,   0,   0,   0,   0,   0,   0,   0,   0, 254, 253,  78,\n",
              "          0,  16, 140, 214, 241, 217,  72,   0,   0,   0,   0,   0,   0,\n",
              "          0,   0],\n",
              "       [  0,   0,   0,   0,   0,   0,   0,   0,   0,  61, 254, 247,  54,\n",
              "          0, 135, 152, 166, 253, 253, 223,   0,   0,   0,   0,   0,   0,\n",
              "          0,   0],\n",
              "       [  0,   0,   0,   0,   0,   0,   0,   0,   0, 195, 254, 180,   0,\n",
              "          0,   0,   0,  12, 223, 253, 253,  76,   0,   0,   0,   0,   0,\n",
              "          0,   0],\n",
              "       [  0,   0,   0,   0,   0,   0,   0,   0,   0, 195, 254,  99,   0,\n",
              "          0,   0,   0,  20, 253, 253, 215,   0,   0,   0,   0,   0,   0,\n",
              "          0,   0],\n",
              "       [  0,   0,   0,   0,   0,   0,   0,   0,   0, 196, 255, 136,   0,\n",
              "          0,   0,   0,  20, 254, 254, 133,   0,   0,   0,   0,   0,   0,\n",
              "          0,   0],\n",
              "       [  0,   0,   0,   0,   0,   0,   0,   0,   0, 195, 254, 190,  88,\n",
              "          2,   0,   5,  76, 253, 250,  54,   0,   0,   0,   0,   0,   0,\n",
              "          0,   0],\n",
              "       [  0,   0,   0,   0,   0,   0,   0,   0,   0, 128, 223, 253, 253,\n",
              "        166,  79, 156, 253, 253, 146,   0,   0,   0,   0,   0,   0,   0,\n",
              "          0,   0],\n",
              "       [  0,   0,   0,   0,   0,   0,   0,   0,   0,   8,  72, 202, 253,\n",
              "        253, 253, 254, 253, 225,  23,   0,   0,   0,   0,   0,   0,   0,\n",
              "          0,   0],\n",
              "       [  0,   0,   0,   0,   0,   0,   0,   0,   0,   0,   0,   5,  58,\n",
              "        200, 215, 193,  73,  18,   0,   0,   0,   0,   0,   0,   0,   0,\n",
              "          0,   0],\n",
              "       [  0,   0,   0,   0,   0,   0,   0,   0,   0,   0,   0,   0,   0,\n",
              "          0,   0,   0,   0,   0,   0,   0,   0,   0,   0,   0,   0,   0,\n",
              "          0,   0],\n",
              "       [  0,   0,   0,   0,   0,   0,   0,   0,   0,   0,   0,   0,   0,\n",
              "          0,   0,   0,   0,   0,   0,   0,   0,   0,   0,   0,   0,   0,\n",
              "          0,   0],\n",
              "       [  0,   0,   0,   0,   0,   0,   0,   0,   0,   0,   0,   0,   0,\n",
              "          0,   0,   0,   0,   0,   0,   0,   0,   0,   0,   0,   0,   0,\n",
              "          0,   0],\n",
              "       [  0,   0,   0,   0,   0,   0,   0,   0,   0,   0,   0,   0,   0,\n",
              "          0,   0,   0,   0,   0,   0,   0,   0,   0,   0,   0,   0,   0,\n",
              "          0,   0],\n",
              "       [  0,   0,   0,   0,   0,   0,   0,   0,   0,   0,   0,   0,   0,\n",
              "          0,   0,   0,   0,   0,   0,   0,   0,   0,   0,   0,   0,   0,\n",
              "          0,   0]], dtype=uint8)"
            ]
          },
          "metadata": {
            "tags": []
          },
          "execution_count": 11
        }
      ]
    },
    {
      "cell_type": "code",
      "metadata": {
        "id": "U6R5-cZ_SvDG",
        "colab_type": "code",
        "colab": {}
      },
      "source": [
        "# X_train_r = X_train_r.reshape((60000, 28 * 28))\n",
        "# X_train_r = X_train_r.astype('float32')/255\n",
        "\n",
        "# y_train_r = y_train_r.reshape((10000, 28 * 28))\n",
        "# y_train_r = y_train_r.astype('float32')/255\n",
        "\n",
        "\n",
        "# scaler = StandardScaler().fit(X_train_r)\n",
        "# X_train_s = scaler.fit_transform(X_train_r)\n",
        "\n",
        "# scaler2 = StandardScaler().fit(y_train_r)\n",
        "# y_train_s = scaler2.fit_transform(y_train_r)\n"
      ],
      "execution_count": 0,
      "outputs": []
    },
    {
      "cell_type": "code",
      "metadata": {
        "id": "b-5XQaWzY8jY",
        "colab_type": "code",
        "outputId": "b725e317-7ffd-4a5f-b98c-d7d90f94e3ee",
        "colab": {
          "base_uri": "https://localhost:8080/",
          "height": 34
        }
      },
      "source": [
        "X_train_r.shape"
      ],
      "execution_count": 0,
      "outputs": [
        {
          "output_type": "execute_result",
          "data": {
            "text/plain": [
              "(60000, 28, 28)"
            ]
          },
          "metadata": {
            "tags": []
          },
          "execution_count": 30
        }
      ]
    },
    {
      "cell_type": "code",
      "metadata": {
        "id": "zcEifEFAPofL",
        "colab_type": "code",
        "outputId": "76dde679-b333-4936-8a37-828a5eb79220",
        "colab": {
          "base_uri": "https://localhost:8080/",
          "height": 269
        }
      },
      "source": [
        "plt.imshow(X_train[300], cmap = plt.cm.binary)\n",
        "plt.show()"
      ],
      "execution_count": 0,
      "outputs": [
        {
          "output_type": "display_data",
          "data": {
            "image/png": "[encoded data removed]",
            "text/plain": [
              "<Figure size 432x288 with 1 Axes>"
            ]
          },
          "metadata": {
            "tags": []
          }
        }
      ]
    },
    {
      "cell_type": "code",
      "metadata": {
        "id": "X7uU8_otL8cQ",
        "colab_type": "code",
        "outputId": "60d93675-38a6-49a8-a9ec-b022537af058",
        "colab": {
          "base_uri": "https://localhost:8080/",
          "height": 445
        }
      },
      "source": [
        "model = models.Sequential()\n",
        "model.add(layers.Flatten())\n",
        "model.add(layers.Dense(10, activation = 'relu', input_shape = (28 * 28, )))\n",
        "# model.add(layers.Dense(8, activation = 'relu'))\n",
        "# model.add(layers.Dense(16, activation = 'relu'))\n",
        "model.add(layers.Dense(10, activation = 'softmax')) \n",
        "\n",
        "model.compile(optimizer = 'rmsprop' ,\n",
        "             loss = 'categorical_crossentropy',\n",
        "             matrics = ['accuracy'])\n",
        "\n",
        "history = model.fit(X_train_r, y_train_r.T, \n",
        "                   epochs = 10, \n",
        "                   batch_size = 100,\n",
        "                   validation_data=(X_valid, y_valid.T))"
      ],
      "execution_count": 4,
      "outputs": [
        {
          "output_type": "stream",
          "text": [
            "WARNING:tensorflow:From /usr/local/lib/python3.6/dist-packages/tensorflow/python/ops/init_ops.py:1251: calling VarianceScaling.__init__ (from tensorflow.python.ops.init_ops) with dtype is deprecated and will be removed in a future version.\n",
            "Instructions for updating:\n",
            "Call initializer instance with the dtype argument instead of passing it to the constructor\n",
            "Train on 60000 samples, validate on 10000 samples\n",
            "Epoch 1/10\n",
            "60000/60000 [==============================] - 6s 94us/sample - loss: 0.1474 - val_loss: 0.4197\n",
            "Epoch 2/10\n",
            "60000/60000 [==============================] - 2s 28us/sample - loss: 0.1687 - val_loss: 0.4045\n",
            "Epoch 3/10\n",
            "60000/60000 [==============================] - 2s 28us/sample - loss: 0.1602 - val_loss: 0.3821\n",
            "Epoch 4/10\n",
            "60000/60000 [==============================] - 2s 28us/sample - loss: 0.1530 - val_loss: 0.3710\n",
            "Epoch 5/10\n",
            "60000/60000 [==============================] - 2s 28us/sample - loss: 0.1475 - val_loss: 0.3635\n",
            "Epoch 6/10\n",
            "60000/60000 [==============================] - 2s 29us/sample - loss: 0.1428 - val_loss: 0.3548\n",
            "Epoch 7/10\n",
            "60000/60000 [==============================] - 2s 28us/sample - loss: 0.1370 - val_loss: 0.3317\n",
            "Epoch 8/10\n",
            "60000/60000 [==============================] - 2s 28us/sample - loss: 0.1318 - val_loss: 0.3196\n",
            "Epoch 9/10\n",
            "60000/60000 [==============================] - 2s 28us/sample - loss: 0.1275 - val_loss: 0.3004\n",
            "Epoch 10/10\n",
            "60000/60000 [==============================] - 2s 29us/sample - loss: 0.1231 - val_loss: 0.3022\n"
          ],
          "name": "stdout"
        }
      ]
    },
    {
      "cell_type": "code",
      "metadata": {
        "id": "593bIiV3P0jZ",
        "colab_type": "code",
        "outputId": "a988ac6a-e4f7-4dd1-9259-5423ecb7a691",
        "colab": {
          "base_uri": "https://localhost:8080/",
          "height": 34
        }
      },
      "source": [
        "history_keys = history.history\n",
        "history_keys.keys()"
      ],
      "execution_count": 0,
      "outputs": [
        {
          "output_type": "execute_result",
          "data": {
            "text/plain": [
              "dict_keys(['loss', 'val_loss'])"
            ]
          },
          "metadata": {
            "tags": []
          },
          "execution_count": 69
        }
      ]
    },
    {
      "cell_type": "code",
      "metadata": {
        "id": "f1DMpmlP8xG-",
        "colab_type": "code",
        "colab": {
          "base_uri": "https://localhost:8080/",
          "height": 374
        },
        "outputId": "8fad0695-b60d-4add-da4a-b792b6fa529d"
      },
      "source": [
        "model2 = models.Sequential()\n",
        "model2.add(layers.Flatten())\n",
        "model2.add(layers.Dense(10, kernel_regularizer = regularizers.l1(0.01) , activation = 'relu', input_shape = (28 * 28, )))\n",
        "# model2.add(layers.Dense(8, activation = 'relu'))\n",
        "# model2.add(layers.Dense(16, activation = 'relu'))\n",
        "model2.add(layers.Dense(10, activation = 'softmax')) \n",
        "\n",
        "model2.compile(optimizer = 'rmsprop' ,\n",
        "             loss = 'categorical_crossentropy',\n",
        "             matrics = ['accuracy'])\n",
        "\n",
        "history2 = model.fit(X_train_r, y_train_r.T, \n",
        "                   epochs = 10, \n",
        "                   batch_size = 100,\n",
        "                   validation_data=(X_valid, y_valid.T))"
      ],
      "execution_count": 19,
      "outputs": [
        {
          "output_type": "stream",
          "text": [
            "Train on 60000 samples, validate on 10000 samples\n",
            "Epoch 1/10\n",
            "60000/60000 [==============================] - 2s 28us/sample - loss: 0.0897 - val_loss: 0.2222\n",
            "Epoch 2/10\n",
            "60000/60000 [==============================] - 2s 29us/sample - loss: 0.0911 - val_loss: 0.2234\n",
            "Epoch 3/10\n",
            "60000/60000 [==============================] - 2s 29us/sample - loss: 0.0927 - val_loss: 0.2267\n",
            "Epoch 4/10\n",
            "60000/60000 [==============================] - 2s 28us/sample - loss: 0.0942 - val_loss: 0.2266\n",
            "Epoch 5/10\n",
            "60000/60000 [==============================] - 2s 29us/sample - loss: 0.0953 - val_loss: 0.2359\n",
            "Epoch 6/10\n",
            "60000/60000 [==============================] - 2s 29us/sample - loss: 0.0968 - val_loss: 0.2331\n",
            "Epoch 7/10\n",
            "60000/60000 [==============================] - 2s 29us/sample - loss: 0.0987 - val_loss: 0.2220\n",
            "Epoch 8/10\n",
            "60000/60000 [==============================] - 2s 31us/sample - loss: 0.0993 - val_loss: 0.2086\n",
            "Epoch 9/10\n",
            "60000/60000 [==============================] - 2s 32us/sample - loss: 0.1006 - val_loss: 0.2483\n",
            "Epoch 10/10\n",
            "60000/60000 [==============================] - 2s 30us/sample - loss: 0.1024 - val_loss: 0.2470\n"
          ],
          "name": "stdout"
        }
      ]
    },
    {
      "cell_type": "code",
      "metadata": {
        "id": "MzTwm48LA8H1",
        "colab_type": "code",
        "colab": {
          "base_uri": "https://localhost:8080/",
          "height": 374
        },
        "outputId": "9c162710-b336-400c-e3b8-618cc026a7c9"
      },
      "source": [
        "model3 = models.Sequential()\n",
        "model3.add(layers.Flatten())\n",
        "model3.add(layers.Dense(10, kernel_regularizer = regularizers.l1(0.01) , activation = 'relu', input_shape = (28 * 28, )))\n",
        "model3.add(layers.Dropout(0.5))\n",
        "# model3.add(layers.Dense(16, activation = 'relu'))\n",
        "model3.add(layers.Dense(10, activation = 'softmax')) \n",
        "\n",
        "model3.compile(optimizer = 'rmsprop' ,\n",
        "             loss = 'categorical_crossentropy',\n",
        "             matrics = ['accuracy'])\n",
        "\n",
        "history3 = model.fit(X_train_r, y_train_r.T, \n",
        "                   epochs = 10, \n",
        "                   batch_size = 100,\n",
        "                   validation_data=(X_valid, y_valid.T))"
      ],
      "execution_count": 21,
      "outputs": [
        {
          "output_type": "stream",
          "text": [
            "Train on 60000 samples, validate on 10000 samples\n",
            "Epoch 1/10\n",
            "60000/60000 [==============================] - 2s 31us/sample - loss: 0.1048 - val_loss: 0.2863\n",
            "Epoch 2/10\n",
            "60000/60000 [==============================] - 2s 30us/sample - loss: 0.1068 - val_loss: 0.2812\n",
            "Epoch 3/10\n",
            "60000/60000 [==============================] - 2s 29us/sample - loss: 0.1100 - val_loss: 0.2404\n",
            "Epoch 4/10\n",
            "60000/60000 [==============================] - 2s 29us/sample - loss: 0.1120 - val_loss: 0.2498\n",
            "Epoch 5/10\n",
            "60000/60000 [==============================] - 2s 28us/sample - loss: 0.1153 - val_loss: 0.2790\n",
            "Epoch 6/10\n",
            "60000/60000 [==============================] - 2s 28us/sample - loss: 0.1185 - val_loss: 0.3528\n",
            "Epoch 7/10\n",
            "60000/60000 [==============================] - 2s 28us/sample - loss: 0.1219 - val_loss: 0.2859\n",
            "Epoch 8/10\n",
            "60000/60000 [==============================] - 2s 29us/sample - loss: 0.1245 - val_loss: 0.3073\n",
            "Epoch 9/10\n",
            "60000/60000 [==============================] - 2s 29us/sample - loss: 0.1278 - val_loss: 0.3461\n",
            "Epoch 10/10\n",
            "60000/60000 [==============================] - 2s 28us/sample - loss: 0.1315 - val_loss: 0.3177\n"
          ],
          "name": "stdout"
        }
      ]
    },
    {
      "cell_type": "code",
      "metadata": {
        "id": "iHuoIfDaQsYp",
        "colab_type": "code",
        "outputId": "1849ac36-a7dd-4b5a-b24b-b5a92f127595",
        "colab": {
          "base_uri": "https://localhost:8080/",
          "height": 295
        }
      },
      "source": [
        "history_dict = history.history\n",
        "loss_values = history_dict['loss']\n",
        "val_loss_values = history_dict['val_loss']\n",
        "\n",
        "history_dict2 = history2.history\n",
        "loss_values2 = history_dict2['loss']\n",
        "val_loss_values2 = history_dict2['val_loss']\n",
        "\n",
        "history_dict3 = history3.history\n",
        "loss_values3 = history_dict3['loss']\n",
        "val_loss_values3 = history_dict3['val_loss']\n",
        "\n",
        "epochs = range(1, 10 + 1)\n",
        "plt.plot(epochs, val_loss_values, 'b-', label='original model')\n",
        "plt.plot(epochs, val_loss_values2, 'r-', label='weight regularizer model')\n",
        "plt.plot(epochs, val_loss_values3, 'g-', label='Dropout model')\n",
        "plt.title('validation loss')\n",
        "plt.xlabel('Epochs')\n",
        "plt.ylabel('Loss')\n",
        "plt.legend()\n",
        "plt.show()"
      ],
      "execution_count": 28,
      "outputs": [
        {
          "output_type": "display_data",
          "data": {
            "image/png": "[encoded data removed]",
            "text/plain": [
              "<Figure size 432x288 with 1 Axes>"
            ]
          },
          "metadata": {
            "tags": []
          }
        }
      ]
    },
    {
      "cell_type": "code",
      "metadata": {
        "id": "7eoFdOPCM6xR",
        "colab_type": "code",
        "outputId": "84dc57b7-74bb-40b5-a258-bf3fb73312a3",
        "colab": {
          "base_uri": "https://localhost:8080/",
          "height": 34
        }
      },
      "source": [
        "scores.history"
      ],
      "execution_count": 0,
      "outputs": [
        {
          "output_type": "execute_result",
          "data": {
            "text/plain": [
              "{'loss': [0.10740356841087341, 0.11607370029687882]}"
            ]
          },
          "metadata": {
            "tags": []
          },
          "execution_count": 45
        }
      ]
    },
    {
      "cell_type": "code",
      "metadata": {
        "id": "RkS139fPNSS9",
        "colab_type": "code",
        "colab": {}
      },
      "source": [
        ""
      ],
      "execution_count": 0,
      "outputs": []
    },
    {
      "cell_type": "code",
      "metadata": {
        "id": "9r1nP-QkJU7N",
        "colab_type": "code",
        "outputId": "7407d5f5-29df-4b2e-b188-c62fd7c32b3b",
        "colab": {
          "base_uri": "https://localhost:8080/",
          "height": 34
        }
      },
      "source": [
        "y_valid = y_valid.T\n",
        "y_valid.shape"
      ],
      "execution_count": 0,
      "outputs": [
        {
          "output_type": "execute_result",
          "data": {
            "text/plain": [
              "(10000, 1)"
            ]
          },
          "metadata": {
            "tags": []
          },
          "execution_count": 118
        }
      ]
    },
    {
      "cell_type": "code",
      "metadata": {
        "id": "VhggydeWGnUI",
        "colab_type": "code",
        "outputId": "5f4fc8a6-d464-4698-b7b8-c3d876a9b9cb",
        "colab": {
          "base_uri": "https://localhost:8080/",
          "height": 51
        }
      },
      "source": [
        "loss = model.evaluate(X_valid, y_valid)\n",
        "\n",
        "print( loss)"
      ],
      "execution_count": 0,
      "outputs": [
        {
          "output_type": "stream",
          "text": [
            "10000/10000 [==============================] - 0s 34us/sample - loss: 0.2018\n",
            "0.20179340181350708\n"
          ],
          "name": "stdout"
        }
      ]
    }
  ]
}