{
  "nbformat": 4,
  "nbformat_minor": 0,
  "metadata": {
    "colab": {
      "name": "MNIST NN",
      "version": "0.3.2",
      "provenance": [],
      "include_colab_link": true
    },
    "kernelspec": {
      "name": "python3",
      "display_name": "Python 3"
    },
    "accelerator": "GPU"
  },
  "cells": [
    {
      "cell_type": "markdown",
      "metadata": {
        "id": "view-in-github",
        "colab_type": "text"
      },
      "source": [
        "<a href=\"https://colab.research.google.com/github/myschl/ML-DL/blob/master/MNIST_NN.ipynb\" target=\"_parent\"><img src=\"https://colab.research.google.com/assets/colab-badge.svg\" alt=\"Open In Colab\"/></a>"
      ]
    },
    {
      "cell_type": "code",
      "metadata": {
        "id": "KE8G0ELo8b5v",
        "colab_type": "code",
        "colab": {
          "base_uri": "https://localhost:8080/",
          "height": 34
        },
        "outputId": "440b85d8-c96b-429d-9f6e-1ab8cda871d6"
      },
      "source": [
        "from tensorflow.keras import layers, models\n",
        "from tensorflow.keras.utils import normalize\n",
        "from keras import regularizers\n",
        "import pandas as pd\n",
        "import numpy as np\n",
        "from keras.datasets import mnist\n",
        "import matplotlib.pyplot as plt\n",
        "from sklearn.preprocessing import StandardScaler"
      ],
      "execution_count": 1,
      "outputs": [
        {
          "output_type": "stream",
          "text": [
            "Using TensorFlow backend.\n"
          ],
          "name": "stderr"
        }
      ]
    },
    {
      "cell_type": "code",
      "metadata": {
        "id": "Gv6FH450LRS_",
        "colab_type": "code",
        "outputId": "0075b967-1919-41df-d3a6-04ed4fc0db87",
        "colab": {
          "base_uri": "https://localhost:8080/",
          "height": 51
        }
      },
      "source": [
        "# mnist_train = pd.read_csv('/content/sample_data/mnist_train_small.csv')\n",
        "# mnist_test = pd.read_csv('/content/sample_data/mnist_test.csv')\n",
        "\n",
        "(X_train, y_train),(X_valid, y_valid) = mnist.load_data()\n",
        "\n",
        "X_train_r = X_train.copy()\n",
        "y_train_r = y_train.copy()\n",
        "\n",
        "# Tensors Normalization\n",
        "X_train_r = normalize(X_train_r)\n",
        "y_train_r = normalize(y_train_r)\n",
        "\n",
        "X_valid = normalize(X_valid)\n",
        "y_valid = normalize(y_valid)\n",
        "\n",
        "# X_train_r = np.asarray(X_train_r)\n",
        "# y_train_r = np.asarray(y_train_r)\n",
        "\n",
        "# X_valid = np.asarray(X_valid).astype('float32')\n",
        "# y_valid = np.asarray(y_valid).astype('float32')"
      ],
      "execution_count": 2,
      "outputs": [
        {
          "output_type": "stream",
          "text": [
            "Downloading data from https://s3.amazonaws.com/img-datasets/mnist.npz\n",
            "11493376/11490434 [==============================] - 21s 2us/step\n"
          ],
          "name": "stdout"
        }
      ]
    },
    {
      "cell_type": "code",
      "metadata": {
        "id": "0a34Cz_DOMmV",
        "colab_type": "code",
        "colab": {}
      },
      "source": [
        "X_valid[50]"
      ],
      "execution_count": 0,
      "outputs": []
    },
    {
      "cell_type": "code",
      "metadata": {
        "id": "U6R5-cZ_SvDG",
        "colab_type": "code",
        "colab": {}
      },
      "source": [
        "# X_train_r = X_train_r.reshape((60000, 28 * 28))\n",
        "# X_train_r = X_train_r.astype('float32')/255\n",
        "\n",
        "# y_train_r = y_train_r.reshape((10000, 28 * 28))\n",
        "# y_train_r = y_train_r.astype('float32')/255\n",
        "\n",
        "\n",
        "# scaler = StandardScaler().fit(X_train_r)\n",
        "# X_train_s = scaler.fit_transform(X_train_r)\n",
        "\n",
        "# scaler2 = StandardScaler().fit(y_train_r)\n",
        "# y_train_s = scaler2.fit_transform(y_train_r)\n"
      ],
      "execution_count": 0,
      "outputs": []
    },
    {
      "cell_type": "code",
      "metadata": {
        "id": "b-5XQaWzY8jY",
        "colab_type": "code",
        "outputId": "b725e317-7ffd-4a5f-b98c-d7d90f94e3ee",
        "colab": {
          "base_uri": "https://localhost:8080/",
          "height": 34
        }
      },
      "source": [
        "X_train_r.shape"
      ],
      "execution_count": 0,
      "outputs": [
        {
          "output_type": "execute_result",
          "data": {
            "text/plain": [
              "(60000, 28, 28)"
            ]
          },
          "metadata": {
            "tags": []
          },
          "execution_count": 30
        }
      ]
    },
    {
      "cell_type": "code",
      "metadata": {
        "id": "zcEifEFAPofL",
        "colab_type": "code",
        "outputId": "76dde679-b333-4936-8a37-828a5eb79220",
        "colab": {
          "base_uri": "https://localhost:8080/",
          "height": 269
        }
      },
      "source": [
        "plt.imshow(X_train[300], cmap = plt.cm.binary)\n",
        "plt.show()"
      ],
      "execution_count": 0,
      "outputs": [
        {
          "output_type": "display_data",
          "data": {
            "image/png": "[encoded data removed]",
            "text/plain": [
              "<Figure size 432x288 with 1 Axes>"
            ]
          },
          "metadata": {
            "tags": []
          }
        }
      ]
    },
    {
      "cell_type": "code",
      "metadata": {
        "id": "X7uU8_otL8cQ",
        "colab_type": "code",
        "outputId": "84fa3633-eb6c-4cd9-d849-6b8901d803bc",
        "colab": {
          "base_uri": "https://localhost:8080/",
          "height": 445
        }
      },
      "source": [
        "model = models.Sequential()\n",
        "model.add(layers.Flatten())\n",
        "model.add(layers.Dense(10, activation = 'relu', input_shape = (28 * 28, )))\n",
        "# model.add(layers.Dense(8, activation = 'relu'))\n",
        "# model.add(layers.Dense(16, activation = 'relu'))\n",
        "model.add(layers.Dense(10, activation = 'softmax')) \n",
        "\n",
        "model.compile(optimizer = 'rmsprop' ,\n",
        "             loss = 'categorical_crossentropy',\n",
        "             matrics = ['accuracy'])\n",
        "\n",
        "history = model.fit(X_train_r, y_train_r.T, \n",
        "                   epochs = 10, \n",
        "                   batch_size = 100,\n",
        "                   validation_data=(X_valid, y_valid.T))"
      ],
      "execution_count": 3,
      "outputs": [
        {
          "output_type": "stream",
          "text": [
            "WARNING:tensorflow:From /usr/local/lib/python3.6/dist-packages/tensorflow/python/ops/init_ops.py:1251: calling VarianceScaling.__init__ (from tensorflow.python.ops.init_ops) with dtype is deprecated and will be removed in a future version.\n",
            "Instructions for updating:\n",
            "Call initializer instance with the dtype argument instead of passing it to the constructor\n",
            "Train on 60000 samples, validate on 10000 samples\n",
            "Epoch 1/10\n",
            "60000/60000 [==============================] - 7s 109us/sample - loss: 0.1233 - val_loss: 0.3103\n",
            "Epoch 2/10\n",
            "60000/60000 [==============================] - 2s 29us/sample - loss: 0.1260 - val_loss: 0.3035\n",
            "Epoch 3/10\n",
            "60000/60000 [==============================] - 2s 28us/sample - loss: 0.1238 - val_loss: 0.3041\n",
            "Epoch 4/10\n",
            "60000/60000 [==============================] - 2s 29us/sample - loss: 0.1216 - val_loss: 0.2966\n",
            "Epoch 5/10\n",
            "60000/60000 [==============================] - 2s 28us/sample - loss: 0.1189 - val_loss: 0.2865\n",
            "Epoch 6/10\n",
            "60000/60000 [==============================] - 2s 28us/sample - loss: 0.1157 - val_loss: 0.2808\n",
            "Epoch 7/10\n",
            "60000/60000 [==============================] - 2s 28us/sample - loss: 0.1123 - val_loss: 0.2693\n",
            "Epoch 8/10\n",
            "60000/60000 [==============================] - 2s 27us/sample - loss: 0.1086 - val_loss: 0.2608\n",
            "Epoch 9/10\n",
            "60000/60000 [==============================] - 2s 28us/sample - loss: 0.1043 - val_loss: 0.2464\n",
            "Epoch 10/10\n",
            "60000/60000 [==============================] - 2s 28us/sample - loss: 0.0984 - val_loss: 0.2255\n"
          ],
          "name": "stdout"
        }
      ]
    },
    {
      "cell_type": "code",
      "metadata": {
        "id": "593bIiV3P0jZ",
        "colab_type": "code",
        "outputId": "a988ac6a-e4f7-4dd1-9259-5423ecb7a691",
        "colab": {
          "base_uri": "https://localhost:8080/",
          "height": 34
        }
      },
      "source": [
        "history_keys = history.history\n",
        "history_keys.keys()"
      ],
      "execution_count": 0,
      "outputs": [
        {
          "output_type": "execute_result",
          "data": {
            "text/plain": [
              "dict_keys(['loss', 'val_loss'])"
            ]
          },
          "metadata": {
            "tags": []
          },
          "execution_count": 69
        }
      ]
    },
    {
      "cell_type": "code",
      "metadata": {
        "id": "EGFePXTkOWiE",
        "colab_type": "code",
        "colab": {
          "base_uri": "https://localhost:8080/",
          "height": 295
        },
        "outputId": "eb57d3a2-2069-477a-8147-523f6eb0ee96"
      },
      "source": [
        "history_dict = history.history\n",
        "loss_values = history_dict['loss']\n",
        "val_loss_values = history_dict['val_loss']\n",
        "\n",
        "epochs = range(1, 10 + 1)\n",
        "plt.plot(epochs, loss_values, 'b-', label='training loos')\n",
        "plt.plot(epochs, val_loss_values, 'r-', label='validation loss')\n",
        "plt.title('trainin/validation loss')\n",
        "plt.xlabel('Epochs')\n",
        "plt.ylabel('Loss')\n",
        "plt.legend()\n",
        "plt.show()"
      ],
      "execution_count": 4,
      "outputs": [
        {
          "output_type": "display_data",
          "data": {
            "image/png": "[encoded data removed]",
            "text/plain": [
              "<Figure size 432x288 with 1 Axes>"
            ]
          },
          "metadata": {
            "tags": []
          }
        }
      ]
    },
    {
      "cell_type": "code",
      "metadata": {
        "id": "f1DMpmlP8xG-",
        "colab_type": "code",
        "outputId": "d9f1ac79-7e4c-406b-d72a-2c1e2a2e6752",
        "colab": {
          "base_uri": "https://localhost:8080/",
          "height": 374
        }
      },
      "source": [
        "model2 = models.Sequential()\n",
        "model2.add(layers.Flatten())\n",
        "model2.add(layers.Dense(10, kernel_regularizer = regularizers.l1(0.01) , activation = 'relu', input_shape = (28 * 28, )))\n",
        "# model2.add(layers.Dense(8, activation = 'relu'))\n",
        "# model2.add(layers.Dense(16, activation = 'relu'))\n",
        "model2.add(layers.Dense(10, activation = 'softmax')) \n",
        "\n",
        "model2.compile(optimizer = 'rmsprop' ,\n",
        "             loss = 'categorical_crossentropy',\n",
        "             matrics = ['accuracy'])\n",
        "\n",
        "history2 = model.fit(X_train_r, y_train_r.T, \n",
        "                   epochs = 10, \n",
        "                   batch_size = 100,\n",
        "                   validation_data=(X_valid, y_valid.T))"
      ],
      "execution_count": 5,
      "outputs": [
        {
          "output_type": "stream",
          "text": [
            "Train on 60000 samples, validate on 10000 samples\n",
            "Epoch 1/10\n",
            "60000/60000 [==============================] - 2s 28us/sample - loss: 0.0885 - val_loss: 0.2043\n",
            "Epoch 2/10\n",
            "60000/60000 [==============================] - 2s 27us/sample - loss: 0.0827 - val_loss: 0.2025\n",
            "Epoch 3/10\n",
            "60000/60000 [==============================] - 2s 27us/sample - loss: 0.0845 - val_loss: 0.2100\n",
            "Epoch 4/10\n",
            "60000/60000 [==============================] - 2s 27us/sample - loss: 0.0866 - val_loss: 0.2154\n",
            "Epoch 5/10\n",
            "60000/60000 [==============================] - 2s 27us/sample - loss: 0.0888 - val_loss: 0.2224\n",
            "Epoch 6/10\n",
            "60000/60000 [==============================] - 2s 27us/sample - loss: 0.0911 - val_loss: 0.2262\n",
            "Epoch 7/10\n",
            "60000/60000 [==============================] - 2s 28us/sample - loss: 0.0933 - val_loss: 0.2339\n",
            "Epoch 8/10\n",
            "60000/60000 [==============================] - 2s 27us/sample - loss: 0.0953 - val_loss: 0.2304\n",
            "Epoch 9/10\n",
            "60000/60000 [==============================] - 2s 28us/sample - loss: 0.0978 - val_loss: 0.2152\n",
            "Epoch 10/10\n",
            "60000/60000 [==============================] - 2s 27us/sample - loss: 0.1012 - val_loss: 0.2473\n"
          ],
          "name": "stdout"
        }
      ]
    },
    {
      "cell_type": "code",
      "metadata": {
        "id": "Zbn4-j0OPGho",
        "colab_type": "code",
        "colab": {
          "base_uri": "https://localhost:8080/",
          "height": 295
        },
        "outputId": "62f97a0d-2170-4ce2-c335-2b424b03065b"
      },
      "source": [
        "history_dict2 = history2.history\n",
        "loss_values2 = history_dict2['loss']\n",
        "val_loss_values2 = history_dict2['val_loss']\n",
        "\n",
        "epochs = range(1, 10 + 1)\n",
        "plt.plot(epochs, loss_values2, 'b-', label='training loos')\n",
        "plt.plot(epochs, val_loss_values2, 'r-', label='validation loss')\n",
        "plt.title('trainin/validation loss weight regularizer')\n",
        "plt.xlabel('Epochs')\n",
        "plt.ylabel('Loss')\n",
        "plt.legend()\n",
        "plt.show()"
      ],
      "execution_count": 38,
      "outputs": [
        {
          "output_type": "display_data",
          "data": {
            "image/png": "[encoded data removed]",
            "text/plain": [
              "<Figure size 432x288 with 1 Axes>"
            ]
          },
          "metadata": {
            "tags": []
          }
        }
      ]
    },
    {
      "cell_type": "code",
      "metadata": {
        "id": "MzTwm48LA8H1",
        "colab_type": "code",
        "outputId": "986cfce8-1700-4f85-a051-e1f8dbb0103d",
        "colab": {
          "base_uri": "https://localhost:8080/",
          "height": 374
        }
      },
      "source": [
        "model3 = models.Sequential()\n",
        "model3.add(layers.Flatten())\n",
        "model3.add(layers.Dense(32, activation = 'relu', input_shape = (28 * 28, )))\n",
        "model3.add(layers.Dropout(0.5))\n",
        "# model3.add(layers.Dense(16, activation = 'relu'))\n",
        "# model3.add(layers.Dropout(0.5))\n",
        "model3.add(layers.Dense(10, activation = 'softmax')) \n",
        "\n",
        "model3.compile(optimizer = 'rmsprop' ,\n",
        "             loss = 'categorical_crossentropy',\n",
        "             matrics = ['accuracy'])\n",
        "\n",
        "history3 = model.fit(X_train_r, y_train_r.T, \n",
        "                   epochs = 10, \n",
        "                   batch_size = 100,\n",
        "                   validation_data=(X_valid, y_valid.T))"
      ],
      "execution_count": 35,
      "outputs": [
        {
          "output_type": "stream",
          "text": [
            "Train on 60000 samples, validate on 10000 samples\n",
            "Epoch 1/10\n",
            "60000/60000 [==============================] - 2s 28us/sample - loss: 1.8158 - val_loss: 4.4753\n",
            "Epoch 2/10\n",
            "60000/60000 [==============================] - 2s 27us/sample - loss: 1.8239 - val_loss: 4.4320\n",
            "Epoch 3/10\n",
            "60000/60000 [==============================] - 2s 28us/sample - loss: 1.8317 - val_loss: 4.5149\n",
            "Epoch 4/10\n",
            "60000/60000 [==============================] - 2s 28us/sample - loss: 1.8397 - val_loss: 4.4821\n",
            "Epoch 5/10\n",
            "60000/60000 [==============================] - 2s 27us/sample - loss: 1.8478 - val_loss: 4.5515\n",
            "Epoch 6/10\n",
            "60000/60000 [==============================] - 2s 28us/sample - loss: 1.8557 - val_loss: 4.4468\n",
            "Epoch 7/10\n",
            "60000/60000 [==============================] - 2s 27us/sample - loss: 1.8634 - val_loss: 4.4779\n",
            "Epoch 8/10\n",
            "60000/60000 [==============================] - 2s 27us/sample - loss: 1.8712 - val_loss: 4.5890\n",
            "Epoch 9/10\n",
            "60000/60000 [==============================] - 2s 28us/sample - loss: 1.8793 - val_loss: 4.7456\n",
            "Epoch 10/10\n",
            "60000/60000 [==============================] - 2s 27us/sample - loss: 1.8872 - val_loss: 4.5873\n"
          ],
          "name": "stdout"
        }
      ]
    },
    {
      "cell_type": "code",
      "metadata": {
        "id": "MU_H--qUPWn7",
        "colab_type": "code",
        "colab": {
          "base_uri": "https://localhost:8080/",
          "height": 295
        },
        "outputId": "2b7e2f1d-67d8-4407-b453-8c688934ffb2"
      },
      "source": [
        "history_dict3 = history3.history\n",
        "loss_values3 = history_dict['loss']\n",
        "val_loss_values3 = history_dict3['val_loss']\n",
        "\n",
        "epochs = range(1, 10 + 1)\n",
        "plt.plot(epochs, loss_values3, 'b-', label='training loos')\n",
        "plt.plot(epochs, val_loss_values3, 'r-', label='validation loss')\n",
        "plt.title('trainin/validation loss Dropout')\n",
        "plt.xlabel('Epochs')\n",
        "plt.ylabel('Loss')\n",
        "plt.legend()\n",
        "plt.show()"
      ],
      "execution_count": 36,
      "outputs": [
        {
          "output_type": "display_data",
          "data": {
            "image/png": "[encoded data removed]",
            "text/plain": [
              "<Figure size 432x288 with 1 Axes>"
            ]
          },
          "metadata": {
            "tags": []
          }
        }
      ]
    },
    {
      "cell_type": "code",
      "metadata": {
        "id": "iHuoIfDaQsYp",
        "colab_type": "code",
        "outputId": "712f1e8e-e98b-4452-d2d4-7f2e39f27bd0",
        "colab": {
          "base_uri": "https://localhost:8080/",
          "height": 295
        }
      },
      "source": [
        "history_dict = history.history\n",
        "loss_values = history_dict['loss']\n",
        "val_loss_values = history_dict['val_loss']\n",
        "\n",
        "history_dict2 = history2.history\n",
        "loss_values2 = history_dict2['loss']\n",
        "val_loss_values2 = history_dict2['val_loss']\n",
        "\n",
        "history_dict3 = history3.history\n",
        "loss_values3 = history_dict3['loss']\n",
        "val_loss_values3 = history_dict3['val_loss']\n",
        "\n",
        "epochs = range(1, 10 + 1)\n",
        "plt.plot(epochs, val_loss_values, 'b-', label='original model')\n",
        "plt.plot(epochs, val_loss_values2, 'r-', label='weight regularizer model')\n",
        "plt.plot(epochs, val_loss_values3, 'g-', label='Dropout model')\n",
        "plt.title('validation loss')\n",
        "plt.xlabel('Epochs')\n",
        "plt.ylabel('Loss')\n",
        "plt.legend()\n",
        "plt.show()"
      ],
      "execution_count": 37,
      "outputs": [
        {
          "output_type": "display_data",
          "data": {
            "image/png": "[encoded data removed]",
            "text/plain": [
              "<Figure size 432x288 with 1 Axes>"
            ]
          },
          "metadata": {
            "tags": []
          }
        }
      ]
    },
    {
      "cell_type": "code",
      "metadata": {
        "id": "7eoFdOPCM6xR",
        "colab_type": "code",
        "outputId": "84dc57b7-74bb-40b5-a258-bf3fb73312a3",
        "colab": {
          "base_uri": "https://localhost:8080/",
          "height": 34
        }
      },
      "source": [
        "scores.history"
      ],
      "execution_count": 0,
      "outputs": [
        {
          "output_type": "execute_result",
          "data": {
            "text/plain": [
              "{'loss': [0.10740356841087341, 0.11607370029687882]}"
            ]
          },
          "metadata": {
            "tags": []
          },
          "execution_count": 45
        }
      ]
    },
    {
      "cell_type": "code",
      "metadata": {
        "id": "RkS139fPNSS9",
        "colab_type": "code",
        "colab": {}
      },
      "source": [
        ""
      ],
      "execution_count": 0,
      "outputs": []
    },
    {
      "cell_type": "code",
      "metadata": {
        "id": "9r1nP-QkJU7N",
        "colab_type": "code",
        "outputId": "7407d5f5-29df-4b2e-b188-c62fd7c32b3b",
        "colab": {
          "base_uri": "https://localhost:8080/",
          "height": 34
        }
      },
      "source": [
        "y_valid = y_valid.T\n",
        "y_valid.shape"
      ],
      "execution_count": 0,
      "outputs": [
        {
          "output_type": "execute_result",
          "data": {
            "text/plain": [
              "(10000, 1)"
            ]
          },
          "metadata": {
            "tags": []
          },
          "execution_count": 118
        }
      ]
    },
    {
      "cell_type": "code",
      "metadata": {
        "id": "VhggydeWGnUI",
        "colab_type": "code",
        "outputId": "5f4fc8a6-d464-4698-b7b8-c3d876a9b9cb",
        "colab": {
          "base_uri": "https://localhost:8080/",
          "height": 51
        }
      },
      "source": [
        "loss = model.evaluate(X_valid, y_valid)\n",
        "\n",
        "print( loss)"
      ],
      "execution_count": 0,
      "outputs": [
        {
          "output_type": "stream",
          "text": [
            "10000/10000 [==============================] - 0s 34us/sample - loss: 0.2018\n",
            "0.20179340181350708\n"
          ],
          "name": "stdout"
        }
      ]
    }
  ]
}